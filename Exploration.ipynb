{
 "cells": [
  {
   "cell_type": "markdown",
   "metadata": {},
   "source": [
    "## Starting Spark"
   ]
  },
  {
   "cell_type": "code",
   "execution_count": 1,
   "metadata": {},
   "outputs": [
    {
     "name": "stderr",
     "output_type": "stream",
     "text": [
      "24/06/28 00:20:15 WARN Utils: Your hostname, MacBook-Pro-Sunith.local resolves to a loopback address: 127.0.0.1; using 10.10.67.15 instead (on interface en0)\n",
      "24/06/28 00:20:15 WARN Utils: Set SPARK_LOCAL_IP if you need to bind to another address\n",
      "Setting default log level to \"WARN\".\n",
      "To adjust logging level use sc.setLogLevel(newLevel). For SparkR, use setLogLevel(newLevel).\n",
      "24/06/28 00:20:16 WARN NativeCodeLoader: Unable to load native-hadoop library for your platform... using builtin-java classes where applicable\n"
     ]
    },
    {
     "name": "stdout",
     "output_type": "stream",
     "text": [
      "<pyspark.sql.session.SparkSession object at 0x108a5f440>\n"
     ]
    }
   ],
   "source": [
    "import findspark\n",
    "findspark.init()\n",
    "\n",
    "from pyspark.sql import SparkSession\n",
    "\n",
    "# Create a Spark session\n",
    "spark = SparkSession.builder \\\n",
    "    .appName(\"MySparkApp\") \\\n",
    "    .getOrCreate()\n",
    "\n",
    "# Check if SparkSession is created successfully\n",
    "print(spark)\n"
   ]
  },
  {
   "cell_type": "code",
   "execution_count": 14,
   "metadata": {},
   "outputs": [
    {
     "name": "stderr",
     "output_type": "stream",
     "text": [
      "Matplotlib is building the font cache; this may take a moment.\n"
     ]
    }
   ],
   "source": [
    "import matplotlib.pyplot as plt\n",
    "import seaborn as sns\n",
    "import plotly.express as px"
   ]
  },
  {
   "cell_type": "markdown",
   "metadata": {},
   "source": [
    "## Importing and Basic Cleaning"
   ]
  },
  {
   "cell_type": "code",
   "execution_count": 2,
   "metadata": {},
   "outputs": [
    {
     "name": "stderr",
     "output_type": "stream",
     "text": [
      "24/06/28 00:20:51 WARN SparkStringUtils: Truncated the string representation of a plan since it was too large. This behavior can be adjusted by setting 'spark.sql.debug.maxToStringFields'.\n"
     ]
    },
    {
     "name": "stdout",
     "output_type": "stream",
     "text": [
      "+--------+------------------------+-----------------------------+-----------------+------------------+-----------------+------------------+-----------+--------------+--------------+----------------+--------------+--------------+-----------+--------------+-----------------+----------------+--------------+--------------------+----------------+-------------+---------------+-----------+------------+------------+----------+-------------+-----------------+-----------------------+--------+----------------------+-------------------+------------------------+-------------+------------------------+-----------------------+-------------------+------+----------------+----------------------+--------------+--------------------+---------------+-------------+---------------+-------------------+-------------------+--------------------+------------+-------------+--------------+--------------------------+--------------+\n",
      "|    Type|Days for shipping (real)|Days for shipment (scheduled)|Benefit per order|Sales per customer|  Delivery Status|Late_delivery_risk|Category Id| Category Name| Customer City|Customer Country|Customer Email|Customer Fname|Customer Id|Customer Lname|Customer Password|Customer Segment|Customer State|     Customer Street|Customer Zipcode|Department Id|Department Name|   Latitude|   Longitude|      Market|Order City|Order Country|Order Customer Id|order date (DateOrders)|Order Id|Order Item Cardprod Id|Order Item Discount|Order Item Discount Rate|Order Item Id|Order Item Product Price|Order Item Profit Ratio|Order Item Quantity| Sales|Order Item Total|Order Profit Per Order|  Order Region|         Order State|   Order Status|Order Zipcode|Product Card Id|Product Category Id|Product Description|       Product Image|Product Name|Product Price|Product Status|shipping date (DateOrders)| Shipping Mode|\n",
      "+--------+------------------------+-----------------------------+-----------------+------------------+-----------------+------------------+-----------+--------------+--------------+----------------+--------------+--------------+-----------+--------------+-----------------+----------------+--------------+--------------------+----------------+-------------+---------------+-----------+------------+------------+----------+-------------+-----------------+-----------------------+--------+----------------------+-------------------+------------------------+-------------+------------------------+-----------------------+-------------------+------+----------------+----------------------+--------------+--------------------+---------------+-------------+---------------+-------------------+-------------------+--------------------+------------+-------------+--------------+--------------------------+--------------+\n",
      "|   DEBIT|                       3|                            4|            91.25|       314.6400146| Advance shipping|                 0|         73|Sporting Goods|        Caguas|     Puerto Rico|     XXXXXXXXX|         Cally|      20755|      Holloway|        XXXXXXXXX|        Consumer|            PR|5365 Noble Nectar...|             725|            2|        Fitness| 18.2514534|-66.03705597|Pacific Asia|    Bekasi|    Indonesia|            20755|        1/31/2018 22:56|   77202|                  1360|        13.10999966|             0.039999999|       180517|                  327.75|            0.289999992|                  1|327.75|     314.6400146|                 91.25|Southeast Asia|     Java Occidental|       COMPLETE|         NULL|           1360|                 73|               NULL|http://images.acm...|Smart watch |       327.75|             0|            2/3/2018 22:56|Standard Class|\n",
      "|TRANSFER|                       5|                            4|     -249.0899963|       311.3599854|    Late delivery|                 1|         73|Sporting Goods|        Caguas|     Puerto Rico|     XXXXXXXXX|         Irene|      19492|          Luna|        XXXXXXXXX|        Consumer|            PR|    2679 Rustic Loop|             725|            2|        Fitness|18.27945137| -66.0370636|Pacific Asia|   Bikaner|        India|            19492|        1/13/2018 12:27|   75939|                  1360|        16.38999939|             0.050000001|       179254|                  327.75|           -0.800000012|                  1|327.75|     311.3599854|          -249.0899963|    South Asia|            Rajast�n|        PENDING|         NULL|           1360|                 73|               NULL|http://images.acm...|Smart watch |       327.75|             0|           1/18/2018 12:27|Standard Class|\n",
      "|    CASH|                       4|                            4|     -247.7799988|       309.7200012| Shipping on time|                 0|         73|Sporting Goods|      San Jose|         EE. UU.|     XXXXXXXXX|       Gillian|      19491|     Maldonado|        XXXXXXXXX|        Consumer|            CA|8510 Round Bear Gate|           95125|            2|        Fitness|37.29223251| -121.881279|Pacific Asia|   Bikaner|        India|            19491|        1/13/2018 12:06|   75938|                  1360|        18.03000069|             0.059999999|       179253|                  327.75|           -0.800000012|                  1|327.75|     309.7200012|          -247.7799988|    South Asia|            Rajast�n|         CLOSED|         NULL|           1360|                 73|               NULL|http://images.acm...|Smart watch |       327.75|             0|           1/17/2018 12:06|Standard Class|\n",
      "|   DEBIT|                       3|                            4|      22.86000061|       304.8099976| Advance shipping|                 0|         73|Sporting Goods|   Los Angeles|         EE. UU.|     XXXXXXXXX|          Tana|      19490|          Tate|        XXXXXXXXX|     Home Office|            CA|     3200 Amber Bend|           90027|            2|        Fitness|34.12594605|-118.2910156|Pacific Asia|Townsville|    Australia|            19490|        1/13/2018 11:45|   75937|                  1360|        22.94000053|                    0.07|       179252|                  327.75|            0.079999998|                  1|327.75|     304.8099976|           22.86000061|       Oceania|          Queensland|       COMPLETE|         NULL|           1360|                 73|               NULL|http://images.acm...|Smart watch |       327.75|             0|           1/16/2018 11:45|Standard Class|\n",
      "| PAYMENT|                       2|                            4|      134.2100067|            298.25| Advance shipping|                 0|         73|Sporting Goods|        Caguas|     Puerto Rico|     XXXXXXXXX|          Orli|      19489|     Hendricks|        XXXXXXXXX|       Corporate|            PR|8671 Iron Anchor ...|             725|            2|        Fitness|18.25376892|-66.03704834|Pacific Asia|Townsville|    Australia|            19489|        1/13/2018 11:24|   75936|                  1360|               29.5|             0.090000004|       179251|                  327.75|            0.449999988|                  1|327.75|          298.25|           134.2100067|       Oceania|          Queensland|PENDING_PAYMENT|         NULL|           1360|                 73|               NULL|http://images.acm...|Smart watch |       327.75|             0|           1/15/2018 11:24|Standard Class|\n",
      "|TRANSFER|                       6|                            4|      18.57999992|        294.980011|Shipping canceled|                 0|         73|Sporting Goods|     Tonawanda|         EE. UU.|     XXXXXXXXX|      Kimberly|      19488|       Flowers|        XXXXXXXXX|        Consumer|            NY|    2122 Hazy Corner|           14150|            2|        Fitness|43.01396942|-78.87906647|Pacific Asia| Toowoomba|    Australia|            19488|        1/13/2018 11:03|   75935|                  1360|        32.77999878|             0.100000001|       179250|                  327.75|            0.059999999|                  1|327.75|      294.980011|           18.57999992|       Oceania|          Queensland|       CANCELED|         NULL|           1360|                 73|               NULL|http://images.acm...|Smart watch |       327.75|             0|           1/19/2018 11:03|Standard Class|\n",
      "|   DEBIT|                       2|                            1|      95.18000031|       288.4200134|    Late delivery|                 1|         73|Sporting Goods|        Caguas|     Puerto Rico|     XXXXXXXXX|     Constance|      19487|       Terrell|        XXXXXXXXX|     Home Office|            PR|1879 Green Pine Bank|             725|            2|        Fitness|18.24253845|-66.03705597|Pacific Asia| Guangzhou|        China|            19487|        1/13/2018 10:42|   75934|                  1360|        39.33000183|             0.119999997|       179249|                  327.75|            0.330000013|                  1|327.75|     288.4200134|           95.18000031|  Eastern Asia|           Guangdong|       COMPLETE|         NULL|           1360|                 73|               NULL|http://images.acm...|Smart watch |       327.75|             0|           1/15/2018 10:42|   First Class|\n",
      "|TRANSFER|                       2|                            1|      68.43000031|       285.1400146|    Late delivery|                 1|         73|Sporting Goods|         Miami|         EE. UU.|     XXXXXXXXX|         Erica|      19486|       Stevens|        XXXXXXXXX|       Corporate|            FL| 7595 Cotton Log Row|           33162|            2|        Fitness|25.92886925|-80.16287231|Pacific Asia| Guangzhou|        China|            19486|        1/13/2018 10:21|   75933|                  1360|        42.61000061|             0.129999995|       179248|                  327.75|            0.239999995|                  1|327.75|     285.1400146|           68.43000031|  Eastern Asia|           Guangdong|     PROCESSING|         NULL|           1360|                 73|               NULL|http://images.acm...|Smart watch |       327.75|             0|           1/15/2018 10:21|   First Class|\n",
      "|    CASH|                       3|                            2|      133.7200012|       278.5899963|    Late delivery|                 1|         73|Sporting Goods|        Caguas|     Puerto Rico|     XXXXXXXXX|       Nichole|      19485|         Olsen|        XXXXXXXXX|       Corporate|            PR|    2051 Dusty Route|             725|            2|        Fitness|18.23322296|-66.03705597|Pacific Asia| Guangzhou|        China|            19485|        1/13/2018 10:00|   75932|                  1360|        49.15999985|             0.150000006|       179247|                  327.75|            0.479999989|                  1|327.75|     278.5899963|           133.7200012|  Eastern Asia|           Guangdong|         CLOSED|         NULL|           1360|                 73|               NULL|http://images.acm...|Smart watch |       327.75|             0|           1/16/2018 10:00|  Second Class|\n",
      "|    CASH|                       2|                            1|      132.1499939|       275.3099976|    Late delivery|                 1|         73|Sporting Goods|     San Ramon|         EE. UU.|     XXXXXXXXX|         Oprah|      19484|      Delacruz|        XXXXXXXXX|       Corporate|            CA|9139 Blue Blossom...|           94583|            2|        Fitness|37.77399063| -121.966629|Pacific Asia| Guangzhou|        China|            19484|         1/13/2018 9:39|   75931|                  1360|        52.43999863|             0.159999996|       179246|                  327.75|            0.479999989|                  1|327.75|     275.3099976|           132.1499939|  Eastern Asia|           Guangdong|         CLOSED|         NULL|           1360|                 73|               NULL|http://images.acm...|Smart watch |       327.75|             0|            1/15/2018 9:39|   First Class|\n",
      "|TRANSFER|                       6|                            2|      130.5800018|       272.0299988|Shipping canceled|                 0|         73|Sporting Goods|        Caguas|     Puerto Rico|     XXXXXXXXX|       Germane|      19483|         Short|        XXXXXXXXX|       Corporate|            PR|  4058 Quiet Heights|             725|            2|        Fitness|18.28284454|-66.03705597|Pacific Asia|     Tokio|        Jap�n|            19483|         1/13/2018 9:18|   75930|                  1360|        55.72000122|             0.170000002|       179245|                  327.75|            0.479999989|                  1|327.75|     272.0299988|           130.5800018|  Eastern Asia|               Tokio|SUSPECTED_FRAUD|         NULL|           1360|                 73|               NULL|http://images.acm...|Smart watch |       327.75|             0|            1/19/2018 9:18|  Second Class|\n",
      "|TRANSFER|                       5|                            2|      45.68999863|       268.7600098|    Late delivery|                 1|         73|Sporting Goods|      Freeport|         EE. UU.|     XXXXXXXXX|         Freya|      19482|       Robbins|        XXXXXXXXX|        Consumer|            NY|   3243 Shady Corner|           11520|            2|        Fitness|40.65486527|-73.58707428|Pacific Asia|    Manado|    Indonesia|            19482|         1/13/2018 8:57|   75929|                  1360|               59.0|             0.180000007|       179244|                  327.75|            0.170000002|                  1|327.75|     268.7600098|           45.68999863|Southeast Asia|C�lebes Septentri...|        PENDING|         NULL|           1360|                 73|               NULL|http://images.acm...|Smart watch |       327.75|             0|            1/18/2018 8:57|  Second Class|\n",
      "|TRANSFER|                       4|                            2|      21.76000023|       262.2000122|    Late delivery|                 1|         73|Sporting Goods|       Salinas|         EE. UU.|     XXXXXXXXX|     Cassandra|      19481|        Jensen|        XXXXXXXXX|       Corporate|            CA|131 Sunny Treasur...|           93905|            2|        Fitness| 36.6763382| -121.656517|Pacific Asia|    Manado|    Indonesia|            19481|         1/13/2018 8:36|   75928|                  1360|        65.55000305|             0.200000003|       179243|                  327.75|            0.079999998|                  1|327.75|     262.2000122|           21.76000023|Southeast Asia|C�lebes Septentri...|        PENDING|         NULL|           1360|                 73|               NULL|http://images.acm...|Smart watch |       327.75|             0|            1/17/2018 8:36|  Second Class|\n",
      "|   DEBIT|                       2|                            1|      24.57999992|       245.8099976|    Late delivery|                 1|         73|Sporting Goods|        Caguas|     Puerto Rico|     XXXXXXXXX|       Natalie|      19480|      Mcfadden|        XXXXXXXXX|       Corporate|            PR| 2531 Wishing Square|             725|            2|        Fitness|18.27843857|-66.03705597|Pacific Asia|    Sangli|        India|            19480|         1/13/2018 8:15|   75927|                  1360|        81.94000244|                    0.25|       179242|                  327.75|            0.100000001|                  1|327.75|     245.8099976|           24.57999992|    South Asia|         Maharashtra|       COMPLETE|         NULL|           1360|                 73|               NULL|http://images.acm...|Smart watch |       327.75|             0|            1/15/2018 8:15|   First Class|\n",
      "|TRANSFER|                       2|                            1|      16.38999939|            327.75|    Late delivery|                 1|         73|Sporting Goods|       Peabody|         EE. UU.|     XXXXXXXXX|     Kimberley|      19479|        Sharpe|        XXXXXXXXX|       Corporate|            MA|  6417 Silver Towers|            1960|            2|        Fitness|42.52627564|-70.92703247|Pacific Asia|    Sangli|        India|            19479|         1/13/2018 7:54|   75926|                  1360|                0.0|                     0.0|       179241|                  327.75|            0.050000001|                  1|327.75|          327.75|           16.38999939|    South Asia|         Maharashtra|     PROCESSING|         NULL|           1360|                 73|               NULL|http://images.acm...|Smart watch |       327.75|             0|            1/15/2018 7:54|   First Class|\n",
      "|   DEBIT|                       2|                            1|     -259.5799866|       324.4700012|    Late delivery|                 1|         73|Sporting Goods|        Caguas|     Puerto Rico|     XXXXXXXXX|          Sade|      19478|     Lancaster|        XXXXXXXXX|       Corporate|            PR|   257 Harvest Close|             725|            2|        Fitness|18.28404999|-66.03705597|Pacific Asia|    Sangli|        India|            19478|         1/13/2018 7:33|   75925|                  1360|        3.279999971|                    0.01|       179240|                  327.75|           -0.800000012|                  1|327.75|     324.4700012|          -259.5799866|    South Asia|         Maharashtra|       COMPLETE|         NULL|           1360|                 73|               NULL|http://images.acm...|Smart watch |       327.75|             0|            1/15/2018 7:33|   First Class|\n",
      "| PAYMENT|                       5|                            2|     -246.3600006|       321.2000122|    Late delivery|                 1|         73|Sporting Goods|     Canovanas|     Puerto Rico|     XXXXXXXXX|        Brynne|      19477|         Giles|        XXXXXXXXX|       Corporate|            PR|7342 Hazy Beacon ...|             729|            2|        Fitness| 18.3957901|-65.87288666|Pacific Asia|      Se�l|Corea del Sur|            19477|         1/13/2018 7:12|   75924|                  1360|        6.559999943|                    0.02|       179239|                  327.75|           -0.769999981|                  1|327.75|     321.2000122|          -246.3600006|  Eastern Asia|                Se�l|PENDING_PAYMENT|         NULL|           1360|                 73|               NULL|http://images.acm...|Smart watch |       327.75|             0|            1/18/2018 7:12|  Second Class|\n",
      "|    CASH|                       2|                            1|      23.84000015|       317.9200134|    Late delivery|                 1|         73|Sporting Goods|     Paramount|         EE. UU.|     XXXXXXXXX|         Ciara|      19476|          Bird|        XXXXXXXXX|       Corporate|            CA|   7787 Lazy Corners|           90723|            2|        Fitness|33.89869309|-118.1745605|Pacific Asia|  Jabalpur|        India|            19476|         1/13/2018 6:51|   75923|                  1360|        9.829999924|             0.029999999|       179238|                  327.75|            0.079999998|                  1|327.75|     317.9200134|           23.84000015|    South Asia|      Madhya Pradesh|         CLOSED|         NULL|           1360|                 73|               NULL|http://images.acm...|Smart watch |       327.75|             0|            1/15/2018 6:51|   First Class|\n",
      "|   DEBIT|                       2|                            1|      102.2600021|       314.6400146|    Late delivery|                 1|         73|Sporting Goods|        Caguas|     Puerto Rico|     XXXXXXXXX|            Bo|      19475|       Griffin|        XXXXXXXXX|        Consumer|            PR|5136 Rustic Pione...|             725|            2|        Fitness|  18.233778| -66.0370636|Pacific Asia|  Jabalpur|        India|            19475|         1/13/2018 6:30|   75922|                  1360|        13.10999966|             0.039999999|       179237|                  327.75|            0.330000013|                  1|327.75|     314.6400146|           102.2600021|    South Asia|      Madhya Pradesh|       COMPLETE|         NULL|           1360|                 73|               NULL|http://images.acm...|Smart watch |       327.75|             0|            1/15/2018 6:30|   First Class|\n",
      "| PAYMENT|                       0|                            0|      87.18000031|       311.3599854| Shipping on time|                 0|         73|Sporting Goods|Mount Prospect|         EE. UU.|     XXXXXXXXX|           Kim|      19474|         Simon|        XXXXXXXXX|        Consumer|            IL|      1723 Tawny Via|           60056|            2|        Fitness|42.04830551|-87.96134186|Pacific Asia|  Jabalpur|        India|            19474|         1/13/2018 6:09|   75921|                  1360|        16.38999939|             0.050000001|       179236|                  327.75|            0.280000001|                  1|327.75|     311.3599854|           87.18000031|    South Asia|      Madhya Pradesh|PENDING_PAYMENT|         NULL|           1360|                 73|               NULL|http://images.acm...|Smart watch |       327.75|             0|           1/13/2018 18:09|      Same Day|\n",
      "+--------+------------------------+-----------------------------+-----------------+------------------+-----------------+------------------+-----------+--------------+--------------+----------------+--------------+--------------+-----------+--------------+-----------------+----------------+--------------+--------------------+----------------+-------------+---------------+-----------+------------+------------+----------+-------------+-----------------+-----------------------+--------+----------------------+-------------------+------------------------+-------------+------------------------+-----------------------+-------------------+------+----------------+----------------------+--------------+--------------------+---------------+-------------+---------------+-------------------+-------------------+--------------------+------------+-------------+--------------+--------------------------+--------------+\n",
      "only showing top 20 rows\n",
      "\n"
     ]
    }
   ],
   "source": [
    "# import pandas as pd\n",
    "\n",
    "file_path = '/Users/sunith/dss_project/data/DataCoSupplyChainDataset.csv'\n",
    "df = spark.read.csv(file_path, header=True, inferSchema=True)\n",
    "# description_path = '/Users/sunith/dss_project/data/DescriptionDataCoSupplyChain.csv'\n",
    "# df_description = spark.read.csv(description_path, header=True, inferSchema=True)\n",
    "# df = pd.read_csv(file_path, encoding='latin1')\n",
    "df.show()"
   ]
  },
  {
   "cell_type": "code",
   "execution_count": 3,
   "metadata": {},
   "outputs": [],
   "source": [
    "# Some house cleaning where the the column names are standardized\n",
    "import pyspark.sql.functions as F\n",
    "for col in df.columns:\n",
    "    new_col = col.replace(' ', '_').lower()\n",
    "    df = df.withColumnRenamed(col, new_col)\n",
    "\n",
    "df = df.withColumn(\"order_date\", F.to_date(F.date_format(F.unix_timestamp(\"order_date_(dateorders)\", \"M/d/yyyy H:mm\").cast(\"timestamp\"), \"yyyy-MM-dd\")))\n",
    "df = df.withColumn(\"shipping_date\", F.to_date(F.date_format(F.unix_timestamp(\"shipping_date_(dateorders)\", \"M/d/yyyy H:mm\").cast(\"timestamp\"), \"yyyy-MM-dd\")))\n"
   ]
  },
  {
   "cell_type": "code",
   "execution_count": 4,
   "metadata": {},
   "outputs": [
    {
     "name": "stdout",
     "output_type": "stream",
     "text": [
      "+--------+------------------------+-----------------------------+-----------------+------------------+-----------------+------------------+-----------+--------------+--------------+----------------+-----------+----------------+--------------+----------------+-------------+---------------+------------+----------+-------------+-----------------+--------+----------------------+-------------------+------------------------+-------------+------------------------+-----------------------+-------------------+------+----------------+----------------------+--------------+--------------------+---------------+-------------+---------------+-------------------+------------+-------------+--------------+----------+-------------+\n",
      "|    type|days_for_shipping_(real)|days_for_shipment_(scheduled)|benefit_per_order|sales_per_customer|  delivery_status|late_delivery_risk|category_id| category_name| customer_city|customer_country|customer_id|customer_segment|customer_state|customer_zipcode|department_id|department_name|      market|order_city|order_country|order_customer_id|order_id|order_item_cardprod_id|order_item_discount|order_item_discount_rate|order_item_id|order_item_product_price|order_item_profit_ratio|order_item_quantity| sales|order_item_total|order_profit_per_order|  order_region|         order_state|   order_status|order_zipcode|product_card_id|product_category_id|product_name|product_price| shipping_mode|order_date|shipping_date|\n",
      "+--------+------------------------+-----------------------------+-----------------+------------------+-----------------+------------------+-----------+--------------+--------------+----------------+-----------+----------------+--------------+----------------+-------------+---------------+------------+----------+-------------+-----------------+--------+----------------------+-------------------+------------------------+-------------+------------------------+-----------------------+-------------------+------+----------------+----------------------+--------------+--------------------+---------------+-------------+---------------+-------------------+------------+-------------+--------------+----------+-------------+\n",
      "|   DEBIT|                       3|                            4|            91.25|       314.6400146| Advance shipping|                 0|         73|Sporting Goods|        Caguas|     Puerto Rico|      20755|        Consumer|            PR|             725|            2|        Fitness|Pacific Asia|    Bekasi|    Indonesia|            20755|   77202|                  1360|        13.10999966|             0.039999999|       180517|                  327.75|            0.289999992|                  1|327.75|     314.6400146|                 91.25|Southeast Asia|     Java Occidental|       COMPLETE|         NULL|           1360|                 73|Smart watch |       327.75|Standard Class|2018-01-31|   2018-02-03|\n",
      "|TRANSFER|                       5|                            4|     -249.0899963|       311.3599854|    Late delivery|                 1|         73|Sporting Goods|        Caguas|     Puerto Rico|      19492|        Consumer|            PR|             725|            2|        Fitness|Pacific Asia|   Bikaner|        India|            19492|   75939|                  1360|        16.38999939|             0.050000001|       179254|                  327.75|           -0.800000012|                  1|327.75|     311.3599854|          -249.0899963|    South Asia|            Rajast�n|        PENDING|         NULL|           1360|                 73|Smart watch |       327.75|Standard Class|2018-01-13|   2018-01-18|\n",
      "|    CASH|                       4|                            4|     -247.7799988|       309.7200012| Shipping on time|                 0|         73|Sporting Goods|      San Jose|         EE. UU.|      19491|        Consumer|            CA|           95125|            2|        Fitness|Pacific Asia|   Bikaner|        India|            19491|   75938|                  1360|        18.03000069|             0.059999999|       179253|                  327.75|           -0.800000012|                  1|327.75|     309.7200012|          -247.7799988|    South Asia|            Rajast�n|         CLOSED|         NULL|           1360|                 73|Smart watch |       327.75|Standard Class|2018-01-13|   2018-01-17|\n",
      "|   DEBIT|                       3|                            4|      22.86000061|       304.8099976| Advance shipping|                 0|         73|Sporting Goods|   Los Angeles|         EE. UU.|      19490|     Home Office|            CA|           90027|            2|        Fitness|Pacific Asia|Townsville|    Australia|            19490|   75937|                  1360|        22.94000053|                    0.07|       179252|                  327.75|            0.079999998|                  1|327.75|     304.8099976|           22.86000061|       Oceania|          Queensland|       COMPLETE|         NULL|           1360|                 73|Smart watch |       327.75|Standard Class|2018-01-13|   2018-01-16|\n",
      "| PAYMENT|                       2|                            4|      134.2100067|            298.25| Advance shipping|                 0|         73|Sporting Goods|        Caguas|     Puerto Rico|      19489|       Corporate|            PR|             725|            2|        Fitness|Pacific Asia|Townsville|    Australia|            19489|   75936|                  1360|               29.5|             0.090000004|       179251|                  327.75|            0.449999988|                  1|327.75|          298.25|           134.2100067|       Oceania|          Queensland|PENDING_PAYMENT|         NULL|           1360|                 73|Smart watch |       327.75|Standard Class|2018-01-13|   2018-01-15|\n",
      "|TRANSFER|                       6|                            4|      18.57999992|        294.980011|Shipping canceled|                 0|         73|Sporting Goods|     Tonawanda|         EE. UU.|      19488|        Consumer|            NY|           14150|            2|        Fitness|Pacific Asia| Toowoomba|    Australia|            19488|   75935|                  1360|        32.77999878|             0.100000001|       179250|                  327.75|            0.059999999|                  1|327.75|      294.980011|           18.57999992|       Oceania|          Queensland|       CANCELED|         NULL|           1360|                 73|Smart watch |       327.75|Standard Class|2018-01-13|   2018-01-19|\n",
      "|   DEBIT|                       2|                            1|      95.18000031|       288.4200134|    Late delivery|                 1|         73|Sporting Goods|        Caguas|     Puerto Rico|      19487|     Home Office|            PR|             725|            2|        Fitness|Pacific Asia| Guangzhou|        China|            19487|   75934|                  1360|        39.33000183|             0.119999997|       179249|                  327.75|            0.330000013|                  1|327.75|     288.4200134|           95.18000031|  Eastern Asia|           Guangdong|       COMPLETE|         NULL|           1360|                 73|Smart watch |       327.75|   First Class|2018-01-13|   2018-01-15|\n",
      "|TRANSFER|                       2|                            1|      68.43000031|       285.1400146|    Late delivery|                 1|         73|Sporting Goods|         Miami|         EE. UU.|      19486|       Corporate|            FL|           33162|            2|        Fitness|Pacific Asia| Guangzhou|        China|            19486|   75933|                  1360|        42.61000061|             0.129999995|       179248|                  327.75|            0.239999995|                  1|327.75|     285.1400146|           68.43000031|  Eastern Asia|           Guangdong|     PROCESSING|         NULL|           1360|                 73|Smart watch |       327.75|   First Class|2018-01-13|   2018-01-15|\n",
      "|    CASH|                       3|                            2|      133.7200012|       278.5899963|    Late delivery|                 1|         73|Sporting Goods|        Caguas|     Puerto Rico|      19485|       Corporate|            PR|             725|            2|        Fitness|Pacific Asia| Guangzhou|        China|            19485|   75932|                  1360|        49.15999985|             0.150000006|       179247|                  327.75|            0.479999989|                  1|327.75|     278.5899963|           133.7200012|  Eastern Asia|           Guangdong|         CLOSED|         NULL|           1360|                 73|Smart watch |       327.75|  Second Class|2018-01-13|   2018-01-16|\n",
      "|    CASH|                       2|                            1|      132.1499939|       275.3099976|    Late delivery|                 1|         73|Sporting Goods|     San Ramon|         EE. UU.|      19484|       Corporate|            CA|           94583|            2|        Fitness|Pacific Asia| Guangzhou|        China|            19484|   75931|                  1360|        52.43999863|             0.159999996|       179246|                  327.75|            0.479999989|                  1|327.75|     275.3099976|           132.1499939|  Eastern Asia|           Guangdong|         CLOSED|         NULL|           1360|                 73|Smart watch |       327.75|   First Class|2018-01-13|   2018-01-15|\n",
      "|TRANSFER|                       6|                            2|      130.5800018|       272.0299988|Shipping canceled|                 0|         73|Sporting Goods|        Caguas|     Puerto Rico|      19483|       Corporate|            PR|             725|            2|        Fitness|Pacific Asia|     Tokio|        Jap�n|            19483|   75930|                  1360|        55.72000122|             0.170000002|       179245|                  327.75|            0.479999989|                  1|327.75|     272.0299988|           130.5800018|  Eastern Asia|               Tokio|SUSPECTED_FRAUD|         NULL|           1360|                 73|Smart watch |       327.75|  Second Class|2018-01-13|   2018-01-19|\n",
      "|TRANSFER|                       5|                            2|      45.68999863|       268.7600098|    Late delivery|                 1|         73|Sporting Goods|      Freeport|         EE. UU.|      19482|        Consumer|            NY|           11520|            2|        Fitness|Pacific Asia|    Manado|    Indonesia|            19482|   75929|                  1360|               59.0|             0.180000007|       179244|                  327.75|            0.170000002|                  1|327.75|     268.7600098|           45.68999863|Southeast Asia|C�lebes Septentri...|        PENDING|         NULL|           1360|                 73|Smart watch |       327.75|  Second Class|2018-01-13|   2018-01-18|\n",
      "|TRANSFER|                       4|                            2|      21.76000023|       262.2000122|    Late delivery|                 1|         73|Sporting Goods|       Salinas|         EE. UU.|      19481|       Corporate|            CA|           93905|            2|        Fitness|Pacific Asia|    Manado|    Indonesia|            19481|   75928|                  1360|        65.55000305|             0.200000003|       179243|                  327.75|            0.079999998|                  1|327.75|     262.2000122|           21.76000023|Southeast Asia|C�lebes Septentri...|        PENDING|         NULL|           1360|                 73|Smart watch |       327.75|  Second Class|2018-01-13|   2018-01-17|\n",
      "|   DEBIT|                       2|                            1|      24.57999992|       245.8099976|    Late delivery|                 1|         73|Sporting Goods|        Caguas|     Puerto Rico|      19480|       Corporate|            PR|             725|            2|        Fitness|Pacific Asia|    Sangli|        India|            19480|   75927|                  1360|        81.94000244|                    0.25|       179242|                  327.75|            0.100000001|                  1|327.75|     245.8099976|           24.57999992|    South Asia|         Maharashtra|       COMPLETE|         NULL|           1360|                 73|Smart watch |       327.75|   First Class|2018-01-13|   2018-01-15|\n",
      "|TRANSFER|                       2|                            1|      16.38999939|            327.75|    Late delivery|                 1|         73|Sporting Goods|       Peabody|         EE. UU.|      19479|       Corporate|            MA|            1960|            2|        Fitness|Pacific Asia|    Sangli|        India|            19479|   75926|                  1360|                0.0|                     0.0|       179241|                  327.75|            0.050000001|                  1|327.75|          327.75|           16.38999939|    South Asia|         Maharashtra|     PROCESSING|         NULL|           1360|                 73|Smart watch |       327.75|   First Class|2018-01-13|   2018-01-15|\n",
      "|   DEBIT|                       2|                            1|     -259.5799866|       324.4700012|    Late delivery|                 1|         73|Sporting Goods|        Caguas|     Puerto Rico|      19478|       Corporate|            PR|             725|            2|        Fitness|Pacific Asia|    Sangli|        India|            19478|   75925|                  1360|        3.279999971|                    0.01|       179240|                  327.75|           -0.800000012|                  1|327.75|     324.4700012|          -259.5799866|    South Asia|         Maharashtra|       COMPLETE|         NULL|           1360|                 73|Smart watch |       327.75|   First Class|2018-01-13|   2018-01-15|\n",
      "| PAYMENT|                       5|                            2|     -246.3600006|       321.2000122|    Late delivery|                 1|         73|Sporting Goods|     Canovanas|     Puerto Rico|      19477|       Corporate|            PR|             729|            2|        Fitness|Pacific Asia|      Se�l|Corea del Sur|            19477|   75924|                  1360|        6.559999943|                    0.02|       179239|                  327.75|           -0.769999981|                  1|327.75|     321.2000122|          -246.3600006|  Eastern Asia|                Se�l|PENDING_PAYMENT|         NULL|           1360|                 73|Smart watch |       327.75|  Second Class|2018-01-13|   2018-01-18|\n",
      "|    CASH|                       2|                            1|      23.84000015|       317.9200134|    Late delivery|                 1|         73|Sporting Goods|     Paramount|         EE. UU.|      19476|       Corporate|            CA|           90723|            2|        Fitness|Pacific Asia|  Jabalpur|        India|            19476|   75923|                  1360|        9.829999924|             0.029999999|       179238|                  327.75|            0.079999998|                  1|327.75|     317.9200134|           23.84000015|    South Asia|      Madhya Pradesh|         CLOSED|         NULL|           1360|                 73|Smart watch |       327.75|   First Class|2018-01-13|   2018-01-15|\n",
      "|   DEBIT|                       2|                            1|      102.2600021|       314.6400146|    Late delivery|                 1|         73|Sporting Goods|        Caguas|     Puerto Rico|      19475|        Consumer|            PR|             725|            2|        Fitness|Pacific Asia|  Jabalpur|        India|            19475|   75922|                  1360|        13.10999966|             0.039999999|       179237|                  327.75|            0.330000013|                  1|327.75|     314.6400146|           102.2600021|    South Asia|      Madhya Pradesh|       COMPLETE|         NULL|           1360|                 73|Smart watch |       327.75|   First Class|2018-01-13|   2018-01-15|\n",
      "| PAYMENT|                       0|                            0|      87.18000031|       311.3599854| Shipping on time|                 0|         73|Sporting Goods|Mount Prospect|         EE. UU.|      19474|        Consumer|            IL|           60056|            2|        Fitness|Pacific Asia|  Jabalpur|        India|            19474|   75921|                  1360|        16.38999939|             0.050000001|       179236|                  327.75|            0.280000001|                  1|327.75|     311.3599854|           87.18000031|    South Asia|      Madhya Pradesh|PENDING_PAYMENT|         NULL|           1360|                 73|Smart watch |       327.75|      Same Day|2018-01-13|   2018-01-13|\n",
      "+--------+------------------------+-----------------------------+-----------------+------------------+-----------------+------------------+-----------+--------------+--------------+----------------+-----------+----------------+--------------+----------------+-------------+---------------+------------+----------+-------------+-----------------+--------+----------------------+-------------------+------------------------+-------------+------------------------+-----------------------+-------------------+------+----------------+----------------------+--------------+--------------------+---------------+-------------+---------------+-------------------+------------+-------------+--------------+----------+-------------+\n",
      "only showing top 20 rows\n",
      "\n"
     ]
    }
   ],
   "source": [
    "\n",
    "df = df.drop('product_image', 'customer_password', 'customer_email', \n",
    "             'customer_fname', 'customer_lname', 'customer_street', \n",
    "             'latitude', 'longitude', 'product_status', 'product_description',\n",
    "             \"order_date_(dateorders)\", \"shipping_date_(dateorders)\")    \n",
    "df.createOrReplaceTempView(\"my_table\")\n",
    "df.show()"
   ]
  },
  {
   "cell_type": "code",
   "execution_count": 5,
   "metadata": {},
   "outputs": [
    {
     "data": {
      "text/plain": [
       "[('type', 'string'),\n",
       " ('days_for_shipping_(real)', 'int'),\n",
       " ('days_for_shipment_(scheduled)', 'int'),\n",
       " ('benefit_per_order', 'double'),\n",
       " ('sales_per_customer', 'double'),\n",
       " ('delivery_status', 'string'),\n",
       " ('late_delivery_risk', 'int'),\n",
       " ('category_id', 'int'),\n",
       " ('category_name', 'string'),\n",
       " ('customer_city', 'string'),\n",
       " ('customer_country', 'string'),\n",
       " ('customer_id', 'int'),\n",
       " ('customer_segment', 'string'),\n",
       " ('customer_state', 'string'),\n",
       " ('customer_zipcode', 'int'),\n",
       " ('department_id', 'int'),\n",
       " ('department_name', 'string'),\n",
       " ('market', 'string'),\n",
       " ('order_city', 'string'),\n",
       " ('order_country', 'string'),\n",
       " ('order_customer_id', 'int'),\n",
       " ('order_id', 'int'),\n",
       " ('order_item_cardprod_id', 'int'),\n",
       " ('order_item_discount', 'double'),\n",
       " ('order_item_discount_rate', 'double'),\n",
       " ('order_item_id', 'int'),\n",
       " ('order_item_product_price', 'double'),\n",
       " ('order_item_profit_ratio', 'double'),\n",
       " ('order_item_quantity', 'int'),\n",
       " ('sales', 'double'),\n",
       " ('order_item_total', 'double'),\n",
       " ('order_profit_per_order', 'double'),\n",
       " ('order_region', 'string'),\n",
       " ('order_state', 'string'),\n",
       " ('order_status', 'string'),\n",
       " ('order_zipcode', 'int'),\n",
       " ('product_card_id', 'int'),\n",
       " ('product_category_id', 'int'),\n",
       " ('product_name', 'string'),\n",
       " ('product_price', 'double'),\n",
       " ('shipping_mode', 'string'),\n",
       " ('order_date', 'date'),\n",
       " ('shipping_date', 'date')]"
      ]
     },
     "execution_count": 5,
     "metadata": {},
     "output_type": "execute_result"
    }
   ],
   "source": [
    "df.dtypes"
   ]
  },
  {
   "cell_type": "code",
   "execution_count": 6,
   "metadata": {},
   "outputs": [
    {
     "name": "stderr",
     "output_type": "stream",
     "text": [
      "[Stage 6:>                                                          (0 + 1) / 1]\r"
     ]
    },
    {
     "name": "stdout",
     "output_type": "stream",
     "text": [
      "+-------+--------+------------------------+-----------------------------+------------------+------------------+----------------+------------------+------------------+------------------+-------------+----------------+----------------+----------------+------------------+-----------------+------------------+---------------+------+--------------+-------------+-----------------+------------------+----------------------+-------------------+------------------------+-----------------+------------------------+-----------------------+-------------------+------------------+------------------+----------------------+--------------+--------------+---------------+------------------+------------------+-------------------+--------------------+------------------+--------------+\n",
      "|summary|    type|days_for_shipping_(real)|days_for_shipment_(scheduled)| benefit_per_order|sales_per_customer| delivery_status|late_delivery_risk|       category_id|     category_name|customer_city|customer_country|     customer_id|customer_segment|    customer_state| customer_zipcode|     department_id|department_name|market|    order_city|order_country|order_customer_id|          order_id|order_item_cardprod_id|order_item_discount|order_item_discount_rate|    order_item_id|order_item_product_price|order_item_profit_ratio|order_item_quantity|             sales|  order_item_total|order_profit_per_order|  order_region|   order_state|   order_status|     order_zipcode|   product_card_id|product_category_id|        product_name|     product_price| shipping_mode|\n",
      "+-------+--------+------------------------+-----------------------------+------------------+------------------+----------------+------------------+------------------+------------------+-------------+----------------+----------------+----------------+------------------+-----------------+------------------+---------------+------+--------------+-------------+-----------------+------------------+----------------------+-------------------+------------------------+-----------------+------------------------+-----------------------+-------------------+------------------+------------------+----------------------+--------------+--------------+---------------+------------------+------------------+-------------------+--------------------+------------------+--------------+\n",
      "|  count|  180519|                  180519|                       180519|            180519|            180519|          180519|            180519|            180519|            180519|       180519|          180519|          180519|          180519|            180519|           180516|            180519|         180519|180519|        180519|       180519|           180519|            180519|                180519|             180519|                  180519|           180519|                  180519|                 180519|             180519|            180519|            180519|                180519|        180519|        180519|         180519|             24840|            180519|             180519|              180519|            180519|        180519|\n",
      "|   mean|    NULL|      3.4976539865609713|            2.931846509231715|21.974988638594024| 183.1076085077685|            NULL|0.5482913155955883| 31.85145053983237|              NULL|         NULL|            NULL|6691.37949467923|            NULL|           94416.0|35921.12691395776| 5.443460245181948|           NULL|  NULL|          NULL|         NULL| 6691.37949467923|  36221.8949030296|     692.5097635151978|  20.66474112194617|     0.10166819055202161|          90260.0|       141.2325499286874|    0.12064663549026244|  2.127637533999191|203.77209608615996| 183.1076085077685|    21.974988638594024|          NULL|          NULL|           NULL| 55426.13232689211| 692.5097635151978|  31.85145053983237|                NULL| 141.2325499286874|          NULL|\n",
      "| stddev|    NULL|      1.6237218283741646|             1.37444928000798| 104.4335257469865|120.04367002812562|            NULL| 0.497663863288093|15.640063883389166|              NULL|         NULL|            NULL|4162.91810572827|            NULL|2324.4121837574335| 37542.4611222925|1.6292460350717806|           NULL|  NULL|          NULL|         NULL| 4162.91810572827|21045.379568859447|    336.44680733021903| 21.800900954295905|      0.0704152153254764|52111.49095928844|      139.73249200374264|    0.46679560460749364| 1.4534514814226418| 132.2730774997034|120.04367002812562|     104.4335257469865|          NULL|          NULL|           NULL|31919.279100725304|336.44680733021903| 15.640063883389166|                NULL|139.73249200374264|          NULL|\n",
      "|    min|    CASH|                       0|                            0|       -4274.97998|       7.489999771|Advance shipping|                 0|                 2|       Accessories|    Aguadilla|         EE. UU.|               1|        Consumer|             91732|              603|                 2|        Apparel|Africa|        Aachen|   Afganist�n|                1|                 1|                    19|                0.0|                     0.0|                1|             9.989999771|                  -2.75|                  1|       9.989999771|       7.489999771|           -4274.97998|        Canada|          Abia|       CANCELED|              1040|                19|                  2|  Adult dog supplies|       9.989999771|   First Class|\n",
      "|    max|TRANSFER|                       6|                            4|       911.7999878|        1939.98999|Shipping on time|                 1|                76|Women's Golf Clubs|   Zanesville|     Puerto Rico|           20757|     Home Office|                WV|            99205|                12|     Technology|  USCA|�st� nad Labem|     Zimbabue|            20757|             77204|                  1363|              500.0|                    0.25|           180519|              1999.98999|                    0.5|                  5|        1999.98999|        1939.98999|           911.7999878|Western Europe|�st� nad Labem|SUSPECTED_FRAUD|             99301|              1363|                 76|insta-bed Neverfl...|        1999.98999|Standard Class|\n",
      "+-------+--------+------------------------+-----------------------------+------------------+------------------+----------------+------------------+------------------+------------------+-------------+----------------+----------------+----------------+------------------+-----------------+------------------+---------------+------+--------------+-------------+-----------------+------------------+----------------------+-------------------+------------------------+-----------------+------------------------+-----------------------+-------------------+------------------+------------------+----------------------+--------------+--------------+---------------+------------------+------------------+-------------------+--------------------+------------------+--------------+\n",
      "\n"
     ]
    },
    {
     "name": "stderr",
     "output_type": "stream",
     "text": [
      "                                                                                \r"
     ]
    }
   ],
   "source": [
    "df.describe().show()"
   ]
  },
  {
   "cell_type": "markdown",
   "metadata": {},
   "source": [
    "## Data Exploration"
   ]
  },
  {
   "cell_type": "markdown",
   "metadata": {},
   "source": [
    "Wanted to see if a customer appears multiple times in the dataset"
   ]
  },
  {
   "cell_type": "code",
   "execution_count": 8,
   "metadata": {},
   "outputs": [
    {
     "name": "stderr",
     "output_type": "stream",
     "text": [
      "[Stage 10:>                                                         (0 + 8) / 8]\r"
     ]
    },
    {
     "name": "stdout",
     "output_type": "stream",
     "text": [
      "+-----------+\n",
      "|customer_id|\n",
      "+-----------+\n",
      "|       3997|\n",
      "|       6466|\n",
      "|        471|\n",
      "|       6397|\n",
      "|       5518|\n",
      "+-----------+\n",
      "\n"
     ]
    },
    {
     "name": "stderr",
     "output_type": "stream",
     "text": [
      "                                                                                \r"
     ]
    }
   ],
   "source": [
    "spark.sql(\"Select customer_id From my_table GROUP BY customer_id having count(customer_id) > 1 limit 5\").show()"
   ]
  },
  {
   "cell_type": "code",
   "execution_count": 9,
   "metadata": {},
   "outputs": [
    {
     "name": "stdout",
     "output_type": "stream",
     "text": [
      "+--------+------------------------+-----------------------------+-----------------+------------------+----------------+------------------+-----------+--------------------+-------------+----------------+-----------+----------------+--------------+----------------+-------------+---------------+------+-------------+--------------------+-----------------+--------+----------------------+-------------------+------------------------+-------------+------------------------+-----------------------+-------------------+-----------+----------------+----------------------+---------------+--------------------+------------+-------------+---------------+-------------------+--------------------+-------------+--------------+----------+-------------+\n",
      "|    type|days_for_shipping_(real)|days_for_shipment_(scheduled)|benefit_per_order|sales_per_customer| delivery_status|late_delivery_risk|category_id|       category_name|customer_city|customer_country|customer_id|customer_segment|customer_state|customer_zipcode|department_id|department_name|market|   order_city|       order_country|order_customer_id|order_id|order_item_cardprod_id|order_item_discount|order_item_discount_rate|order_item_id|order_item_product_price|order_item_profit_ratio|order_item_quantity|      sales|order_item_total|order_profit_per_order|   order_region|         order_state|order_status|order_zipcode|product_card_id|product_category_id|        product_name|product_price| shipping_mode|order_date|shipping_date|\n",
      "+--------+------------------------+-----------------------------+-----------------+------------------+----------------+------------------+-----------+--------------------+-------------+----------------+-----------+----------------+--------------+----------------+-------------+---------------+------+-------------+--------------------+-----------------+--------+----------------------+-------------------+------------------------+-------------+------------------------+-----------------------+-------------------+-----------+----------------+----------------------+---------------+--------------------+------------+-------------+---------------+-------------------+--------------------+-------------+--------------+----------+-------------+\n",
      "|TRANSFER|                       3|                            4|      41.27999878|              96.0|Advance shipping|                 0|         24|     Women's Apparel|     Brooklyn|         EE. UU.|       3997|       Corporate|            NY|           11218|            5|           Golf| LATAM|Santo Domingo|Rep�blica Dominicana|             3997|   59742|                   502|                4.0|             0.039999999|       149496|                    50.0|            0.430000007|                  2|      100.0|            96.0|           41.27999878|      Caribbean|       Santo Domingo|  PROCESSING|         NULL|            502|                 24|Nike Men's Dri-FI...|         50.0|Standard Class|2017-05-22|   2017-05-25|\n",
      "|   DEBIT|                       5|                            4|     -4.670000076|       122.8399963|   Late delivery|                 1|         18|      Men's Footwear|     Brooklyn|         EE. UU.|       3997|       Corporate|            NY|           11218|            4|        Apparel|  USCA|  Chattanooga|      Estados Unidos|             3997|   40034|                   403|        7.150000095|             0.059999999|        99891|             129.9900055|           -0.039999999|                  1|129.9900055|     122.8399963|          -4.670000076| South of  USA |           Tennessee|    COMPLETE|        37421|            403|                 18|Nike Men's CJ Eli...|  129.9900055|Standard Class|2016-08-07|   2016-08-12|\n",
      "|   DEBIT|                       5|                            4|      18.32999992|        290.980011|   Late delivery|                 1|         43|    Camping & Hiking|     Brooklyn|         EE. UU.|       3997|       Corporate|            NY|           11218|            7|       Fan Shop|  USCA|  Chattanooga|      Estados Unidos|             3997|   40034|                   957|                9.0|             0.029999999|        99893|              299.980011|            0.059999999|                  1| 299.980011|      290.980011|           18.32999992| South of  USA |           Tennessee|    COMPLETE|        37421|            957|                 43|Diamondback Women...|   299.980011|Standard Class|2016-08-07|   2016-08-12|\n",
      "|TRANSFER|                       6|                            4|      3.700000048|       335.9700012|   Late delivery|                 1|          9|    Cardio Equipment|     Brooklyn|         EE. UU.|       3997|       Corporate|            NY|           11218|            3|       Footwear|Europe|      Bolzano|              Italia|             3997|   62030|                   191|        63.99000168|             0.159999996|       155089|             99.98999786|                   0.01|                  4|399.9599915|     335.9700012|           3.700000048|Southern Europe|Trentino-Alto Adigio|  PROCESSING|         NULL|            191|                  9|Nike Men's Free 5...|  99.98999786|Standard Class|2017-06-24|   2017-06-30|\n",
      "|   DEBIT|                       5|                            4|      27.13999939|       104.3799973|   Late delivery|                 1|         17|              Cleats|     Brooklyn|         EE. UU.|       3997|       Corporate|            NY|           11218|            4|        Apparel|  USCA|  Chattanooga|      Estados Unidos|             3997|   40034|                   365|        15.60000038|             0.129999995|        99892|             59.99000168|             0.25999999|                  2|119.9800034|     104.3799973|           27.13999939| South of  USA |           Tennessee|    COMPLETE|        37421|            365|                 17|Perfect Fitness P...|  59.99000168|Standard Class|2016-08-07|   2016-08-12|\n",
      "|   DEBIT|                       2|                            1|     -23.46999931|       170.0700073|   Late delivery|                 1|         17|              Cleats|     Brooklyn|         EE. UU.|       3997|       Corporate|            NY|           11218|            4|        Apparel|Europe|    Troisdorf|            Alemania|             3997|   66808|                   365|        9.899999619|             0.059999999|       166995|             59.99000168|           -0.140000001|                  3|179.9700012|     170.0700073|          -23.46999931| Western Europe|Renania del Norte...|    COMPLETE|         NULL|            365|                 17|Perfect Fitness P...|  59.99000168|   First Class|2017-09-02|   2017-09-04|\n",
      "|   DEBIT|                       5|                            4|      40.66999817|       116.1999969|   Late delivery|                 1|         40|         Accessories|     Brooklyn|         EE. UU.|       3997|       Corporate|            NY|           11218|            6|       Outdoors|  USCA|  Chattanooga|      Estados Unidos|             3997|   40034|                   897|               8.75|                    0.07|        99894|             24.98999977|            0.349999994|                  5|124.9499969|     116.1999969|           40.66999817| South of  USA |           Tennessee|    COMPLETE|        37421|            897|                 40|Team Golf New Eng...|  24.98999977|Standard Class|2016-08-07|   2016-08-12|\n",
      "|TRANSFER|                       6|                            4|      64.34999847|       128.6900024|   Late delivery|                 1|         18|      Men's Footwear|     Brooklyn|         EE. UU.|       3997|       Corporate|            NY|           11218|            4|        Apparel|Europe|      Bolzano|              Italia|             3997|   62030|                   403|        1.299999952|                    0.01|       155091|             129.9900055|                    0.5|                  1|129.9900055|     128.6900024|           64.34999847|Southern Europe|Trentino-Alto Adigio|  PROCESSING|         NULL|            403|                 18|Nike Men's CJ Eli...|  129.9900055|Standard Class|2017-06-24|   2017-06-30|\n",
      "|TRANSFER|                       6|                            4|      2.549999952|       127.3899994|   Late delivery|                 1|         18|      Men's Footwear|     Brooklyn|         EE. UU.|       3997|       Corporate|            NY|           11218|            4|        Apparel|Europe|      Bolzano|              Italia|             3997|   62030|                   403|        2.599999905|                    0.02|       155088|             129.9900055|                   0.02|                  1|129.9900055|     127.3899994|           2.549999952|Southern Europe|Trentino-Alto Adigio|  PROCESSING|         NULL|            403|                 18|Nike Men's CJ Eli...|  129.9900055|Standard Class|2017-06-24|   2017-06-30|\n",
      "|TRANSFER|                       3|                            4|      39.97999954|       118.2900009|Advance shipping|                 0|         18|      Men's Footwear|     Brooklyn|         EE. UU.|       3997|       Corporate|            NY|           11218|            4|        Apparel| LATAM|Santo Domingo|Rep�blica Dominicana|             3997|   59742|                   403|        11.69999981|             0.090000004|       149498|             129.9900055|            0.340000004|                  1|129.9900055|     118.2900009|           39.97999954|      Caribbean|       Santo Domingo|  PROCESSING|         NULL|            403|                 18|Nike Men's CJ Eli...|  129.9900055|Standard Class|2017-05-22|   2017-05-25|\n",
      "|TRANSFER|                       6|                            4|      53.93000031|       207.4199982|   Late delivery|                 1|         46|Indoor/Outdoor Games|     Brooklyn|         EE. UU.|       3997|       Corporate|            NY|           11218|            7|       Fan Shop|Europe|      Bolzano|              Italia|             3997|   62030|                  1014|        42.47999954|             0.170000002|       155090|             49.97999954|             0.25999999|                  5|249.8999939|     207.4199982|           53.93000031|Southern Europe|Trentino-Alto Adigio|  PROCESSING|         NULL|           1014|                 46|O'Brien Men's Neo...|  49.97999954|Standard Class|2017-06-24|   2017-06-30|\n",
      "|TRANSFER|                       3|                            4|      80.51000214|        377.980011|Advance shipping|                 0|         45|             Fishing|     Brooklyn|         EE. UU.|       3997|       Corporate|            NY|           11218|            7|       Fan Shop| LATAM|Santo Domingo|Rep�blica Dominicana|             3997|   59742|                  1004|               22.0|             0.059999999|       149497|              399.980011|            0.209999993|                  1| 399.980011|      377.980011|           80.51000214|      Caribbean|       Santo Domingo|  PROCESSING|         NULL|           1004|                 45|Field & Stream Sp...|   399.980011|Standard Class|2017-05-22|   2017-05-25|\n",
      "+--------+------------------------+-----------------------------+-----------------+------------------+----------------+------------------+-----------+--------------------+-------------+----------------+-----------+----------------+--------------+----------------+-------------+---------------+------+-------------+--------------------+-----------------+--------+----------------------+-------------------+------------------------+-------------+------------------------+-----------------------+-------------------+-----------+----------------+----------------------+---------------+--------------------+------------+-------------+---------------+-------------------+--------------------+-------------+--------------+----------+-------------+\n",
      "\n"
     ]
    }
   ],
   "source": [
    "df.filter(df.customer_id == 3997).show()"
   ]
  },
  {
   "cell_type": "markdown",
   "metadata": {},
   "source": [
    "We are trying to see if there are orders extending to multiple rows."
   ]
  },
  {
   "cell_type": "code",
   "execution_count": 10,
   "metadata": {},
   "outputs": [
    {
     "name": "stderr",
     "output_type": "stream",
     "text": [
      "[Stage 16:==============>                                           (2 + 6) / 8]\r"
     ]
    },
    {
     "name": "stdout",
     "output_type": "stream",
     "text": [
      "+--------+\n",
      "|order_id|\n",
      "+--------+\n",
      "|   55155|\n",
      "|   67753|\n",
      "|   29993|\n",
      "|   23571|\n",
      "|   37111|\n",
      "+--------+\n",
      "\n"
     ]
    },
    {
     "name": "stderr",
     "output_type": "stream",
     "text": [
      "                                                                                \r"
     ]
    }
   ],
   "source": [
    "spark.sql(\"Select order_id From my_table GROUP BY order_id having count(order_id) > 1 limit 5\").show()"
   ]
  },
  {
   "cell_type": "markdown",
   "metadata": {},
   "source": [
    "We can see that order is broken down into item level. Where each order can contain multiple items."
   ]
  },
  {
   "cell_type": "code",
   "execution_count": 11,
   "metadata": {},
   "outputs": [
    {
     "name": "stdout",
     "output_type": "stream",
     "text": [
      "+-----+------------------------+-----------------------------+-----------------+------------------+---------------+------------------+-----------+--------------------+-------------+----------------+-----------+----------------+--------------+----------------+-------------+---------------+------+----------+-------------+-----------------+--------+----------------------+-------------------+------------------------+-------------+------------------------+-----------------------+-------------------+-----------+----------------+----------------------+--------------+-----------+------------+-------------+---------------+-------------------+--------------------+-------------+-------------+----------+-------------+\n",
      "| type|days_for_shipping_(real)|days_for_shipment_(scheduled)|benefit_per_order|sales_per_customer|delivery_status|late_delivery_risk|category_id|       category_name|customer_city|customer_country|customer_id|customer_segment|customer_state|customer_zipcode|department_id|department_name|market|order_city|order_country|order_customer_id|order_id|order_item_cardprod_id|order_item_discount|order_item_discount_rate|order_item_id|order_item_product_price|order_item_profit_ratio|order_item_quantity|      sales|order_item_total|order_profit_per_order|  order_region|order_state|order_status|order_zipcode|product_card_id|product_category_id|        product_name|product_price|shipping_mode|order_date|shipping_date|\n",
      "+-----+------------------------+-----------------------------+-----------------+------------------+---------------+------------------+-----------+--------------------+-------------+----------------+-----------+----------------+--------------+----------------+-------------+---------------+------+----------+-------------+-----------------+--------+----------------------+-------------------+------------------------+-------------+------------------------+-----------------------+-------------------+-----------+----------------+----------------------+--------------+-----------+------------+-------------+---------------+-------------------+--------------------+-------------+-------------+----------+-------------+\n",
      "|DEBIT|                       4|                            2|      105.5999985|       351.9899902|  Late delivery|                 1|         10|   Strength Training|       Caguas|     Puerto Rico|       1566|        Consumer|            PR|             725|            3|       Footwear|Europe|    Arnhem| Pa�ses Bajos|             1566|   67753|                   203|               48.0|             0.119999997|       169391|             399.9899902|            0.300000012|                  1|399.9899902|     351.9899902|           105.5999985|Western Europe|   G�eldres|    COMPLETE|         NULL|            203|                 10|GoPro HERO3+ Blac...|  399.9899902| Second Class|2017-09-16|   2017-09-20|\n",
      "|DEBIT|                       4|                            2|            144.0|       299.9899902|  Late delivery|                 1|         17|              Cleats|       Caguas|     Puerto Rico|       1566|        Consumer|            PR|             725|            4|        Apparel|Europe|    Arnhem| Pa�ses Bajos|             1566|   67753|                   364|                0.0|                     0.0|       169394|             299.9899902|            0.479999989|                  1|299.9899902|     299.9899902|                 144.0|Western Europe|   G�eldres|    COMPLETE|         NULL|            364|                 17|      Total Gym 1400|  299.9899902| Second Class|2017-09-16|   2017-09-20|\n",
      "|DEBIT|                       4|                            2|      37.34999847|       110.4899979|  Late delivery|                 1|         18|      Men's Footwear|       Caguas|     Puerto Rico|       1566|        Consumer|            PR|             725|            4|        Apparel|Europe|    Arnhem| Pa�ses Bajos|             1566|   67753|                   403|               19.5|             0.150000006|       169392|             129.9900055|            0.340000004|                  1|129.9900055|     110.4899979|           37.34999847|Western Europe|   G�eldres|    COMPLETE|         NULL|            403|                 18|Nike Men's CJ Eli...|  129.9900055| Second Class|2017-09-16|   2017-09-20|\n",
      "|DEBIT|                       4|                            2|      30.73999977|       74.97000122|  Late delivery|                 1|         46|Indoor/Outdoor Games|       Caguas|     Puerto Rico|       1566|        Consumer|            PR|             725|            7|       Fan Shop|Europe|    Arnhem| Pa�ses Bajos|             1566|   67753|                  1014|        24.98999977|                    0.25|       169393|             49.97999954|            0.409999996|                  2|99.95999908|     74.97000122|           30.73999977|Western Europe|   G�eldres|    COMPLETE|         NULL|           1014|                 46|O'Brien Men's Neo...|  49.97999954| Second Class|2017-09-16|   2017-09-20|\n",
      "|DEBIT|                       4|                            2|      47.97999954|       99.95999908|  Late delivery|                 1|         46|Indoor/Outdoor Games|       Caguas|     Puerto Rico|       1566|        Consumer|            PR|             725|            7|       Fan Shop|Europe|    Arnhem| Pa�ses Bajos|             1566|   67753|                  1014|                0.0|                     0.0|       169390|             49.97999954|            0.479999989|                  2|99.95999908|     99.95999908|           47.97999954|Western Europe|   G�eldres|    COMPLETE|         NULL|           1014|                 46|O'Brien Men's Neo...|  49.97999954| Second Class|2017-09-16|   2017-09-20|\n",
      "+-----+------------------------+-----------------------------+-----------------+------------------+---------------+------------------+-----------+--------------------+-------------+----------------+-----------+----------------+--------------+----------------+-------------+---------------+------+----------+-------------+-----------------+--------+----------------------+-------------------+------------------------+-------------+------------------------+-----------------------+-------------------+-----------+----------------+----------------------+--------------+-----------+------------+-------------+---------------+-------------------+--------------------+-------------+-------------+----------+-------------+\n",
      "\n"
     ]
    }
   ],
   "source": [
    "# We can see that there are multiple items in one order and they are in multiple rows\n",
    "df.filter(df.order_id == 67753).show() "
   ]
  },
  {
   "cell_type": "markdown",
   "metadata": {},
   "source": [
    "The columns that can be used for training an ML model."
   ]
  },
  {
   "cell_type": "code",
   "execution_count": 8,
   "metadata": {},
   "outputs": [
    {
     "name": "stderr",
     "output_type": "stream",
     "text": [
      "[Stage 10:>                                                         (0 + 8) / 8]\r"
     ]
    },
    {
     "name": "stdout",
     "output_type": "stream",
     "text": [
      "+------------------+\n",
      "|late_delivery_risk|\n",
      "+------------------+\n",
      "|                 1|\n",
      "|                 0|\n",
      "+------------------+\n",
      "\n"
     ]
    },
    {
     "name": "stderr",
     "output_type": "stream",
     "text": [
      "                                                                                \r"
     ]
    }
   ],
   "source": [
    "# Pyspark distinct selection from a dataframe\n",
    "df.select(df.late_delivery_risk).distinct().show()"
   ]
  },
  {
   "cell_type": "code",
   "execution_count": 9,
   "metadata": {},
   "outputs": [
    {
     "name": "stdout",
     "output_type": "stream",
     "text": [
      "+----+------------------------+-----------------------------+-----------------+------------------+---------------+------------------+-----------+-------------+-------------+----------------+-----------+----------------+--------------+----------------+-------------+---------------+------+----------+-------------+-----------------+-----------------------+--------+----------------------+-------------------+------------------------+-------------+------------------------+-----------------------+-------------------+-----+----------------+----------------------+------------+-----------+------------+-------------+---------------+-------------------+------------+-------------+--------------------------+-------------+\n",
      "|type|days_for_shipping_(real)|days_for_shipment_(scheduled)|benefit_per_order|sales_per_customer|delivery_status|late_delivery_risk|category_id|category_name|customer_city|customer_country|customer_id|customer_segment|customer_state|customer_zipcode|department_id|department_name|market|order_city|order_country|order_customer_id|order_date_(dateorders)|order_id|order_item_cardprod_id|order_item_discount|order_item_discount_rate|order_item_id|order_item_product_price|order_item_profit_ratio|order_item_quantity|sales|order_item_total|order_profit_per_order|order_region|order_state|order_status|order_zipcode|product_card_id|product_category_id|product_name|product_price|shipping_date_(dateorders)|shipping_mode|\n",
      "+----+------------------------+-----------------------------+-----------------+------------------+---------------+------------------+-----------+-------------+-------------+----------------+-----------+----------------+--------------+----------------+-------------+---------------+------+----------+-------------+-----------------+-----------------------+--------+----------------------+-------------------+------------------------+-------------+------------------------+-----------------------+-------------------+-----+----------------+----------------------+------------+-----------+------------+-------------+---------------+-------------------+------------+-------------+--------------------------+-------------+\n",
      "+----+------------------------+-----------------------------+-----------------+------------------+---------------+------------------+-----------+-------------+-------------+----------------+-----------+----------------+--------------+----------------+-------------+---------------+------+----------+-------------+-----------------+-----------------------+--------+----------------------+-------------------+------------------------+-------------+------------------------+-----------------------+-------------------+-----+----------------+----------------------+------------+-----------+------------+-------------+---------------+-------------------+------------+-------------+--------------------------+-------------+\n",
      "\n"
     ]
    }
   ],
   "source": [
    "df.filter(df.order_country == 'EE. UU.').show()"
   ]
  },
  {
   "cell_type": "markdown",
   "metadata": {},
   "source": [
    "Counts Based on categories for quick analysis"
   ]
  },
  {
   "cell_type": "code",
   "execution_count": 13,
   "metadata": {},
   "outputs": [
    {
     "name": "stdout",
     "output_type": "stream",
     "text": [
      "+-----------------+-----+\n",
      "|  delivery_status|count|\n",
      "+-----------------+-----+\n",
      "|    Late delivery|98977|\n",
      "| Advance shipping|41592|\n",
      "| Shipping on time|32196|\n",
      "|Shipping canceled| 7754|\n",
      "+-----------------+-----+\n",
      "\n"
     ]
    }
   ],
   "source": [
    "df.groupBy('delivery_status').count().orderBy('count', ascending=False).show()"
   ]
  },
  {
   "cell_type": "code",
   "execution_count": 21,
   "metadata": {},
   "outputs": [
    {
     "name": "stderr",
     "output_type": "stream",
     "text": [
      "[Stage 52:=======>                                                  (1 + 7) / 8]\r"
     ]
    },
    {
     "name": "stdout",
     "output_type": "stream",
     "text": [
      "+----------------+--------------------+------------------+----------+\n",
      "|customer_segment|               sales|            profit|cust_count|\n",
      "+----------------+--------------------+------------------+----------+\n",
      "|        Consumer|1.9095790155174054E7|2073487.6719135328|     10695|\n",
      "|       Corporate|1.1168406842990492E7|1202574.9615065993|      6239|\n",
      "|     Home Office|  6520538.0152156735| 690840.3406302303|      3718|\n",
      "+----------------+--------------------+------------------+----------+\n",
      "\n"
     ]
    },
    {
     "name": "stderr",
     "output_type": "stream",
     "text": [
      "                                                                                \r"
     ]
    }
   ],
   "source": [
    "spark.sql(\"\"\"\n",
    "          Select customer_segment, \n",
    "          sum(sales) as sales, \n",
    "          sum(order_profit_per_order) as profit,\n",
    "          count(distinct(customer_id)) as cust_count\n",
    "          From my_table \n",
    "          GROUP BY customer_segment\n",
    "          ORDER BY sales DESC\n",
    "          \"\"\").show()"
   ]
  },
  {
   "cell_type": "code",
   "execution_count": 25,
   "metadata": {},
   "outputs": [
    {
     "name": "stderr",
     "output_type": "stream",
     "text": [
      "[Stage 76:=======>                                                  (1 + 7) / 8]\r"
     ]
    },
    {
     "name": "stdout",
     "output_type": "stream",
     "text": [
      "+--------------+--------------------+------------------+----------+\n",
      "| shipping_mode|               sales|            profit|cust_count|\n",
      "+--------------+--------------------+------------------+----------+\n",
      "|Standard Class|2.2022391879808668E7|2370454.4528039624|     16578|\n",
      "|  Second Class|   7145444.818358937| 750308.1702654322|      8969|\n",
      "|   First Class|   5674369.758202563| 643121.9207390624|      7594|\n",
      "|      Same Day|  1942528.5570090855|203018.43024189796|      3208|\n",
      "+--------------+--------------------+------------------+----------+\n",
      "\n"
     ]
    },
    {
     "name": "stderr",
     "output_type": "stream",
     "text": [
      "                                                                                \r"
     ]
    }
   ],
   "source": [
    "spark.sql(\"\"\"\n",
    "          Select shipping_mode, \n",
    "          sum(sales) as sales, \n",
    "          sum(order_profit_per_order) as profit,\n",
    "          count(distinct(customer_id)) as cust_count\n",
    "          From my_table \n",
    "          GROUP BY shipping_mode\n",
    "          ORDER BY sales DESC\n",
    "          \"\"\").show()"
   ]
  },
  {
   "cell_type": "code",
   "execution_count": 16,
   "metadata": {},
   "outputs": [
    {
     "name": "stdout",
     "output_type": "stream",
     "text": [
      "+----------------+-----+\n",
      "|customer_segment|count|\n",
      "+----------------+-----+\n",
      "|        Consumer|93504|\n",
      "|       Corporate|54789|\n",
      "|     Home Office|32226|\n",
      "+----------------+-----+\n",
      "\n"
     ]
    }
   ],
   "source": [
    "df.groupBy('customer_segment').count().orderBy('count', ascending=False).show()"
   ]
  },
  {
   "cell_type": "code",
   "execution_count": 19,
   "metadata": {},
   "outputs": [
    {
     "data": {
      "text/html": [
       "<div>\n",
       "<style scoped>\n",
       "    .dataframe tbody tr th:only-of-type {\n",
       "        vertical-align: middle;\n",
       "    }\n",
       "\n",
       "    .dataframe tbody tr th {\n",
       "        vertical-align: top;\n",
       "    }\n",
       "\n",
       "    .dataframe thead th {\n",
       "        text-align: right;\n",
       "    }\n",
       "</style>\n",
       "<table border=\"1\" class=\"dataframe\">\n",
       "  <thead>\n",
       "    <tr style=\"text-align: right;\">\n",
       "      <th></th>\n",
       "      <th>order_status</th>\n",
       "      <th>count</th>\n",
       "    </tr>\n",
       "  </thead>\n",
       "  <tbody>\n",
       "    <tr>\n",
       "      <th>0</th>\n",
       "      <td>COMPLETE</td>\n",
       "      <td>59491</td>\n",
       "    </tr>\n",
       "    <tr>\n",
       "      <th>1</th>\n",
       "      <td>PENDING_PAYMENT</td>\n",
       "      <td>39832</td>\n",
       "    </tr>\n",
       "    <tr>\n",
       "      <th>2</th>\n",
       "      <td>PROCESSING</td>\n",
       "      <td>21902</td>\n",
       "    </tr>\n",
       "    <tr>\n",
       "      <th>3</th>\n",
       "      <td>PENDING</td>\n",
       "      <td>20227</td>\n",
       "    </tr>\n",
       "    <tr>\n",
       "      <th>4</th>\n",
       "      <td>CLOSED</td>\n",
       "      <td>19616</td>\n",
       "    </tr>\n",
       "    <tr>\n",
       "      <th>5</th>\n",
       "      <td>ON_HOLD</td>\n",
       "      <td>9804</td>\n",
       "    </tr>\n",
       "    <tr>\n",
       "      <th>6</th>\n",
       "      <td>SUSPECTED_FRAUD</td>\n",
       "      <td>4062</td>\n",
       "    </tr>\n",
       "    <tr>\n",
       "      <th>7</th>\n",
       "      <td>CANCELED</td>\n",
       "      <td>3692</td>\n",
       "    </tr>\n",
       "    <tr>\n",
       "      <th>8</th>\n",
       "      <td>PAYMENT_REVIEW</td>\n",
       "      <td>1893</td>\n",
       "    </tr>\n",
       "  </tbody>\n",
       "</table>\n",
       "</div>"
      ],
      "text/plain": [
       "      order_status  count\n",
       "0         COMPLETE  59491\n",
       "1  PENDING_PAYMENT  39832\n",
       "2       PROCESSING  21902\n",
       "3          PENDING  20227\n",
       "4           CLOSED  19616\n",
       "5          ON_HOLD   9804\n",
       "6  SUSPECTED_FRAUD   4062\n",
       "7         CANCELED   3692\n",
       "8   PAYMENT_REVIEW   1893"
      ]
     },
     "execution_count": 19,
     "metadata": {},
     "output_type": "execute_result"
    }
   ],
   "source": [
    "df1 = df.groupBy('order_status').count().orderBy('count', ascending=False).toPandas()\n",
    "df1"
   ]
  },
  {
   "cell_type": "code",
   "execution_count": 21,
   "metadata": {},
   "outputs": [
    {
     "data": {
      "text/plain": [
       "Text(0.5, 1.0, 'Order Status')"
      ]
     },
     "execution_count": 21,
     "metadata": {},
     "output_type": "execute_result"
    },
    {
     "data": {
      "image/png": "[encoded data removed]",
      "text/plain": [
       "<Figure size 640x480 with 1 Axes>"
      ]
     },
     "metadata": {},
     "output_type": "display_data"
    }
   ],
   "source": [
    "label=[\"COMPLETE\",\"PENDING_PAYMENT\",\"PROCESSING\",\"PENDING\",\"CLOSED\",\"ON_HOLD\",\"SUSPECTED_FRAUD\",\"CANCELED\",\"PAYMENT_REVIEW\"]\n",
    "plt.pie(df1['count'],labels=label, autopct='%1.2f%%')\n",
    "plt.title(\"Order Status\")"
   ]
  },
  {
   "cell_type": "code",
   "execution_count": 11,
   "metadata": {},
   "outputs": [
    {
     "name": "stderr",
     "output_type": "stream",
     "text": [
      "[Stage 19:=======>                                                  (1 + 7) / 8]\r"
     ]
    },
    {
     "name": "stdout",
     "output_type": "stream",
     "text": [
      "+--------------------+-----+\n",
      "|       order_country|count|\n",
      "+--------------------+-----+\n",
      "|      Estados Unidos|24840|\n",
      "|             Francia|13222|\n",
      "|              M�xico|13172|\n",
      "|            Alemania| 9564|\n",
      "|           Australia| 8497|\n",
      "|              Brasil| 7987|\n",
      "|         Reino Unido| 7302|\n",
      "|               China| 5758|\n",
      "|              Italia| 4989|\n",
      "|               India| 4783|\n",
      "|           Indonesia| 4204|\n",
      "|              Espa�a| 3868|\n",
      "|         El Salvador| 3726|\n",
      "|Rep�blica Dominicana| 3669|\n",
      "|            Honduras| 3629|\n",
      "|                Cuba| 3534|\n",
      "|             Turqu�a| 3395|\n",
      "|           Nicaragua| 3046|\n",
      "|           Guatemala| 2778|\n",
      "|             Nigeria| 2309|\n",
      "+--------------------+-----+\n",
      "only showing top 20 rows\n",
      "\n"
     ]
    },
    {
     "name": "stderr",
     "output_type": "stream",
     "text": [
      "                                                                                \r"
     ]
    }
   ],
   "source": [
    "df.groupBy('order_country').count().orderBy('count', ascending=False).show()"
   ]
  },
  {
   "cell_type": "code",
   "execution_count": 12,
   "metadata": {},
   "outputs": [
    {
     "name": "stderr",
     "output_type": "stream",
     "text": [
      "[Stage 22:=======>                                                  (1 + 7) / 8]\r"
     ]
    },
    {
     "name": "stdout",
     "output_type": "stream",
     "text": [
      "+---------------+-----+\n",
      "|   order_status|count|\n",
      "+---------------+-----+\n",
      "|PENDING_PAYMENT|39832|\n",
      "|       COMPLETE|59491|\n",
      "|        ON_HOLD| 9804|\n",
      "| PAYMENT_REVIEW| 1893|\n",
      "|     PROCESSING|21902|\n",
      "|         CLOSED|19616|\n",
      "|SUSPECTED_FRAUD| 4062|\n",
      "|        PENDING|20227|\n",
      "|       CANCELED| 3692|\n",
      "+---------------+-----+\n",
      "\n"
     ]
    },
    {
     "name": "stderr",
     "output_type": "stream",
     "text": [
      "                                                                                \r"
     ]
    }
   ],
   "source": [
    "spark.sql(\"SELECT order_status, count(order_status) as count From my_table group by order_status\").show()"
   ]
  },
  {
   "cell_type": "markdown",
   "metadata": {},
   "source": [
    "## Data Modelling"
   ]
  },
  {
   "cell_type": "code",
   "execution_count": null,
   "metadata": {},
   "outputs": [],
   "source": [
    "from sklearn.preprocessing import LabelEncoder"
   ]
  },
  {
   "cell_type": "code",
   "execution_count": 22,
   "metadata": {},
   "outputs": [
    {
     "name": "stdout",
     "output_type": "stream",
     "text": [
      "+--------+------------------------+-----------------------------+-----------------+------------------+----------------+------------------+-----------+--------------+-------------+----------------+-----------+----------------+--------------+----------------+-------------+---------------+------------+----------+-------------+-----------------+--------+----------------------+-------------------+------------------------+-------------+------------------------+-----------------------+-------------------+------+----------------+----------------------+--------------+---------------+---------------+-------------+---------------+-------------------+------------+-------------+--------------+----------+-------------+\n",
      "|    type|days_for_shipping_(real)|days_for_shipment_(scheduled)|benefit_per_order|sales_per_customer| delivery_status|late_delivery_risk|category_id| category_name|customer_city|customer_country|customer_id|customer_segment|customer_state|customer_zipcode|department_id|department_name|      market|order_city|order_country|order_customer_id|order_id|order_item_cardprod_id|order_item_discount|order_item_discount_rate|order_item_id|order_item_product_price|order_item_profit_ratio|order_item_quantity| sales|order_item_total|order_profit_per_order|  order_region|    order_state|   order_status|order_zipcode|product_card_id|product_category_id|product_name|product_price| shipping_mode|order_date|shipping_date|\n",
      "+--------+------------------------+-----------------------------+-----------------+------------------+----------------+------------------+-----------+--------------+-------------+----------------+-----------+----------------+--------------+----------------+-------------+---------------+------------+----------+-------------+-----------------+--------+----------------------+-------------------+------------------------+-------------+------------------------+-----------------------+-------------------+------+----------------+----------------------+--------------+---------------+---------------+-------------+---------------+-------------------+------------+-------------+--------------+----------+-------------+\n",
      "|   DEBIT|                       3|                            4|            91.25|       314.6400146|Advance shipping|                 0|         73|Sporting Goods|       Caguas|     Puerto Rico|      20755|        Consumer|            PR|             725|            2|        Fitness|Pacific Asia|    Bekasi|    Indonesia|            20755|   77202|                  1360|        13.10999966|             0.039999999|       180517|                  327.75|            0.289999992|                  1|327.75|     314.6400146|                 91.25|Southeast Asia|Java Occidental|       COMPLETE|         NULL|           1360|                 73|Smart watch |       327.75|Standard Class|2018-01-31|   2018-02-03|\n",
      "|TRANSFER|                       5|                            4|     -249.0899963|       311.3599854|   Late delivery|                 1|         73|Sporting Goods|       Caguas|     Puerto Rico|      19492|        Consumer|            PR|             725|            2|        Fitness|Pacific Asia|   Bikaner|        India|            19492|   75939|                  1360|        16.38999939|             0.050000001|       179254|                  327.75|           -0.800000012|                  1|327.75|     311.3599854|          -249.0899963|    South Asia|       Rajast�n|        PENDING|         NULL|           1360|                 73|Smart watch |       327.75|Standard Class|2018-01-13|   2018-01-18|\n",
      "|    CASH|                       4|                            4|     -247.7799988|       309.7200012|Shipping on time|                 0|         73|Sporting Goods|     San Jose|         EE. UU.|      19491|        Consumer|            CA|           95125|            2|        Fitness|Pacific Asia|   Bikaner|        India|            19491|   75938|                  1360|        18.03000069|             0.059999999|       179253|                  327.75|           -0.800000012|                  1|327.75|     309.7200012|          -247.7799988|    South Asia|       Rajast�n|         CLOSED|         NULL|           1360|                 73|Smart watch |       327.75|Standard Class|2018-01-13|   2018-01-17|\n",
      "|   DEBIT|                       3|                            4|      22.86000061|       304.8099976|Advance shipping|                 0|         73|Sporting Goods|  Los Angeles|         EE. UU.|      19490|     Home Office|            CA|           90027|            2|        Fitness|Pacific Asia|Townsville|    Australia|            19490|   75937|                  1360|        22.94000053|                    0.07|       179252|                  327.75|            0.079999998|                  1|327.75|     304.8099976|           22.86000061|       Oceania|     Queensland|       COMPLETE|         NULL|           1360|                 73|Smart watch |       327.75|Standard Class|2018-01-13|   2018-01-16|\n",
      "| PAYMENT|                       2|                            4|      134.2100067|            298.25|Advance shipping|                 0|         73|Sporting Goods|       Caguas|     Puerto Rico|      19489|       Corporate|            PR|             725|            2|        Fitness|Pacific Asia|Townsville|    Australia|            19489|   75936|                  1360|               29.5|             0.090000004|       179251|                  327.75|            0.449999988|                  1|327.75|          298.25|           134.2100067|       Oceania|     Queensland|PENDING_PAYMENT|         NULL|           1360|                 73|Smart watch |       327.75|Standard Class|2018-01-13|   2018-01-15|\n",
      "+--------+------------------------+-----------------------------+-----------------+------------------+----------------+------------------+-----------+--------------+-------------+----------------+-----------+----------------+--------------+----------------+-------------+---------------+------------+----------+-------------+-----------------+--------+----------------------+-------------------+------------------------+-------------+------------------------+-----------------------+-------------------+------+----------------+----------------------+--------------+---------------+---------------+-------------+---------------+-------------------+------------+-------------+--------------+----------+-------------+\n",
      "only showing top 5 rows\n",
      "\n"
     ]
    }
   ],
   "source": [
    "df.show(5)"
   ]
  },
  {
   "cell_type": "code",
   "execution_count": 23,
   "metadata": {},
   "outputs": [
    {
     "name": "stderr",
     "output_type": "stream",
     "text": [
      "                                                                                \r"
     ]
    },
    {
     "name": "stdout",
     "output_type": "stream",
     "text": [
      "+--------+------------------------+-----------------------------+-----------------+------------------+-----------------+------------------+-----------+--------------+--------------+----------------+-----------+----------------+--------------+----------------+-------------+---------------+------------+----------+-------------+-----------------+--------+----------------------+-------------------+------------------------+-------------+------------------------+-----------------------+-------------------+------+----------------+----------------------+--------------+--------------------+---------------+-------------+---------------+-------------------+------------+-------------+--------------+----------+-------------+------------+\n",
      "|    type|days_for_shipping_(real)|days_for_shipment_(scheduled)|benefit_per_order|sales_per_customer|  delivery_status|late_delivery_risk|category_id| category_name| customer_city|customer_country|customer_id|customer_segment|customer_state|customer_zipcode|department_id|department_name|      market|order_city|order_country|order_customer_id|order_id|order_item_cardprod_id|order_item_discount|order_item_discount_rate|order_item_id|order_item_product_price|order_item_profit_ratio|order_item_quantity| sales|order_item_total|order_profit_per_order|  order_region|         order_state|   order_status|order_zipcode|product_card_id|product_category_id|product_name|product_price| shipping_mode|order_date|shipping_date|payment_type|\n",
      "+--------+------------------------+-----------------------------+-----------------+------------------+-----------------+------------------+-----------+--------------+--------------+----------------+-----------+----------------+--------------+----------------+-------------+---------------+------------+----------+-------------+-----------------+--------+----------------------+-------------------+------------------------+-------------+------------------------+-----------------------+-------------------+------+----------------+----------------------+--------------+--------------------+---------------+-------------+---------------+-------------------+------------+-------------+--------------+----------+-------------+------------+\n",
      "|   DEBIT|                       3|                            4|            91.25|       314.6400146| Advance shipping|                 0|         73|Sporting Goods|        Caguas|     Puerto Rico|      20755|        Consumer|            PR|             725|            2|        Fitness|Pacific Asia|    Bekasi|    Indonesia|            20755|   77202|                  1360|        13.10999966|             0.039999999|       180517|                  327.75|            0.289999992|                  1|327.75|     314.6400146|                 91.25|Southeast Asia|     Java Occidental|       COMPLETE|         NULL|           1360|                 73|Smart watch |       327.75|Standard Class|2018-01-31|   2018-02-03|         0.0|\n",
      "|TRANSFER|                       5|                            4|     -249.0899963|       311.3599854|    Late delivery|                 1|         73|Sporting Goods|        Caguas|     Puerto Rico|      19492|        Consumer|            PR|             725|            2|        Fitness|Pacific Asia|   Bikaner|        India|            19492|   75939|                  1360|        16.38999939|             0.050000001|       179254|                  327.75|           -0.800000012|                  1|327.75|     311.3599854|          -249.0899963|    South Asia|            Rajast�n|        PENDING|         NULL|           1360|                 73|Smart watch |       327.75|Standard Class|2018-01-13|   2018-01-18|         1.0|\n",
      "|    CASH|                       4|                            4|     -247.7799988|       309.7200012| Shipping on time|                 0|         73|Sporting Goods|      San Jose|         EE. UU.|      19491|        Consumer|            CA|           95125|            2|        Fitness|Pacific Asia|   Bikaner|        India|            19491|   75938|                  1360|        18.03000069|             0.059999999|       179253|                  327.75|           -0.800000012|                  1|327.75|     309.7200012|          -247.7799988|    South Asia|            Rajast�n|         CLOSED|         NULL|           1360|                 73|Smart watch |       327.75|Standard Class|2018-01-13|   2018-01-17|         3.0|\n",
      "|   DEBIT|                       3|                            4|      22.86000061|       304.8099976| Advance shipping|                 0|         73|Sporting Goods|   Los Angeles|         EE. UU.|      19490|     Home Office|            CA|           90027|            2|        Fitness|Pacific Asia|Townsville|    Australia|            19490|   75937|                  1360|        22.94000053|                    0.07|       179252|                  327.75|            0.079999998|                  1|327.75|     304.8099976|           22.86000061|       Oceania|          Queensland|       COMPLETE|         NULL|           1360|                 73|Smart watch |       327.75|Standard Class|2018-01-13|   2018-01-16|         0.0|\n",
      "| PAYMENT|                       2|                            4|      134.2100067|            298.25| Advance shipping|                 0|         73|Sporting Goods|        Caguas|     Puerto Rico|      19489|       Corporate|            PR|             725|            2|        Fitness|Pacific Asia|Townsville|    Australia|            19489|   75936|                  1360|               29.5|             0.090000004|       179251|                  327.75|            0.449999988|                  1|327.75|          298.25|           134.2100067|       Oceania|          Queensland|PENDING_PAYMENT|         NULL|           1360|                 73|Smart watch |       327.75|Standard Class|2018-01-13|   2018-01-15|         2.0|\n",
      "|TRANSFER|                       6|                            4|      18.57999992|        294.980011|Shipping canceled|                 0|         73|Sporting Goods|     Tonawanda|         EE. UU.|      19488|        Consumer|            NY|           14150|            2|        Fitness|Pacific Asia| Toowoomba|    Australia|            19488|   75935|                  1360|        32.77999878|             0.100000001|       179250|                  327.75|            0.059999999|                  1|327.75|      294.980011|           18.57999992|       Oceania|          Queensland|       CANCELED|         NULL|           1360|                 73|Smart watch |       327.75|Standard Class|2018-01-13|   2018-01-19|         1.0|\n",
      "|   DEBIT|                       2|                            1|      95.18000031|       288.4200134|    Late delivery|                 1|         73|Sporting Goods|        Caguas|     Puerto Rico|      19487|     Home Office|            PR|             725|            2|        Fitness|Pacific Asia| Guangzhou|        China|            19487|   75934|                  1360|        39.33000183|             0.119999997|       179249|                  327.75|            0.330000013|                  1|327.75|     288.4200134|           95.18000031|  Eastern Asia|           Guangdong|       COMPLETE|         NULL|           1360|                 73|Smart watch |       327.75|   First Class|2018-01-13|   2018-01-15|         0.0|\n",
      "|TRANSFER|                       2|                            1|      68.43000031|       285.1400146|    Late delivery|                 1|         73|Sporting Goods|         Miami|         EE. UU.|      19486|       Corporate|            FL|           33162|            2|        Fitness|Pacific Asia| Guangzhou|        China|            19486|   75933|                  1360|        42.61000061|             0.129999995|       179248|                  327.75|            0.239999995|                  1|327.75|     285.1400146|           68.43000031|  Eastern Asia|           Guangdong|     PROCESSING|         NULL|           1360|                 73|Smart watch |       327.75|   First Class|2018-01-13|   2018-01-15|         1.0|\n",
      "|    CASH|                       3|                            2|      133.7200012|       278.5899963|    Late delivery|                 1|         73|Sporting Goods|        Caguas|     Puerto Rico|      19485|       Corporate|            PR|             725|            2|        Fitness|Pacific Asia| Guangzhou|        China|            19485|   75932|                  1360|        49.15999985|             0.150000006|       179247|                  327.75|            0.479999989|                  1|327.75|     278.5899963|           133.7200012|  Eastern Asia|           Guangdong|         CLOSED|         NULL|           1360|                 73|Smart watch |       327.75|  Second Class|2018-01-13|   2018-01-16|         3.0|\n",
      "|    CASH|                       2|                            1|      132.1499939|       275.3099976|    Late delivery|                 1|         73|Sporting Goods|     San Ramon|         EE. UU.|      19484|       Corporate|            CA|           94583|            2|        Fitness|Pacific Asia| Guangzhou|        China|            19484|   75931|                  1360|        52.43999863|             0.159999996|       179246|                  327.75|            0.479999989|                  1|327.75|     275.3099976|           132.1499939|  Eastern Asia|           Guangdong|         CLOSED|         NULL|           1360|                 73|Smart watch |       327.75|   First Class|2018-01-13|   2018-01-15|         3.0|\n",
      "|TRANSFER|                       6|                            2|      130.5800018|       272.0299988|Shipping canceled|                 0|         73|Sporting Goods|        Caguas|     Puerto Rico|      19483|       Corporate|            PR|             725|            2|        Fitness|Pacific Asia|     Tokio|        Jap�n|            19483|   75930|                  1360|        55.72000122|             0.170000002|       179245|                  327.75|            0.479999989|                  1|327.75|     272.0299988|           130.5800018|  Eastern Asia|               Tokio|SUSPECTED_FRAUD|         NULL|           1360|                 73|Smart watch |       327.75|  Second Class|2018-01-13|   2018-01-19|         1.0|\n",
      "|TRANSFER|                       5|                            2|      45.68999863|       268.7600098|    Late delivery|                 1|         73|Sporting Goods|      Freeport|         EE. UU.|      19482|        Consumer|            NY|           11520|            2|        Fitness|Pacific Asia|    Manado|    Indonesia|            19482|   75929|                  1360|               59.0|             0.180000007|       179244|                  327.75|            0.170000002|                  1|327.75|     268.7600098|           45.68999863|Southeast Asia|C�lebes Septentri...|        PENDING|         NULL|           1360|                 73|Smart watch |       327.75|  Second Class|2018-01-13|   2018-01-18|         1.0|\n",
      "|TRANSFER|                       4|                            2|      21.76000023|       262.2000122|    Late delivery|                 1|         73|Sporting Goods|       Salinas|         EE. UU.|      19481|       Corporate|            CA|           93905|            2|        Fitness|Pacific Asia|    Manado|    Indonesia|            19481|   75928|                  1360|        65.55000305|             0.200000003|       179243|                  327.75|            0.079999998|                  1|327.75|     262.2000122|           21.76000023|Southeast Asia|C�lebes Septentri...|        PENDING|         NULL|           1360|                 73|Smart watch |       327.75|  Second Class|2018-01-13|   2018-01-17|         1.0|\n",
      "|   DEBIT|                       2|                            1|      24.57999992|       245.8099976|    Late delivery|                 1|         73|Sporting Goods|        Caguas|     Puerto Rico|      19480|       Corporate|            PR|             725|            2|        Fitness|Pacific Asia|    Sangli|        India|            19480|   75927|                  1360|        81.94000244|                    0.25|       179242|                  327.75|            0.100000001|                  1|327.75|     245.8099976|           24.57999992|    South Asia|         Maharashtra|       COMPLETE|         NULL|           1360|                 73|Smart watch |       327.75|   First Class|2018-01-13|   2018-01-15|         0.0|\n",
      "|TRANSFER|                       2|                            1|      16.38999939|            327.75|    Late delivery|                 1|         73|Sporting Goods|       Peabody|         EE. UU.|      19479|       Corporate|            MA|            1960|            2|        Fitness|Pacific Asia|    Sangli|        India|            19479|   75926|                  1360|                0.0|                     0.0|       179241|                  327.75|            0.050000001|                  1|327.75|          327.75|           16.38999939|    South Asia|         Maharashtra|     PROCESSING|         NULL|           1360|                 73|Smart watch |       327.75|   First Class|2018-01-13|   2018-01-15|         1.0|\n",
      "|   DEBIT|                       2|                            1|     -259.5799866|       324.4700012|    Late delivery|                 1|         73|Sporting Goods|        Caguas|     Puerto Rico|      19478|       Corporate|            PR|             725|            2|        Fitness|Pacific Asia|    Sangli|        India|            19478|   75925|                  1360|        3.279999971|                    0.01|       179240|                  327.75|           -0.800000012|                  1|327.75|     324.4700012|          -259.5799866|    South Asia|         Maharashtra|       COMPLETE|         NULL|           1360|                 73|Smart watch |       327.75|   First Class|2018-01-13|   2018-01-15|         0.0|\n",
      "| PAYMENT|                       5|                            2|     -246.3600006|       321.2000122|    Late delivery|                 1|         73|Sporting Goods|     Canovanas|     Puerto Rico|      19477|       Corporate|            PR|             729|            2|        Fitness|Pacific Asia|      Se�l|Corea del Sur|            19477|   75924|                  1360|        6.559999943|                    0.02|       179239|                  327.75|           -0.769999981|                  1|327.75|     321.2000122|          -246.3600006|  Eastern Asia|                Se�l|PENDING_PAYMENT|         NULL|           1360|                 73|Smart watch |       327.75|  Second Class|2018-01-13|   2018-01-18|         2.0|\n",
      "|    CASH|                       2|                            1|      23.84000015|       317.9200134|    Late delivery|                 1|         73|Sporting Goods|     Paramount|         EE. UU.|      19476|       Corporate|            CA|           90723|            2|        Fitness|Pacific Asia|  Jabalpur|        India|            19476|   75923|                  1360|        9.829999924|             0.029999999|       179238|                  327.75|            0.079999998|                  1|327.75|     317.9200134|           23.84000015|    South Asia|      Madhya Pradesh|         CLOSED|         NULL|           1360|                 73|Smart watch |       327.75|   First Class|2018-01-13|   2018-01-15|         3.0|\n",
      "|   DEBIT|                       2|                            1|      102.2600021|       314.6400146|    Late delivery|                 1|         73|Sporting Goods|        Caguas|     Puerto Rico|      19475|        Consumer|            PR|             725|            2|        Fitness|Pacific Asia|  Jabalpur|        India|            19475|   75922|                  1360|        13.10999966|             0.039999999|       179237|                  327.75|            0.330000013|                  1|327.75|     314.6400146|           102.2600021|    South Asia|      Madhya Pradesh|       COMPLETE|         NULL|           1360|                 73|Smart watch |       327.75|   First Class|2018-01-13|   2018-01-15|         0.0|\n",
      "| PAYMENT|                       0|                            0|      87.18000031|       311.3599854| Shipping on time|                 0|         73|Sporting Goods|Mount Prospect|         EE. UU.|      19474|        Consumer|            IL|           60056|            2|        Fitness|Pacific Asia|  Jabalpur|        India|            19474|   75921|                  1360|        16.38999939|             0.050000001|       179236|                  327.75|            0.280000001|                  1|327.75|     311.3599854|           87.18000031|    South Asia|      Madhya Pradesh|PENDING_PAYMENT|         NULL|           1360|                 73|Smart watch |       327.75|      Same Day|2018-01-13|   2018-01-13|         2.0|\n",
      "+--------+------------------------+-----------------------------+-----------------+------------------+-----------------+------------------+-----------+--------------+--------------+----------------+-----------+----------------+--------------+----------------+-------------+---------------+------------+----------+-------------+-----------------+--------+----------------------+-------------------+------------------------+-------------+------------------------+-----------------------+-------------------+------+----------------+----------------------+--------------+--------------------+---------------+-------------+---------------+-------------------+------------+-------------+--------------+----------+-------------+------------+\n",
      "only showing top 20 rows\n",
      "\n"
     ]
    }
   ],
   "source": [
    "from pyspark.ml.feature import StringIndexer\n",
    "indexer = StringIndexer(inputCol=\"type\", outputCol=\"payment_type\") \n",
    "indexed = indexer.fit(df).transform(df) \n",
    "indexed.show()"
   ]
  }
 ],
 "metadata": {
  "kernelspec": {
   "display_name": "pytest",
   "language": "python",
   "name": "python3"
  },
  "language_info": {
   "codemirror_mode": {
    "name": "ipython",
    "version": 3
   },
   "file_extension": ".py",
   "mimetype": "text/x-python",
   "name": "python",
   "nbconvert_exporter": "python",
   "pygments_lexer": "ipython3",
   "version": "3.12.4"
  }
 },
 "nbformat": 4,
 "nbformat_minor": 2
}

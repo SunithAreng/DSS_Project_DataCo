{
 "cells": [
  {
   "cell_type": "markdown",
   "metadata": {},
   "source": [
    "## Starting Spark"
   ]
  },
  {
   "cell_type": "code",
   "execution_count": 1,
   "metadata": {},
   "outputs": [
    {
     "name": "stderr",
     "output_type": "stream",
     "text": [
      "24/07/03 01:30:48 WARN Utils: Your hostname, MacBook-Pro-Sunith.local resolves to a loopback address: 127.0.0.1; using 10.10.67.15 instead (on interface en0)\n",
      "24/07/03 01:30:48 WARN Utils: Set SPARK_LOCAL_IP if you need to bind to another address\n",
      "Setting default log level to \"WARN\".\n",
      "To adjust logging level use sc.setLogLevel(newLevel). For SparkR, use setLogLevel(newLevel).\n",
      "24/07/03 01:30:49 WARN NativeCodeLoader: Unable to load native-hadoop library for your platform... using builtin-java classes where applicable\n"
     ]
    },
    {
     "name": "stdout",
     "output_type": "stream",
     "text": [
      "<pyspark.sql.session.SparkSession object at 0x115baf500>\n"
     ]
    }
   ],
   "source": [
    "import findspark\n",
    "findspark.init()\n",
    "\n",
    "from pyspark.sql import SparkSession\n",
    "\n",
    "# Create a Spark session\n",
    "spark = SparkSession.builder \\\n",
    "    .appName(\"MySparkApp\") \\\n",
    "    .getOrCreate()\n",
    "\n",
    "# Check if SparkSession is created successfully\n",
    "print(spark)\n"
   ]
  },
  {
   "cell_type": "code",
   "execution_count": 2,
   "metadata": {},
   "outputs": [],
   "source": [
    "import matplotlib.pyplot as plt\n",
    "import seaborn as sns\n",
    "import plotly.express as px"
   ]
  },
  {
   "cell_type": "markdown",
   "metadata": {},
   "source": [
    "## Importing and Basic Cleaning"
   ]
  },
  {
   "cell_type": "code",
   "execution_count": 6,
   "metadata": {},
   "outputs": [
    {
     "name": "stderr",
     "output_type": "stream",
     "text": [
      "24/07/03 01:31:13 WARN SparkStringUtils: Truncated the string representation of a plan since it was too large. This behavior can be adjusted by setting 'spark.sql.debug.maxToStringFields'.\n"
     ]
    },
    {
     "name": "stdout",
     "output_type": "stream",
     "text": [
      "+--------+------------------------+-----------------------------+-----------------+------------------+-----------------+------------------+-----------+--------------+--------------+----------------+--------------+--------------+-----------+--------------+-----------------+----------------+--------------+--------------------+----------------+-------------+---------------+-----------+------------+------------+----------+-------------+-----------------+-----------------------+--------+----------------------+-------------------+------------------------+-------------+------------------------+-----------------------+-------------------+------+----------------+----------------------+--------------+--------------------+---------------+-------------+---------------+-------------------+-------------------+--------------------+------------+-------------+--------------+--------------------------+--------------+\n",
      "|    Type|Days for shipping (real)|Days for shipment (scheduled)|Benefit per order|Sales per customer|  Delivery Status|Late_delivery_risk|Category Id| Category Name| Customer City|Customer Country|Customer Email|Customer Fname|Customer Id|Customer Lname|Customer Password|Customer Segment|Customer State|     Customer Street|Customer Zipcode|Department Id|Department Name|   Latitude|   Longitude|      Market|Order City|Order Country|Order Customer Id|order date (DateOrders)|Order Id|Order Item Cardprod Id|Order Item Discount|Order Item Discount Rate|Order Item Id|Order Item Product Price|Order Item Profit Ratio|Order Item Quantity| Sales|Order Item Total|Order Profit Per Order|  Order Region|         Order State|   Order Status|Order Zipcode|Product Card Id|Product Category Id|Product Description|       Product Image|Product Name|Product Price|Product Status|shipping date (DateOrders)| Shipping Mode|\n",
      "+--------+------------------------+-----------------------------+-----------------+------------------+-----------------+------------------+-----------+--------------+--------------+----------------+--------------+--------------+-----------+--------------+-----------------+----------------+--------------+--------------------+----------------+-------------+---------------+-----------+------------+------------+----------+-------------+-----------------+-----------------------+--------+----------------------+-------------------+------------------------+-------------+------------------------+-----------------------+-------------------+------+----------------+----------------------+--------------+--------------------+---------------+-------------+---------------+-------------------+-------------------+--------------------+------------+-------------+--------------+--------------------------+--------------+\n",
      "|   DEBIT|                       3|                            4|            91.25|       314.6400146| Advance shipping|                 0|         73|Sporting Goods|        Caguas|     Puerto Rico|     XXXXXXXXX|         Cally|      20755|      Holloway|        XXXXXXXXX|        Consumer|            PR|5365 Noble Nectar...|             725|            2|        Fitness| 18.2514534|-66.03705597|Pacific Asia|    Bekasi|    Indonesia|            20755|        1/31/2018 22:56|   77202|                  1360|        13.10999966|             0.039999999|       180517|                  327.75|            0.289999992|                  1|327.75|     314.6400146|                 91.25|Southeast Asia|     Java Occidental|       COMPLETE|         NULL|           1360|                 73|               NULL|http://images.acm...|Smart watch |       327.75|             0|            2/3/2018 22:56|Standard Class|\n",
      "|TRANSFER|                       5|                            4|     -249.0899963|       311.3599854|    Late delivery|                 1|         73|Sporting Goods|        Caguas|     Puerto Rico|     XXXXXXXXX|         Irene|      19492|          Luna|        XXXXXXXXX|        Consumer|            PR|    2679 Rustic Loop|             725|            2|        Fitness|18.27945137| -66.0370636|Pacific Asia|   Bikaner|        India|            19492|        1/13/2018 12:27|   75939|                  1360|        16.38999939|             0.050000001|       179254|                  327.75|           -0.800000012|                  1|327.75|     311.3599854|          -249.0899963|    South Asia|            Rajast�n|        PENDING|         NULL|           1360|                 73|               NULL|http://images.acm...|Smart watch |       327.75|             0|           1/18/2018 12:27|Standard Class|\n",
      "|    CASH|                       4|                            4|     -247.7799988|       309.7200012| Shipping on time|                 0|         73|Sporting Goods|      San Jose|         EE. UU.|     XXXXXXXXX|       Gillian|      19491|     Maldonado|        XXXXXXXXX|        Consumer|            CA|8510 Round Bear Gate|           95125|            2|        Fitness|37.29223251| -121.881279|Pacific Asia|   Bikaner|        India|            19491|        1/13/2018 12:06|   75938|                  1360|        18.03000069|             0.059999999|       179253|                  327.75|           -0.800000012|                  1|327.75|     309.7200012|          -247.7799988|    South Asia|            Rajast�n|         CLOSED|         NULL|           1360|                 73|               NULL|http://images.acm...|Smart watch |       327.75|             0|           1/17/2018 12:06|Standard Class|\n",
      "|   DEBIT|                       3|                            4|      22.86000061|       304.8099976| Advance shipping|                 0|         73|Sporting Goods|   Los Angeles|         EE. UU.|     XXXXXXXXX|          Tana|      19490|          Tate|        XXXXXXXXX|     Home Office|            CA|     3200 Amber Bend|           90027|            2|        Fitness|34.12594605|-118.2910156|Pacific Asia|Townsville|    Australia|            19490|        1/13/2018 11:45|   75937|                  1360|        22.94000053|                    0.07|       179252|                  327.75|            0.079999998|                  1|327.75|     304.8099976|           22.86000061|       Oceania|          Queensland|       COMPLETE|         NULL|           1360|                 73|               NULL|http://images.acm...|Smart watch |       327.75|             0|           1/16/2018 11:45|Standard Class|\n",
      "| PAYMENT|                       2|                            4|      134.2100067|            298.25| Advance shipping|                 0|         73|Sporting Goods|        Caguas|     Puerto Rico|     XXXXXXXXX|          Orli|      19489|     Hendricks|        XXXXXXXXX|       Corporate|            PR|8671 Iron Anchor ...|             725|            2|        Fitness|18.25376892|-66.03704834|Pacific Asia|Townsville|    Australia|            19489|        1/13/2018 11:24|   75936|                  1360|               29.5|             0.090000004|       179251|                  327.75|            0.449999988|                  1|327.75|          298.25|           134.2100067|       Oceania|          Queensland|PENDING_PAYMENT|         NULL|           1360|                 73|               NULL|http://images.acm...|Smart watch |       327.75|             0|           1/15/2018 11:24|Standard Class|\n",
      "|TRANSFER|                       6|                            4|      18.57999992|        294.980011|Shipping canceled|                 0|         73|Sporting Goods|     Tonawanda|         EE. UU.|     XXXXXXXXX|      Kimberly|      19488|       Flowers|        XXXXXXXXX|        Consumer|            NY|    2122 Hazy Corner|           14150|            2|        Fitness|43.01396942|-78.87906647|Pacific Asia| Toowoomba|    Australia|            19488|        1/13/2018 11:03|   75935|                  1360|        32.77999878|             0.100000001|       179250|                  327.75|            0.059999999|                  1|327.75|      294.980011|           18.57999992|       Oceania|          Queensland|       CANCELED|         NULL|           1360|                 73|               NULL|http://images.acm...|Smart watch |       327.75|             0|           1/19/2018 11:03|Standard Class|\n",
      "|   DEBIT|                       2|                            1|      95.18000031|       288.4200134|    Late delivery|                 1|         73|Sporting Goods|        Caguas|     Puerto Rico|     XXXXXXXXX|     Constance|      19487|       Terrell|        XXXXXXXXX|     Home Office|            PR|1879 Green Pine Bank|             725|            2|        Fitness|18.24253845|-66.03705597|Pacific Asia| Guangzhou|        China|            19487|        1/13/2018 10:42|   75934|                  1360|        39.33000183|             0.119999997|       179249|                  327.75|            0.330000013|                  1|327.75|     288.4200134|           95.18000031|  Eastern Asia|           Guangdong|       COMPLETE|         NULL|           1360|                 73|               NULL|http://images.acm...|Smart watch |       327.75|             0|           1/15/2018 10:42|   First Class|\n",
      "|TRANSFER|                       2|                            1|      68.43000031|       285.1400146|    Late delivery|                 1|         73|Sporting Goods|         Miami|         EE. UU.|     XXXXXXXXX|         Erica|      19486|       Stevens|        XXXXXXXXX|       Corporate|            FL| 7595 Cotton Log Row|           33162|            2|        Fitness|25.92886925|-80.16287231|Pacific Asia| Guangzhou|        China|            19486|        1/13/2018 10:21|   75933|                  1360|        42.61000061|             0.129999995|       179248|                  327.75|            0.239999995|                  1|327.75|     285.1400146|           68.43000031|  Eastern Asia|           Guangdong|     PROCESSING|         NULL|           1360|                 73|               NULL|http://images.acm...|Smart watch |       327.75|             0|           1/15/2018 10:21|   First Class|\n",
      "|    CASH|                       3|                            2|      133.7200012|       278.5899963|    Late delivery|                 1|         73|Sporting Goods|        Caguas|     Puerto Rico|     XXXXXXXXX|       Nichole|      19485|         Olsen|        XXXXXXXXX|       Corporate|            PR|    2051 Dusty Route|             725|            2|        Fitness|18.23322296|-66.03705597|Pacific Asia| Guangzhou|        China|            19485|        1/13/2018 10:00|   75932|                  1360|        49.15999985|             0.150000006|       179247|                  327.75|            0.479999989|                  1|327.75|     278.5899963|           133.7200012|  Eastern Asia|           Guangdong|         CLOSED|         NULL|           1360|                 73|               NULL|http://images.acm...|Smart watch |       327.75|             0|           1/16/2018 10:00|  Second Class|\n",
      "|    CASH|                       2|                            1|      132.1499939|       275.3099976|    Late delivery|                 1|         73|Sporting Goods|     San Ramon|         EE. UU.|     XXXXXXXXX|         Oprah|      19484|      Delacruz|        XXXXXXXXX|       Corporate|            CA|9139 Blue Blossom...|           94583|            2|        Fitness|37.77399063| -121.966629|Pacific Asia| Guangzhou|        China|            19484|         1/13/2018 9:39|   75931|                  1360|        52.43999863|             0.159999996|       179246|                  327.75|            0.479999989|                  1|327.75|     275.3099976|           132.1499939|  Eastern Asia|           Guangdong|         CLOSED|         NULL|           1360|                 73|               NULL|http://images.acm...|Smart watch |       327.75|             0|            1/15/2018 9:39|   First Class|\n",
      "|TRANSFER|                       6|                            2|      130.5800018|       272.0299988|Shipping canceled|                 0|         73|Sporting Goods|        Caguas|     Puerto Rico|     XXXXXXXXX|       Germane|      19483|         Short|        XXXXXXXXX|       Corporate|            PR|  4058 Quiet Heights|             725|            2|        Fitness|18.28284454|-66.03705597|Pacific Asia|     Tokio|        Jap�n|            19483|         1/13/2018 9:18|   75930|                  1360|        55.72000122|             0.170000002|       179245|                  327.75|            0.479999989|                  1|327.75|     272.0299988|           130.5800018|  Eastern Asia|               Tokio|SUSPECTED_FRAUD|         NULL|           1360|                 73|               NULL|http://images.acm...|Smart watch |       327.75|             0|            1/19/2018 9:18|  Second Class|\n",
      "|TRANSFER|                       5|                            2|      45.68999863|       268.7600098|    Late delivery|                 1|         73|Sporting Goods|      Freeport|         EE. UU.|     XXXXXXXXX|         Freya|      19482|       Robbins|        XXXXXXXXX|        Consumer|            NY|   3243 Shady Corner|           11520|            2|        Fitness|40.65486527|-73.58707428|Pacific Asia|    Manado|    Indonesia|            19482|         1/13/2018 8:57|   75929|                  1360|               59.0|             0.180000007|       179244|                  327.75|            0.170000002|                  1|327.75|     268.7600098|           45.68999863|Southeast Asia|C�lebes Septentri...|        PENDING|         NULL|           1360|                 73|               NULL|http://images.acm...|Smart watch |       327.75|             0|            1/18/2018 8:57|  Second Class|\n",
      "|TRANSFER|                       4|                            2|      21.76000023|       262.2000122|    Late delivery|                 1|         73|Sporting Goods|       Salinas|         EE. UU.|     XXXXXXXXX|     Cassandra|      19481|        Jensen|        XXXXXXXXX|       Corporate|            CA|131 Sunny Treasur...|           93905|            2|        Fitness| 36.6763382| -121.656517|Pacific Asia|    Manado|    Indonesia|            19481|         1/13/2018 8:36|   75928|                  1360|        65.55000305|             0.200000003|       179243|                  327.75|            0.079999998|                  1|327.75|     262.2000122|           21.76000023|Southeast Asia|C�lebes Septentri...|        PENDING|         NULL|           1360|                 73|               NULL|http://images.acm...|Smart watch |       327.75|             0|            1/17/2018 8:36|  Second Class|\n",
      "|   DEBIT|                       2|                            1|      24.57999992|       245.8099976|    Late delivery|                 1|         73|Sporting Goods|        Caguas|     Puerto Rico|     XXXXXXXXX|       Natalie|      19480|      Mcfadden|        XXXXXXXXX|       Corporate|            PR| 2531 Wishing Square|             725|            2|        Fitness|18.27843857|-66.03705597|Pacific Asia|    Sangli|        India|            19480|         1/13/2018 8:15|   75927|                  1360|        81.94000244|                    0.25|       179242|                  327.75|            0.100000001|                  1|327.75|     245.8099976|           24.57999992|    South Asia|         Maharashtra|       COMPLETE|         NULL|           1360|                 73|               NULL|http://images.acm...|Smart watch |       327.75|             0|            1/15/2018 8:15|   First Class|\n",
      "|TRANSFER|                       2|                            1|      16.38999939|            327.75|    Late delivery|                 1|         73|Sporting Goods|       Peabody|         EE. UU.|     XXXXXXXXX|     Kimberley|      19479|        Sharpe|        XXXXXXXXX|       Corporate|            MA|  6417 Silver Towers|            1960|            2|        Fitness|42.52627564|-70.92703247|Pacific Asia|    Sangli|        India|            19479|         1/13/2018 7:54|   75926|                  1360|                0.0|                     0.0|       179241|                  327.75|            0.050000001|                  1|327.75|          327.75|           16.38999939|    South Asia|         Maharashtra|     PROCESSING|         NULL|           1360|                 73|               NULL|http://images.acm...|Smart watch |       327.75|             0|            1/15/2018 7:54|   First Class|\n",
      "|   DEBIT|                       2|                            1|     -259.5799866|       324.4700012|    Late delivery|                 1|         73|Sporting Goods|        Caguas|     Puerto Rico|     XXXXXXXXX|          Sade|      19478|     Lancaster|        XXXXXXXXX|       Corporate|            PR|   257 Harvest Close|             725|            2|        Fitness|18.28404999|-66.03705597|Pacific Asia|    Sangli|        India|            19478|         1/13/2018 7:33|   75925|                  1360|        3.279999971|                    0.01|       179240|                  327.75|           -0.800000012|                  1|327.75|     324.4700012|          -259.5799866|    South Asia|         Maharashtra|       COMPLETE|         NULL|           1360|                 73|               NULL|http://images.acm...|Smart watch |       327.75|             0|            1/15/2018 7:33|   First Class|\n",
      "| PAYMENT|                       5|                            2|     -246.3600006|       321.2000122|    Late delivery|                 1|         73|Sporting Goods|     Canovanas|     Puerto Rico|     XXXXXXXXX|        Brynne|      19477|         Giles|        XXXXXXXXX|       Corporate|            PR|7342 Hazy Beacon ...|             729|            2|        Fitness| 18.3957901|-65.87288666|Pacific Asia|      Se�l|Corea del Sur|            19477|         1/13/2018 7:12|   75924|                  1360|        6.559999943|                    0.02|       179239|                  327.75|           -0.769999981|                  1|327.75|     321.2000122|          -246.3600006|  Eastern Asia|                Se�l|PENDING_PAYMENT|         NULL|           1360|                 73|               NULL|http://images.acm...|Smart watch |       327.75|             0|            1/18/2018 7:12|  Second Class|\n",
      "|    CASH|                       2|                            1|      23.84000015|       317.9200134|    Late delivery|                 1|         73|Sporting Goods|     Paramount|         EE. UU.|     XXXXXXXXX|         Ciara|      19476|          Bird|        XXXXXXXXX|       Corporate|            CA|   7787 Lazy Corners|           90723|            2|        Fitness|33.89869309|-118.1745605|Pacific Asia|  Jabalpur|        India|            19476|         1/13/2018 6:51|   75923|                  1360|        9.829999924|             0.029999999|       179238|                  327.75|            0.079999998|                  1|327.75|     317.9200134|           23.84000015|    South Asia|      Madhya Pradesh|         CLOSED|         NULL|           1360|                 73|               NULL|http://images.acm...|Smart watch |       327.75|             0|            1/15/2018 6:51|   First Class|\n",
      "|   DEBIT|                       2|                            1|      102.2600021|       314.6400146|    Late delivery|                 1|         73|Sporting Goods|        Caguas|     Puerto Rico|     XXXXXXXXX|            Bo|      19475|       Griffin|        XXXXXXXXX|        Consumer|            PR|5136 Rustic Pione...|             725|            2|        Fitness|  18.233778| -66.0370636|Pacific Asia|  Jabalpur|        India|            19475|         1/13/2018 6:30|   75922|                  1360|        13.10999966|             0.039999999|       179237|                  327.75|            0.330000013|                  1|327.75|     314.6400146|           102.2600021|    South Asia|      Madhya Pradesh|       COMPLETE|         NULL|           1360|                 73|               NULL|http://images.acm...|Smart watch |       327.75|             0|            1/15/2018 6:30|   First Class|\n",
      "| PAYMENT|                       0|                            0|      87.18000031|       311.3599854| Shipping on time|                 0|         73|Sporting Goods|Mount Prospect|         EE. UU.|     XXXXXXXXX|           Kim|      19474|         Simon|        XXXXXXXXX|        Consumer|            IL|      1723 Tawny Via|           60056|            2|        Fitness|42.04830551|-87.96134186|Pacific Asia|  Jabalpur|        India|            19474|         1/13/2018 6:09|   75921|                  1360|        16.38999939|             0.050000001|       179236|                  327.75|            0.280000001|                  1|327.75|     311.3599854|           87.18000031|    South Asia|      Madhya Pradesh|PENDING_PAYMENT|         NULL|           1360|                 73|               NULL|http://images.acm...|Smart watch |       327.75|             0|           1/13/2018 18:09|      Same Day|\n",
      "+--------+------------------------+-----------------------------+-----------------+------------------+-----------------+------------------+-----------+--------------+--------------+----------------+--------------+--------------+-----------+--------------+-----------------+----------------+--------------+--------------------+----------------+-------------+---------------+-----------+------------+------------+----------+-------------+-----------------+-----------------------+--------+----------------------+-------------------+------------------------+-------------+------------------------+-----------------------+-------------------+------+----------------+----------------------+--------------+--------------------+---------------+-------------+---------------+-------------------+-------------------+--------------------+------------+-------------+--------------+--------------------------+--------------+\n",
      "only showing top 20 rows\n",
      "\n"
     ]
    }
   ],
   "source": [
    "# import pandas as pd\n",
    "\n",
    "file_path = 'data/DataCoSupplyChainDataset.csv'\n",
    "df = spark.read.csv(file_path, header=True, inferSchema=True)\n",
    "# description_path = '/Users/sunith/dss_project/data/DescriptionDataCoSupplyChain.csv'\n",
    "# df_description = spark.read.csv(description_path, header=True, inferSchema=True)\n",
    "# df = pd.read_csv(file_path, encoding='latin1')\n",
    "df.show()"
   ]
  },
  {
   "cell_type": "code",
   "execution_count": 7,
   "metadata": {},
   "outputs": [
    {
     "name": "stderr",
     "output_type": "stream",
     "text": [
      "[Stage 5:=======>                                                   (1 + 7) / 8]\r"
     ]
    },
    {
     "name": "stdout",
     "output_type": "stream",
     "text": [
      "+----+------------------------+-----------------------------+-----------------+------------------+---------------+------------------+-----------+-------------+-------------+----------------+--------------+--------------+-----------+--------------+-----------------+----------------+--------------+---------------+----------------+-------------+---------------+--------+---------+------+----------+-------------+-----------------+-----------------------+--------+----------------------+-------------------+------------------------+-------------+------------------------+-----------------------+-------------------+-----+----------------+----------------------+------------+-----------+------------+-------------+---------------+-------------------+-------------------+-------------+------------+-------------+--------------+--------------------------+-------------+\n",
      "|Type|Days for shipping (real)|Days for shipment (scheduled)|Benefit per order|Sales per customer|Delivery Status|Late_delivery_risk|Category Id|Category Name|Customer City|Customer Country|Customer Email|Customer Fname|Customer Id|Customer Lname|Customer Password|Customer Segment|Customer State|Customer Street|Customer Zipcode|Department Id|Department Name|Latitude|Longitude|Market|Order City|Order Country|Order Customer Id|order date (DateOrders)|Order Id|Order Item Cardprod Id|Order Item Discount|Order Item Discount Rate|Order Item Id|Order Item Product Price|Order Item Profit Ratio|Order Item Quantity|Sales|Order Item Total|Order Profit Per Order|Order Region|Order State|Order Status|Order Zipcode|Product Card Id|Product Category Id|Product Description|Product Image|Product Name|Product Price|Product Status|shipping date (DateOrders)|Shipping Mode|\n",
      "+----+------------------------+-----------------------------+-----------------+------------------+---------------+------------------+-----------+-------------+-------------+----------------+--------------+--------------+-----------+--------------+-----------------+----------------+--------------+---------------+----------------+-------------+---------------+--------+---------+------+----------+-------------+-----------------+-----------------------+--------+----------------------+-------------------+------------------------+-------------+------------------------+-----------------------+-------------------+-----+----------------+----------------------+------------+-----------+------------+-------------+---------------+-------------------+-------------------+-------------+------------+-------------+--------------+--------------------------+-------------+\n",
      "|   0|                       0|                            0|                0|                 0|              0|                 0|          0|            0|            0|               0|             0|             0|          0|             8|                0|               0|             0|              0|               3|            0|              0|       0|        0|     0|         0|            0|                0|                      0|       0|                     0|                  0|                       0|            0|                       0|                      0|                  0|    0|               0|                     0|           0|          0|           0|       155679|              0|                  0|             180519|            0|           0|            0|             0|                         0|            0|\n",
      "+----+------------------------+-----------------------------+-----------------+------------------+---------------+------------------+-----------+-------------+-------------+----------------+--------------+--------------+-----------+--------------+-----------------+----------------+--------------+---------------+----------------+-------------+---------------+--------+---------+------+----------+-------------+-----------------+-----------------------+--------+----------------------+-------------------+------------------------+-------------+------------------------+-----------------------+-------------------+-----+----------------+----------------------+------------+-----------+------------+-------------+---------------+-------------------+-------------------+-------------+------------+-------------+--------------+--------------------------+-------------+\n",
      "\n"
     ]
    },
    {
     "name": "stderr",
     "output_type": "stream",
     "text": [
      "                                                                                \r"
     ]
    }
   ],
   "source": [
    "from pyspark.sql.functions import col, sum as _sum\n",
    "df.select([_sum(col(c).isNull().cast(\"int\")).alias(c) for c in df.columns]).show()"
   ]
  },
  {
   "cell_type": "code",
   "execution_count": 8,
   "metadata": {},
   "outputs": [],
   "source": [
    "# Some house cleaning where the the column names are standardized\n",
    "import pyspark.sql.functions as F\n",
    "for col in df.columns:\n",
    "    new_col = col.replace(' ', '_').lower()\n",
    "    df = df.withColumnRenamed(col, new_col)\n",
    "\n",
    "df = df.withColumn(\"order_date\", F.to_date(F.date_format(F.unix_timestamp(\"order_date_(dateorders)\", \"M/d/yyyy H:mm\").cast(\"timestamp\"), \"yyyy-MM-dd\")))\n",
    "df = df.withColumn(\"shipping_date\", F.to_date(F.date_format(F.unix_timestamp(\"shipping_date_(dateorders)\", \"M/d/yyyy H:mm\").cast(\"timestamp\"), \"yyyy-MM-dd\")))\n"
   ]
  },
  {
   "cell_type": "code",
   "execution_count": 9,
   "metadata": {},
   "outputs": [
    {
     "name": "stdout",
     "output_type": "stream",
     "text": [
      "+--------+------------------------+-----------------------------+-----------------+------------------+-----------------+------------------+-----------+--------------+--------------+----------------+-----------+----------------+--------------+----------------+-------------+---------------+------------+----------+-------------+-----------------+--------+----------------------+-------------------+------------------------+-------------+------------------------+-----------------------+-------------------+------+----------------+----------------------+--------------+--------------------+---------------+-------------+---------------+-------------------+------------+-------------+--------------+--------------+----------+-------------+\n",
      "|    type|days_for_shipping_(real)|days_for_shipment_(scheduled)|benefit_per_order|sales_per_customer|  delivery_status|late_delivery_risk|category_id| category_name| customer_city|customer_country|customer_id|customer_segment|customer_state|customer_zipcode|department_id|department_name|      market|order_city|order_country|order_customer_id|order_id|order_item_cardprod_id|order_item_discount|order_item_discount_rate|order_item_id|order_item_product_price|order_item_profit_ratio|order_item_quantity| sales|order_item_total|order_profit_per_order|  order_region|         order_state|   order_status|order_zipcode|product_card_id|product_category_id|product_name|product_price|product_status| shipping_mode|order_date|shipping_date|\n",
      "+--------+------------------------+-----------------------------+-----------------+------------------+-----------------+------------------+-----------+--------------+--------------+----------------+-----------+----------------+--------------+----------------+-------------+---------------+------------+----------+-------------+-----------------+--------+----------------------+-------------------+------------------------+-------------+------------------------+-----------------------+-------------------+------+----------------+----------------------+--------------+--------------------+---------------+-------------+---------------+-------------------+------------+-------------+--------------+--------------+----------+-------------+\n",
      "|   DEBIT|                       3|                            4|            91.25|       314.6400146| Advance shipping|                 0|         73|Sporting Goods|        Caguas|     Puerto Rico|      20755|        Consumer|            PR|             725|            2|        Fitness|Pacific Asia|    Bekasi|    Indonesia|            20755|   77202|                  1360|        13.10999966|             0.039999999|       180517|                  327.75|            0.289999992|                  1|327.75|     314.6400146|                 91.25|Southeast Asia|     Java Occidental|       COMPLETE|         NULL|           1360|                 73|Smart watch |       327.75|             0|Standard Class|2018-01-31|   2018-02-03|\n",
      "|TRANSFER|                       5|                            4|     -249.0899963|       311.3599854|    Late delivery|                 1|         73|Sporting Goods|        Caguas|     Puerto Rico|      19492|        Consumer|            PR|             725|            2|        Fitness|Pacific Asia|   Bikaner|        India|            19492|   75939|                  1360|        16.38999939|             0.050000001|       179254|                  327.75|           -0.800000012|                  1|327.75|     311.3599854|          -249.0899963|    South Asia|            Rajast�n|        PENDING|         NULL|           1360|                 73|Smart watch |       327.75|             0|Standard Class|2018-01-13|   2018-01-18|\n",
      "|    CASH|                       4|                            4|     -247.7799988|       309.7200012| Shipping on time|                 0|         73|Sporting Goods|      San Jose|         EE. UU.|      19491|        Consumer|            CA|           95125|            2|        Fitness|Pacific Asia|   Bikaner|        India|            19491|   75938|                  1360|        18.03000069|             0.059999999|       179253|                  327.75|           -0.800000012|                  1|327.75|     309.7200012|          -247.7799988|    South Asia|            Rajast�n|         CLOSED|         NULL|           1360|                 73|Smart watch |       327.75|             0|Standard Class|2018-01-13|   2018-01-17|\n",
      "|   DEBIT|                       3|                            4|      22.86000061|       304.8099976| Advance shipping|                 0|         73|Sporting Goods|   Los Angeles|         EE. UU.|      19490|     Home Office|            CA|           90027|            2|        Fitness|Pacific Asia|Townsville|    Australia|            19490|   75937|                  1360|        22.94000053|                    0.07|       179252|                  327.75|            0.079999998|                  1|327.75|     304.8099976|           22.86000061|       Oceania|          Queensland|       COMPLETE|         NULL|           1360|                 73|Smart watch |       327.75|             0|Standard Class|2018-01-13|   2018-01-16|\n",
      "| PAYMENT|                       2|                            4|      134.2100067|            298.25| Advance shipping|                 0|         73|Sporting Goods|        Caguas|     Puerto Rico|      19489|       Corporate|            PR|             725|            2|        Fitness|Pacific Asia|Townsville|    Australia|            19489|   75936|                  1360|               29.5|             0.090000004|       179251|                  327.75|            0.449999988|                  1|327.75|          298.25|           134.2100067|       Oceania|          Queensland|PENDING_PAYMENT|         NULL|           1360|                 73|Smart watch |       327.75|             0|Standard Class|2018-01-13|   2018-01-15|\n",
      "|TRANSFER|                       6|                            4|      18.57999992|        294.980011|Shipping canceled|                 0|         73|Sporting Goods|     Tonawanda|         EE. UU.|      19488|        Consumer|            NY|           14150|            2|        Fitness|Pacific Asia| Toowoomba|    Australia|            19488|   75935|                  1360|        32.77999878|             0.100000001|       179250|                  327.75|            0.059999999|                  1|327.75|      294.980011|           18.57999992|       Oceania|          Queensland|       CANCELED|         NULL|           1360|                 73|Smart watch |       327.75|             0|Standard Class|2018-01-13|   2018-01-19|\n",
      "|   DEBIT|                       2|                            1|      95.18000031|       288.4200134|    Late delivery|                 1|         73|Sporting Goods|        Caguas|     Puerto Rico|      19487|     Home Office|            PR|             725|            2|        Fitness|Pacific Asia| Guangzhou|        China|            19487|   75934|                  1360|        39.33000183|             0.119999997|       179249|                  327.75|            0.330000013|                  1|327.75|     288.4200134|           95.18000031|  Eastern Asia|           Guangdong|       COMPLETE|         NULL|           1360|                 73|Smart watch |       327.75|             0|   First Class|2018-01-13|   2018-01-15|\n",
      "|TRANSFER|                       2|                            1|      68.43000031|       285.1400146|    Late delivery|                 1|         73|Sporting Goods|         Miami|         EE. UU.|      19486|       Corporate|            FL|           33162|            2|        Fitness|Pacific Asia| Guangzhou|        China|            19486|   75933|                  1360|        42.61000061|             0.129999995|       179248|                  327.75|            0.239999995|                  1|327.75|     285.1400146|           68.43000031|  Eastern Asia|           Guangdong|     PROCESSING|         NULL|           1360|                 73|Smart watch |       327.75|             0|   First Class|2018-01-13|   2018-01-15|\n",
      "|    CASH|                       3|                            2|      133.7200012|       278.5899963|    Late delivery|                 1|         73|Sporting Goods|        Caguas|     Puerto Rico|      19485|       Corporate|            PR|             725|            2|        Fitness|Pacific Asia| Guangzhou|        China|            19485|   75932|                  1360|        49.15999985|             0.150000006|       179247|                  327.75|            0.479999989|                  1|327.75|     278.5899963|           133.7200012|  Eastern Asia|           Guangdong|         CLOSED|         NULL|           1360|                 73|Smart watch |       327.75|             0|  Second Class|2018-01-13|   2018-01-16|\n",
      "|    CASH|                       2|                            1|      132.1499939|       275.3099976|    Late delivery|                 1|         73|Sporting Goods|     San Ramon|         EE. UU.|      19484|       Corporate|            CA|           94583|            2|        Fitness|Pacific Asia| Guangzhou|        China|            19484|   75931|                  1360|        52.43999863|             0.159999996|       179246|                  327.75|            0.479999989|                  1|327.75|     275.3099976|           132.1499939|  Eastern Asia|           Guangdong|         CLOSED|         NULL|           1360|                 73|Smart watch |       327.75|             0|   First Class|2018-01-13|   2018-01-15|\n",
      "|TRANSFER|                       6|                            2|      130.5800018|       272.0299988|Shipping canceled|                 0|         73|Sporting Goods|        Caguas|     Puerto Rico|      19483|       Corporate|            PR|             725|            2|        Fitness|Pacific Asia|     Tokio|        Jap�n|            19483|   75930|                  1360|        55.72000122|             0.170000002|       179245|                  327.75|            0.479999989|                  1|327.75|     272.0299988|           130.5800018|  Eastern Asia|               Tokio|SUSPECTED_FRAUD|         NULL|           1360|                 73|Smart watch |       327.75|             0|  Second Class|2018-01-13|   2018-01-19|\n",
      "|TRANSFER|                       5|                            2|      45.68999863|       268.7600098|    Late delivery|                 1|         73|Sporting Goods|      Freeport|         EE. UU.|      19482|        Consumer|            NY|           11520|            2|        Fitness|Pacific Asia|    Manado|    Indonesia|            19482|   75929|                  1360|               59.0|             0.180000007|       179244|                  327.75|            0.170000002|                  1|327.75|     268.7600098|           45.68999863|Southeast Asia|C�lebes Septentri...|        PENDING|         NULL|           1360|                 73|Smart watch |       327.75|             0|  Second Class|2018-01-13|   2018-01-18|\n",
      "|TRANSFER|                       4|                            2|      21.76000023|       262.2000122|    Late delivery|                 1|         73|Sporting Goods|       Salinas|         EE. UU.|      19481|       Corporate|            CA|           93905|            2|        Fitness|Pacific Asia|    Manado|    Indonesia|            19481|   75928|                  1360|        65.55000305|             0.200000003|       179243|                  327.75|            0.079999998|                  1|327.75|     262.2000122|           21.76000023|Southeast Asia|C�lebes Septentri...|        PENDING|         NULL|           1360|                 73|Smart watch |       327.75|             0|  Second Class|2018-01-13|   2018-01-17|\n",
      "|   DEBIT|                       2|                            1|      24.57999992|       245.8099976|    Late delivery|                 1|         73|Sporting Goods|        Caguas|     Puerto Rico|      19480|       Corporate|            PR|             725|            2|        Fitness|Pacific Asia|    Sangli|        India|            19480|   75927|                  1360|        81.94000244|                    0.25|       179242|                  327.75|            0.100000001|                  1|327.75|     245.8099976|           24.57999992|    South Asia|         Maharashtra|       COMPLETE|         NULL|           1360|                 73|Smart watch |       327.75|             0|   First Class|2018-01-13|   2018-01-15|\n",
      "|TRANSFER|                       2|                            1|      16.38999939|            327.75|    Late delivery|                 1|         73|Sporting Goods|       Peabody|         EE. UU.|      19479|       Corporate|            MA|            1960|            2|        Fitness|Pacific Asia|    Sangli|        India|            19479|   75926|                  1360|                0.0|                     0.0|       179241|                  327.75|            0.050000001|                  1|327.75|          327.75|           16.38999939|    South Asia|         Maharashtra|     PROCESSING|         NULL|           1360|                 73|Smart watch |       327.75|             0|   First Class|2018-01-13|   2018-01-15|\n",
      "|   DEBIT|                       2|                            1|     -259.5799866|       324.4700012|    Late delivery|                 1|         73|Sporting Goods|        Caguas|     Puerto Rico|      19478|       Corporate|            PR|             725|            2|        Fitness|Pacific Asia|    Sangli|        India|            19478|   75925|                  1360|        3.279999971|                    0.01|       179240|                  327.75|           -0.800000012|                  1|327.75|     324.4700012|          -259.5799866|    South Asia|         Maharashtra|       COMPLETE|         NULL|           1360|                 73|Smart watch |       327.75|             0|   First Class|2018-01-13|   2018-01-15|\n",
      "| PAYMENT|                       5|                            2|     -246.3600006|       321.2000122|    Late delivery|                 1|         73|Sporting Goods|     Canovanas|     Puerto Rico|      19477|       Corporate|            PR|             729|            2|        Fitness|Pacific Asia|      Se�l|Corea del Sur|            19477|   75924|                  1360|        6.559999943|                    0.02|       179239|                  327.75|           -0.769999981|                  1|327.75|     321.2000122|          -246.3600006|  Eastern Asia|                Se�l|PENDING_PAYMENT|         NULL|           1360|                 73|Smart watch |       327.75|             0|  Second Class|2018-01-13|   2018-01-18|\n",
      "|    CASH|                       2|                            1|      23.84000015|       317.9200134|    Late delivery|                 1|         73|Sporting Goods|     Paramount|         EE. UU.|      19476|       Corporate|            CA|           90723|            2|        Fitness|Pacific Asia|  Jabalpur|        India|            19476|   75923|                  1360|        9.829999924|             0.029999999|       179238|                  327.75|            0.079999998|                  1|327.75|     317.9200134|           23.84000015|    South Asia|      Madhya Pradesh|         CLOSED|         NULL|           1360|                 73|Smart watch |       327.75|             0|   First Class|2018-01-13|   2018-01-15|\n",
      "|   DEBIT|                       2|                            1|      102.2600021|       314.6400146|    Late delivery|                 1|         73|Sporting Goods|        Caguas|     Puerto Rico|      19475|        Consumer|            PR|             725|            2|        Fitness|Pacific Asia|  Jabalpur|        India|            19475|   75922|                  1360|        13.10999966|             0.039999999|       179237|                  327.75|            0.330000013|                  1|327.75|     314.6400146|           102.2600021|    South Asia|      Madhya Pradesh|       COMPLETE|         NULL|           1360|                 73|Smart watch |       327.75|             0|   First Class|2018-01-13|   2018-01-15|\n",
      "| PAYMENT|                       0|                            0|      87.18000031|       311.3599854| Shipping on time|                 0|         73|Sporting Goods|Mount Prospect|         EE. UU.|      19474|        Consumer|            IL|           60056|            2|        Fitness|Pacific Asia|  Jabalpur|        India|            19474|   75921|                  1360|        16.38999939|             0.050000001|       179236|                  327.75|            0.280000001|                  1|327.75|     311.3599854|           87.18000031|    South Asia|      Madhya Pradesh|PENDING_PAYMENT|         NULL|           1360|                 73|Smart watch |       327.75|             0|      Same Day|2018-01-13|   2018-01-13|\n",
      "+--------+------------------------+-----------------------------+-----------------+------------------+-----------------+------------------+-----------+--------------+--------------+----------------+-----------+----------------+--------------+----------------+-------------+---------------+------------+----------+-------------+-----------------+--------+----------------------+-------------------+------------------------+-------------+------------------------+-----------------------+-------------------+------+----------------+----------------------+--------------+--------------------+---------------+-------------+---------------+-------------------+------------+-------------+--------------+--------------+----------+-------------+\n",
      "only showing top 20 rows\n",
      "\n"
     ]
    }
   ],
   "source": [
    "\n",
    "df = df.drop('product_image', 'customer_password', 'customer_email', \n",
    "             'customer_fname', 'customer_lname', 'customer_street', \n",
    "             'latitude', 'longitude', 'product_description',\n",
    "             \"order_date_(dateorders)\", \"shipping_date_(dateorders)\")    \n",
    "df.createOrReplaceTempView(\"my_table\")\n",
    "df.show()"
   ]
  },
  {
   "cell_type": "code",
   "execution_count": 21,
   "metadata": {},
   "outputs": [
    {
     "name": "stdout",
     "output_type": "stream",
     "text": [
      "+--------------------+-----+\n",
      "|       order_country|count|\n",
      "+--------------------+-----+\n",
      "|      Estados Unidos|24840|\n",
      "|             Francia|13222|\n",
      "|              M�xico|13172|\n",
      "|            Alemania| 9564|\n",
      "|           Australia| 8497|\n",
      "|              Brasil| 7987|\n",
      "|         Reino Unido| 7302|\n",
      "|               China| 5758|\n",
      "|              Italia| 4989|\n",
      "|               India| 4783|\n",
      "|           Indonesia| 4204|\n",
      "|              Espa�a| 3868|\n",
      "|         El Salvador| 3726|\n",
      "|Rep�blica Dominicana| 3669|\n",
      "|            Honduras| 3629|\n",
      "|                Cuba| 3534|\n",
      "|             Turqu�a| 3395|\n",
      "|           Nicaragua| 3046|\n",
      "|           Guatemala| 2778|\n",
      "|             Nigeria| 2309|\n",
      "+--------------------+-----+\n",
      "only showing top 20 rows\n",
      "\n",
      "+----------------+------+\n",
      "|customer_country| count|\n",
      "+----------------+------+\n",
      "|         EE. UU.|111146|\n",
      "|     Puerto Rico| 69373|\n",
      "+----------------+------+\n",
      "\n"
     ]
    }
   ],
   "source": [
    "# spark.sql(\"\"\"Select product_card_id, sum(order_item_quantity) as quantity\n",
    "#           from my_table\n",
    "#           group by product_card_id\n",
    "#           order by quantity desc\n",
    "#           \"\"\").show()\n",
    "# Item with most quantity ordered id = 365\n",
    "# spark.sql(\"\"\"select\n",
    "#           order_country,\n",
    "#           sum(order_item_quantity) as quantity\n",
    "#           from my_table\n",
    "#           where product_card_id = 365\n",
    "#           group by order_country\n",
    "#           order by quantity desc\n",
    "#           \"\"\").show()\n",
    "spark.sql(\"\"\"Select order_country,\n",
    "          count(order_country) as count\n",
    "          from my_table\n",
    "          group by order_country\n",
    "          order by count desc\"\"\").show()\n",
    "\n",
    "spark.sql(\"\"\"Select customer_country,\n",
    "          count(customer_country) as count\n",
    "          from my_table\n",
    "          group by customer_country\n",
    "          order by count desc\"\"\").show()"
   ]
  },
  {
   "cell_type": "code",
   "execution_count": 40,
   "metadata": {},
   "outputs": [
    {
     "name": "stdout",
     "output_type": "stream",
     "text": [
      "+--------------------+---------------+-----+--------+-----------+------------------+------------------+\n",
      "|        product_name|product_card_id|count|quantity|      price|        calc_sales|       total_sales|\n",
      "+--------------------+---------------+-----+--------+-----------+------------------+------------------+\n",
      "| SOLE E35 Elliptical|            208|   15|      15| 1999.98999|       29999.84985|29999.849850000002|\n",
      "|         Dell Laptop|           1351|  442|     442|     1500.0|          663000.0|          663000.0|\n",
      "| SOLE E25 Elliptical|             60|   10|      10|999.9899902|       9999.899902| 9999.899902000001|\n",
      "|Bushnell Pro X7 J...|            860|   11|      11|599.9899902|      6599.8898922|      6599.8898922|\n",
      "|Bowflex SelectTec...|            226|   10|      10|599.9899902| 5999.899901999999| 5999.899901999999|\n",
      "|          Lawn mower|           1355|  484|     484|532.5800171|257768.72827639998| 257768.7282764002|\n",
      "|    Porcelain crafts|           1353|  484|     484| 461.480011|     223356.325324| 223356.3253239999|\n",
      "|          Web Camera|           1349|  592|     592|452.0400085|     267607.685032|     267607.685032|\n",
      "|GoPro HERO3+ Blac...|            203|   32|      32|399.9899902|     12799.6796864|     12799.6796864|\n",
      "|Garmin Forerunner...|            303|   35|      35|399.9899902|      13999.649657|      13999.649657|\n",
      "+--------------------+---------------+-----+--------+-----------+------------------+------------------+\n",
      "only showing top 10 rows\n",
      "\n"
     ]
    }
   ],
   "source": [
    "products = spark.sql(\"\"\"\n",
    "                    SELECT product_name,\n",
    "                        product_card_id,\n",
    "                        Count(product_card_id)   AS count,\n",
    "                        Sum(order_item_quantity) AS quantity,\n",
    "                        Max(product_price)       AS price,\n",
    "                        quantity * price         AS calc_sales,\n",
    "                        Sum(sales)               AS total_sales\n",
    "                    FROM   my_table\n",
    "                    GROUP  BY product_name,\n",
    "                            product_card_id\n",
    "                    ORDER  BY price DESC \n",
    "                \"\"\")\n",
    "\n",
    "products.show(10)\n",
    "# products.write.mode(\"overwrite\").option(\"header\", \"true\").csv(\"product_analysis.csv\")\n",
    "products.toPandas().to_csv('product_analysis.csv', encoding='utf-8', index=False)"
   ]
  },
  {
   "cell_type": "code",
   "execution_count": 36,
   "metadata": {},
   "outputs": [
    {
     "name": "stderr",
     "output_type": "stream",
     "text": [
      "                                                                                \r"
     ]
    },
    {
     "name": "stdout",
     "output_type": "stream",
     "text": [
      "+--------+--------------------+\n",
      "|order_id|         product_ids|\n",
      "+--------+--------------------+\n",
      "|       1|               [957]|\n",
      "|       2|    [1073, 403, 502]|\n",
      "|       4|[897, 502, 365, 1...|\n",
      "|       5|[403, 957, 957, 3...|\n",
      "|       7|    [957, 1073, 926]|\n",
      "|       8|[1014, 502, 365, ...|\n",
      "|       9|   [1073, 1073, 191]|\n",
      "|      10|[403, 917, 1073, ...|\n",
      "|      11|[365, 191, 627, 1...|\n",
      "|      12|[134, 1014, 957, ...|\n",
      "+--------+--------------------+\n",
      "only showing top 10 rows\n",
      "\n"
     ]
    },
    {
     "name": "stderr",
     "output_type": "stream",
     "text": [
      "                                                                                \r"
     ]
    }
   ],
   "source": [
    "orders = spark.sql(\"\"\"\n",
    "            SELECT \n",
    "                order_id,\n",
    "                collect_list(product_card_id) AS product_ids\n",
    "            FROM \n",
    "                my_table\n",
    "            GROUP BY \n",
    "                order_id;\n",
    "          \"\"\")\n",
    "orders.show(10)\n",
    "orders.toPandas().to_csv('order_details.csv', encoding='utf-8', index=False)"
   ]
  },
  {
   "cell_type": "code",
   "execution_count": 26,
   "metadata": {},
   "outputs": [
    {
     "data": {
      "text/plain": [
       "[('type', 'string'),\n",
       " ('days_for_shipping_(real)', 'int'),\n",
       " ('days_for_shipment_(scheduled)', 'int'),\n",
       " ('benefit_per_order', 'double'),\n",
       " ('sales_per_customer', 'double'),\n",
       " ('delivery_status', 'string'),\n",
       " ('late_delivery_risk', 'int'),\n",
       " ('category_id', 'int'),\n",
       " ('category_name', 'string'),\n",
       " ('customer_city', 'string'),\n",
       " ('customer_country', 'string'),\n",
       " ('customer_id', 'int'),\n",
       " ('customer_segment', 'string'),\n",
       " ('customer_state', 'string'),\n",
       " ('customer_zipcode', 'int'),\n",
       " ('department_id', 'int'),\n",
       " ('department_name', 'string'),\n",
       " ('market', 'string'),\n",
       " ('order_city', 'string'),\n",
       " ('order_country', 'string'),\n",
       " ('order_customer_id', 'int'),\n",
       " ('order_id', 'int'),\n",
       " ('order_item_cardprod_id', 'int'),\n",
       " ('order_item_discount', 'double'),\n",
       " ('order_item_discount_rate', 'double'),\n",
       " ('order_item_id', 'int'),\n",
       " ('order_item_product_price', 'double'),\n",
       " ('order_item_profit_ratio', 'double'),\n",
       " ('order_item_quantity', 'int'),\n",
       " ('sales', 'double'),\n",
       " ('order_item_total', 'double'),\n",
       " ('order_profit_per_order', 'double'),\n",
       " ('order_region', 'string'),\n",
       " ('order_state', 'string'),\n",
       " ('order_status', 'string'),\n",
       " ('order_zipcode', 'int'),\n",
       " ('product_card_id', 'int'),\n",
       " ('product_category_id', 'int'),\n",
       " ('product_name', 'string'),\n",
       " ('product_price', 'double'),\n",
       " ('product_status', 'int'),\n",
       " ('shipping_mode', 'string'),\n",
       " ('order_date', 'date'),\n",
       " ('shipping_date', 'date')]"
      ]
     },
     "execution_count": 26,
     "metadata": {},
     "output_type": "execute_result"
    }
   ],
   "source": [
    "df.dtypes"
   ]
  },
  {
   "cell_type": "code",
   "execution_count": 6,
   "metadata": {},
   "outputs": [
    {
     "name": "stderr",
     "output_type": "stream",
     "text": [
      "[Stage 6:>                                                          (0 + 1) / 1]\r"
     ]
    },
    {
     "name": "stdout",
     "output_type": "stream",
     "text": [
      "+-------+--------+------------------------+-----------------------------+------------------+------------------+----------------+------------------+------------------+------------------+-------------+----------------+----------------+----------------+------------------+-----------------+------------------+---------------+------+--------------+-------------+-----------------+------------------+----------------------+-------------------+------------------------+-----------------+------------------------+-----------------------+-------------------+------------------+------------------+----------------------+--------------+--------------+---------------+------------------+------------------+-------------------+--------------------+------------------+--------------+\n",
      "|summary|    type|days_for_shipping_(real)|days_for_shipment_(scheduled)| benefit_per_order|sales_per_customer| delivery_status|late_delivery_risk|       category_id|     category_name|customer_city|customer_country|     customer_id|customer_segment|    customer_state| customer_zipcode|     department_id|department_name|market|    order_city|order_country|order_customer_id|          order_id|order_item_cardprod_id|order_item_discount|order_item_discount_rate|    order_item_id|order_item_product_price|order_item_profit_ratio|order_item_quantity|             sales|  order_item_total|order_profit_per_order|  order_region|   order_state|   order_status|     order_zipcode|   product_card_id|product_category_id|        product_name|     product_price| shipping_mode|\n",
      "+-------+--------+------------------------+-----------------------------+------------------+------------------+----------------+------------------+------------------+------------------+-------------+----------------+----------------+----------------+------------------+-----------------+------------------+---------------+------+--------------+-------------+-----------------+------------------+----------------------+-------------------+------------------------+-----------------+------------------------+-----------------------+-------------------+------------------+------------------+----------------------+--------------+--------------+---------------+------------------+------------------+-------------------+--------------------+------------------+--------------+\n",
      "|  count|  180519|                  180519|                       180519|            180519|            180519|          180519|            180519|            180519|            180519|       180519|          180519|          180519|          180519|            180519|           180516|            180519|         180519|180519|        180519|       180519|           180519|            180519|                180519|             180519|                  180519|           180519|                  180519|                 180519|             180519|            180519|            180519|                180519|        180519|        180519|         180519|             24840|            180519|             180519|              180519|            180519|        180519|\n",
      "|   mean|    NULL|      3.4976539865609713|            2.931846509231715|21.974988638594024| 183.1076085077685|            NULL|0.5482913155955883| 31.85145053983237|              NULL|         NULL|            NULL|6691.37949467923|            NULL|           94416.0|35921.12691395776| 5.443460245181948|           NULL|  NULL|          NULL|         NULL| 6691.37949467923|  36221.8949030296|     692.5097635151978|  20.66474112194617|     0.10166819055202161|          90260.0|       141.2325499286874|    0.12064663549026244|  2.127637533999191|203.77209608615996| 183.1076085077685|    21.974988638594024|          NULL|          NULL|           NULL| 55426.13232689211| 692.5097635151978|  31.85145053983237|                NULL| 141.2325499286874|          NULL|\n",
      "| stddev|    NULL|      1.6237218283741646|             1.37444928000798| 104.4335257469865|120.04367002812562|            NULL| 0.497663863288093|15.640063883389166|              NULL|         NULL|            NULL|4162.91810572827|            NULL|2324.4121837574335| 37542.4611222925|1.6292460350717806|           NULL|  NULL|          NULL|         NULL| 4162.91810572827|21045.379568859447|    336.44680733021903| 21.800900954295905|      0.0704152153254764|52111.49095928844|      139.73249200374264|    0.46679560460749364| 1.4534514814226418| 132.2730774997034|120.04367002812562|     104.4335257469865|          NULL|          NULL|           NULL|31919.279100725304|336.44680733021903| 15.640063883389166|                NULL|139.73249200374264|          NULL|\n",
      "|    min|    CASH|                       0|                            0|       -4274.97998|       7.489999771|Advance shipping|                 0|                 2|       Accessories|    Aguadilla|         EE. UU.|               1|        Consumer|             91732|              603|                 2|        Apparel|Africa|        Aachen|   Afganist�n|                1|                 1|                    19|                0.0|                     0.0|                1|             9.989999771|                  -2.75|                  1|       9.989999771|       7.489999771|           -4274.97998|        Canada|          Abia|       CANCELED|              1040|                19|                  2|  Adult dog supplies|       9.989999771|   First Class|\n",
      "|    max|TRANSFER|                       6|                            4|       911.7999878|        1939.98999|Shipping on time|                 1|                76|Women's Golf Clubs|   Zanesville|     Puerto Rico|           20757|     Home Office|                WV|            99205|                12|     Technology|  USCA|�st� nad Labem|     Zimbabue|            20757|             77204|                  1363|              500.0|                    0.25|           180519|              1999.98999|                    0.5|                  5|        1999.98999|        1939.98999|           911.7999878|Western Europe|�st� nad Labem|SUSPECTED_FRAUD|             99301|              1363|                 76|insta-bed Neverfl...|        1999.98999|Standard Class|\n",
      "+-------+--------+------------------------+-----------------------------+------------------+------------------+----------------+------------------+------------------+------------------+-------------+----------------+----------------+----------------+------------------+-----------------+------------------+---------------+------+--------------+-------------+-----------------+------------------+----------------------+-------------------+------------------------+-----------------+------------------------+-----------------------+-------------------+------------------+------------------+----------------------+--------------+--------------+---------------+------------------+------------------+-------------------+--------------------+------------------+--------------+\n",
      "\n"
     ]
    },
    {
     "name": "stderr",
     "output_type": "stream",
     "text": [
      "                                                                                \r"
     ]
    }
   ],
   "source": [
    "df.describe().show()"
   ]
  },
  {
   "cell_type": "markdown",
   "metadata": {},
   "source": [
    "## Data Exploration"
   ]
  },
  {
   "cell_type": "markdown",
   "metadata": {},
   "source": [
    "Wanted to see if a customer appears multiple times in the dataset"
   ]
  },
  {
   "cell_type": "code",
   "execution_count": 8,
   "metadata": {},
   "outputs": [
    {
     "name": "stderr",
     "output_type": "stream",
     "text": [
      "[Stage 10:>                                                         (0 + 8) / 8]\r"
     ]
    },
    {
     "name": "stdout",
     "output_type": "stream",
     "text": [
      "+-----------+\n",
      "|customer_id|\n",
      "+-----------+\n",
      "|       3997|\n",
      "|       6466|\n",
      "|        471|\n",
      "|       6397|\n",
      "|       5518|\n",
      "+-----------+\n",
      "\n"
     ]
    },
    {
     "name": "stderr",
     "output_type": "stream",
     "text": [
      "                                                                                \r"
     ]
    }
   ],
   "source": [
    "spark.sql(\"Select customer_id From my_table GROUP BY customer_id having count(customer_id) > 1 limit 5\").show()"
   ]
  },
  {
   "cell_type": "code",
   "execution_count": 9,
   "metadata": {},
   "outputs": [
    {
     "name": "stdout",
     "output_type": "stream",
     "text": [
      "+--------+------------------------+-----------------------------+-----------------+------------------+----------------+------------------+-----------+--------------------+-------------+----------------+-----------+----------------+--------------+----------------+-------------+---------------+------+-------------+--------------------+-----------------+--------+----------------------+-------------------+------------------------+-------------+------------------------+-----------------------+-------------------+-----------+----------------+----------------------+---------------+--------------------+------------+-------------+---------------+-------------------+--------------------+-------------+--------------+----------+-------------+\n",
      "|    type|days_for_shipping_(real)|days_for_shipment_(scheduled)|benefit_per_order|sales_per_customer| delivery_status|late_delivery_risk|category_id|       category_name|customer_city|customer_country|customer_id|customer_segment|customer_state|customer_zipcode|department_id|department_name|market|   order_city|       order_country|order_customer_id|order_id|order_item_cardprod_id|order_item_discount|order_item_discount_rate|order_item_id|order_item_product_price|order_item_profit_ratio|order_item_quantity|      sales|order_item_total|order_profit_per_order|   order_region|         order_state|order_status|order_zipcode|product_card_id|product_category_id|        product_name|product_price| shipping_mode|order_date|shipping_date|\n",
      "+--------+------------------------+-----------------------------+-----------------+------------------+----------------+------------------+-----------+--------------------+-------------+----------------+-----------+----------------+--------------+----------------+-------------+---------------+------+-------------+--------------------+-----------------+--------+----------------------+-------------------+------------------------+-------------+------------------------+-----------------------+-------------------+-----------+----------------+----------------------+---------------+--------------------+------------+-------------+---------------+-------------------+--------------------+-------------+--------------+----------+-------------+\n",
      "|TRANSFER|                       3|                            4|      41.27999878|              96.0|Advance shipping|                 0|         24|     Women's Apparel|     Brooklyn|         EE. UU.|       3997|       Corporate|            NY|           11218|            5|           Golf| LATAM|Santo Domingo|Rep�blica Dominicana|             3997|   59742|                   502|                4.0|             0.039999999|       149496|                    50.0|            0.430000007|                  2|      100.0|            96.0|           41.27999878|      Caribbean|       Santo Domingo|  PROCESSING|         NULL|            502|                 24|Nike Men's Dri-FI...|         50.0|Standard Class|2017-05-22|   2017-05-25|\n",
      "|   DEBIT|                       5|                            4|     -4.670000076|       122.8399963|   Late delivery|                 1|         18|      Men's Footwear|     Brooklyn|         EE. UU.|       3997|       Corporate|            NY|           11218|            4|        Apparel|  USCA|  Chattanooga|      Estados Unidos|             3997|   40034|                   403|        7.150000095|             0.059999999|        99891|             129.9900055|           -0.039999999|                  1|129.9900055|     122.8399963|          -4.670000076| South of  USA |           Tennessee|    COMPLETE|        37421|            403|                 18|Nike Men's CJ Eli...|  129.9900055|Standard Class|2016-08-07|   2016-08-12|\n",
      "|   DEBIT|                       5|                            4|      18.32999992|        290.980011|   Late delivery|                 1|         43|    Camping & Hiking|     Brooklyn|         EE. UU.|       3997|       Corporate|            NY|           11218|            7|       Fan Shop|  USCA|  Chattanooga|      Estados Unidos|             3997|   40034|                   957|                9.0|             0.029999999|        99893|              299.980011|            0.059999999|                  1| 299.980011|      290.980011|           18.32999992| South of  USA |           Tennessee|    COMPLETE|        37421|            957|                 43|Diamondback Women...|   299.980011|Standard Class|2016-08-07|   2016-08-12|\n",
      "|TRANSFER|                       6|                            4|      3.700000048|       335.9700012|   Late delivery|                 1|          9|    Cardio Equipment|     Brooklyn|         EE. UU.|       3997|       Corporate|            NY|           11218|            3|       Footwear|Europe|      Bolzano|              Italia|             3997|   62030|                   191|        63.99000168|             0.159999996|       155089|             99.98999786|                   0.01|                  4|399.9599915|     335.9700012|           3.700000048|Southern Europe|Trentino-Alto Adigio|  PROCESSING|         NULL|            191|                  9|Nike Men's Free 5...|  99.98999786|Standard Class|2017-06-24|   2017-06-30|\n",
      "|   DEBIT|                       5|                            4|      27.13999939|       104.3799973|   Late delivery|                 1|         17|              Cleats|     Brooklyn|         EE. UU.|       3997|       Corporate|            NY|           11218|            4|        Apparel|  USCA|  Chattanooga|      Estados Unidos|             3997|   40034|                   365|        15.60000038|             0.129999995|        99892|             59.99000168|             0.25999999|                  2|119.9800034|     104.3799973|           27.13999939| South of  USA |           Tennessee|    COMPLETE|        37421|            365|                 17|Perfect Fitness P...|  59.99000168|Standard Class|2016-08-07|   2016-08-12|\n",
      "|   DEBIT|                       2|                            1|     -23.46999931|       170.0700073|   Late delivery|                 1|         17|              Cleats|     Brooklyn|         EE. UU.|       3997|       Corporate|            NY|           11218|            4|        Apparel|Europe|    Troisdorf|            Alemania|             3997|   66808|                   365|        9.899999619|             0.059999999|       166995|             59.99000168|           -0.140000001|                  3|179.9700012|     170.0700073|          -23.46999931| Western Europe|Renania del Norte...|    COMPLETE|         NULL|            365|                 17|Perfect Fitness P...|  59.99000168|   First Class|2017-09-02|   2017-09-04|\n",
      "|   DEBIT|                       5|                            4|      40.66999817|       116.1999969|   Late delivery|                 1|         40|         Accessories|     Brooklyn|         EE. UU.|       3997|       Corporate|            NY|           11218|            6|       Outdoors|  USCA|  Chattanooga|      Estados Unidos|             3997|   40034|                   897|               8.75|                    0.07|        99894|             24.98999977|            0.349999994|                  5|124.9499969|     116.1999969|           40.66999817| South of  USA |           Tennessee|    COMPLETE|        37421|            897|                 40|Team Golf New Eng...|  24.98999977|Standard Class|2016-08-07|   2016-08-12|\n",
      "|TRANSFER|                       6|                            4|      64.34999847|       128.6900024|   Late delivery|                 1|         18|      Men's Footwear|     Brooklyn|         EE. UU.|       3997|       Corporate|            NY|           11218|            4|        Apparel|Europe|      Bolzano|              Italia|             3997|   62030|                   403|        1.299999952|                    0.01|       155091|             129.9900055|                    0.5|                  1|129.9900055|     128.6900024|           64.34999847|Southern Europe|Trentino-Alto Adigio|  PROCESSING|         NULL|            403|                 18|Nike Men's CJ Eli...|  129.9900055|Standard Class|2017-06-24|   2017-06-30|\n",
      "|TRANSFER|                       6|                            4|      2.549999952|       127.3899994|   Late delivery|                 1|         18|      Men's Footwear|     Brooklyn|         EE. UU.|       3997|       Corporate|            NY|           11218|            4|        Apparel|Europe|      Bolzano|              Italia|             3997|   62030|                   403|        2.599999905|                    0.02|       155088|             129.9900055|                   0.02|                  1|129.9900055|     127.3899994|           2.549999952|Southern Europe|Trentino-Alto Adigio|  PROCESSING|         NULL|            403|                 18|Nike Men's CJ Eli...|  129.9900055|Standard Class|2017-06-24|   2017-06-30|\n",
      "|TRANSFER|                       3|                            4|      39.97999954|       118.2900009|Advance shipping|                 0|         18|      Men's Footwear|     Brooklyn|         EE. UU.|       3997|       Corporate|            NY|           11218|            4|        Apparel| LATAM|Santo Domingo|Rep�blica Dominicana|             3997|   59742|                   403|        11.69999981|             0.090000004|       149498|             129.9900055|            0.340000004|                  1|129.9900055|     118.2900009|           39.97999954|      Caribbean|       Santo Domingo|  PROCESSING|         NULL|            403|                 18|Nike Men's CJ Eli...|  129.9900055|Standard Class|2017-05-22|   2017-05-25|\n",
      "|TRANSFER|                       6|                            4|      53.93000031|       207.4199982|   Late delivery|                 1|         46|Indoor/Outdoor Games|     Brooklyn|         EE. UU.|       3997|       Corporate|            NY|           11218|            7|       Fan Shop|Europe|      Bolzano|              Italia|             3997|   62030|                  1014|        42.47999954|             0.170000002|       155090|             49.97999954|             0.25999999|                  5|249.8999939|     207.4199982|           53.93000031|Southern Europe|Trentino-Alto Adigio|  PROCESSING|         NULL|           1014|                 46|O'Brien Men's Neo...|  49.97999954|Standard Class|2017-06-24|   2017-06-30|\n",
      "|TRANSFER|                       3|                            4|      80.51000214|        377.980011|Advance shipping|                 0|         45|             Fishing|     Brooklyn|         EE. UU.|       3997|       Corporate|            NY|           11218|            7|       Fan Shop| LATAM|Santo Domingo|Rep�blica Dominicana|             3997|   59742|                  1004|               22.0|             0.059999999|       149497|              399.980011|            0.209999993|                  1| 399.980011|      377.980011|           80.51000214|      Caribbean|       Santo Domingo|  PROCESSING|         NULL|           1004|                 45|Field & Stream Sp...|   399.980011|Standard Class|2017-05-22|   2017-05-25|\n",
      "+--------+------------------------+-----------------------------+-----------------+------------------+----------------+------------------+-----------+--------------------+-------------+----------------+-----------+----------------+--------------+----------------+-------------+---------------+------+-------------+--------------------+-----------------+--------+----------------------+-------------------+------------------------+-------------+------------------------+-----------------------+-------------------+-----------+----------------+----------------------+---------------+--------------------+------------+-------------+---------------+-------------------+--------------------+-------------+--------------+----------+-------------+\n",
      "\n"
     ]
    }
   ],
   "source": [
    "df.filter(df.customer_id == 3997).show()"
   ]
  },
  {
   "cell_type": "markdown",
   "metadata": {},
   "source": [
    "We are trying to see if there are orders extending to multiple rows."
   ]
  },
  {
   "cell_type": "code",
   "execution_count": 10,
   "metadata": {},
   "outputs": [
    {
     "name": "stderr",
     "output_type": "stream",
     "text": [
      "[Stage 16:==============>                                           (2 + 6) / 8]\r"
     ]
    },
    {
     "name": "stdout",
     "output_type": "stream",
     "text": [
      "+--------+\n",
      "|order_id|\n",
      "+--------+\n",
      "|   55155|\n",
      "|   67753|\n",
      "|   29993|\n",
      "|   23571|\n",
      "|   37111|\n",
      "+--------+\n",
      "\n"
     ]
    },
    {
     "name": "stderr",
     "output_type": "stream",
     "text": [
      "                                                                                \r"
     ]
    }
   ],
   "source": [
    "spark.sql(\"Select order_id From my_table GROUP BY order_id having count(order_id) > 1 limit 5\").show()"
   ]
  },
  {
   "cell_type": "markdown",
   "metadata": {},
   "source": [
    "We can see that order is broken down into item level. Where each order can contain multiple items."
   ]
  },
  {
   "cell_type": "code",
   "execution_count": 112,
   "metadata": {},
   "outputs": [
    {
     "name": "stdout",
     "output_type": "stream",
     "text": [
      "+-----------+------------+--------+-----------+-----------------+--------------------+-------------+-------------+--------------+----------------------+\n",
      "|customer_id|order_status|order_id|      sales|benefit_per_order|        product_name|product_price|shipping_mode|product_status|order_profit_per_order|\n",
      "+-----------+------------+--------+-----------+-----------------+--------------------+-------------+-------------+--------------+----------------------+\n",
      "|       1566|    COMPLETE|   67753|399.9899902|      105.5999985|GoPro HERO3+ Blac...|  399.9899902| Second Class|             0|           105.5999985|\n",
      "|       1566|    COMPLETE|   67753|299.9899902|            144.0|      Total Gym 1400|  299.9899902| Second Class|             0|                 144.0|\n",
      "|       1566|    COMPLETE|   67753|129.9900055|      37.34999847|Nike Men's CJ Eli...|  129.9900055| Second Class|             0|           37.34999847|\n",
      "|       1566|    COMPLETE|   67753|99.95999908|      30.73999977|O'Brien Men's Neo...|  49.97999954| Second Class|             0|           30.73999977|\n",
      "|       1566|    COMPLETE|   67753|99.95999908|      47.97999954|O'Brien Men's Neo...|  49.97999954| Second Class|             0|           47.97999954|\n",
      "+-----------+------------+--------+-----------+-----------------+--------------------+-------------+-------------+--------------+----------------------+\n",
      "\n"
     ]
    }
   ],
   "source": [
    "# We can see that there are multiple items in one order and they are in multiple rows\n",
    "df.filter(df.order_id == 67753).select('customer_id', 'order_status',\n",
    "                                       'order_id','sales', \n",
    "                                       'benefit_per_order','product_name',\n",
    "                                       'product_price','shipping_mode',\n",
    "                                       'product_status', 'order_profit_per_order').show() "
   ]
  },
  {
   "cell_type": "markdown",
   "metadata": {},
   "source": [
    "The columns that can be used for training an ML model."
   ]
  },
  {
   "cell_type": "code",
   "execution_count": 8,
   "metadata": {},
   "outputs": [
    {
     "name": "stderr",
     "output_type": "stream",
     "text": [
      "[Stage 10:>                                                         (0 + 8) / 8]\r"
     ]
    },
    {
     "name": "stdout",
     "output_type": "stream",
     "text": [
      "+------------------+\n",
      "|late_delivery_risk|\n",
      "+------------------+\n",
      "|                 1|\n",
      "|                 0|\n",
      "+------------------+\n",
      "\n"
     ]
    },
    {
     "name": "stderr",
     "output_type": "stream",
     "text": [
      "                                                                                \r"
     ]
    }
   ],
   "source": [
    "# Pyspark distinct selection from a dataframe\n",
    "df.select(df.late_delivery_risk).distinct().show()"
   ]
  },
  {
   "cell_type": "code",
   "execution_count": 35,
   "metadata": {},
   "outputs": [
    {
     "name": "stdout",
     "output_type": "stream",
     "text": [
      "+--------------+\n",
      "|product_status|\n",
      "+--------------+\n",
      "|             0|\n",
      "+--------------+\n",
      "\n"
     ]
    }
   ],
   "source": [
    "# Pyspark distinct selection from a dataframe\n",
    "df.select(df.product_status).distinct().show()"
   ]
  },
  {
   "cell_type": "code",
   "execution_count": 9,
   "metadata": {},
   "outputs": [
    {
     "name": "stdout",
     "output_type": "stream",
     "text": [
      "+----+------------------------+-----------------------------+-----------------+------------------+---------------+------------------+-----------+-------------+-------------+----------------+-----------+----------------+--------------+----------------+-------------+---------------+------+----------+-------------+-----------------+-----------------------+--------+----------------------+-------------------+------------------------+-------------+------------------------+-----------------------+-------------------+-----+----------------+----------------------+------------+-----------+------------+-------------+---------------+-------------------+------------+-------------+--------------------------+-------------+\n",
      "|type|days_for_shipping_(real)|days_for_shipment_(scheduled)|benefit_per_order|sales_per_customer|delivery_status|late_delivery_risk|category_id|category_name|customer_city|customer_country|customer_id|customer_segment|customer_state|customer_zipcode|department_id|department_name|market|order_city|order_country|order_customer_id|order_date_(dateorders)|order_id|order_item_cardprod_id|order_item_discount|order_item_discount_rate|order_item_id|order_item_product_price|order_item_profit_ratio|order_item_quantity|sales|order_item_total|order_profit_per_order|order_region|order_state|order_status|order_zipcode|product_card_id|product_category_id|product_name|product_price|shipping_date_(dateorders)|shipping_mode|\n",
      "+----+------------------------+-----------------------------+-----------------+------------------+---------------+------------------+-----------+-------------+-------------+----------------+-----------+----------------+--------------+----------------+-------------+---------------+------+----------+-------------+-----------------+-----------------------+--------+----------------------+-------------------+------------------------+-------------+------------------------+-----------------------+-------------------+-----+----------------+----------------------+------------+-----------+------------+-------------+---------------+-------------------+------------+-------------+--------------------------+-------------+\n",
      "+----+------------------------+-----------------------------+-----------------+------------------+---------------+------------------+-----------+-------------+-------------+----------------+-----------+----------------+--------------+----------------+-------------+---------------+------+----------+-------------+-----------------+-----------------------+--------+----------------------+-------------------+------------------------+-------------+------------------------+-----------------------+-------------------+-----+----------------+----------------------+------------+-----------+------------+-------------+---------------+-------------------+------------+-------------+--------------------------+-------------+\n",
      "\n"
     ]
    }
   ],
   "source": [
    "df.filter(df.order_country == 'EE. UU.').show()"
   ]
  },
  {
   "cell_type": "markdown",
   "metadata": {},
   "source": [
    "Counts Based on categories for quick analysis"
   ]
  },
  {
   "cell_type": "code",
   "execution_count": 13,
   "metadata": {},
   "outputs": [
    {
     "name": "stdout",
     "output_type": "stream",
     "text": [
      "+-----------------+-----+\n",
      "|  delivery_status|count|\n",
      "+-----------------+-----+\n",
      "|    Late delivery|98977|\n",
      "| Advance shipping|41592|\n",
      "| Shipping on time|32196|\n",
      "|Shipping canceled| 7754|\n",
      "+-----------------+-----+\n",
      "\n"
     ]
    }
   ],
   "source": [
    "df.groupBy('delivery_status').count().orderBy('count', ascending=False).show()"
   ]
  },
  {
   "cell_type": "code",
   "execution_count": 21,
   "metadata": {},
   "outputs": [
    {
     "name": "stderr",
     "output_type": "stream",
     "text": [
      "[Stage 52:=======>                                                  (1 + 7) / 8]\r"
     ]
    },
    {
     "name": "stdout",
     "output_type": "stream",
     "text": [
      "+----------------+--------------------+------------------+----------+\n",
      "|customer_segment|               sales|            profit|cust_count|\n",
      "+----------------+--------------------+------------------+----------+\n",
      "|        Consumer|1.9095790155174054E7|2073487.6719135328|     10695|\n",
      "|       Corporate|1.1168406842990492E7|1202574.9615065993|      6239|\n",
      "|     Home Office|  6520538.0152156735| 690840.3406302303|      3718|\n",
      "+----------------+--------------------+------------------+----------+\n",
      "\n"
     ]
    },
    {
     "name": "stderr",
     "output_type": "stream",
     "text": [
      "                                                                                \r"
     ]
    }
   ],
   "source": [
    "spark.sql(\"\"\"\n",
    "          Select customer_segment, \n",
    "          sum(sales) as sales, \n",
    "          sum(order_profit_per_order) as profit,\n",
    "          count(distinct(customer_id)) as cust_count\n",
    "          From my_table \n",
    "          GROUP BY customer_segment\n",
    "          ORDER BY sales DESC\n",
    "          \"\"\").show()"
   ]
  },
  {
   "cell_type": "code",
   "execution_count": 25,
   "metadata": {},
   "outputs": [
    {
     "name": "stderr",
     "output_type": "stream",
     "text": [
      "[Stage 76:=======>                                                  (1 + 7) / 8]\r"
     ]
    },
    {
     "name": "stdout",
     "output_type": "stream",
     "text": [
      "+--------------+--------------------+------------------+----------+\n",
      "| shipping_mode|               sales|            profit|cust_count|\n",
      "+--------------+--------------------+------------------+----------+\n",
      "|Standard Class|2.2022391879808668E7|2370454.4528039624|     16578|\n",
      "|  Second Class|   7145444.818358937| 750308.1702654322|      8969|\n",
      "|   First Class|   5674369.758202563| 643121.9207390624|      7594|\n",
      "|      Same Day|  1942528.5570090855|203018.43024189796|      3208|\n",
      "+--------------+--------------------+------------------+----------+\n",
      "\n"
     ]
    },
    {
     "name": "stderr",
     "output_type": "stream",
     "text": [
      "                                                                                \r"
     ]
    }
   ],
   "source": [
    "spark.sql(\"\"\"\n",
    "          Select shipping_mode, \n",
    "          sum(sales) as sales, \n",
    "          sum(order_profit_per_order) as profit,\n",
    "          count(distinct(customer_id)) as cust_count\n",
    "          From my_table \n",
    "          GROUP BY shipping_mode\n",
    "          ORDER BY sales DESC\n",
    "          \"\"\").show()"
   ]
  },
  {
   "cell_type": "code",
   "execution_count": 16,
   "metadata": {},
   "outputs": [
    {
     "name": "stdout",
     "output_type": "stream",
     "text": [
      "+----------------+-----+\n",
      "|customer_segment|count|\n",
      "+----------------+-----+\n",
      "|        Consumer|93504|\n",
      "|       Corporate|54789|\n",
      "|     Home Office|32226|\n",
      "+----------------+-----+\n",
      "\n"
     ]
    }
   ],
   "source": [
    "df.groupBy('customer_segment').count().orderBy('count', ascending=False).show()"
   ]
  },
  {
   "cell_type": "code",
   "execution_count": 19,
   "metadata": {},
   "outputs": [
    {
     "data": {
      "text/html": [
       "<div>\n",
       "<style scoped>\n",
       "    .dataframe tbody tr th:only-of-type {\n",
       "        vertical-align: middle;\n",
       "    }\n",
       "\n",
       "    .dataframe tbody tr th {\n",
       "        vertical-align: top;\n",
       "    }\n",
       "\n",
       "    .dataframe thead th {\n",
       "        text-align: right;\n",
       "    }\n",
       "</style>\n",
       "<table border=\"1\" class=\"dataframe\">\n",
       "  <thead>\n",
       "    <tr style=\"text-align: right;\">\n",
       "      <th></th>\n",
       "      <th>order_status</th>\n",
       "      <th>count</th>\n",
       "    </tr>\n",
       "  </thead>\n",
       "  <tbody>\n",
       "    <tr>\n",
       "      <th>0</th>\n",
       "      <td>COMPLETE</td>\n",
       "      <td>59491</td>\n",
       "    </tr>\n",
       "    <tr>\n",
       "      <th>1</th>\n",
       "      <td>PENDING_PAYMENT</td>\n",
       "      <td>39832</td>\n",
       "    </tr>\n",
       "    <tr>\n",
       "      <th>2</th>\n",
       "      <td>PROCESSING</td>\n",
       "      <td>21902</td>\n",
       "    </tr>\n",
       "    <tr>\n",
       "      <th>3</th>\n",
       "      <td>PENDING</td>\n",
       "      <td>20227</td>\n",
       "    </tr>\n",
       "    <tr>\n",
       "      <th>4</th>\n",
       "      <td>CLOSED</td>\n",
       "      <td>19616</td>\n",
       "    </tr>\n",
       "    <tr>\n",
       "      <th>5</th>\n",
       "      <td>ON_HOLD</td>\n",
       "      <td>9804</td>\n",
       "    </tr>\n",
       "    <tr>\n",
       "      <th>6</th>\n",
       "      <td>SUSPECTED_FRAUD</td>\n",
       "      <td>4062</td>\n",
       "    </tr>\n",
       "    <tr>\n",
       "      <th>7</th>\n",
       "      <td>CANCELED</td>\n",
       "      <td>3692</td>\n",
       "    </tr>\n",
       "    <tr>\n",
       "      <th>8</th>\n",
       "      <td>PAYMENT_REVIEW</td>\n",
       "      <td>1893</td>\n",
       "    </tr>\n",
       "  </tbody>\n",
       "</table>\n",
       "</div>"
      ],
      "text/plain": [
       "      order_status  count\n",
       "0         COMPLETE  59491\n",
       "1  PENDING_PAYMENT  39832\n",
       "2       PROCESSING  21902\n",
       "3          PENDING  20227\n",
       "4           CLOSED  19616\n",
       "5          ON_HOLD   9804\n",
       "6  SUSPECTED_FRAUD   4062\n",
       "7         CANCELED   3692\n",
       "8   PAYMENT_REVIEW   1893"
      ]
     },
     "execution_count": 19,
     "metadata": {},
     "output_type": "execute_result"
    }
   ],
   "source": [
    "df1 = df.groupBy('order_status').count().orderBy('count', ascending=False).toPandas()\n",
    "df1"
   ]
  },
  {
   "cell_type": "code",
   "execution_count": 21,
   "metadata": {},
   "outputs": [
    {
     "data": {
      "text/plain": [
       "Text(0.5, 1.0, 'Order Status')"
      ]
     },
     "execution_count": 21,
     "metadata": {},
     "output_type": "execute_result"
    },
    {
     "data": {
      "image/png": "[encoded data removed]",
      "text/plain": [
       "<Figure size 640x480 with 1 Axes>"
      ]
     },
     "metadata": {},
     "output_type": "display_data"
    }
   ],
   "source": [
    "label=[\"COMPLETE\",\"PENDING_PAYMENT\",\"PROCESSING\",\"PENDING\",\"CLOSED\",\"ON_HOLD\",\"SUSPECTED_FRAUD\",\"CANCELED\",\"PAYMENT_REVIEW\"]\n",
    "plt.pie(df1['count'],labels=label, autopct='%1.2f%%')\n",
    "plt.title(\"Order Status\")"
   ]
  },
  {
   "cell_type": "code",
   "execution_count": 11,
   "metadata": {},
   "outputs": [
    {
     "name": "stderr",
     "output_type": "stream",
     "text": [
      "[Stage 19:=======>                                                  (1 + 7) / 8]\r"
     ]
    },
    {
     "name": "stdout",
     "output_type": "stream",
     "text": [
      "+--------------------+-----+\n",
      "|       order_country|count|\n",
      "+--------------------+-----+\n",
      "|      Estados Unidos|24840|\n",
      "|             Francia|13222|\n",
      "|              M�xico|13172|\n",
      "|            Alemania| 9564|\n",
      "|           Australia| 8497|\n",
      "|              Brasil| 7987|\n",
      "|         Reino Unido| 7302|\n",
      "|               China| 5758|\n",
      "|              Italia| 4989|\n",
      "|               India| 4783|\n",
      "|           Indonesia| 4204|\n",
      "|              Espa�a| 3868|\n",
      "|         El Salvador| 3726|\n",
      "|Rep�blica Dominicana| 3669|\n",
      "|            Honduras| 3629|\n",
      "|                Cuba| 3534|\n",
      "|             Turqu�a| 3395|\n",
      "|           Nicaragua| 3046|\n",
      "|           Guatemala| 2778|\n",
      "|             Nigeria| 2309|\n",
      "+--------------------+-----+\n",
      "only showing top 20 rows\n",
      "\n"
     ]
    },
    {
     "name": "stderr",
     "output_type": "stream",
     "text": [
      "                                                                                \r"
     ]
    }
   ],
   "source": [
    "df.groupBy('order_country').count().orderBy('count', ascending=False).show()"
   ]
  },
  {
   "cell_type": "code",
   "execution_count": 12,
   "metadata": {},
   "outputs": [
    {
     "name": "stderr",
     "output_type": "stream",
     "text": [
      "[Stage 22:=======>                                                  (1 + 7) / 8]\r"
     ]
    },
    {
     "name": "stdout",
     "output_type": "stream",
     "text": [
      "+---------------+-----+\n",
      "|   order_status|count|\n",
      "+---------------+-----+\n",
      "|PENDING_PAYMENT|39832|\n",
      "|       COMPLETE|59491|\n",
      "|        ON_HOLD| 9804|\n",
      "| PAYMENT_REVIEW| 1893|\n",
      "|     PROCESSING|21902|\n",
      "|         CLOSED|19616|\n",
      "|SUSPECTED_FRAUD| 4062|\n",
      "|        PENDING|20227|\n",
      "|       CANCELED| 3692|\n",
      "+---------------+-----+\n",
      "\n"
     ]
    },
    {
     "name": "stderr",
     "output_type": "stream",
     "text": [
      "                                                                                \r"
     ]
    }
   ],
   "source": [
    "spark.sql(\"SELECT order_status, count(order_status) as count From my_table group by order_status\").show()"
   ]
  },
  {
   "cell_type": "code",
   "execution_count": 23,
   "metadata": {},
   "outputs": [
    {
     "data": {
      "application/vnd.plotly.v1+json": {
       "config": {
        "plotlyServerURL": "https://plot.ly"
       },
       "data": [
        {
         "alignmentgroup": "True",
         "hovertemplate": "category_name=%{x}<br>sales=%{y}<extra></extra>",
         "legendgroup": "",
         "marker": {
          "color": "#636efa",
          "pattern": {
           "shape": ""
          }
         },
         "name": "",
         "offsetgroup": "",
         "orientation": "v",
         "showlegend": false,
         "textposition": "auto",
         "type": "bar",
         "x": [
          "Children's Clothing",
          "Sporting Goods",
          "Camping & Hiking",
          "Fitness Accessories",
          "Cameras ",
          "Computers",
          "Consumer Electronics",
          "Basketball",
          "Health and Beauty",
          "Pet Supplies",
          "DVDs",
          "Men's Footwear",
          "Crafts",
          "Women's Clothing",
          "Electronics",
          "Video Games",
          "Women's Apparel",
          "Girls' Apparel",
          "As Seen on  TV!",
          "Boxing & MMA",
          "Hunting & Shooting",
          "Baseball & Softball",
          "Trade-In",
          "Shop By Sport",
          "Fishing",
          "Music",
          "Accessories",
          "Cleats",
          "Men's Clothing",
          "Strength Training",
          "Soccer",
          "Golf Balls",
          "Kids' Golf Clubs",
          "CDs ",
          "Baby ",
          "Books ",
          "Garden",
          "Hockey",
          "Lacrosse",
          "Cardio Equipment",
          "Tennis & Racquet",
          "Golf Gloves",
          "Men's Golf Clubs",
          "Golf Shoes",
          "Golf Bags & Carts",
          "Golf Apparel",
          "Women's Golf Clubs",
          "Water Sports",
          "Toys",
          "Indoor/Outdoor Games"
         ],
         "xaxis": "x",
         "y": [
          232829.20397720026,
          117006.75,
          4118425.571018985,
          35601.44054358001,
          267607.685032,
          663000,
          108991.28211189999,
          27099.3293434,
          106080.48307700003,
          41524.800752759955,
          79395.54236670004,
          2891757.6623528693,
          223356.3253239999,
          140283.00474500025,
          371034.64318789,
          33310.5,
          3147800,
          151706.20063339997,
          20597.93996418,
          85205.4110869,
          56848.42007216,
          94057.15254254,
          68721.77975240999,
          1309522.0414546824,
          6929653.690574931,
          113122.09735260009,
          133671.5088250101,
          4431942.783185065,
          43856.80126880002,
          54895.52953639999,
          26477.0498373,
          77098.15904223002,
          98797.57923372998,
          3059.589989159999,
          12229.560378809996,
          12587.39996760001,
          257768.7282764002,
          48360.72973540009,
          39464.78979349,
          3694843.1966299606,
          44585.090624320015,
          116695.39042290632,
          47035.80051772003,
          107998,
          10369.390335499993,
          34969.750038810096,
          44545.970131600174,
          3113844.684857893,
          6104.659978840051,
          2888993.9135054224
         ],
         "yaxis": "y"
        }
       ],
       "layout": {
        "barmode": "relative",
        "legend": {
         "tracegroupgap": 0
        },
        "template": {
         "data": {
          "bar": [
           {
            "error_x": {
             "color": "#2a3f5f"
            },
            "error_y": {
             "color": "#2a3f5f"
            },
            "marker": {
             "line": {
              "color": "#E5ECF6",
              "width": 0.5
             },
             "pattern": {
              "fillmode": "overlay",
              "size": 10,
              "solidity": 0.2
             }
            },
            "type": "bar"
           }
          ],
          "barpolar": [
           {
            "marker": {
             "line": {
              "color": "#E5ECF6",
              "width": 0.5
             },
             "pattern": {
              "fillmode": "overlay",
              "size": 10,
              "solidity": 0.2
             }
            },
            "type": "barpolar"
           }
          ],
          "carpet": [
           {
            "aaxis": {
             "endlinecolor": "#2a3f5f",
             "gridcolor": "white",
             "linecolor": "white",
             "minorgridcolor": "white",
             "startlinecolor": "#2a3f5f"
            },
            "baxis": {
             "endlinecolor": "#2a3f5f",
             "gridcolor": "white",
             "linecolor": "white",
             "minorgridcolor": "white",
             "startlinecolor": "#2a3f5f"
            },
            "type": "carpet"
           }
          ],
          "choropleth": [
           {
            "colorbar": {
             "outlinewidth": 0,
             "ticks": ""
            },
            "type": "choropleth"
           }
          ],
          "contour": [
           {
            "colorbar": {
             "outlinewidth": 0,
             "ticks": ""
            },
            "colorscale": [
             [
              0,
              "#0d0887"
             ],
             [
              0.1111111111111111,
              "#46039f"
             ],
             [
              0.2222222222222222,
              "#7201a8"
             ],
             [
              0.3333333333333333,
              "#9c179e"
             ],
             [
              0.4444444444444444,
              "#bd3786"
             ],
             [
              0.5555555555555556,
              "#d8576b"
             ],
             [
              0.6666666666666666,
              "#ed7953"
             ],
             [
              0.7777777777777778,
              "#fb9f3a"
             ],
             [
              0.8888888888888888,
              "#fdca26"
             ],
             [
              1,
              "#f0f921"
             ]
            ],
            "type": "contour"
           }
          ],
          "contourcarpet": [
           {
            "colorbar": {
             "outlinewidth": 0,
             "ticks": ""
            },
            "type": "contourcarpet"
           }
          ],
          "heatmap": [
           {
            "colorbar": {
             "outlinewidth": 0,
             "ticks": ""
            },
            "colorscale": [
             [
              0,
              "#0d0887"
             ],
             [
              0.1111111111111111,
              "#46039f"
             ],
             [
              0.2222222222222222,
              "#7201a8"
             ],
             [
              0.3333333333333333,
              "#9c179e"
             ],
             [
              0.4444444444444444,
              "#bd3786"
             ],
             [
              0.5555555555555556,
              "#d8576b"
             ],
             [
              0.6666666666666666,
              "#ed7953"
             ],
             [
              0.7777777777777778,
              "#fb9f3a"
             ],
             [
              0.8888888888888888,
              "#fdca26"
             ],
             [
              1,
              "#f0f921"
             ]
            ],
            "type": "heatmap"
           }
          ],
          "heatmapgl": [
           {
            "colorbar": {
             "outlinewidth": 0,
             "ticks": ""
            },
            "colorscale": [
             [
              0,
              "#0d0887"
             ],
             [
              0.1111111111111111,
              "#46039f"
             ],
             [
              0.2222222222222222,
              "#7201a8"
             ],
             [
              0.3333333333333333,
              "#9c179e"
             ],
             [
              0.4444444444444444,
              "#bd3786"
             ],
             [
              0.5555555555555556,
              "#d8576b"
             ],
             [
              0.6666666666666666,
              "#ed7953"
             ],
             [
              0.7777777777777778,
              "#fb9f3a"
             ],
             [
              0.8888888888888888,
              "#fdca26"
             ],
             [
              1,
              "#f0f921"
             ]
            ],
            "type": "heatmapgl"
           }
          ],
          "histogram": [
           {
            "marker": {
             "pattern": {
              "fillmode": "overlay",
              "size": 10,
              "solidity": 0.2
             }
            },
            "type": "histogram"
           }
          ],
          "histogram2d": [
           {
            "colorbar": {
             "outlinewidth": 0,
             "ticks": ""
            },
            "colorscale": [
             [
              0,
              "#0d0887"
             ],
             [
              0.1111111111111111,
              "#46039f"
             ],
             [
              0.2222222222222222,
              "#7201a8"
             ],
             [
              0.3333333333333333,
              "#9c179e"
             ],
             [
              0.4444444444444444,
              "#bd3786"
             ],
             [
              0.5555555555555556,
              "#d8576b"
             ],
             [
              0.6666666666666666,
              "#ed7953"
             ],
             [
              0.7777777777777778,
              "#fb9f3a"
             ],
             [
              0.8888888888888888,
              "#fdca26"
             ],
             [
              1,
              "#f0f921"
             ]
            ],
            "type": "histogram2d"
           }
          ],
          "histogram2dcontour": [
           {
            "colorbar": {
             "outlinewidth": 0,
             "ticks": ""
            },
            "colorscale": [
             [
              0,
              "#0d0887"
             ],
             [
              0.1111111111111111,
              "#46039f"
             ],
             [
              0.2222222222222222,
              "#7201a8"
             ],
             [
              0.3333333333333333,
              "#9c179e"
             ],
             [
              0.4444444444444444,
              "#bd3786"
             ],
             [
              0.5555555555555556,
              "#d8576b"
             ],
             [
              0.6666666666666666,
              "#ed7953"
             ],
             [
              0.7777777777777778,
              "#fb9f3a"
             ],
             [
              0.8888888888888888,
              "#fdca26"
             ],
             [
              1,
              "#f0f921"
             ]
            ],
            "type": "histogram2dcontour"
           }
          ],
          "mesh3d": [
           {
            "colorbar": {
             "outlinewidth": 0,
             "ticks": ""
            },
            "type": "mesh3d"
           }
          ],
          "parcoords": [
           {
            "line": {
             "colorbar": {
              "outlinewidth": 0,
              "ticks": ""
             }
            },
            "type": "parcoords"
           }
          ],
          "pie": [
           {
            "automargin": true,
            "type": "pie"
           }
          ],
          "scatter": [
           {
            "fillpattern": {
             "fillmode": "overlay",
             "size": 10,
             "solidity": 0.2
            },
            "type": "scatter"
           }
          ],
          "scatter3d": [
           {
            "line": {
             "colorbar": {
              "outlinewidth": 0,
              "ticks": ""
             }
            },
            "marker": {
             "colorbar": {
              "outlinewidth": 0,
              "ticks": ""
             }
            },
            "type": "scatter3d"
           }
          ],
          "scattercarpet": [
           {
            "marker": {
             "colorbar": {
              "outlinewidth": 0,
              "ticks": ""
             }
            },
            "type": "scattercarpet"
           }
          ],
          "scattergeo": [
           {
            "marker": {
             "colorbar": {
              "outlinewidth": 0,
              "ticks": ""
             }
            },
            "type": "scattergeo"
           }
          ],
          "scattergl": [
           {
            "marker": {
             "colorbar": {
              "outlinewidth": 0,
              "ticks": ""
             }
            },
            "type": "scattergl"
           }
          ],
          "scattermapbox": [
           {
            "marker": {
             "colorbar": {
              "outlinewidth": 0,
              "ticks": ""
             }
            },
            "type": "scattermapbox"
           }
          ],
          "scatterpolar": [
           {
            "marker": {
             "colorbar": {
              "outlinewidth": 0,
              "ticks": ""
             }
            },
            "type": "scatterpolar"
           }
          ],
          "scatterpolargl": [
           {
            "marker": {
             "colorbar": {
              "outlinewidth": 0,
              "ticks": ""
             }
            },
            "type": "scatterpolargl"
           }
          ],
          "scatterternary": [
           {
            "marker": {
             "colorbar": {
              "outlinewidth": 0,
              "ticks": ""
             }
            },
            "type": "scatterternary"
           }
          ],
          "surface": [
           {
            "colorbar": {
             "outlinewidth": 0,
             "ticks": ""
            },
            "colorscale": [
             [
              0,
              "#0d0887"
             ],
             [
              0.1111111111111111,
              "#46039f"
             ],
             [
              0.2222222222222222,
              "#7201a8"
             ],
             [
              0.3333333333333333,
              "#9c179e"
             ],
             [
              0.4444444444444444,
              "#bd3786"
             ],
             [
              0.5555555555555556,
              "#d8576b"
             ],
             [
              0.6666666666666666,
              "#ed7953"
             ],
             [
              0.7777777777777778,
              "#fb9f3a"
             ],
             [
              0.8888888888888888,
              "#fdca26"
             ],
             [
              1,
              "#f0f921"
             ]
            ],
            "type": "surface"
           }
          ],
          "table": [
           {
            "cells": {
             "fill": {
              "color": "#EBF0F8"
             },
             "line": {
              "color": "white"
             }
            },
            "header": {
             "fill": {
              "color": "#C8D4E3"
             },
             "line": {
              "color": "white"
             }
            },
            "type": "table"
           }
          ]
         },
         "layout": {
          "annotationdefaults": {
           "arrowcolor": "#2a3f5f",
           "arrowhead": 0,
           "arrowwidth": 1
          },
          "autotypenumbers": "strict",
          "coloraxis": {
           "colorbar": {
            "outlinewidth": 0,
            "ticks": ""
           }
          },
          "colorscale": {
           "diverging": [
            [
             0,
             "#8e0152"
            ],
            [
             0.1,
             "#c51b7d"
            ],
            [
             0.2,
             "#de77ae"
            ],
            [
             0.3,
             "#f1b6da"
            ],
            [
             0.4,
             "#fde0ef"
            ],
            [
             0.5,
             "#f7f7f7"
            ],
            [
             0.6,
             "#e6f5d0"
            ],
            [
             0.7,
             "#b8e186"
            ],
            [
             0.8,
             "#7fbc41"
            ],
            [
             0.9,
             "#4d9221"
            ],
            [
             1,
             "#276419"
            ]
           ],
           "sequential": [
            [
             0,
             "#0d0887"
            ],
            [
             0.1111111111111111,
             "#46039f"
            ],
            [
             0.2222222222222222,
             "#7201a8"
            ],
            [
             0.3333333333333333,
             "#9c179e"
            ],
            [
             0.4444444444444444,
             "#bd3786"
            ],
            [
             0.5555555555555556,
             "#d8576b"
            ],
            [
             0.6666666666666666,
             "#ed7953"
            ],
            [
             0.7777777777777778,
             "#fb9f3a"
            ],
            [
             0.8888888888888888,
             "#fdca26"
            ],
            [
             1,
             "#f0f921"
            ]
           ],
           "sequentialminus": [
            [
             0,
             "#0d0887"
            ],
            [
             0.1111111111111111,
             "#46039f"
            ],
            [
             0.2222222222222222,
             "#7201a8"
            ],
            [
             0.3333333333333333,
             "#9c179e"
            ],
            [
             0.4444444444444444,
             "#bd3786"
            ],
            [
             0.5555555555555556,
             "#d8576b"
            ],
            [
             0.6666666666666666,
             "#ed7953"
            ],
            [
             0.7777777777777778,
             "#fb9f3a"
            ],
            [
             0.8888888888888888,
             "#fdca26"
            ],
            [
             1,
             "#f0f921"
            ]
           ]
          },
          "colorway": [
           "#636efa",
           "#EF553B",
           "#00cc96",
           "#ab63fa",
           "#FFA15A",
           "#19d3f3",
           "#FF6692",
           "#B6E880",
           "#FF97FF",
           "#FECB52"
          ],
          "font": {
           "color": "#2a3f5f"
          },
          "geo": {
           "bgcolor": "white",
           "lakecolor": "white",
           "landcolor": "#E5ECF6",
           "showlakes": true,
           "showland": true,
           "subunitcolor": "white"
          },
          "hoverlabel": {
           "align": "left"
          },
          "hovermode": "closest",
          "mapbox": {
           "style": "light"
          },
          "paper_bgcolor": "white",
          "plot_bgcolor": "#E5ECF6",
          "polar": {
           "angularaxis": {
            "gridcolor": "white",
            "linecolor": "white",
            "ticks": ""
           },
           "bgcolor": "#E5ECF6",
           "radialaxis": {
            "gridcolor": "white",
            "linecolor": "white",
            "ticks": ""
           }
          },
          "scene": {
           "xaxis": {
            "backgroundcolor": "#E5ECF6",
            "gridcolor": "white",
            "gridwidth": 2,
            "linecolor": "white",
            "showbackground": true,
            "ticks": "",
            "zerolinecolor": "white"
           },
           "yaxis": {
            "backgroundcolor": "#E5ECF6",
            "gridcolor": "white",
            "gridwidth": 2,
            "linecolor": "white",
            "showbackground": true,
            "ticks": "",
            "zerolinecolor": "white"
           },
           "zaxis": {
            "backgroundcolor": "#E5ECF6",
            "gridcolor": "white",
            "gridwidth": 2,
            "linecolor": "white",
            "showbackground": true,
            "ticks": "",
            "zerolinecolor": "white"
           }
          },
          "shapedefaults": {
           "line": {
            "color": "#2a3f5f"
           }
          },
          "ternary": {
           "aaxis": {
            "gridcolor": "white",
            "linecolor": "white",
            "ticks": ""
           },
           "baxis": {
            "gridcolor": "white",
            "linecolor": "white",
            "ticks": ""
           },
           "bgcolor": "#E5ECF6",
           "caxis": {
            "gridcolor": "white",
            "linecolor": "white",
            "ticks": ""
           }
          },
          "title": {
           "x": 0.05
          },
          "xaxis": {
           "automargin": true,
           "gridcolor": "white",
           "linecolor": "white",
           "ticks": "",
           "title": {
            "standoff": 15
           },
           "zerolinecolor": "white",
           "zerolinewidth": 2
          },
          "yaxis": {
           "automargin": true,
           "gridcolor": "white",
           "linecolor": "white",
           "ticks": "",
           "title": {
            "standoff": 15
           },
           "zerolinecolor": "white",
           "zerolinewidth": 2
          }
         }
        },
        "title": {
         "text": "Aggregate Sales by Category"
        },
        "xaxis": {
         "anchor": "y",
         "domain": [
          0,
          1
         ],
         "title": {
          "text": "category_name"
         }
        },
        "yaxis": {
         "anchor": "x",
         "domain": [
          0,
          1
         ],
         "title": {
          "text": "sales"
         }
        }
       }
      }
     },
     "metadata": {},
     "output_type": "display_data"
    }
   ],
   "source": [
    "grouped_data = df.groupBy('category_name').agg(_sum('sales').alias('sales'))\n",
    "\n",
    "fig = px.bar(grouped_data, x='category_name', y='sales', title='Aggregate Sales by Category')\n",
    "\n",
    "fig.show()"
   ]
  },
  {
   "cell_type": "code",
   "execution_count": 32,
   "metadata": {},
   "outputs": [
    {
     "name": "stderr",
     "output_type": "stream",
     "text": [
      "                                                                                \r"
     ]
    },
    {
     "data": {
      "application/vnd.plotly.v1+json": {
       "config": {
        "plotlyServerURL": "https://plot.ly"
       },
       "data": [
        {
         "alignmentgroup": "True",
         "hovertemplate": "category_name=%{x}<br>order_count=%{y}<extra></extra>",
         "legendgroup": "",
         "marker": {
          "color": "#636efa",
          "pattern": {
           "shape": ""
          }
         },
         "name": "",
         "offsetgroup": "",
         "orientation": "v",
         "showlegend": false,
         "textposition": "auto",
         "type": "bar",
         "x": [
          "Cleats",
          "Men's Footwear",
          "Women's Apparel",
          "Indoor/Outdoor Games",
          "Fishing",
          "Water Sports",
          "Camping & Hiking",
          "Cardio Equipment",
          "Shop By Sport",
          "Electronics",
          "Accessories",
          "Golf Balls",
          "Girls' Apparel",
          "Golf Gloves",
          "Trade-In",
          "Video Games",
          "Children's Clothing",
          "Women's Clothing",
          "Baseball & Softball",
          "Hockey",
          "Cameras ",
          "Toys",
          "Golf Shoes",
          "Pet Supplies",
          "Crafts",
          "Garden",
          "DVDs",
          "Computers",
          "Golf Apparel",
          "Hunting & Shooting",
          "Music",
          "Consumer Electronics",
          "Boxing & MMA",
          "Books ",
          "Kids' Golf Clubs",
          "Health and Beauty",
          "Sporting Goods",
          "Lacrosse",
          "Tennis & Racquet",
          "Fitness Accessories",
          "Men's Golf Clubs",
          "CDs ",
          "Men's Clothing",
          "Baby ",
          "Women's Golf Clubs",
          "Soccer",
          "Strength Training",
          "As Seen on  TV!",
          "Basketball",
          "Golf Bags & Carts"
         ],
         "xaxis": "x",
         "y": [
          20386,
          18783,
          17869,
          16623,
          15164,
          13758,
          12299,
          11355,
          10136,
          3061,
          1753,
          1444,
          1191,
          1064,
          964,
          838,
          652,
          650,
          628,
          609,
          592,
          529,
          523,
          492,
          484,
          484,
          483,
          442,
          440,
          436,
          434,
          431,
          421,
          405,
          373,
          362,
          357,
          341,
          327,
          307,
          280,
          271,
          208,
          207,
          181,
          136,
          111,
          68,
          64,
          61
         ],
         "yaxis": "y"
        }
       ],
       "layout": {
        "barmode": "relative",
        "legend": {
         "tracegroupgap": 0
        },
        "template": {
         "data": {
          "bar": [
           {
            "error_x": {
             "color": "#2a3f5f"
            },
            "error_y": {
             "color": "#2a3f5f"
            },
            "marker": {
             "line": {
              "color": "#E5ECF6",
              "width": 0.5
             },
             "pattern": {
              "fillmode": "overlay",
              "size": 10,
              "solidity": 0.2
             }
            },
            "type": "bar"
           }
          ],
          "barpolar": [
           {
            "marker": {
             "line": {
              "color": "#E5ECF6",
              "width": 0.5
             },
             "pattern": {
              "fillmode": "overlay",
              "size": 10,
              "solidity": 0.2
             }
            },
            "type": "barpolar"
           }
          ],
          "carpet": [
           {
            "aaxis": {
             "endlinecolor": "#2a3f5f",
             "gridcolor": "white",
             "linecolor": "white",
             "minorgridcolor": "white",
             "startlinecolor": "#2a3f5f"
            },
            "baxis": {
             "endlinecolor": "#2a3f5f",
             "gridcolor": "white",
             "linecolor": "white",
             "minorgridcolor": "white",
             "startlinecolor": "#2a3f5f"
            },
            "type": "carpet"
           }
          ],
          "choropleth": [
           {
            "colorbar": {
             "outlinewidth": 0,
             "ticks": ""
            },
            "type": "choropleth"
           }
          ],
          "contour": [
           {
            "colorbar": {
             "outlinewidth": 0,
             "ticks": ""
            },
            "colorscale": [
             [
              0,
              "#0d0887"
             ],
             [
              0.1111111111111111,
              "#46039f"
             ],
             [
              0.2222222222222222,
              "#7201a8"
             ],
             [
              0.3333333333333333,
              "#9c179e"
             ],
             [
              0.4444444444444444,
              "#bd3786"
             ],
             [
              0.5555555555555556,
              "#d8576b"
             ],
             [
              0.6666666666666666,
              "#ed7953"
             ],
             [
              0.7777777777777778,
              "#fb9f3a"
             ],
             [
              0.8888888888888888,
              "#fdca26"
             ],
             [
              1,
              "#f0f921"
             ]
            ],
            "type": "contour"
           }
          ],
          "contourcarpet": [
           {
            "colorbar": {
             "outlinewidth": 0,
             "ticks": ""
            },
            "type": "contourcarpet"
           }
          ],
          "heatmap": [
           {
            "colorbar": {
             "outlinewidth": 0,
             "ticks": ""
            },
            "colorscale": [
             [
              0,
              "#0d0887"
             ],
             [
              0.1111111111111111,
              "#46039f"
             ],
             [
              0.2222222222222222,
              "#7201a8"
             ],
             [
              0.3333333333333333,
              "#9c179e"
             ],
             [
              0.4444444444444444,
              "#bd3786"
             ],
             [
              0.5555555555555556,
              "#d8576b"
             ],
             [
              0.6666666666666666,
              "#ed7953"
             ],
             [
              0.7777777777777778,
              "#fb9f3a"
             ],
             [
              0.8888888888888888,
              "#fdca26"
             ],
             [
              1,
              "#f0f921"
             ]
            ],
            "type": "heatmap"
           }
          ],
          "heatmapgl": [
           {
            "colorbar": {
             "outlinewidth": 0,
             "ticks": ""
            },
            "colorscale": [
             [
              0,
              "#0d0887"
             ],
             [
              0.1111111111111111,
              "#46039f"
             ],
             [
              0.2222222222222222,
              "#7201a8"
             ],
             [
              0.3333333333333333,
              "#9c179e"
             ],
             [
              0.4444444444444444,
              "#bd3786"
             ],
             [
              0.5555555555555556,
              "#d8576b"
             ],
             [
              0.6666666666666666,
              "#ed7953"
             ],
             [
              0.7777777777777778,
              "#fb9f3a"
             ],
             [
              0.8888888888888888,
              "#fdca26"
             ],
             [
              1,
              "#f0f921"
             ]
            ],
            "type": "heatmapgl"
           }
          ],
          "histogram": [
           {
            "marker": {
             "pattern": {
              "fillmode": "overlay",
              "size": 10,
              "solidity": 0.2
             }
            },
            "type": "histogram"
           }
          ],
          "histogram2d": [
           {
            "colorbar": {
             "outlinewidth": 0,
             "ticks": ""
            },
            "colorscale": [
             [
              0,
              "#0d0887"
             ],
             [
              0.1111111111111111,
              "#46039f"
             ],
             [
              0.2222222222222222,
              "#7201a8"
             ],
             [
              0.3333333333333333,
              "#9c179e"
             ],
             [
              0.4444444444444444,
              "#bd3786"
             ],
             [
              0.5555555555555556,
              "#d8576b"
             ],
             [
              0.6666666666666666,
              "#ed7953"
             ],
             [
              0.7777777777777778,
              "#fb9f3a"
             ],
             [
              0.8888888888888888,
              "#fdca26"
             ],
             [
              1,
              "#f0f921"
             ]
            ],
            "type": "histogram2d"
           }
          ],
          "histogram2dcontour": [
           {
            "colorbar": {
             "outlinewidth": 0,
             "ticks": ""
            },
            "colorscale": [
             [
              0,
              "#0d0887"
             ],
             [
              0.1111111111111111,
              "#46039f"
             ],
             [
              0.2222222222222222,
              "#7201a8"
             ],
             [
              0.3333333333333333,
              "#9c179e"
             ],
             [
              0.4444444444444444,
              "#bd3786"
             ],
             [
              0.5555555555555556,
              "#d8576b"
             ],
             [
              0.6666666666666666,
              "#ed7953"
             ],
             [
              0.7777777777777778,
              "#fb9f3a"
             ],
             [
              0.8888888888888888,
              "#fdca26"
             ],
             [
              1,
              "#f0f921"
             ]
            ],
            "type": "histogram2dcontour"
           }
          ],
          "mesh3d": [
           {
            "colorbar": {
             "outlinewidth": 0,
             "ticks": ""
            },
            "type": "mesh3d"
           }
          ],
          "parcoords": [
           {
            "line": {
             "colorbar": {
              "outlinewidth": 0,
              "ticks": ""
             }
            },
            "type": "parcoords"
           }
          ],
          "pie": [
           {
            "automargin": true,
            "type": "pie"
           }
          ],
          "scatter": [
           {
            "fillpattern": {
             "fillmode": "overlay",
             "size": 10,
             "solidity": 0.2
            },
            "type": "scatter"
           }
          ],
          "scatter3d": [
           {
            "line": {
             "colorbar": {
              "outlinewidth": 0,
              "ticks": ""
             }
            },
            "marker": {
             "colorbar": {
              "outlinewidth": 0,
              "ticks": ""
             }
            },
            "type": "scatter3d"
           }
          ],
          "scattercarpet": [
           {
            "marker": {
             "colorbar": {
              "outlinewidth": 0,
              "ticks": ""
             }
            },
            "type": "scattercarpet"
           }
          ],
          "scattergeo": [
           {
            "marker": {
             "colorbar": {
              "outlinewidth": 0,
              "ticks": ""
             }
            },
            "type": "scattergeo"
           }
          ],
          "scattergl": [
           {
            "marker": {
             "colorbar": {
              "outlinewidth": 0,
              "ticks": ""
             }
            },
            "type": "scattergl"
           }
          ],
          "scattermapbox": [
           {
            "marker": {
             "colorbar": {
              "outlinewidth": 0,
              "ticks": ""
             }
            },
            "type": "scattermapbox"
           }
          ],
          "scatterpolar": [
           {
            "marker": {
             "colorbar": {
              "outlinewidth": 0,
              "ticks": ""
             }
            },
            "type": "scatterpolar"
           }
          ],
          "scatterpolargl": [
           {
            "marker": {
             "colorbar": {
              "outlinewidth": 0,
              "ticks": ""
             }
            },
            "type": "scatterpolargl"
           }
          ],
          "scatterternary": [
           {
            "marker": {
             "colorbar": {
              "outlinewidth": 0,
              "ticks": ""
             }
            },
            "type": "scatterternary"
           }
          ],
          "surface": [
           {
            "colorbar": {
             "outlinewidth": 0,
             "ticks": ""
            },
            "colorscale": [
             [
              0,
              "#0d0887"
             ],
             [
              0.1111111111111111,
              "#46039f"
             ],
             [
              0.2222222222222222,
              "#7201a8"
             ],
             [
              0.3333333333333333,
              "#9c179e"
             ],
             [
              0.4444444444444444,
              "#bd3786"
             ],
             [
              0.5555555555555556,
              "#d8576b"
             ],
             [
              0.6666666666666666,
              "#ed7953"
             ],
             [
              0.7777777777777778,
              "#fb9f3a"
             ],
             [
              0.8888888888888888,
              "#fdca26"
             ],
             [
              1,
              "#f0f921"
             ]
            ],
            "type": "surface"
           }
          ],
          "table": [
           {
            "cells": {
             "fill": {
              "color": "#EBF0F8"
             },
             "line": {
              "color": "white"
             }
            },
            "header": {
             "fill": {
              "color": "#C8D4E3"
             },
             "line": {
              "color": "white"
             }
            },
            "type": "table"
           }
          ]
         },
         "layout": {
          "annotationdefaults": {
           "arrowcolor": "#2a3f5f",
           "arrowhead": 0,
           "arrowwidth": 1
          },
          "autotypenumbers": "strict",
          "coloraxis": {
           "colorbar": {
            "outlinewidth": 0,
            "ticks": ""
           }
          },
          "colorscale": {
           "diverging": [
            [
             0,
             "#8e0152"
            ],
            [
             0.1,
             "#c51b7d"
            ],
            [
             0.2,
             "#de77ae"
            ],
            [
             0.3,
             "#f1b6da"
            ],
            [
             0.4,
             "#fde0ef"
            ],
            [
             0.5,
             "#f7f7f7"
            ],
            [
             0.6,
             "#e6f5d0"
            ],
            [
             0.7,
             "#b8e186"
            ],
            [
             0.8,
             "#7fbc41"
            ],
            [
             0.9,
             "#4d9221"
            ],
            [
             1,
             "#276419"
            ]
           ],
           "sequential": [
            [
             0,
             "#0d0887"
            ],
            [
             0.1111111111111111,
             "#46039f"
            ],
            [
             0.2222222222222222,
             "#7201a8"
            ],
            [
             0.3333333333333333,
             "#9c179e"
            ],
            [
             0.4444444444444444,
             "#bd3786"
            ],
            [
             0.5555555555555556,
             "#d8576b"
            ],
            [
             0.6666666666666666,
             "#ed7953"
            ],
            [
             0.7777777777777778,
             "#fb9f3a"
            ],
            [
             0.8888888888888888,
             "#fdca26"
            ],
            [
             1,
             "#f0f921"
            ]
           ],
           "sequentialminus": [
            [
             0,
             "#0d0887"
            ],
            [
             0.1111111111111111,
             "#46039f"
            ],
            [
             0.2222222222222222,
             "#7201a8"
            ],
            [
             0.3333333333333333,
             "#9c179e"
            ],
            [
             0.4444444444444444,
             "#bd3786"
            ],
            [
             0.5555555555555556,
             "#d8576b"
            ],
            [
             0.6666666666666666,
             "#ed7953"
            ],
            [
             0.7777777777777778,
             "#fb9f3a"
            ],
            [
             0.8888888888888888,
             "#fdca26"
            ],
            [
             1,
             "#f0f921"
            ]
           ]
          },
          "colorway": [
           "#636efa",
           "#EF553B",
           "#00cc96",
           "#ab63fa",
           "#FFA15A",
           "#19d3f3",
           "#FF6692",
           "#B6E880",
           "#FF97FF",
           "#FECB52"
          ],
          "font": {
           "color": "#2a3f5f"
          },
          "geo": {
           "bgcolor": "white",
           "lakecolor": "white",
           "landcolor": "#E5ECF6",
           "showlakes": true,
           "showland": true,
           "subunitcolor": "white"
          },
          "hoverlabel": {
           "align": "left"
          },
          "hovermode": "closest",
          "mapbox": {
           "style": "light"
          },
          "paper_bgcolor": "white",
          "plot_bgcolor": "#E5ECF6",
          "polar": {
           "angularaxis": {
            "gridcolor": "white",
            "linecolor": "white",
            "ticks": ""
           },
           "bgcolor": "#E5ECF6",
           "radialaxis": {
            "gridcolor": "white",
            "linecolor": "white",
            "ticks": ""
           }
          },
          "scene": {
           "xaxis": {
            "backgroundcolor": "#E5ECF6",
            "gridcolor": "white",
            "gridwidth": 2,
            "linecolor": "white",
            "showbackground": true,
            "ticks": "",
            "zerolinecolor": "white"
           },
           "yaxis": {
            "backgroundcolor": "#E5ECF6",
            "gridcolor": "white",
            "gridwidth": 2,
            "linecolor": "white",
            "showbackground": true,
            "ticks": "",
            "zerolinecolor": "white"
           },
           "zaxis": {
            "backgroundcolor": "#E5ECF6",
            "gridcolor": "white",
            "gridwidth": 2,
            "linecolor": "white",
            "showbackground": true,
            "ticks": "",
            "zerolinecolor": "white"
           }
          },
          "shapedefaults": {
           "line": {
            "color": "#2a3f5f"
           }
          },
          "ternary": {
           "aaxis": {
            "gridcolor": "white",
            "linecolor": "white",
            "ticks": ""
           },
           "baxis": {
            "gridcolor": "white",
            "linecolor": "white",
            "ticks": ""
           },
           "bgcolor": "#E5ECF6",
           "caxis": {
            "gridcolor": "white",
            "linecolor": "white",
            "ticks": ""
           }
          },
          "title": {
           "x": 0.05
          },
          "xaxis": {
           "automargin": true,
           "gridcolor": "white",
           "linecolor": "white",
           "ticks": "",
           "title": {
            "standoff": 15
           },
           "zerolinecolor": "white",
           "zerolinewidth": 2
          },
          "yaxis": {
           "automargin": true,
           "gridcolor": "white",
           "linecolor": "white",
           "ticks": "",
           "title": {
            "standoff": 15
           },
           "zerolinecolor": "white",
           "zerolinewidth": 2
          }
         }
        },
        "title": {
         "text": "Order counts by Category"
        },
        "xaxis": {
         "anchor": "y",
         "domain": [
          0,
          1
         ],
         "title": {
          "text": "category_name"
         }
        },
        "yaxis": {
         "anchor": "x",
         "domain": [
          0,
          1
         ],
         "title": {
          "text": "order_count"
         }
        }
       }
      }
     },
     "metadata": {},
     "output_type": "display_data"
    }
   ],
   "source": [
    "from pyspark.sql.functions import count_distinct\n",
    "grp_data1 = df.groupBy('category_name').agg(count_distinct('order_id').alias('order_count')).orderBy('order_count', ascending=False)\n",
    "fig = px.bar(grp_data1, x='category_name', y='order_count', title='Order counts by Category')\n",
    "\n",
    "fig.show()"
   ]
  },
  {
   "cell_type": "code",
   "execution_count": 34,
   "metadata": {},
   "outputs": [
    {
     "name": "stdout",
     "output_type": "stream",
     "text": [
      "+--------------------+-----+\n",
      "|       category_name|count|\n",
      "+--------------------+-----+\n",
      "|              Cleats| 4590|\n",
      "|      Men's Footwear| 4169|\n",
      "|     Women's Apparel| 3923|\n",
      "|Indoor/Outdoor Games| 3617|\n",
      "|             Fishing| 3209|\n",
      "|        Water Sports| 2924|\n",
      "|    Camping & Hiking| 2590|\n",
      "|    Cardio Equipment| 2332|\n",
      "|       Shop By Sport| 2154|\n",
      "|         Electronics|  562|\n",
      "|         Accessories|  319|\n",
      "|          Golf Balls|  263|\n",
      "|      Girls' Apparel|  232|\n",
      "|         Video Games|  181|\n",
      "|         Golf Gloves|  180|\n",
      "|            Trade-In|  177|\n",
      "| Children's Clothing|  125|\n",
      "|              Hockey|  111|\n",
      "|          Golf Shoes|  111|\n",
      "|            Cameras |  108|\n",
      "+--------------------+-----+\n",
      "only showing top 20 rows\n",
      "\n"
     ]
    }
   ],
   "source": [
    "spark.sql(\"\"\"Select category_name, \n",
    "          count(category_name) as count\n",
    "          from my_table\n",
    "          where benefit_per_order < 0\n",
    "          group by category_name\n",
    "          order by count desc\"\"\").show()"
   ]
  },
  {
   "cell_type": "code",
   "execution_count": 35,
   "metadata": {},
   "outputs": [
    {
     "name": "stdout",
     "output_type": "stream",
     "text": [
      "+---------------+-----+\n",
      "|   order_region|count|\n",
      "+---------------+-----+\n",
      "|Central America| 5268|\n",
      "| Western Europe| 5104|\n",
      "|  South America| 2754|\n",
      "|        Oceania| 1944|\n",
      "|Northern Europe| 1809|\n",
      "| Southeast Asia| 1790|\n",
      "|Southern Europe| 1734|\n",
      "|      Caribbean| 1566|\n",
      "|   West of USA | 1511|\n",
      "|     South Asia| 1469|\n",
      "|   Eastern Asia| 1397|\n",
      "|    East of USA| 1286|\n",
      "|      West Asia| 1114|\n",
      "|     US Center | 1111|\n",
      "| Eastern Europe|  773|\n",
      "| South of  USA |  741|\n",
      "|    West Africa|  699|\n",
      "|   North Africa|  617|\n",
      "| Central Africa|  334|\n",
      "|    East Africa|  321|\n",
      "+---------------+-----+\n",
      "only showing top 20 rows\n",
      "\n"
     ]
    }
   ],
   "source": [
    "spark.sql(\"\"\"Select order_region, \n",
    "          count(order_region) as count\n",
    "          from my_table\n",
    "          where benefit_per_order < 0\n",
    "          group by order_region\n",
    "          order by count desc\"\"\").show()"
   ]
  },
  {
   "cell_type": "code",
   "execution_count": 52,
   "metadata": {},
   "outputs": [
    {
     "data": {
      "text/html": [
       "<div>\n",
       "<style scoped>\n",
       "    .dataframe tbody tr th:only-of-type {\n",
       "        vertical-align: middle;\n",
       "    }\n",
       "\n",
       "    .dataframe tbody tr th {\n",
       "        vertical-align: top;\n",
       "    }\n",
       "\n",
       "    .dataframe thead th {\n",
       "        text-align: right;\n",
       "    }\n",
       "</style>\n",
       "<table border=\"1\" class=\"dataframe\">\n",
       "  <thead>\n",
       "    <tr style=\"text-align: right;\">\n",
       "      <th></th>\n",
       "      <th>product_card_id</th>\n",
       "      <th>count</th>\n",
       "    </tr>\n",
       "  </thead>\n",
       "  <tbody>\n",
       "    <tr>\n",
       "      <th>0</th>\n",
       "      <td>365</td>\n",
       "      <td>13473</td>\n",
       "    </tr>\n",
       "    <tr>\n",
       "      <th>1</th>\n",
       "      <td>403</td>\n",
       "      <td>12121</td>\n",
       "    </tr>\n",
       "    <tr>\n",
       "      <th>2</th>\n",
       "      <td>502</td>\n",
       "      <td>11476</td>\n",
       "    </tr>\n",
       "    <tr>\n",
       "      <th>3</th>\n",
       "      <td>1014</td>\n",
       "      <td>10565</td>\n",
       "    </tr>\n",
       "    <tr>\n",
       "      <th>4</th>\n",
       "      <td>1004</td>\n",
       "      <td>9516</td>\n",
       "    </tr>\n",
       "    <tr>\n",
       "      <th>...</th>\n",
       "      <td>...</td>\n",
       "      <td>...</td>\n",
       "    </tr>\n",
       "    <tr>\n",
       "      <th>113</th>\n",
       "      <td>61</td>\n",
       "      <td>12</td>\n",
       "    </tr>\n",
       "    <tr>\n",
       "      <th>114</th>\n",
       "      <td>60</td>\n",
       "      <td>7</td>\n",
       "    </tr>\n",
       "    <tr>\n",
       "      <th>115</th>\n",
       "      <td>860</td>\n",
       "      <td>6</td>\n",
       "    </tr>\n",
       "    <tr>\n",
       "      <th>116</th>\n",
       "      <td>208</td>\n",
       "      <td>6</td>\n",
       "    </tr>\n",
       "    <tr>\n",
       "      <th>117</th>\n",
       "      <td>226</td>\n",
       "      <td>6</td>\n",
       "    </tr>\n",
       "  </tbody>\n",
       "</table>\n",
       "<p>118 rows × 2 columns</p>\n",
       "</div>"
      ],
      "text/plain": [
       "     product_card_id  count\n",
       "0                365  13473\n",
       "1                403  12121\n",
       "2                502  11476\n",
       "3               1014  10565\n",
       "4               1004   9516\n",
       "..               ...    ...\n",
       "113               61     12\n",
       "114               60      7\n",
       "115              860      6\n",
       "116              208      6\n",
       "117              226      6\n",
       "\n",
       "[118 rows x 2 columns]"
      ]
     },
     "execution_count": 52,
     "metadata": {},
     "output_type": "execute_result"
    }
   ],
   "source": [
    "spark.sql(\"\"\"Select product_card_id, \n",
    "          count(product_card_id) as count\n",
    "          from my_table\n",
    "          where delivery_status = \"Late delivery\"\n",
    "          group by product_card_id\n",
    "          order by count desc\"\"\").toPandas()"
   ]
  },
  {
   "cell_type": "code",
   "execution_count": 39,
   "metadata": {},
   "outputs": [
    {
     "name": "stderr",
     "output_type": "stream",
     "text": [
      "                                                                                \r"
     ]
    },
    {
     "data": {
      "text/html": [
       "<div>\n",
       "<style scoped>\n",
       "    .dataframe tbody tr th:only-of-type {\n",
       "        vertical-align: middle;\n",
       "    }\n",
       "\n",
       "    .dataframe tbody tr th {\n",
       "        vertical-align: top;\n",
       "    }\n",
       "\n",
       "    .dataframe thead th {\n",
       "        text-align: right;\n",
       "    }\n",
       "</style>\n",
       "<table border=\"1\" class=\"dataframe\">\n",
       "  <thead>\n",
       "    <tr style=\"text-align: right;\">\n",
       "      <th></th>\n",
       "      <th>product_name</th>\n",
       "      <th>count</th>\n",
       "    </tr>\n",
       "  </thead>\n",
       "  <tbody>\n",
       "    <tr>\n",
       "      <th>0</th>\n",
       "      <td>Perfect Fitness Perfect Rip Deck</td>\n",
       "      <td>13473</td>\n",
       "    </tr>\n",
       "    <tr>\n",
       "      <th>1</th>\n",
       "      <td>Nike Men's CJ Elite 2 TD Football Cleat</td>\n",
       "      <td>12121</td>\n",
       "    </tr>\n",
       "    <tr>\n",
       "      <th>2</th>\n",
       "      <td>Nike Men's Dri-FIT Victory Golf Polo</td>\n",
       "      <td>11476</td>\n",
       "    </tr>\n",
       "    <tr>\n",
       "      <th>3</th>\n",
       "      <td>O'Brien Men's Neoprene Life Vest</td>\n",
       "      <td>10565</td>\n",
       "    </tr>\n",
       "    <tr>\n",
       "      <th>4</th>\n",
       "      <td>Field &amp; Stream Sportsman 16 Gun Fire Safe</td>\n",
       "      <td>9516</td>\n",
       "    </tr>\n",
       "    <tr>\n",
       "      <th>...</th>\n",
       "      <td>...</td>\n",
       "      <td>...</td>\n",
       "    </tr>\n",
       "    <tr>\n",
       "      <th>113</th>\n",
       "      <td>Diamondback Girls' Clarity 24 Hybrid Bike 201</td>\n",
       "      <td>12</td>\n",
       "    </tr>\n",
       "    <tr>\n",
       "      <th>114</th>\n",
       "      <td>SOLE E25 Elliptical</td>\n",
       "      <td>7</td>\n",
       "    </tr>\n",
       "    <tr>\n",
       "      <th>115</th>\n",
       "      <td>SOLE E35 Elliptical</td>\n",
       "      <td>6</td>\n",
       "    </tr>\n",
       "    <tr>\n",
       "      <th>116</th>\n",
       "      <td>Bushnell Pro X7 Jolt Slope Rangefinder</td>\n",
       "      <td>6</td>\n",
       "    </tr>\n",
       "    <tr>\n",
       "      <th>117</th>\n",
       "      <td>Bowflex SelectTech 1090 Dumbbells</td>\n",
       "      <td>6</td>\n",
       "    </tr>\n",
       "  </tbody>\n",
       "</table>\n",
       "<p>118 rows × 2 columns</p>\n",
       "</div>"
      ],
      "text/plain": [
       "                                      product_name  count\n",
       "0                 Perfect Fitness Perfect Rip Deck  13473\n",
       "1          Nike Men's CJ Elite 2 TD Football Cleat  12121\n",
       "2             Nike Men's Dri-FIT Victory Golf Polo  11476\n",
       "3                 O'Brien Men's Neoprene Life Vest  10565\n",
       "4        Field & Stream Sportsman 16 Gun Fire Safe   9516\n",
       "..                                             ...    ...\n",
       "113  Diamondback Girls' Clarity 24 Hybrid Bike 201     12\n",
       "114                            SOLE E25 Elliptical      7\n",
       "115                            SOLE E35 Elliptical      6\n",
       "116         Bushnell Pro X7 Jolt Slope Rangefinder      6\n",
       "117              Bowflex SelectTech 1090 Dumbbells      6\n",
       "\n",
       "[118 rows x 2 columns]"
      ]
     },
     "execution_count": 39,
     "metadata": {},
     "output_type": "execute_result"
    }
   ],
   "source": [
    "spark.sql(\"\"\"Select product_name, \n",
    "          count(product_name) as count\n",
    "          from my_table\n",
    "          where delivery_status = \"Late delivery\"\n",
    "          group by product_name\n",
    "          order by count desc\"\"\").toPandas()"
   ]
  },
  {
   "cell_type": "code",
   "execution_count": 41,
   "metadata": {},
   "outputs": [
    {
     "name": "stdout",
     "output_type": "stream",
     "text": [
      "+--------------------+-----+\n",
      "|       category_name|count|\n",
      "+--------------------+-----+\n",
      "|              Cleats|13496|\n",
      "|      Men's Footwear|12121|\n",
      "|     Women's Apparel|11476|\n",
      "|Indoor/Outdoor Games|10565|\n",
      "|             Fishing| 9516|\n",
      "|        Water Sports| 8517|\n",
      "|    Camping & Hiking| 7487|\n",
      "|    Cardio Equipment| 6805|\n",
      "|       Shop By Sport| 6058|\n",
      "|         Electronics| 1770|\n",
      "|         Accessories| 1014|\n",
      "|          Golf Balls|  805|\n",
      "|      Girls' Apparel|  664|\n",
      "|         Golf Gloves|  602|\n",
      "|            Trade-In|  542|\n",
      "|         Video Games|  455|\n",
      "|    Women's Clothing|  367|\n",
      "| Baseball & Softball|  349|\n",
      "| Children's Clothing|  348|\n",
      "|            Cameras |  344|\n",
      "+--------------------+-----+\n",
      "only showing top 20 rows\n",
      "\n"
     ]
    }
   ],
   "source": [
    "spark.sql(\"\"\"Select category_name, \n",
    "          count(category_name) as count\n",
    "          from my_table\n",
    "          where delivery_status = \"Late delivery\"\n",
    "          group by category_name\n",
    "          order by count desc\"\"\").show()"
   ]
  },
  {
   "cell_type": "code",
   "execution_count": 45,
   "metadata": {},
   "outputs": [
    {
     "name": "stderr",
     "output_type": "stream",
     "text": [
      "                                                                                \r"
     ]
    }
   ],
   "source": [
    "df_pandas = df.toPandas()"
   ]
  },
  {
   "cell_type": "code",
   "execution_count": 47,
   "metadata": {},
   "outputs": [
    {
     "data": {
      "image/png": "[encoded data removed]",
      "text/plain": [
       "<Figure size 2000x1400 with 2 Axes>"
      ]
     },
     "metadata": {},
     "output_type": "display_data"
    }
   ],
   "source": [
    "df_numeric = df_pandas.select_dtypes(include='number')\n",
    "corr_matrix = df_numeric.corr()\n",
    "\n",
    "plt.figure(figsize=(20, 14))\n",
    "sns.heatmap(corr_matrix, annot=True, cmap='coolwarm', vmin=-1, vmax=1, annot_kws={\"size\": 8})\n",
    "plt.title('Correlation Matrix')\n",
    "plt.show()"
   ]
  },
  {
   "cell_type": "code",
   "execution_count": 50,
   "metadata": {},
   "outputs": [
    {
     "name": "stdout",
     "output_type": "stream",
     "text": [
      "+-------------------+------------------------+-----------------------+-------------------+------+----------------+----------------------+-------------+-----------------+\n",
      "|order_item_discount|order_item_discount_rate|order_item_profit_ratio|order_item_quantity| sales|order_item_total|order_profit_per_order|product_price|benefit_per_order|\n",
      "+-------------------+------------------------+-----------------------+-------------------+------+----------------+----------------------+-------------+-----------------+\n",
      "|        13.10999966|             0.039999999|            0.289999992|                  1|327.75|     314.6400146|                 91.25|       327.75|            91.25|\n",
      "|        16.38999939|             0.050000001|           -0.800000012|                  1|327.75|     311.3599854|          -249.0899963|       327.75|     -249.0899963|\n",
      "|        18.03000069|             0.059999999|           -0.800000012|                  1|327.75|     309.7200012|          -247.7799988|       327.75|     -247.7799988|\n",
      "|        22.94000053|                    0.07|            0.079999998|                  1|327.75|     304.8099976|           22.86000061|       327.75|      22.86000061|\n",
      "|               29.5|             0.090000004|            0.449999988|                  1|327.75|          298.25|           134.2100067|       327.75|      134.2100067|\n",
      "+-------------------+------------------------+-----------------------+-------------------+------+----------------+----------------------+-------------+-----------------+\n",
      "only showing top 5 rows\n",
      "\n"
     ]
    }
   ],
   "source": [
    "df.select('order_item_discount','order_item_discount_rate',\n",
    "          'order_item_profit_ratio','order_item_quantity',\n",
    "          'sales','order_item_total','order_profit_per_order',\n",
    "          'product_price', 'benefit_per_order').show(5)"
   ]
  },
  {
   "cell_type": "markdown",
   "metadata": {},
   "source": [
    "When you do some basic math you will find these below relationship among these columns:-\n",
    "\n",
    "* Sales = Product Price * Order Item Quantity\n",
    "* Order Item Total = Sales - Order Item Discount\n",
    "* Order Item Discount = Sales * Order Item Discount Rate\n",
    "* Order Profit Per Order= Order Item Total * Order Item Profit Ratio\n",
    "\n",
    "These are perfect multi colinear features that shouldn't be passed on to regression models because it affects the performance of the model. You can drop one of the features from each of the above relationship."
   ]
  },
  {
   "cell_type": "code",
   "execution_count": 56,
   "metadata": {},
   "outputs": [
    {
     "name": "stdout",
     "output_type": "stream",
     "text": [
      "+------------------+\n",
      "|   department_name|\n",
      "+------------------+\n",
      "|              Golf|\n",
      "|           Apparel|\n",
      "|          Outdoors|\n",
      "|           Fitness|\n",
      "|          Footwear|\n",
      "|Health and Beauty |\n",
      "|          Fan Shop|\n",
      "|        Technology|\n",
      "|        Discs Shop|\n",
      "|         Book Shop|\n",
      "|          Pet Shop|\n",
      "+------------------+\n",
      "\n"
     ]
    }
   ],
   "source": [
    "spark.sql(\"\"\"Select distinct(department_name) \n",
    "          FROM my_table\n",
    "          \"\"\").show()"
   ]
  },
  {
   "cell_type": "code",
   "execution_count": 55,
   "metadata": {},
   "outputs": [
    {
     "name": "stdout",
     "output_type": "stream",
     "text": [
      "+--------+------------------------+-----------------------------+-----------------+------------------+-----------------+------------------+-----------+-------------+-------------+----------------+-----------+----------------+--------------+----------------+-------------+---------------+------------+-------------+--------------------+-----------------+--------+----------------------+-------------------+------------------------+-------------+------------------------+-----------------------+-------------------+-----------+----------------+----------------------+---------------+----------------+---------------+-------------+---------------+-------------------+--------------------+-------------+--------------+--------------+----------+-------------+\n",
      "|    type|days_for_shipping_(real)|days_for_shipment_(scheduled)|benefit_per_order|sales_per_customer|  delivery_status|late_delivery_risk|category_id|category_name|customer_city|customer_country|customer_id|customer_segment|customer_state|customer_zipcode|department_id|department_name|      market|   order_city|       order_country|order_customer_id|order_id|order_item_cardprod_id|order_item_discount|order_item_discount_rate|order_item_id|order_item_product_price|order_item_profit_ratio|order_item_quantity|      sales|order_item_total|order_profit_per_order|   order_region|     order_state|   order_status|order_zipcode|product_card_id|product_category_id|        product_name|product_price|product_status| shipping_mode|order_date|shipping_date|\n",
      "+--------+------------------------+-----------------------------+-----------------+------------------+-----------------+------------------+-----------+-------------+-------------+----------------+-----------+----------------+--------------+----------------+-------------+---------------+------------+-------------+--------------------+-----------------+--------+----------------------+-------------------+------------------------+-------------+------------------------+-----------------------+-------------------+-----------+----------------+----------------------+---------------+----------------+---------------+-------------+---------------+-------------------+--------------------+-------------+--------------+--------------+----------+-------------+\n",
      "| PAYMENT|                       5|                            2|           -30.75|       115.1800003|    Late delivery|                 1|         17|       Cleats|      Bayamon|     Puerto Rico|       9083|     Home Office|            PR|             957|            4|        Apparel|Pacific Asia|     Mirzapur|               India|             9083|   28744|                   365|        4.800000191|             0.039999999|        71956|             59.99000168|           -0.270000011|                  2|119.9800034|     115.1800003|                -30.75|     South Asia|   Uttar Pradesh|PENDING_PAYMENT|         NULL|            365|                 17|Perfect Fitness P...|  59.99000168|             0|  Second Class|2016-02-24|   2016-02-29|\n",
      "| PAYMENT|                       6|                            2|       30.5699997|       117.5800018|    Late delivery|                 1|         17|       Cleats|       Caguas|     Puerto Rico|       7864|     Home Office|            PR|             725|            4|        Apparel|        USCA|San Francisco|      Estados Unidos|             7864|   32090|                   365|        2.400000095|                    0.02|        80250|             59.99000168|             0.25999999|                  2|119.9800034|     117.5800018|            30.5699997|   West of USA |      California|PENDING_PAYMENT|        94110|            365|                 17|Perfect Fitness P...|  59.99000168|             0|  Second Class|2016-04-13|   2016-04-19|\n",
      "| PAYMENT|                       4|                            2|       46.0699997|       95.98000336|    Late delivery|                 1|         17|       Cleats|       Caguas|     Puerto Rico|      11169|     Home Office|            PR|             725|            4|        Apparel|        USCA|Overland Park|      Estados Unidos|            11169|   34773|                   365|               24.0|             0.200000003|        86866|             59.99000168|            0.479999989|                  2|119.9800034|     95.98000336|            46.0699997|     US Center |          Kansas|PENDING_PAYMENT|        66212|            365|                 17|Perfect Fitness P...|  59.99000168|             0|  Second Class|2016-05-22|   2016-05-26|\n",
      "| PAYMENT|                       4|                            2|      81.12999725|       176.3699951|    Late delivery|                 1|         17|       Cleats|       Caguas|     Puerto Rico|        650|     Home Office|            PR|             725|            4|        Apparel|      Europe|    Groningen|        Pa�ses Bajos|              650|   18108|                   365|        3.599999905|                    0.02|        45253|             59.99000168|            0.460000008|                  3|179.9700012|     176.3699951|           81.12999725| Western Europe|       Groningen|PENDING_PAYMENT|         NULL|            365|                 17|Perfect Fitness P...|  59.99000168|             0|  Second Class|2015-09-22|   2015-09-26|\n",
      "| PAYMENT|                       3|                            2|      68.77999878|       163.7700043|    Late delivery|                 1|         17|       Cleats|       Caguas|     Puerto Rico|         54|     Home Office|            PR|             725|            4|        Apparel|      Europe|   Eastbourne|         Reino Unido|               54|   17162|                   365|        16.20000076|             0.090000004|        42919|             59.99000168|            0.419999987|                  3|179.9700012|     163.7700043|           68.77999878|Northern Europe|      Inglaterra|PENDING_PAYMENT|         NULL|            365|                 17|Perfect Fitness P...|  59.99000168|             0|  Second Class|2015-09-08|   2015-09-11|\n",
      "| PAYMENT|                       5|                            2|       49.3199997|       170.0700073|    Late delivery|                 1|         17|       Cleats|       Caguas|     Puerto Rico|      10679|     Home Office|            PR|             725|            4|        Apparel|       LATAM|Santo Domingo|Rep�blica Dominicana|            10679|    7824|                   365|        9.899999619|             0.059999999|        19564|             59.99000168|            0.289999992|                  3|179.9700012|     170.0700073|            49.3199997|      Caribbean|   Santo Domingo|PENDING_PAYMENT|         NULL|            365|                 17|Perfect Fitness P...|  59.99000168|             0|  Second Class|2015-04-25|   2015-04-30|\n",
      "| PAYMENT|                       5|                            2|      80.33999634|       167.3699951|    Late delivery|                 1|         17|       Cleats|       Caguas|     Puerto Rico|       5007|     Home Office|            PR|             725|            4|        Apparel|       LATAM|      Cabimas|           Venezuela|             5007|    7814|                   365|        12.60000038|                    0.07|        19544|             59.99000168|            0.479999989|                  3|179.9700012|     167.3699951|           80.33999634|  South America|           Zulia|PENDING_PAYMENT|         NULL|            365|                 17|Perfect Fitness P...|  59.99000168|             0|  Second Class|2015-04-25|   2015-04-30|\n",
      "| PAYMENT|                       5|                            2|     -26.69000053|       163.7700043|    Late delivery|                 1|         17|       Cleats|       Caguas|     Puerto Rico|       5007|     Home Office|            PR|             725|            4|        Apparel|       LATAM|      Cabimas|           Venezuela|             5007|    7814|                   365|        16.20000076|             0.090000004|        19542|             59.99000168|           -0.159999996|                  3|179.9700012|     163.7700043|          -26.69000053|  South America|           Zulia|PENDING_PAYMENT|         NULL|            365|                 17|Perfect Fitness P...|  59.99000168|             0|  Second Class|2015-04-25|   2015-04-30|\n",
      "|TRANSFER|                       5|                            4|     -155.8999939|       283.4500122|    Late delivery|                 1|         17|       Cleats|       Caguas|     Puerto Rico|       1473|        Consumer|            PR|             725|            4|        Apparel|       LATAM|      C�rdoba|              M�xico|             1473|     399|                   365|               16.5|             0.059999999|          989|             59.99000168|           -0.550000012|                  5|299.9500122|     283.4500122|          -155.8999939|Central America|        Veracruz|     PROCESSING|         NULL|            365|                 17|Perfect Fitness P...|  59.99000168|             0|Standard Class|2015-01-06|   2015-01-11|\n",
      "|   DEBIT|                       6|                            2|      24.60000038|       49.18999863|    Late delivery|                 1|         17|       Cleats|       Caguas|     Puerto Rico|       6757|        Consumer|            PR|             725|            4|        Apparel|      Africa|       Jartum|               Sud�n|             6757|   45680|                   365|        10.80000019|             0.180000007|       114173|             59.99000168|                    0.5|                  1|59.99000168|     49.18999863|           24.60000038|   North Africa|          Jartum|        ON_HOLD|         NULL|            365|                 17|Perfect Fitness P...|  59.99000168|             0|  Second Class|2016-10-28|   2016-11-03|\n",
      "|TRANSFER|                       2|                            4|      10.77000046|       170.9700012|Shipping canceled|                 0|         17|       Cleats|       Corona|         EE. UU.|       9174|        Consumer|            NY|           11368|            4|        Apparel|        USCA|       Fresno|      Estados Unidos|             9174|   34506|                   365|                9.0|             0.050000001|        86191|             59.99000168|            0.059999999|                  3|179.9700012|     170.9700012|           10.77000046|   West of USA |      California|SUSPECTED_FRAUD|        93727|            365|                 17|Perfect Fitness P...|  59.99000168|             0|Standard Class|2016-05-18|   2016-05-20|\n",
      "|TRANSFER|                       3|                            4|     -284.5299988|       167.3699951|Shipping canceled|                 0|         17|       Cleats|   Cincinnati|         EE. UU.|        122|        Consumer|            OH|           45238|            4|        Apparel|        USCA|       Peoria|      Estados Unidos|              122|   33607|                   365|        12.60000038|                    0.07|        83892|             59.99000168|           -1.700000048|                  3|179.9700012|     167.3699951|          -284.5299988|   West of USA |         Arizona|SUSPECTED_FRAUD|        85345|            365|                 17|Perfect Fitness P...|  59.99000168|             0|Standard Class|2016-05-05|   2016-05-08|\n",
      "|TRANSFER|                       3|                            4|      69.68000031|       158.3699951|Shipping canceled|                 0|         17|       Cleats|   Germantown|         EE. UU.|       3800|        Consumer|            MD|           20874|            4|        Apparel|        USCA|   Cincinnati|      Estados Unidos|             3800|   32617|                   365|        21.60000038|             0.119999997|        81596|             59.99000168|            0.439999998|                  3|179.9700012|     158.3699951|           69.68000031|    East of USA|            Ohio|SUSPECTED_FRAUD|        45231|            365|                 17|Perfect Fitness P...|  59.99000168|             0|Standard Class|2016-04-21|   2016-04-24|\n",
      "|TRANSFER|                       2|                            4|     -12.98999977|       227.9600067|Shipping canceled|                 0|         17|       Cleats|         Rome|         EE. UU.|       6246|        Consumer|            NY|           13440|            4|        Apparel|      Africa| Antananarivo|          Madagascar|             6246|   42331|                   365|               12.0|             0.050000001|       105703|             59.99000168|           -0.059999999|                  4|239.9600067|     227.9600067|          -12.98999977|    East Africa|      Analamanga|       CANCELED|         NULL|            365|                 17|Perfect Fitness P...|  59.99000168|             0|Standard Class|2016-09-09|   2016-09-11|\n",
      "|TRANSFER|                       6|                            4|      74.04000092|       203.9700012|Shipping canceled|                 0|         17|       Cleats|        Vista|         EE. UU.|       8741|        Consumer|            CA|           92083|            4|        Apparel|      Africa|      Algiers|             Argelia|             8741|   41345|                   365|        35.99000168|             0.150000006|       103211|             59.99000168|            0.360000014|                  4|239.9600067|     203.9700012|           74.04000092|   North Africa|           Alger|       CANCELED|         NULL|            365|                 17|Perfect Fitness P...|  59.99000168|             0|Standard Class|2016-08-26|   2016-09-01|\n",
      "|TRANSFER|                       4|                            4|      64.79000092|       239.9600067| Shipping on time|                 0|         17|       Cleats|       Oviedo|         EE. UU.|      10288|        Consumer|            FL|           32765|            4|        Apparel|      Africa|          Fes|           Marruecos|            10288|   45088|                   365|                0.0|                     0.0|       112591|             59.99000168|            0.270000011|                  4|239.9600067|     239.9600067|           64.79000092|   North Africa|      Fez-Bulm�n|        PENDING|         NULL|            365|                 17|Perfect Fitness P...|  59.99000168|             0|Standard Class|2016-10-20|   2016-10-24|\n",
      "|TRANSFER|                       5|                            4|      74.08999634|       227.9600067|    Late delivery|                 1|         17|       Cleats|     Honolulu|         EE. UU.|       4799|        Consumer|            HI|           96822|            4|        Apparel|      Africa|        Dakar|             Senegal|             4799|   44409|                   365|               12.0|             0.050000001|       110862|             59.99000168|            0.330000013|                  4|239.9600067|     227.9600067|           74.08999634|    West Africa|           Dakar|        PENDING|         NULL|            365|                 17|Perfect Fitness P...|  59.99000168|             0|Standard Class|2016-10-10|   2016-10-15|\n",
      "|TRANSFER|                       2|                            4|      92.97000122|       226.7599945| Advance shipping|                 0|         17|       Cleats|    Oceanside|         EE. UU.|       4533|        Consumer|            CA|           92056|            4|        Apparel|      Africa|     Hurghada|              Egipto|             4533|   42101|                   365|        13.19999981|             0.059999999|       105115|             59.99000168|            0.409999996|                  4|239.9600067|     226.7599945|           92.97000122|   North Africa|Al Bahr al Ahmar|        PENDING|         NULL|            365|                 17|Perfect Fitness P...|  59.99000168|             0|Standard Class|2016-09-06|   2016-09-08|\n",
      "|   DEBIT|                       4|                            4|      27.36000061|       56.99000168| Shipping on time|                 0|         17|       Cleats|    San Diego|         EE. UU.|      10081|       Corporate|            CA|           92115|            4|        Apparel|Pacific Asia|   Gold Coast|           Australia|            10081|   28168|                   365|                3.0|             0.050000001|        70443|             59.99000168|            0.479999989|                  1|59.99000168|     56.99000168|           27.36000061|        Oceania|      Queensland|       COMPLETE|         NULL|            365|                 17|Perfect Fitness P...|  59.99000168|             0|Standard Class|2016-02-16|   2016-02-20|\n",
      "|   DEBIT|                       4|                            4|            14.25|       56.99000168| Shipping on time|                 0|         17|       Cleats|      Ontario|         EE. UU.|       6422|       Corporate|            CA|           91762|            4|        Apparel|Pacific Asia|       Bagdad|                Irak|             6422|   42828|                   365|                3.0|             0.050000001|       106946|             59.99000168|                   0.25|                  1|59.99000168|     56.99000168|                 14.25|      West Asia|          Bagdad|       COMPLETE|         NULL|            365|                 17|Perfect Fitness P...|  59.99000168|             0|Standard Class|2016-09-17|   2016-09-21|\n",
      "+--------+------------------------+-----------------------------+-----------------+------------------+-----------------+------------------+-----------+-------------+-------------+----------------+-----------+----------------+--------------+----------------+-------------+---------------+------------+-------------+--------------------+-----------------+--------+----------------------+-------------------+------------------------+-------------+------------------------+-----------------------+-------------------+-----------+----------------+----------------------+---------------+----------------+---------------+-------------+---------------+-------------------+--------------------+-------------+--------------+--------------+----------+-------------+\n",
      "only showing top 20 rows\n",
      "\n"
     ]
    }
   ],
   "source": [
    "spark.sql(\"\"\"Select * \n",
    "          FROM my_table\n",
    "          WHERE product_card_id = 365\n",
    "          AND order_date <= '2017-01-01'\n",
    "          \"\"\").show()"
   ]
  },
  {
   "cell_type": "code",
   "execution_count": 24,
   "metadata": {},
   "outputs": [
    {
     "name": "stdout",
     "output_type": "stream",
     "text": [
      "+--------+------------------------+-----------------------------+-----------------+------------------+-----------------+------------------+-----------+--------------+--------------+----------------+-----------+----------------+--------------+----------------+-------------+---------------+------------+----------+-------------+-----------------+--------+----------------------+-------------------+------------------------+-------------+------------------------+-----------------------+-------------------+------+----------------+----------------------+--------------+--------------------+---------------+-------------+---------------+-------------------+------------+-------------+--------------+--------------+----------+-------------+\n",
      "|    type|days_for_shipping_(real)|days_for_shipment_(scheduled)|benefit_per_order|sales_per_customer|  delivery_status|late_delivery_risk|category_id| category_name| customer_city|customer_country|customer_id|customer_segment|customer_state|customer_zipcode|department_id|department_name|      market|order_city|order_country|order_customer_id|order_id|order_item_cardprod_id|order_item_discount|order_item_discount_rate|order_item_id|order_item_product_price|order_item_profit_ratio|order_item_quantity| sales|order_item_total|order_profit_per_order|  order_region|         order_state|   order_status|order_zipcode|product_card_id|product_category_id|product_name|product_price|product_status| shipping_mode|order_date|shipping_date|\n",
      "+--------+------------------------+-----------------------------+-----------------+------------------+-----------------+------------------+-----------+--------------+--------------+----------------+-----------+----------------+--------------+----------------+-------------+---------------+------------+----------+-------------+-----------------+--------+----------------------+-------------------+------------------------+-------------+------------------------+-----------------------+-------------------+------+----------------+----------------------+--------------+--------------------+---------------+-------------+---------------+-------------------+------------+-------------+--------------+--------------+----------+-------------+\n",
      "|   DEBIT|                       3|                            4|            91.25|       314.6400146| Advance shipping|                 0|         73|Sporting Goods|        Caguas|     Puerto Rico|      20755|        Consumer|            PR|             725|            2|        Fitness|Pacific Asia|    Bekasi|    Indonesia|            20755|   77202|                  1360|        13.10999966|             0.039999999|       180517|                  327.75|            0.289999992|                  1|327.75|     314.6400146|                 91.25|Southeast Asia|     Java Occidental|       COMPLETE|         NULL|           1360|                 73|Smart watch |       327.75|             0|Standard Class|2018-01-31|   2018-02-03|\n",
      "|TRANSFER|                       5|                            4|     -249.0899963|       311.3599854|    Late delivery|                 1|         73|Sporting Goods|        Caguas|     Puerto Rico|      19492|        Consumer|            PR|             725|            2|        Fitness|Pacific Asia|   Bikaner|        India|            19492|   75939|                  1360|        16.38999939|             0.050000001|       179254|                  327.75|           -0.800000012|                  1|327.75|     311.3599854|          -249.0899963|    South Asia|            Rajast�n|        PENDING|         NULL|           1360|                 73|Smart watch |       327.75|             0|Standard Class|2018-01-13|   2018-01-18|\n",
      "|    CASH|                       4|                            4|     -247.7799988|       309.7200012| Shipping on time|                 0|         73|Sporting Goods|      San Jose|         EE. UU.|      19491|        Consumer|            CA|           95125|            2|        Fitness|Pacific Asia|   Bikaner|        India|            19491|   75938|                  1360|        18.03000069|             0.059999999|       179253|                  327.75|           -0.800000012|                  1|327.75|     309.7200012|          -247.7799988|    South Asia|            Rajast�n|         CLOSED|         NULL|           1360|                 73|Smart watch |       327.75|             0|Standard Class|2018-01-13|   2018-01-17|\n",
      "|   DEBIT|                       3|                            4|      22.86000061|       304.8099976| Advance shipping|                 0|         73|Sporting Goods|   Los Angeles|         EE. UU.|      19490|     Home Office|            CA|           90027|            2|        Fitness|Pacific Asia|Townsville|    Australia|            19490|   75937|                  1360|        22.94000053|                    0.07|       179252|                  327.75|            0.079999998|                  1|327.75|     304.8099976|           22.86000061|       Oceania|          Queensland|       COMPLETE|         NULL|           1360|                 73|Smart watch |       327.75|             0|Standard Class|2018-01-13|   2018-01-16|\n",
      "| PAYMENT|                       2|                            4|      134.2100067|            298.25| Advance shipping|                 0|         73|Sporting Goods|        Caguas|     Puerto Rico|      19489|       Corporate|            PR|             725|            2|        Fitness|Pacific Asia|Townsville|    Australia|            19489|   75936|                  1360|               29.5|             0.090000004|       179251|                  327.75|            0.449999988|                  1|327.75|          298.25|           134.2100067|       Oceania|          Queensland|PENDING_PAYMENT|         NULL|           1360|                 73|Smart watch |       327.75|             0|Standard Class|2018-01-13|   2018-01-15|\n",
      "|TRANSFER|                       6|                            4|      18.57999992|        294.980011|Shipping canceled|                 0|         73|Sporting Goods|     Tonawanda|         EE. UU.|      19488|        Consumer|            NY|           14150|            2|        Fitness|Pacific Asia| Toowoomba|    Australia|            19488|   75935|                  1360|        32.77999878|             0.100000001|       179250|                  327.75|            0.059999999|                  1|327.75|      294.980011|           18.57999992|       Oceania|          Queensland|       CANCELED|         NULL|           1360|                 73|Smart watch |       327.75|             0|Standard Class|2018-01-13|   2018-01-19|\n",
      "|   DEBIT|                       2|                            1|      95.18000031|       288.4200134|    Late delivery|                 1|         73|Sporting Goods|        Caguas|     Puerto Rico|      19487|     Home Office|            PR|             725|            2|        Fitness|Pacific Asia| Guangzhou|        China|            19487|   75934|                  1360|        39.33000183|             0.119999997|       179249|                  327.75|            0.330000013|                  1|327.75|     288.4200134|           95.18000031|  Eastern Asia|           Guangdong|       COMPLETE|         NULL|           1360|                 73|Smart watch |       327.75|             0|   First Class|2018-01-13|   2018-01-15|\n",
      "|TRANSFER|                       2|                            1|      68.43000031|       285.1400146|    Late delivery|                 1|         73|Sporting Goods|         Miami|         EE. UU.|      19486|       Corporate|            FL|           33162|            2|        Fitness|Pacific Asia| Guangzhou|        China|            19486|   75933|                  1360|        42.61000061|             0.129999995|       179248|                  327.75|            0.239999995|                  1|327.75|     285.1400146|           68.43000031|  Eastern Asia|           Guangdong|     PROCESSING|         NULL|           1360|                 73|Smart watch |       327.75|             0|   First Class|2018-01-13|   2018-01-15|\n",
      "|    CASH|                       3|                            2|      133.7200012|       278.5899963|    Late delivery|                 1|         73|Sporting Goods|        Caguas|     Puerto Rico|      19485|       Corporate|            PR|             725|            2|        Fitness|Pacific Asia| Guangzhou|        China|            19485|   75932|                  1360|        49.15999985|             0.150000006|       179247|                  327.75|            0.479999989|                  1|327.75|     278.5899963|           133.7200012|  Eastern Asia|           Guangdong|         CLOSED|         NULL|           1360|                 73|Smart watch |       327.75|             0|  Second Class|2018-01-13|   2018-01-16|\n",
      "|    CASH|                       2|                            1|      132.1499939|       275.3099976|    Late delivery|                 1|         73|Sporting Goods|     San Ramon|         EE. UU.|      19484|       Corporate|            CA|           94583|            2|        Fitness|Pacific Asia| Guangzhou|        China|            19484|   75931|                  1360|        52.43999863|             0.159999996|       179246|                  327.75|            0.479999989|                  1|327.75|     275.3099976|           132.1499939|  Eastern Asia|           Guangdong|         CLOSED|         NULL|           1360|                 73|Smart watch |       327.75|             0|   First Class|2018-01-13|   2018-01-15|\n",
      "|TRANSFER|                       6|                            2|      130.5800018|       272.0299988|Shipping canceled|                 0|         73|Sporting Goods|        Caguas|     Puerto Rico|      19483|       Corporate|            PR|             725|            2|        Fitness|Pacific Asia|     Tokio|        Jap�n|            19483|   75930|                  1360|        55.72000122|             0.170000002|       179245|                  327.75|            0.479999989|                  1|327.75|     272.0299988|           130.5800018|  Eastern Asia|               Tokio|SUSPECTED_FRAUD|         NULL|           1360|                 73|Smart watch |       327.75|             0|  Second Class|2018-01-13|   2018-01-19|\n",
      "|TRANSFER|                       5|                            2|      45.68999863|       268.7600098|    Late delivery|                 1|         73|Sporting Goods|      Freeport|         EE. UU.|      19482|        Consumer|            NY|           11520|            2|        Fitness|Pacific Asia|    Manado|    Indonesia|            19482|   75929|                  1360|               59.0|             0.180000007|       179244|                  327.75|            0.170000002|                  1|327.75|     268.7600098|           45.68999863|Southeast Asia|C�lebes Septentri...|        PENDING|         NULL|           1360|                 73|Smart watch |       327.75|             0|  Second Class|2018-01-13|   2018-01-18|\n",
      "|TRANSFER|                       4|                            2|      21.76000023|       262.2000122|    Late delivery|                 1|         73|Sporting Goods|       Salinas|         EE. UU.|      19481|       Corporate|            CA|           93905|            2|        Fitness|Pacific Asia|    Manado|    Indonesia|            19481|   75928|                  1360|        65.55000305|             0.200000003|       179243|                  327.75|            0.079999998|                  1|327.75|     262.2000122|           21.76000023|Southeast Asia|C�lebes Septentri...|        PENDING|         NULL|           1360|                 73|Smart watch |       327.75|             0|  Second Class|2018-01-13|   2018-01-17|\n",
      "|   DEBIT|                       2|                            1|      24.57999992|       245.8099976|    Late delivery|                 1|         73|Sporting Goods|        Caguas|     Puerto Rico|      19480|       Corporate|            PR|             725|            2|        Fitness|Pacific Asia|    Sangli|        India|            19480|   75927|                  1360|        81.94000244|                    0.25|       179242|                  327.75|            0.100000001|                  1|327.75|     245.8099976|           24.57999992|    South Asia|         Maharashtra|       COMPLETE|         NULL|           1360|                 73|Smart watch |       327.75|             0|   First Class|2018-01-13|   2018-01-15|\n",
      "|TRANSFER|                       2|                            1|      16.38999939|            327.75|    Late delivery|                 1|         73|Sporting Goods|       Peabody|         EE. UU.|      19479|       Corporate|            MA|            1960|            2|        Fitness|Pacific Asia|    Sangli|        India|            19479|   75926|                  1360|                0.0|                     0.0|       179241|                  327.75|            0.050000001|                  1|327.75|          327.75|           16.38999939|    South Asia|         Maharashtra|     PROCESSING|         NULL|           1360|                 73|Smart watch |       327.75|             0|   First Class|2018-01-13|   2018-01-15|\n",
      "|   DEBIT|                       2|                            1|     -259.5799866|       324.4700012|    Late delivery|                 1|         73|Sporting Goods|        Caguas|     Puerto Rico|      19478|       Corporate|            PR|             725|            2|        Fitness|Pacific Asia|    Sangli|        India|            19478|   75925|                  1360|        3.279999971|                    0.01|       179240|                  327.75|           -0.800000012|                  1|327.75|     324.4700012|          -259.5799866|    South Asia|         Maharashtra|       COMPLETE|         NULL|           1360|                 73|Smart watch |       327.75|             0|   First Class|2018-01-13|   2018-01-15|\n",
      "| PAYMENT|                       5|                            2|     -246.3600006|       321.2000122|    Late delivery|                 1|         73|Sporting Goods|     Canovanas|     Puerto Rico|      19477|       Corporate|            PR|             729|            2|        Fitness|Pacific Asia|      Se�l|Corea del Sur|            19477|   75924|                  1360|        6.559999943|                    0.02|       179239|                  327.75|           -0.769999981|                  1|327.75|     321.2000122|          -246.3600006|  Eastern Asia|                Se�l|PENDING_PAYMENT|         NULL|           1360|                 73|Smart watch |       327.75|             0|  Second Class|2018-01-13|   2018-01-18|\n",
      "|    CASH|                       2|                            1|      23.84000015|       317.9200134|    Late delivery|                 1|         73|Sporting Goods|     Paramount|         EE. UU.|      19476|       Corporate|            CA|           90723|            2|        Fitness|Pacific Asia|  Jabalpur|        India|            19476|   75923|                  1360|        9.829999924|             0.029999999|       179238|                  327.75|            0.079999998|                  1|327.75|     317.9200134|           23.84000015|    South Asia|      Madhya Pradesh|         CLOSED|         NULL|           1360|                 73|Smart watch |       327.75|             0|   First Class|2018-01-13|   2018-01-15|\n",
      "|   DEBIT|                       2|                            1|      102.2600021|       314.6400146|    Late delivery|                 1|         73|Sporting Goods|        Caguas|     Puerto Rico|      19475|        Consumer|            PR|             725|            2|        Fitness|Pacific Asia|  Jabalpur|        India|            19475|   75922|                  1360|        13.10999966|             0.039999999|       179237|                  327.75|            0.330000013|                  1|327.75|     314.6400146|           102.2600021|    South Asia|      Madhya Pradesh|       COMPLETE|         NULL|           1360|                 73|Smart watch |       327.75|             0|   First Class|2018-01-13|   2018-01-15|\n",
      "| PAYMENT|                       0|                            0|      87.18000031|       311.3599854| Shipping on time|                 0|         73|Sporting Goods|Mount Prospect|         EE. UU.|      19474|        Consumer|            IL|           60056|            2|        Fitness|Pacific Asia|  Jabalpur|        India|            19474|   75921|                  1360|        16.38999939|             0.050000001|       179236|                  327.75|            0.280000001|                  1|327.75|     311.3599854|           87.18000031|    South Asia|      Madhya Pradesh|PENDING_PAYMENT|         NULL|           1360|                 73|Smart watch |       327.75|             0|      Same Day|2018-01-13|   2018-01-13|\n",
      "+--------+------------------------+-----------------------------+-----------------+------------------+-----------------+------------------+-----------+--------------+--------------+----------------+-----------+----------------+--------------+----------------+-------------+---------------+------------+----------+-------------+-----------------+--------+----------------------+-------------------+------------------------+-------------+------------------------+-----------------------+-------------------+------+----------------+----------------------+--------------+--------------------+---------------+-------------+---------------+-------------------+------------+-------------+--------------+--------------+----------+-------------+\n",
      "only showing top 20 rows\n",
      "\n"
     ]
    }
   ],
   "source": [
    "spark.sql(\"\"\"Select *\n",
    "          From my_table\n",
    "          where product_name = 'Smart watch '    \n",
    "          \"\"\").show()"
   ]
  },
  {
   "cell_type": "code",
   "execution_count": 27,
   "metadata": {},
   "outputs": [
    {
     "data": {
      "text/html": [
       "<div>\n",
       "<style scoped>\n",
       "    .dataframe tbody tr th:only-of-type {\n",
       "        vertical-align: middle;\n",
       "    }\n",
       "\n",
       "    .dataframe tbody tr th {\n",
       "        vertical-align: top;\n",
       "    }\n",
       "\n",
       "    .dataframe thead th {\n",
       "        text-align: right;\n",
       "    }\n",
       "</style>\n",
       "<table border=\"1\" class=\"dataframe\">\n",
       "  <thead>\n",
       "    <tr style=\"text-align: right;\">\n",
       "      <th></th>\n",
       "      <th>product_name</th>\n",
       "      <th>product_card_id</th>\n",
       "    </tr>\n",
       "  </thead>\n",
       "  <tbody>\n",
       "    <tr>\n",
       "      <th>0</th>\n",
       "      <td>Smart watch</td>\n",
       "      <td>1360</td>\n",
       "    </tr>\n",
       "  </tbody>\n",
       "</table>\n",
       "</div>"
      ],
      "text/plain": [
       "   product_name  product_card_id\n",
       "0  Smart watch              1360"
      ]
     },
     "execution_count": 27,
     "metadata": {},
     "output_type": "execute_result"
    }
   ],
   "source": [
    "spark.sql(\"\"\"Select distinct product_name, product_card_id\n",
    "          From my_table\n",
    "          where product_name = 'Smart watch '    \n",
    "          \"\"\").toPandas()"
   ]
  },
  {
   "cell_type": "code",
   "execution_count": 72,
   "metadata": {},
   "outputs": [
    {
     "name": "stdout",
     "output_type": "stream",
     "text": [
      "+-------------+-----+\n",
      "|shipping_time|count|\n",
      "+-------------+-----+\n",
      "|            2|56618|\n",
      "|            3|28765|\n",
      "|            6|28723|\n",
      "|            4|28513|\n",
      "|            5|28163|\n",
      "|            0| 5080|\n",
      "|            1| 4657|\n",
      "+-------------+-----+\n",
      "\n"
     ]
    }
   ],
   "source": [
    "data = df.select('days_for_shipping_(real)')\n",
    "data = data.withColumnRenamed('days_for_shipping_(real)', 'shipping_time')\n",
    "data.groupBy('shipping_time').count().orderBy('count', ascending = False).show()"
   ]
  },
  {
   "cell_type": "markdown",
   "metadata": {},
   "source": [
    "## Data Modelling"
   ]
  },
  {
   "cell_type": "code",
   "execution_count": null,
   "metadata": {},
   "outputs": [],
   "source": [
    "from sklearn.preprocessing import LabelEncoder"
   ]
  },
  {
   "cell_type": "code",
   "execution_count": 22,
   "metadata": {},
   "outputs": [
    {
     "name": "stdout",
     "output_type": "stream",
     "text": [
      "+--------+------------------------+-----------------------------+-----------------+------------------+----------------+------------------+-----------+--------------+-------------+----------------+-----------+----------------+--------------+----------------+-------------+---------------+------------+----------+-------------+-----------------+--------+----------------------+-------------------+------------------------+-------------+------------------------+-----------------------+-------------------+------+----------------+----------------------+--------------+---------------+---------------+-------------+---------------+-------------------+------------+-------------+--------------+----------+-------------+\n",
      "|    type|days_for_shipping_(real)|days_for_shipment_(scheduled)|benefit_per_order|sales_per_customer| delivery_status|late_delivery_risk|category_id| category_name|customer_city|customer_country|customer_id|customer_segment|customer_state|customer_zipcode|department_id|department_name|      market|order_city|order_country|order_customer_id|order_id|order_item_cardprod_id|order_item_discount|order_item_discount_rate|order_item_id|order_item_product_price|order_item_profit_ratio|order_item_quantity| sales|order_item_total|order_profit_per_order|  order_region|    order_state|   order_status|order_zipcode|product_card_id|product_category_id|product_name|product_price| shipping_mode|order_date|shipping_date|\n",
      "+--------+------------------------+-----------------------------+-----------------+------------------+----------------+------------------+-----------+--------------+-------------+----------------+-----------+----------------+--------------+----------------+-------------+---------------+------------+----------+-------------+-----------------+--------+----------------------+-------------------+------------------------+-------------+------------------------+-----------------------+-------------------+------+----------------+----------------------+--------------+---------------+---------------+-------------+---------------+-------------------+------------+-------------+--------------+----------+-------------+\n",
      "|   DEBIT|                       3|                            4|            91.25|       314.6400146|Advance shipping|                 0|         73|Sporting Goods|       Caguas|     Puerto Rico|      20755|        Consumer|            PR|             725|            2|        Fitness|Pacific Asia|    Bekasi|    Indonesia|            20755|   77202|                  1360|        13.10999966|             0.039999999|       180517|                  327.75|            0.289999992|                  1|327.75|     314.6400146|                 91.25|Southeast Asia|Java Occidental|       COMPLETE|         NULL|           1360|                 73|Smart watch |       327.75|Standard Class|2018-01-31|   2018-02-03|\n",
      "|TRANSFER|                       5|                            4|     -249.0899963|       311.3599854|   Late delivery|                 1|         73|Sporting Goods|       Caguas|     Puerto Rico|      19492|        Consumer|            PR|             725|            2|        Fitness|Pacific Asia|   Bikaner|        India|            19492|   75939|                  1360|        16.38999939|             0.050000001|       179254|                  327.75|           -0.800000012|                  1|327.75|     311.3599854|          -249.0899963|    South Asia|       Rajast�n|        PENDING|         NULL|           1360|                 73|Smart watch |       327.75|Standard Class|2018-01-13|   2018-01-18|\n",
      "|    CASH|                       4|                            4|     -247.7799988|       309.7200012|Shipping on time|                 0|         73|Sporting Goods|     San Jose|         EE. UU.|      19491|        Consumer|            CA|           95125|            2|        Fitness|Pacific Asia|   Bikaner|        India|            19491|   75938|                  1360|        18.03000069|             0.059999999|       179253|                  327.75|           -0.800000012|                  1|327.75|     309.7200012|          -247.7799988|    South Asia|       Rajast�n|         CLOSED|         NULL|           1360|                 73|Smart watch |       327.75|Standard Class|2018-01-13|   2018-01-17|\n",
      "|   DEBIT|                       3|                            4|      22.86000061|       304.8099976|Advance shipping|                 0|         73|Sporting Goods|  Los Angeles|         EE. UU.|      19490|     Home Office|            CA|           90027|            2|        Fitness|Pacific Asia|Townsville|    Australia|            19490|   75937|                  1360|        22.94000053|                    0.07|       179252|                  327.75|            0.079999998|                  1|327.75|     304.8099976|           22.86000061|       Oceania|     Queensland|       COMPLETE|         NULL|           1360|                 73|Smart watch |       327.75|Standard Class|2018-01-13|   2018-01-16|\n",
      "| PAYMENT|                       2|                            4|      134.2100067|            298.25|Advance shipping|                 0|         73|Sporting Goods|       Caguas|     Puerto Rico|      19489|       Corporate|            PR|             725|            2|        Fitness|Pacific Asia|Townsville|    Australia|            19489|   75936|                  1360|               29.5|             0.090000004|       179251|                  327.75|            0.449999988|                  1|327.75|          298.25|           134.2100067|       Oceania|     Queensland|PENDING_PAYMENT|         NULL|           1360|                 73|Smart watch |       327.75|Standard Class|2018-01-13|   2018-01-15|\n",
      "+--------+------------------------+-----------------------------+-----------------+------------------+----------------+------------------+-----------+--------------+-------------+----------------+-----------+----------------+--------------+----------------+-------------+---------------+------------+----------+-------------+-----------------+--------+----------------------+-------------------+------------------------+-------------+------------------------+-----------------------+-------------------+------+----------------+----------------------+--------------+---------------+---------------+-------------+---------------+-------------------+------------+-------------+--------------+----------+-------------+\n",
      "only showing top 5 rows\n",
      "\n"
     ]
    }
   ],
   "source": [
    "df.show(5)"
   ]
  },
  {
   "cell_type": "code",
   "execution_count": 24,
   "metadata": {},
   "outputs": [
    {
     "name": "stderr",
     "output_type": "stream",
     "text": [
      "                                                                                \r"
     ]
    },
    {
     "name": "stdout",
     "output_type": "stream",
     "text": [
      "+--------+------------------------+-----------------------------+-----------------+------------------+----------------+------------------+-----------+--------------+-------------+----------------+-----------+----------------+--------------+----------------+-------------+---------------+------------+----------+-------------+-----------------+--------+----------------------+-------------------+------------------------+-------------+------------------------+-----------------------+-------------------+------+----------------+----------------------+--------------+---------------+---------------+-------------+---------------+-------------------+------------+-------------+--------------+----------+-------------+------------+\n",
      "|    type|days_for_shipping_(real)|days_for_shipment_(scheduled)|benefit_per_order|sales_per_customer| delivery_status|late_delivery_risk|category_id| category_name|customer_city|customer_country|customer_id|customer_segment|customer_state|customer_zipcode|department_id|department_name|      market|order_city|order_country|order_customer_id|order_id|order_item_cardprod_id|order_item_discount|order_item_discount_rate|order_item_id|order_item_product_price|order_item_profit_ratio|order_item_quantity| sales|order_item_total|order_profit_per_order|  order_region|    order_state|   order_status|order_zipcode|product_card_id|product_category_id|product_name|product_price| shipping_mode|order_date|shipping_date|payment_type|\n",
      "+--------+------------------------+-----------------------------+-----------------+------------------+----------------+------------------+-----------+--------------+-------------+----------------+-----------+----------------+--------------+----------------+-------------+---------------+------------+----------+-------------+-----------------+--------+----------------------+-------------------+------------------------+-------------+------------------------+-----------------------+-------------------+------+----------------+----------------------+--------------+---------------+---------------+-------------+---------------+-------------------+------------+-------------+--------------+----------+-------------+------------+\n",
      "|   DEBIT|                       3|                            4|            91.25|       314.6400146|Advance shipping|                 0|         73|Sporting Goods|       Caguas|     Puerto Rico|      20755|        Consumer|            PR|             725|            2|        Fitness|Pacific Asia|    Bekasi|    Indonesia|            20755|   77202|                  1360|        13.10999966|             0.039999999|       180517|                  327.75|            0.289999992|                  1|327.75|     314.6400146|                 91.25|Southeast Asia|Java Occidental|       COMPLETE|         NULL|           1360|                 73|Smart watch |       327.75|Standard Class|2018-01-31|   2018-02-03|         0.0|\n",
      "|TRANSFER|                       5|                            4|     -249.0899963|       311.3599854|   Late delivery|                 1|         73|Sporting Goods|       Caguas|     Puerto Rico|      19492|        Consumer|            PR|             725|            2|        Fitness|Pacific Asia|   Bikaner|        India|            19492|   75939|                  1360|        16.38999939|             0.050000001|       179254|                  327.75|           -0.800000012|                  1|327.75|     311.3599854|          -249.0899963|    South Asia|       Rajast�n|        PENDING|         NULL|           1360|                 73|Smart watch |       327.75|Standard Class|2018-01-13|   2018-01-18|         1.0|\n",
      "|    CASH|                       4|                            4|     -247.7799988|       309.7200012|Shipping on time|                 0|         73|Sporting Goods|     San Jose|         EE. UU.|      19491|        Consumer|            CA|           95125|            2|        Fitness|Pacific Asia|   Bikaner|        India|            19491|   75938|                  1360|        18.03000069|             0.059999999|       179253|                  327.75|           -0.800000012|                  1|327.75|     309.7200012|          -247.7799988|    South Asia|       Rajast�n|         CLOSED|         NULL|           1360|                 73|Smart watch |       327.75|Standard Class|2018-01-13|   2018-01-17|         3.0|\n",
      "|   DEBIT|                       3|                            4|      22.86000061|       304.8099976|Advance shipping|                 0|         73|Sporting Goods|  Los Angeles|         EE. UU.|      19490|     Home Office|            CA|           90027|            2|        Fitness|Pacific Asia|Townsville|    Australia|            19490|   75937|                  1360|        22.94000053|                    0.07|       179252|                  327.75|            0.079999998|                  1|327.75|     304.8099976|           22.86000061|       Oceania|     Queensland|       COMPLETE|         NULL|           1360|                 73|Smart watch |       327.75|Standard Class|2018-01-13|   2018-01-16|         0.0|\n",
      "| PAYMENT|                       2|                            4|      134.2100067|            298.25|Advance shipping|                 0|         73|Sporting Goods|       Caguas|     Puerto Rico|      19489|       Corporate|            PR|             725|            2|        Fitness|Pacific Asia|Townsville|    Australia|            19489|   75936|                  1360|               29.5|             0.090000004|       179251|                  327.75|            0.449999988|                  1|327.75|          298.25|           134.2100067|       Oceania|     Queensland|PENDING_PAYMENT|         NULL|           1360|                 73|Smart watch |       327.75|Standard Class|2018-01-13|   2018-01-15|         2.0|\n",
      "+--------+------------------------+-----------------------------+-----------------+------------------+----------------+------------------+-----------+--------------+-------------+----------------+-----------+----------------+--------------+----------------+-------------+---------------+------------+----------+-------------+-----------------+--------+----------------------+-------------------+------------------------+-------------+------------------------+-----------------------+-------------------+------+----------------+----------------------+--------------+---------------+---------------+-------------+---------------+-------------------+------------+-------------+--------------+----------+-------------+------------+\n",
      "only showing top 5 rows\n",
      "\n"
     ]
    }
   ],
   "source": [
    "from pyspark.ml.feature import StringIndexer\n",
    "indexer = StringIndexer(inputCol=\"type\", outputCol=\"payment_type\") \n",
    "indexed = indexer.fit(df).transform(df) \n",
    "indexed.show(5)"
   ]
  },
  {
   "cell_type": "code",
   "execution_count": 116,
   "metadata": {},
   "outputs": [],
   "source": [
    "temp_df = df.withColumnRenamed('days_for_shipping_(real)', 'actual_ship_time')\n",
    "temp_df = temp_df.withColumnRenamed('days_for_shipment_(scheduled)', 'estimated_ship_time')\n",
    "temp_df.createOrReplaceTempView('temp_table')"
   ]
  },
  {
   "cell_type": "code",
   "execution_count": 135,
   "metadata": {},
   "outputs": [
    {
     "name": "stdout",
     "output_type": "stream",
     "text": [
      "+----------+-----+\n",
      "|difference|count|\n",
      "+----------+-----+\n",
      "|        -1|60647|\n",
      "|         0|33753|\n",
      "|        -2|28718|\n",
      "|         1|21700|\n",
      "|         2|21666|\n",
      "|        -3| 7052|\n",
      "|        -4| 6983|\n",
      "+----------+-----+\n",
      "\n"
     ]
    }
   ],
   "source": [
    "spark.sql(\"\"\"\n",
    "          With T1 as (Select \n",
    "          estimated_ship_time - actual_ship_time as difference,\n",
    "          Case when difference >= 0 then 1 else 0 End as on_time,\n",
    "          Case when difference < 0 then 1 else 0 End as late\n",
    "          from temp_table),\n",
    "          T2 as (Select \n",
    "          difference,\n",
    "          Count(difference) as count\n",
    "          from T1\n",
    "          group by difference\n",
    "          order by count desc),\n",
    "          T3 as (\n",
    "          Select \n",
    "          Sum(on_time) as on_time,\n",
    "          Sum(late) as late_delivery\n",
    "          From T1)\n",
    "          select * from T2\n",
    "          \"\"\").show()"
   ]
  },
  {
   "cell_type": "code",
   "execution_count": 46,
   "metadata": {},
   "outputs": [
    {
     "name": "stderr",
     "output_type": "stream",
     "text": [
      "                                                                                \r"
     ]
    }
   ],
   "source": [
    "spark.sql(\"\"\"Select\n",
    "          product_name, product_card_id,\n",
    "          sum(order_item_quantity) as quantity\n",
    "          from my_table\n",
    "          group by product_name, product_card_id\n",
    "          order by quantity desc\n",
    "          \"\"\").toPandas().to_csv('product_by_quantity.csv', encoding='utf-8', index=False)"
   ]
  },
  {
   "cell_type": "code",
   "execution_count": 39,
   "metadata": {},
   "outputs": [
    {
     "name": "stderr",
     "output_type": "stream",
     "text": [
      "                                                                                \r"
     ]
    },
    {
     "data": {
      "text/html": [
       "<div>\n",
       "<style scoped>\n",
       "    .dataframe tbody tr th:only-of-type {\n",
       "        vertical-align: middle;\n",
       "    }\n",
       "\n",
       "    .dataframe tbody tr th {\n",
       "        vertical-align: top;\n",
       "    }\n",
       "\n",
       "    .dataframe thead th {\n",
       "        text-align: right;\n",
       "    }\n",
       "</style>\n",
       "<table border=\"1\" class=\"dataframe\">\n",
       "  <thead>\n",
       "    <tr style=\"text-align: right;\">\n",
       "      <th></th>\n",
       "      <th>product_name</th>\n",
       "      <th>product_card_id</th>\n",
       "      <th>quantity</th>\n",
       "    </tr>\n",
       "  </thead>\n",
       "  <tbody>\n",
       "    <tr>\n",
       "      <th>0</th>\n",
       "      <td>Perfect Fitness Perfect Rip Deck</td>\n",
       "      <td>365</td>\n",
       "      <td>73698</td>\n",
       "    </tr>\n",
       "    <tr>\n",
       "      <th>1</th>\n",
       "      <td>Nike Men's Dri-FIT Victory Golf Polo</td>\n",
       "      <td>502</td>\n",
       "      <td>62956</td>\n",
       "    </tr>\n",
       "    <tr>\n",
       "      <th>2</th>\n",
       "      <td>O'Brien Men's Neoprene Life Vest</td>\n",
       "      <td>1014</td>\n",
       "      <td>57803</td>\n",
       "    </tr>\n",
       "    <tr>\n",
       "      <th>3</th>\n",
       "      <td>Nike Men's Free 5.0+ Running Shoe</td>\n",
       "      <td>191</td>\n",
       "      <td>36680</td>\n",
       "    </tr>\n",
       "    <tr>\n",
       "      <th>4</th>\n",
       "      <td>Under Armour Girls' Toddler Spine Surge Runni</td>\n",
       "      <td>627</td>\n",
       "      <td>31735</td>\n",
       "    </tr>\n",
       "    <tr>\n",
       "      <th>...</th>\n",
       "      <td>...</td>\n",
       "      <td>...</td>\n",
       "      <td>...</td>\n",
       "    </tr>\n",
       "    <tr>\n",
       "      <th>113</th>\n",
       "      <td>Stiga Master Series ST3100 Competition Indoor</td>\n",
       "      <td>127</td>\n",
       "      <td>27</td>\n",
       "    </tr>\n",
       "    <tr>\n",
       "      <th>114</th>\n",
       "      <td>SOLE E35 Elliptical</td>\n",
       "      <td>208</td>\n",
       "      <td>15</td>\n",
       "    </tr>\n",
       "    <tr>\n",
       "      <th>115</th>\n",
       "      <td>Bushnell Pro X7 Jolt Slope Rangefinder</td>\n",
       "      <td>860</td>\n",
       "      <td>11</td>\n",
       "    </tr>\n",
       "    <tr>\n",
       "      <th>116</th>\n",
       "      <td>SOLE E25 Elliptical</td>\n",
       "      <td>60</td>\n",
       "      <td>10</td>\n",
       "    </tr>\n",
       "    <tr>\n",
       "      <th>117</th>\n",
       "      <td>Bowflex SelectTech 1090 Dumbbells</td>\n",
       "      <td>226</td>\n",
       "      <td>10</td>\n",
       "    </tr>\n",
       "  </tbody>\n",
       "</table>\n",
       "<p>118 rows × 3 columns</p>\n",
       "</div>"
      ],
      "text/plain": [
       "                                      product_name  product_card_id  quantity\n",
       "0                 Perfect Fitness Perfect Rip Deck              365     73698\n",
       "1             Nike Men's Dri-FIT Victory Golf Polo              502     62956\n",
       "2                 O'Brien Men's Neoprene Life Vest             1014     57803\n",
       "3                Nike Men's Free 5.0+ Running Shoe              191     36680\n",
       "4    Under Armour Girls' Toddler Spine Surge Runni              627     31735\n",
       "..                                             ...              ...       ...\n",
       "113  Stiga Master Series ST3100 Competition Indoor              127        27\n",
       "114                            SOLE E35 Elliptical              208        15\n",
       "115         Bushnell Pro X7 Jolt Slope Rangefinder              860        11\n",
       "116                            SOLE E25 Elliptical               60        10\n",
       "117              Bowflex SelectTech 1090 Dumbbells              226        10\n",
       "\n",
       "[118 rows x 3 columns]"
      ]
     },
     "execution_count": 39,
     "metadata": {},
     "output_type": "execute_result"
    }
   ],
   "source": [
    "spark.sql(\"\"\"Select\n",
    "          product_name, product_card_id,\n",
    "          sum(order_item_quantity) as quantity\n",
    "          from my_table\n",
    "          group by product_name, product_card_id\n",
    "          order by quantity desc\n",
    "          \"\"\").toPandas()"
   ]
  },
  {
   "cell_type": "code",
   "execution_count": 32,
   "metadata": {},
   "outputs": [
    {
     "name": "stderr",
     "output_type": "stream",
     "text": [
      "                                                                                \r"
     ]
    },
    {
     "data": {
      "text/html": [
       "<div>\n",
       "<style scoped>\n",
       "    .dataframe tbody tr th:only-of-type {\n",
       "        vertical-align: middle;\n",
       "    }\n",
       "\n",
       "    .dataframe tbody tr th {\n",
       "        vertical-align: top;\n",
       "    }\n",
       "\n",
       "    .dataframe thead th {\n",
       "        text-align: right;\n",
       "    }\n",
       "</style>\n",
       "<table border=\"1\" class=\"dataframe\">\n",
       "  <thead>\n",
       "    <tr style=\"text-align: right;\">\n",
       "      <th></th>\n",
       "      <th>order_date</th>\n",
       "      <th>quantity</th>\n",
       "    </tr>\n",
       "  </thead>\n",
       "  <tbody>\n",
       "    <tr>\n",
       "      <th>0</th>\n",
       "      <td>2017-12-02</td>\n",
       "      <td>18</td>\n",
       "    </tr>\n",
       "    <tr>\n",
       "      <th>1</th>\n",
       "      <td>2017-12-03</td>\n",
       "      <td>69</td>\n",
       "    </tr>\n",
       "    <tr>\n",
       "      <th>2</th>\n",
       "      <td>2017-12-04</td>\n",
       "      <td>58</td>\n",
       "    </tr>\n",
       "    <tr>\n",
       "      <th>3</th>\n",
       "      <td>2018-01-10</td>\n",
       "      <td>38</td>\n",
       "    </tr>\n",
       "    <tr>\n",
       "      <th>4</th>\n",
       "      <td>2018-01-11</td>\n",
       "      <td>68</td>\n",
       "    </tr>\n",
       "  </tbody>\n",
       "</table>\n",
       "</div>"
      ],
      "text/plain": [
       "   order_date  quantity\n",
       "0  2017-12-02        18\n",
       "1  2017-12-03        69\n",
       "2  2017-12-04        58\n",
       "3  2018-01-10        38\n",
       "4  2018-01-11        68"
      ]
     },
     "execution_count": 32,
     "metadata": {},
     "output_type": "execute_result"
    }
   ],
   "source": [
    "demand = spark.sql(\"\"\"\n",
    "          Select order_date,\n",
    "          sum(order_item_quantity) as quantity\n",
    "          from my_table\n",
    "          where order_date between '2015-12-01' and '2018-02-01'\n",
    "          and product_card_id = 1360\n",
    "          group by order_date\n",
    "          order by order_date\n",
    "          \"\"\").toPandas()\n",
    "demand.head(5)"
   ]
  },
  {
   "cell_type": "code",
   "execution_count": 33,
   "metadata": {},
   "outputs": [
    {
     "data": {
      "image/png": "[encoded data removed]",
      "text/plain": [
       "<Figure size 1000x600 with 1 Axes>"
      ]
     },
     "metadata": {},
     "output_type": "display_data"
    }
   ],
   "source": [
    "plt.figure(figsize=(10, 6))\n",
    "plt.plot(demand['order_date'], demand['quantity'], marker='o', color='b')\n",
    "\n",
    "# Add labels and title\n",
    "plt.xlabel('Order Date')\n",
    "plt.ylabel('Sales')\n",
    "plt.title('Sales Over Time')\n",
    "plt.grid(True)\n",
    "\n",
    "# Show the plot\n",
    "plt.xticks(rotation=45)\n",
    "plt.tight_layout()\n",
    "plt.show()"
   ]
  },
  {
   "cell_type": "markdown",
   "metadata": {},
   "source": [
    "## Feature Importance"
   ]
  },
  {
   "cell_type": "code",
   "execution_count": null,
   "metadata": {},
   "outputs": [],
   "source": [
    "model = DecisionTreeClassifier()"
   ]
  },
  {
   "cell_type": "code",
   "execution_count": null,
   "metadata": {},
   "outputs": [],
   "source": [
    "model.fit(X_train,y_train)\n",
    "y_pred = model.predict(X_test)"
   ]
  },
  {
   "cell_type": "code",
   "execution_count": null,
   "metadata": {},
   "outputs": [],
   "source": [
    "import lime\n",
    "from lime.lime_tabular import LimeTabularExplainer\n",
    "\n",
    "explainer = LimeTabularExplainer(training_data=X_train.values, feature_names=X_train.columns, class_names=['0','1','2','3','4','5','6'], mode='classification')\n",
    "\n",
    "explanation = explainer.explain_instance(X_train.iloc[0], model.predict_proba)\n",
    "\n",
    "feature_importance = explanation.as_list()"
   ]
  },
  {
   "cell_type": "code",
   "execution_count": null,
   "metadata": {},
   "outputs": [],
   "source": [
    "feature_importance"
   ]
  },
  {
   "cell_type": "code",
   "execution_count": null,
   "metadata": {},
   "outputs": [],
   "source": [
    "features, scores = zip(*feature_importance)\n",
    "\n",
    "plt.figure(figsize=(10, 6))\n",
    "plt.barh(features, scores)\n",
    "plt.xlabel('Importance Score')\n",
    "plt.ylabel('Features')\n",
    "plt.title('Feature Importance (Decision Tree)')\n",
    "plt.show()"
   ]
  }
 ],
 "metadata": {
  "kernelspec": {
   "display_name": "pytest",
   "language": "python",
   "name": "python3"
  },
  "language_info": {
   "codemirror_mode": {
    "name": "ipython",
    "version": 3
   },
   "file_extension": ".py",
   "mimetype": "text/x-python",
   "name": "python",
   "nbconvert_exporter": "python",
   "pygments_lexer": "ipython3",
   "version": "3.12.4"
  }
 },
 "nbformat": 4,
 "nbformat_minor": 2
}

{
 "cells": [
  {
   "cell_type": "markdown",
   "metadata": {},
   "source": [
    "Setting up Spark and Basic data cleaning"
   ]
  },
  {
   "cell_type": "code",
   "execution_count": 110,
   "metadata": {},
   "outputs": [
    {
     "name": "stdout",
     "output_type": "stream",
     "text": [
      "<pyspark.sql.session.SparkSession object at 0x117e88f80>\n"
     ]
    }
   ],
   "source": [
    "import findspark\n",
    "findspark.init()\n",
    "\n",
    "from pyspark.sql import SparkSession\n",
    "import pyspark.sql.functions as F\n",
    "\n",
    "# Create a Spark session\n",
    "spark = SparkSession.builder \\\n",
    "    .appName(\"MySparkApp\") \\\n",
    "    .getOrCreate()\n",
    "\n",
    "# Check if SparkSession is created successfully\n",
    "print(spark)"
   ]
  },
  {
   "cell_type": "code",
   "execution_count": 111,
   "metadata": {},
   "outputs": [],
   "source": [
    "import pandas as pd\n",
    "from prophet import Prophet\n",
    "import matplotlib.pyplot as plt\n",
    "import seaborn as sns\n",
    "import plotly.express as px\n",
    "from pyspark.sql.functions import year, month, dayofmonth"
   ]
  },
  {
   "cell_type": "code",
   "execution_count": 113,
   "metadata": {},
   "outputs": [
    {
     "name": "stderr",
     "output_type": "stream",
     "text": [
      "                                                                                \r"
     ]
    }
   ],
   "source": [
    "file_path = 'data/DataCoSupplyChainDataset.csv'\n",
    "df = spark.read.csv(file_path, header=True, inferSchema=True)\n",
    "# Some house cleaning where the the column names are standardized\n",
    "\n",
    "for col in df.columns:\n",
    "    new_col = col.replace(' ', '_').lower()\n",
    "    df = df.withColumnRenamed(col, new_col)\n",
    "\n",
    "df = df.withColumn(\"order_date\", F.to_date(F.date_format(F.unix_timestamp(\"order_date_(dateorders)\", \"M/d/yyyy H:mm\").cast(\"timestamp\"), \"yyyy-MM-dd\")))\n",
    "df = df.withColumn(\"shipping_date\", F.to_date(F.date_format(F.unix_timestamp(\"shipping_date_(dateorders)\", \"M/d/yyyy H:mm\").cast(\"timestamp\"), \"yyyy-MM-dd\")))\n",
    "df = df.withColumnRenamed('days_for_shipping_(real)', 'actual_time')\n",
    "df = df.withColumnRenamed('days_for_shipment_(scheduled)', 'predicted_time')\n",
    "df = df.withColumn(\"o_year\", year(df[\"order_date\"])) \\\n",
    "       .withColumn(\"o_month\", month(df[\"order_date\"])) \\\n",
    "       .withColumn(\"o_day\", dayofmonth(df[\"order_date\"]))\n",
    "\n",
    "df = df.withColumn(\"s_year\", year(df[\"shipping_date\"])) \\\n",
    "       .withColumn(\"s_month\", month(df[\"shipping_date\"])) \\\n",
    "       .withColumn(\"s_day\", dayofmonth(df[\"shipping_date\"]))"
   ]
  },
  {
   "cell_type": "code",
   "execution_count": 114,
   "metadata": {},
   "outputs": [
    {
     "name": "stdout",
     "output_type": "stream",
     "text": [
      "+--------+-----------+--------------+-----------------+------------------+----------------+------------------+-----------+--------------+-------------+----------------+-----------+----------------+--------------+----------------+-------------+---------------+------------+----------+-------------+-----------------+--------+----------------------+-------------------+------------------------+-------------+------------------------+-----------------------+-------------------+------+----------------+----------------------+--------------+---------------+---------------+-------------+---------------+-------------------+------------+-------------+--------------+--------------+----------+-------------+------+-------+-----+------+-------+-----+\n",
      "|    type|actual_time|predicted_time|benefit_per_order|sales_per_customer| delivery_status|late_delivery_risk|category_id| category_name|customer_city|customer_country|customer_id|customer_segment|customer_state|customer_zipcode|department_id|department_name|      market|order_city|order_country|order_customer_id|order_id|order_item_cardprod_id|order_item_discount|order_item_discount_rate|order_item_id|order_item_product_price|order_item_profit_ratio|order_item_quantity| sales|order_item_total|order_profit_per_order|  order_region|    order_state|   order_status|order_zipcode|product_card_id|product_category_id|product_name|product_price|product_status| shipping_mode|order_date|shipping_date|o_year|o_month|o_day|s_year|s_month|s_day|\n",
      "+--------+-----------+--------------+-----------------+------------------+----------------+------------------+-----------+--------------+-------------+----------------+-----------+----------------+--------------+----------------+-------------+---------------+------------+----------+-------------+-----------------+--------+----------------------+-------------------+------------------------+-------------+------------------------+-----------------------+-------------------+------+----------------+----------------------+--------------+---------------+---------------+-------------+---------------+-------------------+------------+-------------+--------------+--------------+----------+-------------+------+-------+-----+------+-------+-----+\n",
      "|   DEBIT|          3|             4|            91.25|       314.6400146|Advance shipping|                 0|         73|Sporting Goods|       Caguas|     Puerto Rico|      20755|        Consumer|            PR|             725|            2|        Fitness|Pacific Asia|    Bekasi|    Indonesia|            20755|   77202|                  1360|        13.10999966|             0.039999999|       180517|                  327.75|            0.289999992|                  1|327.75|     314.6400146|                 91.25|Southeast Asia|Java Occidental|       COMPLETE|         NULL|           1360|                 73|Smart watch |       327.75|             0|Standard Class|2018-01-31|   2018-02-03|  2018|      1|   31|  2018|      2|    3|\n",
      "|TRANSFER|          5|             4|     -249.0899963|       311.3599854|   Late delivery|                 1|         73|Sporting Goods|       Caguas|     Puerto Rico|      19492|        Consumer|            PR|             725|            2|        Fitness|Pacific Asia|   Bikaner|        India|            19492|   75939|                  1360|        16.38999939|             0.050000001|       179254|                  327.75|           -0.800000012|                  1|327.75|     311.3599854|          -249.0899963|    South Asia|       Rajast�n|        PENDING|         NULL|           1360|                 73|Smart watch |       327.75|             0|Standard Class|2018-01-13|   2018-01-18|  2018|      1|   13|  2018|      1|   18|\n",
      "|    CASH|          4|             4|     -247.7799988|       309.7200012|Shipping on time|                 0|         73|Sporting Goods|     San Jose|         EE. UU.|      19491|        Consumer|            CA|           95125|            2|        Fitness|Pacific Asia|   Bikaner|        India|            19491|   75938|                  1360|        18.03000069|             0.059999999|       179253|                  327.75|           -0.800000012|                  1|327.75|     309.7200012|          -247.7799988|    South Asia|       Rajast�n|         CLOSED|         NULL|           1360|                 73|Smart watch |       327.75|             0|Standard Class|2018-01-13|   2018-01-17|  2018|      1|   13|  2018|      1|   17|\n",
      "|   DEBIT|          3|             4|      22.86000061|       304.8099976|Advance shipping|                 0|         73|Sporting Goods|  Los Angeles|         EE. UU.|      19490|     Home Office|            CA|           90027|            2|        Fitness|Pacific Asia|Townsville|    Australia|            19490|   75937|                  1360|        22.94000053|                    0.07|       179252|                  327.75|            0.079999998|                  1|327.75|     304.8099976|           22.86000061|       Oceania|     Queensland|       COMPLETE|         NULL|           1360|                 73|Smart watch |       327.75|             0|Standard Class|2018-01-13|   2018-01-16|  2018|      1|   13|  2018|      1|   16|\n",
      "| PAYMENT|          2|             4|      134.2100067|            298.25|Advance shipping|                 0|         73|Sporting Goods|       Caguas|     Puerto Rico|      19489|       Corporate|            PR|             725|            2|        Fitness|Pacific Asia|Townsville|    Australia|            19489|   75936|                  1360|               29.5|             0.090000004|       179251|                  327.75|            0.449999988|                  1|327.75|          298.25|           134.2100067|       Oceania|     Queensland|PENDING_PAYMENT|         NULL|           1360|                 73|Smart watch |       327.75|             0|Standard Class|2018-01-13|   2018-01-15|  2018|      1|   13|  2018|      1|   15|\n",
      "+--------+-----------+--------------+-----------------+------------------+----------------+------------------+-----------+--------------+-------------+----------------+-----------+----------------+--------------+----------------+-------------+---------------+------------+----------+-------------+-----------------+--------+----------------------+-------------------+------------------------+-------------+------------------------+-----------------------+-------------------+------+----------------+----------------------+--------------+---------------+---------------+-------------+---------------+-------------------+------------+-------------+--------------+--------------+----------+-------------+------+-------+-----+------+-------+-----+\n",
      "only showing top 5 rows\n",
      "\n"
     ]
    }
   ],
   "source": [
    "df = df.drop('product_image', 'customer_password', 'customer_email', \n",
    "             'customer_fname', 'customer_lname', 'customer_street', \n",
    "             'latitude', 'longitude', 'product_description',\n",
    "             \"order_date_(dateorders)\", \"shipping_date_(dateorders)\",\n",
    "             'days_for_shipment_(scheduled)', 'days_for_shipping_(real)')    \n",
    "df.createOrReplaceTempView(\"my_table\")\n",
    "df.show(5)"
   ]
  },
  {
   "cell_type": "markdown",
   "metadata": {},
   "source": [
    "Calculating Lead time demands, lead time, safety stock and reporder points for each product"
   ]
  },
  {
   "cell_type": "code",
   "execution_count": 65,
   "metadata": {},
   "outputs": [
    {
     "name": "stderr",
     "output_type": "stream",
     "text": [
      "                                                                                \r"
     ]
    },
    {
     "name": "stdout",
     "output_type": "stream",
     "text": [
      "+--------------------+---------------+----------+--------------+---------+----------------+----------------+------------+-------------+-----------+------------------+------------------+-----+\n",
      "|        product_name|product_card_id|avg_demand|std_dev_demand|lead_time|stddev_lead_time|lead_time_demand|safety_stock|reorder_point|      price|           holding|          ordering|  EOQ|\n",
      "+--------------------+---------------+----------+--------------+---------+----------------+----------------+------------+-------------+-----------+------------------+------------------+-----+\n",
      "|Perfect Fitness P...|            365|    73.722|        16.769|      4.0|             1.0|         294.888|        55.0|        350.0|59.99000168|       5.999000168|      17.997000504|402.0|\n",
      "|Nike Men's Dri-FI...|            502|    62.516|        16.131|      4.0|             1.0|         250.064|        53.0|        303.0|       50.0|               5.0|              15.0|370.0|\n",
      "|O'Brien Men's Neo...|           1014|    57.829|        14.477|      3.0|             1.0|         173.487|        41.0|        214.0|49.97999954| 4.997999954000001|14.993999861999999|356.0|\n",
      "|Nike Men's Free 5...|            191|    36.331|        11.953|      4.0|             1.0|         145.324|        39.0|        184.0|99.98999786|       9.998999786|      29.996999358|282.0|\n",
      "|Under Armour Girl...|            627|    31.458|        10.491|      4.0|             1.0|         125.832|        34.0|        160.0|39.99000168|3.9990001680000002|11.997000503999999|262.0|\n",
      "+--------------------+---------------+----------+--------------+---------+----------------+----------------+------------+-------------+-----------+------------------+------------------+-----+\n",
      "only showing top 5 rows\n",
      "\n"
     ]
    },
    {
     "name": "stderr",
     "output_type": "stream",
     "text": [
      "                                                                                \r"
     ]
    }
   ],
   "source": [
    "output = spark.sql(\"\"\"\n",
    "                    With T1 AS (\n",
    "                    Select product_name, product_card_id, order_date,\n",
    "                    sum(order_item_quantity) as quantity,\n",
    "                    round(avg(actual_time),0) as lead_time_odate,\n",
    "                    max(product_price) as p_price\n",
    "                    From my_table\n",
    "                    where o_year < 2017\n",
    "                    group by product_name, product_card_id, order_date\n",
    "                    )\n",
    "\n",
    "                    Select product_name, product_card_id, \n",
    "                    round(avg(quantity),3) as avg_demand,\n",
    "                    round(STDDEV(quantity),3) as std_dev_demand,\n",
    "                    round(avg(lead_time_odate),0) as lead_time,\n",
    "                    round(STDDEV(lead_time_odate),0) as stddev_lead_time,\n",
    "                    round(lead_time * avg_demand,3) as lead_time_demand,\n",
    "                    round(1.64*std_dev_demand*sqrt(lead_time),0) as safety_stock,\n",
    "                    round(lead_time_demand+safety_stock,0) as reorder_point,\n",
    "                    max(p_price) as price,\n",
    "                    0.1*price as holding,\n",
    "                    0.3*price as ordering,\n",
    "                    Round(sqrt((2*avg_demand*365*ordering)/holding),0) as EOQ\n",
    "                    from T1\n",
    "                    group by product_name, product_card_id\n",
    "                    order by avg_demand desc\n",
    "                    \"\"\")\n",
    "output.show(5)\n",
    "output.toPandas().to_csv('product_SC_analysis.csv', index=False)"
   ]
  },
  {
   "cell_type": "markdown",
   "metadata": {},
   "source": [
    "* avg_demand = average quantity ordered per day for every product\n",
    "* std_dev_demand = std. dev. of the daily quantity demanded for each product\n",
    "* lead_time = average actual shipping time for every product\n",
    "* lead_time_demand = lead_time * avg_demand\n",
    "* safety_stock = 1.64 * std_dev_demand * sqrt(lead_time)\n",
    "* reorder_point = lead_time_demand + safety_stock\n",
    "* holding = 0.1*price\n",
    "* ordering = 0.3*price\n",
    "* EOQ = Round(sqrt((2 * (avg_demand * 365) * ordering)/holding),0)"
   ]
  },
  {
   "cell_type": "markdown",
   "metadata": {},
   "source": [
    "If we are looking at data only before 2017 then there are just 54 products being sold."
   ]
  },
  {
   "cell_type": "markdown",
   "metadata": {},
   "source": [
    "## Obtaining Forcasts"
   ]
  },
  {
   "cell_type": "code",
   "execution_count": 89,
   "metadata": {},
   "outputs": [],
   "source": [
    "xx = spark.sql(\"\"\"\n",
    "            Select product_name, product_card_id,\n",
    "            sum(order_item_quantity) as quantity\n",
    "            From my_table\n",
    "            where o_year < 2017\n",
    "            group by product_name, product_card_id\n",
    "            order by quantity desc\n",
    "        \"\"\").toPandas()\n",
    "prod_list = xx['product_card_id']"
   ]
  },
  {
   "cell_type": "code",
   "execution_count": 101,
   "metadata": {},
   "outputs": [],
   "source": [
    "def forecast(id, initial_year, final_year):\n",
    "    query1 = f\"\"\"\n",
    "            CREATE OR REPLACE TEMPORARY VIEW actual AS\n",
    "            Select order_date as ds,\n",
    "            sum(order_item_quantity) as y\n",
    "            From my_table\n",
    "            Where product_card_id = {id}\n",
    "            AND o_year Between {initial_year} and {final_year}\n",
    "            group by ds\n",
    "            order by ds\n",
    "        \"\"\"\n",
    "    \n",
    "    spark.sql(query1)\n",
    "    \n",
    "    query2 = f\"\"\"\n",
    "        SELECT order_date as ds,\n",
    "               SUM(order_item_quantity) as y\n",
    "        FROM my_table\n",
    "        WHERE product_card_id = {id}\n",
    "          AND o_year < {initial_year}\n",
    "        GROUP BY order_date\n",
    "        ORDER BY order_date\n",
    "    \"\"\"\n",
    "    prophet_df = spark.sql(query2).toPandas()\n",
    "\n",
    "    prophet = Prophet()\n",
    "    prophet.fit(prophet_df)\n",
    "    # Create a DataFrame with future dates for forecasting\n",
    "    future = prophet.make_future_dataframe(periods=30, freq='D')\n",
    "    # Generate forecasts\n",
    "    forecast = prophet.predict(future) \n",
    "    \n",
    "\n",
    "    spark_df = spark.createDataFrame(forecast)\n",
    "    spark_df.createOrReplaceTempView(\"predicted\")\n",
    "    query3 = f\"\"\"\n",
    "            CREATE OR REPLACE TEMPORARY VIEW predicted_filter AS\n",
    "            Select ds, yhat\n",
    "            from predicted\n",
    "            where ds >= '{initial_year}-01-01'\n",
    "            \"\"\"\n",
    "    spark.sql(query3)\n",
    "    query4 = f\"\"\"\n",
    "            select {id} as product_card_id, p.*, a.y\n",
    "            from predicted_filter as p\n",
    "            left join actual as a on a.ds = p.ds\n",
    "            \"\"\"\n",
    "    \n",
    "    results = spark.sql(query4).toPandas()\n",
    "\n",
    "    return results\n"
   ]
  },
  {
   "cell_type": "code",
   "execution_count": 102,
   "metadata": {},
   "outputs": [
    {
     "name": "stderr",
     "output_type": "stream",
     "text": [
      "00:59:08 - cmdstanpy - INFO - Chain [1] start processing                        \n",
      "00:59:09 - cmdstanpy - INFO - Chain [1] done processing\n",
      "00:59:11 - cmdstanpy - INFO - Chain [1] start processing                        \n",
      "00:59:11 - cmdstanpy - INFO - Chain [1] done processing\n",
      "00:59:13 - cmdstanpy - INFO - Chain [1] start processing\n",
      "00:59:13 - cmdstanpy - INFO - Chain [1] done processing\n",
      "00:59:15 - cmdstanpy - INFO - Chain [1] start processing                        \n",
      "00:59:15 - cmdstanpy - INFO - Chain [1] done processing\n",
      "00:59:18 - cmdstanpy - INFO - Chain [1] start processing                        \n",
      "00:59:18 - cmdstanpy - INFO - Chain [1] done processing\n",
      "00:59:21 - cmdstanpy - INFO - Chain [1] start processing                        \n",
      "00:59:21 - cmdstanpy - INFO - Chain [1] done processing\n",
      "00:59:23 - cmdstanpy - INFO - Chain [1] start processing                        \n",
      "00:59:23 - cmdstanpy - INFO - Chain [1] done processing\n",
      "00:59:25 - cmdstanpy - INFO - Chain [1] start processing\n",
      "00:59:25 - cmdstanpy - INFO - Chain [1] done processing\n",
      "00:59:28 - cmdstanpy - INFO - Chain [1] start processing\n",
      "00:59:28 - cmdstanpy - INFO - Chain [1] done processing\n",
      "00:59:29 - cmdstanpy - INFO - Chain [1] start processing\n",
      "00:59:29 - cmdstanpy - INFO - Chain [1] done processing\n",
      "00:59:31 - cmdstanpy - INFO - Chain [1] start processing\n",
      "00:59:31 - cmdstanpy - INFO - Chain [1] done processing\n",
      "00:59:33 - cmdstanpy - INFO - Chain [1] start processing\n",
      "00:59:33 - cmdstanpy - INFO - Chain [1] done processing\n",
      "00:59:34 - cmdstanpy - INFO - Chain [1] start processing\n",
      "00:59:34 - cmdstanpy - INFO - Chain [1] done processing\n",
      "00:59:36 - cmdstanpy - INFO - Chain [1] start processing\n",
      "00:59:36 - cmdstanpy - INFO - Chain [1] done processing\n",
      "00:59:38 - cmdstanpy - INFO - Chain [1] start processing\n",
      "00:59:38 - cmdstanpy - INFO - Chain [1] done processing\n",
      "00:59:39 - cmdstanpy - INFO - Chain [1] start processing\n",
      "00:59:39 - cmdstanpy - INFO - Chain [1] done processing\n",
      "00:59:41 - cmdstanpy - INFO - Chain [1] start processing\n",
      "00:59:41 - cmdstanpy - INFO - Chain [1] done processing\n",
      "00:59:43 - cmdstanpy - INFO - Chain [1] start processing\n",
      "00:59:43 - cmdstanpy - INFO - Chain [1] done processing\n",
      "00:59:44 - cmdstanpy - INFO - Chain [1] start processing\n",
      "00:59:44 - cmdstanpy - INFO - Chain [1] done processing\n",
      "00:59:47 - cmdstanpy - INFO - Chain [1] start processing                        \n",
      "00:59:47 - cmdstanpy - INFO - Chain [1] done processing\n",
      "00:59:49 - cmdstanpy - INFO - Chain [1] start processing\n",
      "00:59:49 - cmdstanpy - INFO - Chain [1] done processing\n",
      "00:59:51 - cmdstanpy - INFO - Chain [1] start processing\n",
      "00:59:51 - cmdstanpy - INFO - Chain [1] done processing\n",
      "00:59:53 - cmdstanpy - INFO - Chain [1] start processing                        \n",
      "00:59:53 - cmdstanpy - INFO - Chain [1] done processing\n",
      "00:59:55 - cmdstanpy - INFO - Chain [1] start processing\n",
      "00:59:55 - cmdstanpy - INFO - Chain [1] done processing\n",
      "00:59:57 - cmdstanpy - INFO - Chain [1] start processing\n",
      "00:59:57 - cmdstanpy - INFO - Chain [1] done processing\n",
      "00:59:58 - cmdstanpy - INFO - Chain [1] start processing\n",
      "00:59:58 - cmdstanpy - INFO - Chain [1] done processing\n",
      "01:00:00 - cmdstanpy - INFO - Chain [1] start processing                        \n",
      "01:00:01 - cmdstanpy - INFO - Chain [1] done processing\n",
      "01:00:02 - cmdstanpy - INFO - Chain [1] start processing\n",
      "01:00:02 - cmdstanpy - INFO - Chain [1] done processing\n",
      "01:00:04 - cmdstanpy - INFO - Chain [1] start processing\n",
      "01:00:04 - cmdstanpy - INFO - Chain [1] done processing\n",
      "01:00:06 - cmdstanpy - INFO - Chain [1] start processing\n",
      "01:00:06 - cmdstanpy - INFO - Chain [1] done processing\n",
      "01:00:08 - cmdstanpy - INFO - Chain [1] start processing                        \n",
      "01:00:08 - cmdstanpy - INFO - Chain [1] done processing\n",
      "01:00:10 - cmdstanpy - INFO - Chain [1] start processing                        \n",
      "01:00:10 - cmdstanpy - INFO - Chain [1] done processing\n",
      "01:00:12 - cmdstanpy - INFO - Chain [1] start processing\n",
      "01:00:12 - cmdstanpy - INFO - Chain [1] done processing\n",
      "01:00:14 - cmdstanpy - INFO - Chain [1] start processing\n",
      "01:00:14 - cmdstanpy - INFO - Chain [1] done processing\n",
      "01:00:16 - cmdstanpy - INFO - Chain [1] start processing\n",
      "01:00:16 - cmdstanpy - INFO - Chain [1] done processing\n",
      "01:00:18 - cmdstanpy - INFO - Chain [1] start processing\n",
      "01:00:18 - cmdstanpy - INFO - Chain [1] done processing\n",
      "01:00:19 - cmdstanpy - INFO - Chain [1] start processing\n",
      "01:00:19 - cmdstanpy - INFO - Chain [1] done processing\n",
      "01:00:21 - cmdstanpy - INFO - Chain [1] start processing\n",
      "01:00:21 - cmdstanpy - INFO - Chain [1] done processing\n",
      "01:00:23 - cmdstanpy - INFO - Chain [1] start processing\n",
      "01:00:23 - cmdstanpy - INFO - Chain [1] done processing\n",
      "01:00:24 - cmdstanpy - INFO - Chain [1] start processing\n",
      "01:00:24 - cmdstanpy - INFO - Chain [1] done processing\n",
      "01:00:26 - cmdstanpy - INFO - Chain [1] start processing\n",
      "01:00:26 - cmdstanpy - INFO - Chain [1] done processing\n",
      "01:00:28 - cmdstanpy - INFO - Chain [1] start processing\n",
      "01:00:28 - cmdstanpy - INFO - Chain [1] done processing\n",
      "01:00:29 - cmdstanpy - INFO - Chain [1] start processing\n",
      "01:00:29 - cmdstanpy - INFO - Chain [1] done processing\n",
      "01:00:31 - cmdstanpy - INFO - Chain [1] start processing\n",
      "01:00:31 - cmdstanpy - INFO - Chain [1] done processing\n",
      "01:00:33 - cmdstanpy - INFO - Chain [1] start processing\n",
      "01:00:33 - cmdstanpy - INFO - Chain [1] done processing\n",
      "01:00:35 - cmdstanpy - INFO - Chain [1] start processing\n",
      "01:00:35 - cmdstanpy - INFO - Chain [1] done processing\n",
      "01:00:37 - cmdstanpy - INFO - Chain [1] start processing\n",
      "01:00:37 - cmdstanpy - INFO - Chain [1] done processing\n",
      "01:00:39 - cmdstanpy - INFO - Chain [1] start processing\n",
      "01:00:39 - cmdstanpy - INFO - Chain [1] done processing\n",
      "01:00:42 - cmdstanpy - INFO - Chain [1] start processing\n",
      "01:00:42 - cmdstanpy - INFO - Chain [1] done processing\n",
      "01:00:44 - cmdstanpy - INFO - Chain [1] start processing\n",
      "01:00:44 - cmdstanpy - INFO - Chain [1] done processing\n",
      "01:00:47 - cmdstanpy - INFO - Chain [1] start processing                        \n",
      "01:00:47 - cmdstanpy - INFO - Chain [1] done processing\n",
      "01:00:50 - cmdstanpy - INFO - Chain [1] start processing                        \n",
      "01:00:50 - cmdstanpy - INFO - Chain [1] done processing\n",
      "01:00:52 - cmdstanpy - INFO - Chain [1] start processing\n",
      "01:00:52 - cmdstanpy - INFO - Chain [1] done processing\n",
      "01:00:54 - cmdstanpy - INFO - Chain [1] start processing\n",
      "01:00:54 - cmdstanpy - INFO - Chain [1] done processing\n"
     ]
    }
   ],
   "source": [
    "final_df = pd.DataFrame()\n",
    "\n",
    "for id in prod_list:\n",
    "    results = forecast(id,2017,2018)    \n",
    "    final_df = pd.concat([final_df, results], ignore_index=True)"
   ]
  },
  {
   "cell_type": "code",
   "execution_count": 97,
   "metadata": {},
   "outputs": [],
   "source": [
    "final_df.to_csv('forecasts.csv', index=False)"
   ]
  },
  {
   "cell_type": "markdown",
   "metadata": {},
   "source": [
    "Visualize for a product of your choice"
   ]
  },
  {
   "cell_type": "code",
   "execution_count": 106,
   "metadata": {},
   "outputs": [
    {
     "data": {
      "text/html": [
       "<div>\n",
       "<style scoped>\n",
       "    .dataframe tbody tr th:only-of-type {\n",
       "        vertical-align: middle;\n",
       "    }\n",
       "\n",
       "    .dataframe tbody tr th {\n",
       "        vertical-align: top;\n",
       "    }\n",
       "\n",
       "    .dataframe thead th {\n",
       "        text-align: right;\n",
       "    }\n",
       "</style>\n",
       "<table border=\"1\" class=\"dataframe\">\n",
       "  <thead>\n",
       "    <tr style=\"text-align: right;\">\n",
       "      <th></th>\n",
       "      <th>product_card_id</th>\n",
       "      <th>ds</th>\n",
       "      <th>yhat</th>\n",
       "      <th>y</th>\n",
       "    </tr>\n",
       "  </thead>\n",
       "  <tbody>\n",
       "    <tr>\n",
       "      <th>90</th>\n",
       "      <td>191</td>\n",
       "      <td>2017-01-01</td>\n",
       "      <td>34.357626</td>\n",
       "      <td>44.0</td>\n",
       "    </tr>\n",
       "    <tr>\n",
       "      <th>91</th>\n",
       "      <td>191</td>\n",
       "      <td>2017-01-02</td>\n",
       "      <td>34.154553</td>\n",
       "      <td>45.0</td>\n",
       "    </tr>\n",
       "    <tr>\n",
       "      <th>92</th>\n",
       "      <td>191</td>\n",
       "      <td>2017-01-03</td>\n",
       "      <td>33.862044</td>\n",
       "      <td>24.0</td>\n",
       "    </tr>\n",
       "    <tr>\n",
       "      <th>93</th>\n",
       "      <td>191</td>\n",
       "      <td>2017-01-04</td>\n",
       "      <td>34.341459</td>\n",
       "      <td>41.0</td>\n",
       "    </tr>\n",
       "    <tr>\n",
       "      <th>94</th>\n",
       "      <td>191</td>\n",
       "      <td>2017-01-05</td>\n",
       "      <td>33.091643</td>\n",
       "      <td>40.0</td>\n",
       "    </tr>\n",
       "  </tbody>\n",
       "</table>\n",
       "</div>"
      ],
      "text/plain": [
       "    product_card_id         ds       yhat     y\n",
       "90              191 2017-01-01  34.357626  44.0\n",
       "91              191 2017-01-02  34.154553  45.0\n",
       "92              191 2017-01-03  33.862044  24.0\n",
       "93              191 2017-01-04  34.341459  41.0\n",
       "94              191 2017-01-05  33.091643  40.0"
      ]
     },
     "execution_count": 106,
     "metadata": {},
     "output_type": "execute_result"
    }
   ],
   "source": [
    "results = final_df[final_df['product_card_id'] == 191]\n",
    "results.head(5)"
   ]
  },
  {
   "cell_type": "code",
   "execution_count": 107,
   "metadata": {},
   "outputs": [
    {
     "data": {
      "image/png": "[encoded data removed]",
      "text/plain": [
       "<Figure size 1200x600 with 1 Axes>"
      ]
     },
     "metadata": {},
     "output_type": "display_data"
    }
   ],
   "source": [
    "# Plot\n",
    "plt.figure(figsize=(12, 6))\n",
    "plt.plot(results['ds'], results['yhat'], label='Predicted Quantity (yhat)', marker='o')\n",
    "plt.plot(results['ds'], results['y'], label='Actual Quantity (y)', marker='x')\n",
    "\n",
    "# Add labels and title\n",
    "plt.xlabel('Date')\n",
    "plt.ylabel('Quantity')\n",
    "plt.title('Predicted vs Actual Quantity Over Time')\n",
    "plt.legend()\n",
    "\n",
    "# Show plot\n",
    "plt.grid(True)\n",
    "plt.show()"
   ]
  },
  {
   "cell_type": "markdown",
   "metadata": {},
   "source": [
    "## Further Data Analysis"
   ]
  },
  {
   "cell_type": "markdown",
   "metadata": {},
   "source": [
    "Checking for Association"
   ]
  },
  {
   "cell_type": "code",
   "execution_count": 118,
   "metadata": {},
   "outputs": [
    {
     "name": "stderr",
     "output_type": "stream",
     "text": [
      "                                                                                \r"
     ]
    },
    {
     "data": {
      "text/plain": [
       "[957]"
      ]
     },
     "execution_count": 118,
     "metadata": {},
     "output_type": "execute_result"
    }
   ],
   "source": [
    "orders = spark.sql(\"\"\"\n",
    "            SELECT \n",
    "                order_id,\n",
    "                collect_list(product_card_id) AS product_ids\n",
    "            FROM \n",
    "                my_table\n",
    "            GROUP BY \n",
    "                order_id;\n",
    "          \"\"\")\n",
    "# orders.show(10)\n",
    "orders = orders.toPandas()['product_ids']\n",
    "# to_csv('order_details.csv', encoding='utf-8', index=False)\n",
    "\n",
    "dataset = []\n",
    "\n",
    "for row in orders:\n",
    "    dataset.append(row)\n",
    "dataset[0]"
   ]
  },
  {
   "cell_type": "code",
   "execution_count": 120,
   "metadata": {},
   "outputs": [],
   "source": [
    "from mlxtend.preprocessing import TransactionEncoder\n",
    "from mlxtend.preprocessing import TransactionEncoder\n",
    "from mlxtend.frequent_patterns import apriori, association_rules"
   ]
  },
  {
   "cell_type": "code",
   "execution_count": 121,
   "metadata": {},
   "outputs": [],
   "source": [
    "oht = TransactionEncoder() \n",
    "oht_array = oht.fit(dataset).transform(dataset) \n",
    "oht_df = pd.DataFrame(oht_array, columns = oht.columns_) \n",
    "# oht_df.to_csv('transaction_encoded.csv', index=False)"
   ]
  },
  {
   "cell_type": "code",
   "execution_count": 140,
   "metadata": {},
   "outputs": [
    {
     "data": {
      "text/html": [
       "<div>\n",
       "<style scoped>\n",
       "    .dataframe tbody tr th:only-of-type {\n",
       "        vertical-align: middle;\n",
       "    }\n",
       "\n",
       "    .dataframe tbody tr th {\n",
       "        vertical-align: top;\n",
       "    }\n",
       "\n",
       "    .dataframe thead th {\n",
       "        text-align: right;\n",
       "    }\n",
       "</style>\n",
       "<table border=\"1\" class=\"dataframe\">\n",
       "  <thead>\n",
       "    <tr style=\"text-align: right;\">\n",
       "      <th></th>\n",
       "      <th>support</th>\n",
       "      <th>itemsets</th>\n",
       "    </tr>\n",
       "  </thead>\n",
       "  <tbody>\n",
       "    <tr>\n",
       "      <th>1</th>\n",
       "      <td>0.309633</td>\n",
       "      <td>(365)</td>\n",
       "    </tr>\n",
       "    <tr>\n",
       "      <th>2</th>\n",
       "      <td>0.285664</td>\n",
       "      <td>(403)</td>\n",
       "    </tr>\n",
       "    <tr>\n",
       "      <th>3</th>\n",
       "      <td>0.271764</td>\n",
       "      <td>(502)</td>\n",
       "    </tr>\n",
       "    <tr>\n",
       "      <th>7</th>\n",
       "      <td>0.252814</td>\n",
       "      <td>(1014)</td>\n",
       "    </tr>\n",
       "    <tr>\n",
       "      <th>6</th>\n",
       "      <td>0.230624</td>\n",
       "      <td>(1004)</td>\n",
       "    </tr>\n",
       "    <tr>\n",
       "      <th>...</th>\n",
       "      <td>...</td>\n",
       "      <td>...</td>\n",
       "    </tr>\n",
       "    <tr>\n",
       "      <th>55</th>\n",
       "      <td>0.010251</td>\n",
       "      <td>(1004, 1014, 191)</td>\n",
       "    </tr>\n",
       "    <tr>\n",
       "      <th>95</th>\n",
       "      <td>0.010220</td>\n",
       "      <td>(1073, 957, 1014)</td>\n",
       "    </tr>\n",
       "    <tr>\n",
       "      <th>87</th>\n",
       "      <td>0.010190</td>\n",
       "      <td>(627, 1014, 502)</td>\n",
       "    </tr>\n",
       "    <tr>\n",
       "      <th>67</th>\n",
       "      <td>0.010144</td>\n",
       "      <td>(627, 1004, 365)</td>\n",
       "    </tr>\n",
       "    <tr>\n",
       "      <th>94</th>\n",
       "      <td>0.010083</td>\n",
       "      <td>(1004, 957, 1014)</td>\n",
       "    </tr>\n",
       "  </tbody>\n",
       "</table>\n",
       "<p>97 rows × 2 columns</p>\n",
       "</div>"
      ],
      "text/plain": [
       "     support           itemsets\n",
       "1   0.309633              (365)\n",
       "2   0.285664              (403)\n",
       "3   0.271764              (502)\n",
       "7   0.252814             (1014)\n",
       "6   0.230624             (1004)\n",
       "..       ...                ...\n",
       "55  0.010251  (1004, 1014, 191)\n",
       "95  0.010220  (1073, 957, 1014)\n",
       "87  0.010190   (627, 1014, 502)\n",
       "67  0.010144   (627, 1004, 365)\n",
       "94  0.010083  (1004, 957, 1014)\n",
       "\n",
       "[97 rows x 2 columns]"
      ]
     },
     "execution_count": 140,
     "metadata": {},
     "output_type": "execute_result"
    }
   ],
   "source": [
    "frequent_items = apriori(oht_df, min_support = 0.01, use_colnames = True)\n",
    "frequent_items = frequent_items.sort_values(by = ['support'], ascending = False)\n",
    "frequent_items\n"
   ]
  },
  {
   "cell_type": "code",
   "execution_count": 141,
   "metadata": {},
   "outputs": [],
   "source": [
    "fs = frequent_items['itemsets'][18]"
   ]
  },
  {
   "cell_type": "code",
   "execution_count": 142,
   "metadata": {},
   "outputs": [
    {
     "name": "stdout",
     "output_type": "stream",
     "text": [
      "Select distinct(product_name)\n",
      "          from my_table\n",
      "          where product_card_id IN (403, 365)\n",
      "          \n"
     ]
    },
    {
     "name": "stderr",
     "output_type": "stream",
     "text": [
      "/Users/sunith/opt/anaconda3/envs/dss/lib/python3.12/site-packages/pyspark/sql/pandas/utils.py:37: DeprecationWarning: distutils Version classes are deprecated. Use packaging.version instead.\n",
      "  if LooseVersion(pandas.__version__) < LooseVersion(minimum_pandas_version):\n",
      "/Users/sunith/opt/anaconda3/envs/dss/lib/python3.12/site-packages/pyspark/sql/pandas/utils.py:37: DeprecationWarning: distutils Version classes are deprecated. Use packaging.version instead.\n",
      "  if LooseVersion(pandas.__version__) < LooseVersion(minimum_pandas_version):\n"
     ]
    },
    {
     "data": {
      "text/html": [
       "<div>\n",
       "<style scoped>\n",
       "    .dataframe tbody tr th:only-of-type {\n",
       "        vertical-align: middle;\n",
       "    }\n",
       "\n",
       "    .dataframe tbody tr th {\n",
       "        vertical-align: top;\n",
       "    }\n",
       "\n",
       "    .dataframe thead th {\n",
       "        text-align: right;\n",
       "    }\n",
       "</style>\n",
       "<table border=\"1\" class=\"dataframe\">\n",
       "  <thead>\n",
       "    <tr style=\"text-align: right;\">\n",
       "      <th></th>\n",
       "      <th>product_name</th>\n",
       "    </tr>\n",
       "  </thead>\n",
       "  <tbody>\n",
       "    <tr>\n",
       "      <th>0</th>\n",
       "      <td>Perfect Fitness Perfect Rip Deck</td>\n",
       "    </tr>\n",
       "    <tr>\n",
       "      <th>1</th>\n",
       "      <td>Nike Men's CJ Elite 2 TD Football Cleat</td>\n",
       "    </tr>\n",
       "  </tbody>\n",
       "</table>\n",
       "</div>"
      ],
      "text/plain": [
       "                              product_name\n",
       "0         Perfect Fitness Perfect Rip Deck\n",
       "1  Nike Men's CJ Elite 2 TD Football Cleat"
      ]
     },
     "execution_count": 142,
     "metadata": {},
     "output_type": "execute_result"
    }
   ],
   "source": [
    "query = f\"\"\"Select distinct(product_name)\n",
    "          from my_table\n",
    "          where product_card_id IN ({', '.join(map(str, fs))})\n",
    "          \"\"\"\n",
    "print(query)\n",
    "spark.sql(query).toPandas()"
   ]
  }
 ],
 "metadata": {
  "kernelspec": {
   "display_name": "dss",
   "language": "python",
   "name": "python3"
  },
  "language_info": {
   "codemirror_mode": {
    "name": "ipython",
    "version": 3
   },
   "file_extension": ".py",
   "mimetype": "text/x-python",
   "name": "python",
   "nbconvert_exporter": "python",
   "pygments_lexer": "ipython3",
   "version": "3.12.4"
  }
 },
 "nbformat": 4,
 "nbformat_minor": 2
}

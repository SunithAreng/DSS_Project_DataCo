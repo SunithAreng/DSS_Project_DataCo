{
 "cells": [
  {
   "cell_type": "markdown",
   "metadata": {},
   "source": [
    "Setting up Spark and Basic data cleaning"
   ]
  },
  {
   "cell_type": "code",
   "execution_count": 1,
   "metadata": {},
   "outputs": [
    {
     "name": "stderr",
     "output_type": "stream",
     "text": [
      "24/07/07 12:32:14 WARN Utils: Your hostname, MacBook-Pro-Sunith.local resolves to a loopback address: 127.0.0.1; using 10.10.67.28 instead (on interface en0)\n",
      "24/07/07 12:32:14 WARN Utils: Set SPARK_LOCAL_IP if you need to bind to another address\n",
      "Setting default log level to \"WARN\".\n",
      "To adjust logging level use sc.setLogLevel(newLevel). For SparkR, use setLogLevel(newLevel).\n",
      "24/07/07 12:32:15 WARN NativeCodeLoader: Unable to load native-hadoop library for your platform... using builtin-java classes where applicable\n"
     ]
    },
    {
     "name": "stdout",
     "output_type": "stream",
     "text": [
      "<pyspark.sql.session.SparkSession object at 0x111e90560>\n"
     ]
    }
   ],
   "source": [
    "import findspark\n",
    "findspark.init()\n",
    "\n",
    "from pyspark.sql import SparkSession\n",
    "import pyspark.sql.functions as F\n",
    "\n",
    "# Create a Spark session\n",
    "spark = SparkSession.builder \\\n",
    "    .appName(\"MySparkApp\") \\\n",
    "    .getOrCreate()\n",
    "\n",
    "# Check if SparkSession is created successfully\n",
    "print(spark)"
   ]
  },
  {
   "cell_type": "code",
   "execution_count": 2,
   "metadata": {},
   "outputs": [
    {
     "name": "stderr",
     "output_type": "stream",
     "text": [
      "/Users/sunith/opt/anaconda3/envs/dss/lib/python3.12/site-packages/tqdm/auto.py:21: TqdmWarning: IProgress not found. Please update jupyter and ipywidgets. See https://ipywidgets.readthedocs.io/en/stable/user_install.html\n",
      "  from .autonotebook import tqdm as notebook_tqdm\n"
     ]
    }
   ],
   "source": [
    "import pandas as pd\n",
    "from prophet import Prophet\n",
    "import matplotlib.pyplot as plt\n",
    "import seaborn as sns\n",
    "import plotly.express as px\n",
    "from pyspark.sql.functions import year, month, dayofmonth"
   ]
  },
  {
   "cell_type": "code",
   "execution_count": 3,
   "metadata": {},
   "outputs": [
    {
     "name": "stderr",
     "output_type": "stream",
     "text": [
      "                                                                                \r"
     ]
    }
   ],
   "source": [
    "file_path = 'data/DataCoSupplyChainDataset.csv'\n",
    "df = spark.read.csv(file_path, header=True, inferSchema=True)\n",
    "# Some house cleaning where the the column names are standardized\n",
    "\n",
    "for col in df.columns:\n",
    "    new_col = col.replace(' ', '_').lower()\n",
    "    df = df.withColumnRenamed(col, new_col)\n",
    "\n",
    "df = df.withColumn(\"order_date\", F.to_date(F.date_format(F.unix_timestamp(\"order_date_(dateorders)\", \"M/d/yyyy H:mm\").cast(\"timestamp\"), \"yyyy-MM-dd\")))\n",
    "df = df.withColumn(\"shipping_date\", F.to_date(F.date_format(F.unix_timestamp(\"shipping_date_(dateorders)\", \"M/d/yyyy H:mm\").cast(\"timestamp\"), \"yyyy-MM-dd\")))\n",
    "df = df.withColumnRenamed('days_for_shipping_(real)', 'actual_time')\n",
    "df = df.withColumnRenamed('days_for_shipment_(scheduled)', 'predicted_time')\n",
    "df = df.withColumn(\"o_year\", year(df[\"order_date\"])) \\\n",
    "       .withColumn(\"o_month\", month(df[\"order_date\"])) \\\n",
    "       .withColumn(\"o_day\", dayofmonth(df[\"order_date\"]))\n",
    "\n",
    "df = df.withColumn(\"s_year\", year(df[\"shipping_date\"])) \\\n",
    "       .withColumn(\"s_month\", month(df[\"shipping_date\"])) \\\n",
    "       .withColumn(\"s_day\", dayofmonth(df[\"shipping_date\"]))"
   ]
  },
  {
   "cell_type": "code",
   "execution_count": 4,
   "metadata": {},
   "outputs": [
    {
     "name": "stderr",
     "output_type": "stream",
     "text": [
      "24/07/07 12:32:29 WARN SparkStringUtils: Truncated the string representation of a plan since it was too large. This behavior can be adjusted by setting 'spark.sql.debug.maxToStringFields'.\n"
     ]
    },
    {
     "name": "stdout",
     "output_type": "stream",
     "text": [
      "+--------+-----------+--------------+-----------------+------------------+----------------+------------------+-----------+--------------+-------------+----------------+-----------+----------------+--------------+----------------+-------------+---------------+------------+----------+-------------+-----------------+--------+----------------------+-------------------+------------------------+-------------+------------------------+-----------------------+-------------------+------+----------------+----------------------+--------------+---------------+---------------+-------------+---------------+-------------------+------------+-------------+--------------+--------------+----------+-------------+------+-------+-----+------+-------+-----+\n",
      "|    type|actual_time|predicted_time|benefit_per_order|sales_per_customer| delivery_status|late_delivery_risk|category_id| category_name|customer_city|customer_country|customer_id|customer_segment|customer_state|customer_zipcode|department_id|department_name|      market|order_city|order_country|order_customer_id|order_id|order_item_cardprod_id|order_item_discount|order_item_discount_rate|order_item_id|order_item_product_price|order_item_profit_ratio|order_item_quantity| sales|order_item_total|order_profit_per_order|  order_region|    order_state|   order_status|order_zipcode|product_card_id|product_category_id|product_name|product_price|product_status| shipping_mode|order_date|shipping_date|o_year|o_month|o_day|s_year|s_month|s_day|\n",
      "+--------+-----------+--------------+-----------------+------------------+----------------+------------------+-----------+--------------+-------------+----------------+-----------+----------------+--------------+----------------+-------------+---------------+------------+----------+-------------+-----------------+--------+----------------------+-------------------+------------------------+-------------+------------------------+-----------------------+-------------------+------+----------------+----------------------+--------------+---------------+---------------+-------------+---------------+-------------------+------------+-------------+--------------+--------------+----------+-------------+------+-------+-----+------+-------+-----+\n",
      "|   DEBIT|          3|             4|            91.25|       314.6400146|Advance shipping|                 0|         73|Sporting Goods|       Caguas|     Puerto Rico|      20755|        Consumer|            PR|             725|            2|        Fitness|Pacific Asia|    Bekasi|    Indonesia|            20755|   77202|                  1360|        13.10999966|             0.039999999|       180517|                  327.75|            0.289999992|                  1|327.75|     314.6400146|                 91.25|Southeast Asia|Java Occidental|       COMPLETE|         NULL|           1360|                 73|Smart watch |       327.75|             0|Standard Class|2018-01-31|   2018-02-03|  2018|      1|   31|  2018|      2|    3|\n",
      "|TRANSFER|          5|             4|     -249.0899963|       311.3599854|   Late delivery|                 1|         73|Sporting Goods|       Caguas|     Puerto Rico|      19492|        Consumer|            PR|             725|            2|        Fitness|Pacific Asia|   Bikaner|        India|            19492|   75939|                  1360|        16.38999939|             0.050000001|       179254|                  327.75|           -0.800000012|                  1|327.75|     311.3599854|          -249.0899963|    South Asia|       Rajast�n|        PENDING|         NULL|           1360|                 73|Smart watch |       327.75|             0|Standard Class|2018-01-13|   2018-01-18|  2018|      1|   13|  2018|      1|   18|\n",
      "|    CASH|          4|             4|     -247.7799988|       309.7200012|Shipping on time|                 0|         73|Sporting Goods|     San Jose|         EE. UU.|      19491|        Consumer|            CA|           95125|            2|        Fitness|Pacific Asia|   Bikaner|        India|            19491|   75938|                  1360|        18.03000069|             0.059999999|       179253|                  327.75|           -0.800000012|                  1|327.75|     309.7200012|          -247.7799988|    South Asia|       Rajast�n|         CLOSED|         NULL|           1360|                 73|Smart watch |       327.75|             0|Standard Class|2018-01-13|   2018-01-17|  2018|      1|   13|  2018|      1|   17|\n",
      "|   DEBIT|          3|             4|      22.86000061|       304.8099976|Advance shipping|                 0|         73|Sporting Goods|  Los Angeles|         EE. UU.|      19490|     Home Office|            CA|           90027|            2|        Fitness|Pacific Asia|Townsville|    Australia|            19490|   75937|                  1360|        22.94000053|                    0.07|       179252|                  327.75|            0.079999998|                  1|327.75|     304.8099976|           22.86000061|       Oceania|     Queensland|       COMPLETE|         NULL|           1360|                 73|Smart watch |       327.75|             0|Standard Class|2018-01-13|   2018-01-16|  2018|      1|   13|  2018|      1|   16|\n",
      "| PAYMENT|          2|             4|      134.2100067|            298.25|Advance shipping|                 0|         73|Sporting Goods|       Caguas|     Puerto Rico|      19489|       Corporate|            PR|             725|            2|        Fitness|Pacific Asia|Townsville|    Australia|            19489|   75936|                  1360|               29.5|             0.090000004|       179251|                  327.75|            0.449999988|                  1|327.75|          298.25|           134.2100067|       Oceania|     Queensland|PENDING_PAYMENT|         NULL|           1360|                 73|Smart watch |       327.75|             0|Standard Class|2018-01-13|   2018-01-15|  2018|      1|   13|  2018|      1|   15|\n",
      "+--------+-----------+--------------+-----------------+------------------+----------------+------------------+-----------+--------------+-------------+----------------+-----------+----------------+--------------+----------------+-------------+---------------+------------+----------+-------------+-----------------+--------+----------------------+-------------------+------------------------+-------------+------------------------+-----------------------+-------------------+------+----------------+----------------------+--------------+---------------+---------------+-------------+---------------+-------------------+------------+-------------+--------------+--------------+----------+-------------+------+-------+-----+------+-------+-----+\n",
      "only showing top 5 rows\n",
      "\n"
     ]
    }
   ],
   "source": [
    "df = df.drop('product_image', 'customer_password', 'customer_email', \n",
    "             'customer_fname', 'customer_lname', 'customer_street', \n",
    "             'latitude', 'longitude', 'product_description',\n",
    "             \"order_date_(dateorders)\", \"shipping_date_(dateorders)\",\n",
    "             'days_for_shipment_(scheduled)', 'days_for_shipping_(real)')    \n",
    "df.createOrReplaceTempView(\"my_table\")\n",
    "df.show(5)"
   ]
  },
  {
   "cell_type": "code",
   "execution_count": 81,
   "metadata": {},
   "outputs": [
    {
     "name": "stdout",
     "output_type": "stream",
     "text": [
      "+---------------+--------------+-----------+-----+--------+-----------+-----------+----------+\n",
      "|product_card_id| shipping_mode|total_count| risk|avg_late|avg_on_time|avg_advance|avg_cancel|\n",
      "+---------------+--------------+-----------+-----+--------+-----------+-----------+----------+\n",
      "|            191|  Second Class|       2345|0.759|    1780|        463|          0|       102|\n",
      "|            191|   First Class|       1879|0.957|    1799|          0|          0|        80|\n",
      "|            191|Standard Class|       7302|0.379|    2768|       1369|       2853|       312|\n",
      "|            191|      Same Day|        643|0.439|     282|        332|          0|        29|\n",
      "+---------------+--------------+-----------+-----+--------+-----------+-----------+----------+\n",
      "\n"
     ]
    }
   ],
   "source": [
    "spark.sql(\"\"\"\n",
    "          Select \n",
    "          product_card_id,\n",
    "          shipping_mode,\n",
    "          count(shipping_mode) as total_count,\n",
    "          round(avg(late_delivery_risk),3) as risk,\n",
    "          sum(case when delivery_status = \"Late delivery\" then 1 else 0 end) as avg_late,\n",
    "          sum(case when delivery_status = \"Shipping on time\" then 1 else 0 end) as avg_on_time,\n",
    "          sum(case when delivery_status = \"Advance shipping\" then 1 else 0 end) as avg_advance,\n",
    "          sum(case when delivery_status = \"Shipping canceled\" then 1 else 0 end) as avg_cancel\n",
    "          From my_table\n",
    "          where product_card_id = 191\n",
    "          group by product_card_id, shipping_mode\n",
    "          order by product_card_id desc\n",
    "          \"\"\").show(10)"
   ]
  },
  {
   "cell_type": "code",
   "execution_count": 82,
   "metadata": {},
   "outputs": [
    {
     "name": "stdout",
     "output_type": "stream",
     "text": [
      "+---------------+--------------+-----------+---------+--------+-----------+-----------+----------+\n",
      "|product_card_id| shipping_mode|total_count|late_risk|avg_late|avg_on_time|avg_advance|avg_cancel|\n",
      "+---------------+--------------+-----------+---------+--------+-----------+-----------+----------+\n",
      "|            191|  Second Class|       2345|    0.759|   0.759|      0.197|        0.0|     0.043|\n",
      "|            191|   First Class|       1879|    0.957|   0.957|        0.0|        0.0|     0.043|\n",
      "|            191|Standard Class|       7302|    0.379|   0.379|      0.187|      0.391|     0.043|\n",
      "|            191|      Same Day|        643|    0.439|   0.439|      0.516|        0.0|     0.045|\n",
      "+---------------+--------------+-----------+---------+--------+-----------+-----------+----------+\n",
      "\n"
     ]
    }
   ],
   "source": [
    "spark.sql(\"\"\"\n",
    "          Select \n",
    "          product_card_id,\n",
    "          shipping_mode,\n",
    "          count(shipping_mode) as total_count,\n",
    "          round(avg(late_delivery_risk),3) as late_risk,\n",
    "          round(sum(case when delivery_status = \"Late delivery\" then 1 else 0 end)/total_count,3) as avg_late,\n",
    "          round(sum(case when delivery_status = \"Shipping on time\" then 1 else 0 end)/total_count,3) as avg_on_time,\n",
    "          round(sum(case when delivery_status = \"Advance shipping\" then 1 else 0 end)/total_count,3) as avg_advance,\n",
    "          round(sum(case when delivery_status = \"Shipping canceled\" then 1 else 0 end)/total_count,3) as avg_cancel\n",
    "          From my_table\n",
    "          where product_card_id = 191\n",
    "          group by product_card_id, shipping_mode\n",
    "          order by product_card_id desc\n",
    "          \"\"\").show(10)"
   ]
  },
  {
   "cell_type": "code",
   "execution_count": 53,
   "metadata": {},
   "outputs": [
    {
     "data": {
      "text/html": [
       "<div>\n",
       "<style scoped>\n",
       "    .dataframe tbody tr th:only-of-type {\n",
       "        vertical-align: middle;\n",
       "    }\n",
       "\n",
       "    .dataframe tbody tr th {\n",
       "        vertical-align: top;\n",
       "    }\n",
       "\n",
       "    .dataframe thead th {\n",
       "        text-align: right;\n",
       "    }\n",
       "</style>\n",
       "<table border=\"1\" class=\"dataframe\">\n",
       "  <thead>\n",
       "    <tr style=\"text-align: right;\">\n",
       "      <th></th>\n",
       "      <th>order_date</th>\n",
       "      <th>max_discount</th>\n",
       "      <th>min_discount</th>\n",
       "      <th>max_drate</th>\n",
       "      <th>min_drate</th>\n",
       "      <th>price</th>\n",
       "    </tr>\n",
       "  </thead>\n",
       "  <tbody>\n",
       "    <tr>\n",
       "      <th>0</th>\n",
       "      <td>2016-06-30</td>\n",
       "      <td>50.000000</td>\n",
       "      <td>0.0</td>\n",
       "      <td>0.25</td>\n",
       "      <td>0.00</td>\n",
       "      <td>99.989998</td>\n",
       "    </tr>\n",
       "    <tr>\n",
       "      <th>1</th>\n",
       "      <td>2016-06-29</td>\n",
       "      <td>59.990002</td>\n",
       "      <td>5.5</td>\n",
       "      <td>0.13</td>\n",
       "      <td>0.06</td>\n",
       "      <td>99.989998</td>\n",
       "    </tr>\n",
       "    <tr>\n",
       "      <th>2</th>\n",
       "      <td>2016-06-28</td>\n",
       "      <td>74.989998</td>\n",
       "      <td>2.0</td>\n",
       "      <td>0.16</td>\n",
       "      <td>0.01</td>\n",
       "      <td>99.989998</td>\n",
       "    </tr>\n",
       "    <tr>\n",
       "      <th>3</th>\n",
       "      <td>2016-06-27</td>\n",
       "      <td>84.989998</td>\n",
       "      <td>6.0</td>\n",
       "      <td>0.20</td>\n",
       "      <td>0.03</td>\n",
       "      <td>99.989998</td>\n",
       "    </tr>\n",
       "    <tr>\n",
       "      <th>4</th>\n",
       "      <td>2016-06-26</td>\n",
       "      <td>124.989998</td>\n",
       "      <td>0.0</td>\n",
       "      <td>0.25</td>\n",
       "      <td>0.00</td>\n",
       "      <td>99.989998</td>\n",
       "    </tr>\n",
       "    <tr>\n",
       "      <th>...</th>\n",
       "      <td>...</td>\n",
       "      <td>...</td>\n",
       "      <td>...</td>\n",
       "      <td>...</td>\n",
       "      <td>...</td>\n",
       "      <td>...</td>\n",
       "    </tr>\n",
       "    <tr>\n",
       "      <th>177</th>\n",
       "      <td>2016-01-05</td>\n",
       "      <td>51.990002</td>\n",
       "      <td>0.0</td>\n",
       "      <td>0.15</td>\n",
       "      <td>0.00</td>\n",
       "      <td>99.989998</td>\n",
       "    </tr>\n",
       "    <tr>\n",
       "      <th>178</th>\n",
       "      <td>2016-01-04</td>\n",
       "      <td>63.990002</td>\n",
       "      <td>13.0</td>\n",
       "      <td>0.17</td>\n",
       "      <td>0.03</td>\n",
       "      <td>99.989998</td>\n",
       "    </tr>\n",
       "    <tr>\n",
       "      <th>179</th>\n",
       "      <td>2016-01-03</td>\n",
       "      <td>99.989998</td>\n",
       "      <td>0.0</td>\n",
       "      <td>0.25</td>\n",
       "      <td>0.00</td>\n",
       "      <td>99.989998</td>\n",
       "    </tr>\n",
       "    <tr>\n",
       "      <th>180</th>\n",
       "      <td>2016-01-02</td>\n",
       "      <td>45.000000</td>\n",
       "      <td>3.0</td>\n",
       "      <td>0.18</td>\n",
       "      <td>0.01</td>\n",
       "      <td>99.989998</td>\n",
       "    </tr>\n",
       "    <tr>\n",
       "      <th>181</th>\n",
       "      <td>2016-01-01</td>\n",
       "      <td>74.989998</td>\n",
       "      <td>0.0</td>\n",
       "      <td>0.25</td>\n",
       "      <td>0.00</td>\n",
       "      <td>99.989998</td>\n",
       "    </tr>\n",
       "  </tbody>\n",
       "</table>\n",
       "<p>182 rows × 6 columns</p>\n",
       "</div>"
      ],
      "text/plain": [
       "     order_date  max_discount  min_discount  max_drate  min_drate      price\n",
       "0    2016-06-30     50.000000           0.0       0.25       0.00  99.989998\n",
       "1    2016-06-29     59.990002           5.5       0.13       0.06  99.989998\n",
       "2    2016-06-28     74.989998           2.0       0.16       0.01  99.989998\n",
       "3    2016-06-27     84.989998           6.0       0.20       0.03  99.989998\n",
       "4    2016-06-26    124.989998           0.0       0.25       0.00  99.989998\n",
       "..          ...           ...           ...        ...        ...        ...\n",
       "177  2016-01-05     51.990002           0.0       0.15       0.00  99.989998\n",
       "178  2016-01-04     63.990002          13.0       0.17       0.03  99.989998\n",
       "179  2016-01-03     99.989998           0.0       0.25       0.00  99.989998\n",
       "180  2016-01-02     45.000000           3.0       0.18       0.01  99.989998\n",
       "181  2016-01-01     74.989998           0.0       0.25       0.00  99.989998\n",
       "\n",
       "[182 rows x 6 columns]"
      ]
     },
     "execution_count": 53,
     "metadata": {},
     "output_type": "execute_result"
    }
   ],
   "source": [
    "results1 = spark.sql(\"\"\"\n",
    "          Select \n",
    "          order_date,\n",
    "          max(order_item_discount) as max_discount,\n",
    "          min(order_item_discount) as min_discount,\n",
    "          max(order_item_discount_rate) as max_drate,\n",
    "          min(order_item_discount_rate) as min_drate,\n",
    "          max(product_price) as price\n",
    "          From my_table\n",
    "          where product_card_id = 191\n",
    "          and order_date between '2016-01-01' and '2016-06-30'\n",
    "          group by order_date\n",
    "          order by order_date desc\n",
    "          \"\"\").toPandas()\n",
    "results1"
   ]
  },
  {
   "cell_type": "code",
   "execution_count": 54,
   "metadata": {},
   "outputs": [
    {
     "data": {
      "image/png": "[encoded data removed]",
      "text/plain": [
       "<Figure size 1200x600 with 1 Axes>"
      ]
     },
     "metadata": {},
     "output_type": "display_data"
    }
   ],
   "source": [
    "# Plot\n",
    "plt.figure(figsize=(12, 6))\n",
    "plt.plot(results1['order_date'], results1['max_drate'], label='Maximum Discount', marker='o')\n",
    "# plt.plot(results1['order_date'], results1['min_drate'], label='Minimum Discount', marker='x')\n",
    "\n",
    "# Add labels and title\n",
    "plt.xlabel('Date')\n",
    "plt.ylabel('Discount')\n",
    "plt.title('Discounts Min and Max over time')\n",
    "plt.legend()\n",
    "\n",
    "# Show plot\n",
    "plt.grid(True)\n",
    "plt.show()"
   ]
  },
  {
   "cell_type": "code",
   "execution_count": 44,
   "metadata": {},
   "outputs": [
    {
     "name": "stdout",
     "output_type": "stream",
     "text": [
      "+--------+----------+----------------------+-----------------+--------------------+\n",
      "|order_id|order_date|order_profit_per_order|benefit_per_order|       order_country|\n",
      "+--------+----------+----------------------+-----------------+--------------------+\n",
      "|   49646|2016-12-25|          -28.12000084|     -28.12000084|             Nigeria|\n",
      "|   49057|2016-12-17|           179.9799957|      179.9799957|             Nigeria|\n",
      "|   48713|2016-12-12|          -23.62000084|     -23.62000084|             Turqu�a|\n",
      "|   48223|2016-12-04|           42.36999893|      42.36999893|             Hungr�a|\n",
      "|   47841|2016-11-29|          -290.6000061|     -290.6000061|                Ir�n|\n",
      "|   47509|2016-11-24|           140.6100006|      140.6100006|             Ucrania|\n",
      "|   47053|2016-11-17|           70.48999786|      70.48999786|             Turqu�a|\n",
      "|   46821|2016-11-14|          -637.4400024|     -637.4400024|                Irak|\n",
      "|   46303|2016-11-06|                  37.5|             37.5|               Rusia|\n",
      "|   45744|2016-10-29|          -274.8500061|     -274.8500061|Rep�blica Democr�...|\n",
      "+--------+----------+----------------------+-----------------+--------------------+\n",
      "only showing top 10 rows\n",
      "\n"
     ]
    }
   ],
   "source": [
    "spark.sql(\"\"\"\n",
    "          Select \n",
    "          order_id,\n",
    "          order_date,\n",
    "          order_profit_per_order,\n",
    "          benefit_per_order,\n",
    "          order_country\n",
    "          From my_table\n",
    "          where product_card_id = 191\n",
    "          and order_date between '2016-01-01' and '2016-12-31'\n",
    "          and order_item_discount > 100\n",
    "          order by order_date desc\n",
    "          \"\"\").show(10)"
   ]
  },
  {
   "cell_type": "code",
   "execution_count": 56,
   "metadata": {},
   "outputs": [
    {
     "name": "stdout",
     "output_type": "stream",
     "text": [
      "+------------+\n",
      "|      market|\n",
      "+------------+\n",
      "|      Europe|\n",
      "|      Africa|\n",
      "|Pacific Asia|\n",
      "|       LATAM|\n",
      "|        USCA|\n",
      "+------------+\n",
      "\n"
     ]
    },
    {
     "name": "stderr",
     "output_type": "stream",
     "text": [
      "                                                                                \r"
     ]
    }
   ],
   "source": [
    "spark.sql(\"\"\"\n",
    "          Select \n",
    "          distinct(market)\n",
    "          From my_table\n",
    "          \"\"\").show(10)"
   ]
  },
  {
   "cell_type": "code",
   "execution_count": 60,
   "metadata": {},
   "outputs": [
    {
     "name": "stdout",
     "output_type": "stream",
     "text": [
      "+-----+------------+\n",
      "|count|      market|\n",
      "+-----+------------+\n",
      "|51594|       LATAM|\n",
      "|50252|      Europe|\n",
      "|41260|Pacific Asia|\n",
      "|25799|        USCA|\n",
      "|11614|      Africa|\n",
      "+-----+------------+\n",
      "\n"
     ]
    }
   ],
   "source": [
    "spark.sql(\"\"\"\n",
    "          Select \n",
    "          count(*) as count, market\n",
    "          From my_table\n",
    "          group by market\n",
    "          order by count desc\n",
    "          \"\"\").show(10)"
   ]
  },
  {
   "cell_type": "code",
   "execution_count": 45,
   "metadata": {},
   "outputs": [
    {
     "name": "stdout",
     "output_type": "stream",
     "text": [
      "+-----+-----------+--------------+-----------------+------------------+---------------+------------------+-----------+----------------+-------------+----------------+-----------+----------------+--------------+----------------+-------------+---------------+------+----------+-------------+-----------------+--------+----------------------+-------------------+------------------------+-------------+------------------------+-----------------------+-------------------+-----------+----------------+----------------------+------------+-----------+------------+-------------+---------------+-------------------+--------------------+-------------+--------------+-------------+----------+-------------+------+-------+-----+------+-------+-----+\n",
      "| type|actual_time|predicted_time|benefit_per_order|sales_per_customer|delivery_status|late_delivery_risk|category_id|   category_name|customer_city|customer_country|customer_id|customer_segment|customer_state|customer_zipcode|department_id|department_name|market|order_city|order_country|order_customer_id|order_id|order_item_cardprod_id|order_item_discount|order_item_discount_rate|order_item_id|order_item_product_price|order_item_profit_ratio|order_item_quantity|      sales|order_item_total|order_profit_per_order|order_region|order_state|order_status|order_zipcode|product_card_id|product_category_id|        product_name|product_price|product_status|shipping_mode|order_date|shipping_date|o_year|o_month|o_day|s_year|s_month|s_day|\n",
      "+-----+-----------+--------------+-----------------+------------------+---------------+------------------+-----------+----------------+-------------+----------------+-----------+----------------+--------------+----------------+-------------+---------------+------+----------+-------------+-----------------+--------+----------------------+-------------------+------------------------+-------------+------------------------+-----------------------+-------------------+-----------+----------------+----------------------+------------+-----------+------------+-------------+---------------+-------------------+--------------------+-------------+--------------+-------------+----------+-------------+------+-------+-----+------+-------+-----+\n",
      "|DEBIT|          3|             2|      26.07999992|       56.68999863|  Late delivery|                 1|         17|          Cleats|       Caguas|     Puerto Rico|       9612|       Corporate|            PR|             725|            4|        Apparel|Africa|      Kano|      Nigeria|             9612|   49057|                   365|        3.299999952|             0.059999999|       122658|             59.99000168|            0.460000008|                  1|59.99000168|     56.68999863|           26.07999992| West Africa|       Kano|    COMPLETE|         NULL|            365|                 17|Perfect Fitness P...|  59.99000168|             0| Second Class|2016-12-17|   2016-12-20|  2016|     12|   17|  2016|     12|   20|\n",
      "|DEBIT|          3|             2|      194.9799957|       499.9500122|  Late delivery|                 1|          9|Cardio Equipment|       Caguas|     Puerto Rico|       9612|       Corporate|            PR|             725|            3|       Footwear|Africa|      Kano|      Nigeria|             9612|   49057|                   191|                0.0|                     0.0|       122656|             99.98999786|            0.389999986|                  5|499.9500122|     499.9500122|           194.9799957| West Africa|       Kano|    COMPLETE|         NULL|            191|                  9|Nike Men's Free 5...|  99.98999786|             0| Second Class|2016-12-17|   2016-12-20|  2016|     12|   17|  2016|     12|   20|\n",
      "|DEBIT|          3|             2|      179.9799957|       374.9599915|  Late delivery|                 1|          9|Cardio Equipment|       Caguas|     Puerto Rico|       9612|       Corporate|            PR|             725|            3|       Footwear|Africa|      Kano|      Nigeria|             9612|   49057|                   191|        124.9899979|                    0.25|       122660|             99.98999786|            0.479999989|                  5|499.9500122|     374.9599915|           179.9799957| West Africa|       Kano|    COMPLETE|         NULL|            191|                  9|Nike Men's Free 5...|  99.98999786|             0| Second Class|2016-12-17|   2016-12-20|  2016|     12|   17|  2016|     12|   20|\n",
      "|DEBIT|          3|             2|             54.0|       179.9900055|  Late delivery|                 1|         48|    Water Sports|       Caguas|     Puerto Rico|       9612|       Corporate|            PR|             725|            7|       Fan Shop|Africa|      Kano|      Nigeria|             9612|   49057|                  1073|               20.0|             0.100000001|       122657|             199.9900055|            0.300000012|                  1|199.9900055|     179.9900055|                  54.0| West Africa|       Kano|    COMPLETE|         NULL|           1073|                 48|Pelican Sunstream...|  199.9900055|             0| Second Class|2016-12-17|   2016-12-20|  2016|     12|   17|  2016|     12|   20|\n",
      "|DEBIT|          3|             2|      123.0299988|        363.980011|  Late delivery|                 1|         45|         Fishing|       Caguas|     Puerto Rico|       9612|       Corporate|            PR|             725|            7|       Fan Shop|Africa|      Kano|      Nigeria|             9612|   49057|                  1004|               36.0|             0.090000004|       122659|              399.980011|            0.340000004|                  1| 399.980011|      363.980011|           123.0299988| West Africa|       Kano|    COMPLETE|         NULL|           1004|                 45|Field & Stream Sp...|   399.980011|             0| Second Class|2016-12-17|   2016-12-20|  2016|     12|   17|  2016|     12|   20|\n",
      "+-----+-----------+--------------+-----------------+------------------+---------------+------------------+-----------+----------------+-------------+----------------+-----------+----------------+--------------+----------------+-------------+---------------+------+----------+-------------+-----------------+--------+----------------------+-------------------+------------------------+-------------+------------------------+-----------------------+-------------------+-----------+----------------+----------------------+------------+-----------+------------+-------------+---------------+-------------------+--------------------+-------------+--------------+-------------+----------+-------------+------+-------+-----+------+-------+-----+\n",
      "\n"
     ]
    }
   ],
   "source": [
    "spark.sql(\"\"\"\n",
    "          Select \n",
    "          *\n",
    "          From my_table\n",
    "          where order_id = 49057\n",
    "          \"\"\").show(10)"
   ]
  },
  {
   "cell_type": "code",
   "execution_count": null,
   "metadata": {},
   "outputs": [],
   "source": [
    "single_prod = spark.sql(\"\"\"\n",
    "        Select \n",
    "        shipping_mode,\n",
    "        \n",
    "        From my_table\n",
    "        where product_card_id = 191\n",
    "        group by shipping_mode\n",
    "        \"\"\").toPandas()\n",
    "single_prod"
   ]
  },
  {
   "cell_type": "code",
   "execution_count": 83,
   "metadata": {},
   "outputs": [
    {
     "name": "stderr",
     "output_type": "stream",
     "text": [
      "                                                                                \r"
     ]
    },
    {
     "data": {
      "text/html": [
       "<div>\n",
       "<style scoped>\n",
       "    .dataframe tbody tr th:only-of-type {\n",
       "        vertical-align: middle;\n",
       "    }\n",
       "\n",
       "    .dataframe tbody tr th {\n",
       "        vertical-align: top;\n",
       "    }\n",
       "\n",
       "    .dataframe thead th {\n",
       "        text-align: right;\n",
       "    }\n",
       "</style>\n",
       "<table border=\"1\" class=\"dataframe\">\n",
       "  <thead>\n",
       "    <tr style=\"text-align: right;\">\n",
       "      <th></th>\n",
       "      <th>type</th>\n",
       "      <th>actual_time</th>\n",
       "      <th>predicted_time</th>\n",
       "      <th>benefit_per_order</th>\n",
       "      <th>sales_per_customer</th>\n",
       "      <th>delivery_status</th>\n",
       "      <th>late_delivery_risk</th>\n",
       "      <th>category_id</th>\n",
       "      <th>category_name</th>\n",
       "      <th>customer_city</th>\n",
       "      <th>...</th>\n",
       "      <th>product_status</th>\n",
       "      <th>shipping_mode</th>\n",
       "      <th>order_date</th>\n",
       "      <th>shipping_date</th>\n",
       "      <th>o_year</th>\n",
       "      <th>o_month</th>\n",
       "      <th>o_day</th>\n",
       "      <th>s_year</th>\n",
       "      <th>s_month</th>\n",
       "      <th>s_day</th>\n",
       "    </tr>\n",
       "  </thead>\n",
       "  <tbody>\n",
       "    <tr>\n",
       "      <th>0</th>\n",
       "      <td>DEBIT</td>\n",
       "      <td>6</td>\n",
       "      <td>4</td>\n",
       "      <td>45.360001</td>\n",
       "      <td>94.489998</td>\n",
       "      <td>Late delivery</td>\n",
       "      <td>1</td>\n",
       "      <td>9</td>\n",
       "      <td>Cardio Equipment</td>\n",
       "      <td>Cordova</td>\n",
       "      <td>...</td>\n",
       "      <td>0</td>\n",
       "      <td>Standard Class</td>\n",
       "      <td>2016-07-07</td>\n",
       "      <td>2016-07-13</td>\n",
       "      <td>2016</td>\n",
       "      <td>7</td>\n",
       "      <td>7</td>\n",
       "      <td>2016</td>\n",
       "      <td>7</td>\n",
       "      <td>13</td>\n",
       "    </tr>\n",
       "    <tr>\n",
       "      <th>1</th>\n",
       "      <td>DEBIT</td>\n",
       "      <td>5</td>\n",
       "      <td>4</td>\n",
       "      <td>24.750000</td>\n",
       "      <td>197.979996</td>\n",
       "      <td>Late delivery</td>\n",
       "      <td>1</td>\n",
       "      <td>9</td>\n",
       "      <td>Cardio Equipment</td>\n",
       "      <td>Caguas</td>\n",
       "      <td>...</td>\n",
       "      <td>0</td>\n",
       "      <td>Standard Class</td>\n",
       "      <td>2016-07-07</td>\n",
       "      <td>2016-07-12</td>\n",
       "      <td>2016</td>\n",
       "      <td>7</td>\n",
       "      <td>7</td>\n",
       "      <td>2016</td>\n",
       "      <td>7</td>\n",
       "      <td>12</td>\n",
       "    </tr>\n",
       "    <tr>\n",
       "      <th>2</th>\n",
       "      <td>CASH</td>\n",
       "      <td>4</td>\n",
       "      <td>4</td>\n",
       "      <td>62.660000</td>\n",
       "      <td>296.970001</td>\n",
       "      <td>Shipping on time</td>\n",
       "      <td>0</td>\n",
       "      <td>9</td>\n",
       "      <td>Cardio Equipment</td>\n",
       "      <td>Detroit</td>\n",
       "      <td>...</td>\n",
       "      <td>0</td>\n",
       "      <td>Standard Class</td>\n",
       "      <td>2016-07-07</td>\n",
       "      <td>2016-07-11</td>\n",
       "      <td>2016</td>\n",
       "      <td>7</td>\n",
       "      <td>7</td>\n",
       "      <td>2016</td>\n",
       "      <td>7</td>\n",
       "      <td>11</td>\n",
       "    </tr>\n",
       "    <tr>\n",
       "      <th>3</th>\n",
       "      <td>DEBIT</td>\n",
       "      <td>2</td>\n",
       "      <td>1</td>\n",
       "      <td>172.410004</td>\n",
       "      <td>474.950012</td>\n",
       "      <td>Late delivery</td>\n",
       "      <td>1</td>\n",
       "      <td>9</td>\n",
       "      <td>Cardio Equipment</td>\n",
       "      <td>Caguas</td>\n",
       "      <td>...</td>\n",
       "      <td>0</td>\n",
       "      <td>First Class</td>\n",
       "      <td>2016-07-07</td>\n",
       "      <td>2016-07-09</td>\n",
       "      <td>2016</td>\n",
       "      <td>7</td>\n",
       "      <td>7</td>\n",
       "      <td>2016</td>\n",
       "      <td>7</td>\n",
       "      <td>9</td>\n",
       "    </tr>\n",
       "    <tr>\n",
       "      <th>4</th>\n",
       "      <td>DEBIT</td>\n",
       "      <td>6</td>\n",
       "      <td>4</td>\n",
       "      <td>69.739998</td>\n",
       "      <td>464.950012</td>\n",
       "      <td>Late delivery</td>\n",
       "      <td>1</td>\n",
       "      <td>9</td>\n",
       "      <td>Cardio Equipment</td>\n",
       "      <td>Cordova</td>\n",
       "      <td>...</td>\n",
       "      <td>0</td>\n",
       "      <td>Standard Class</td>\n",
       "      <td>2016-07-07</td>\n",
       "      <td>2016-07-13</td>\n",
       "      <td>2016</td>\n",
       "      <td>7</td>\n",
       "      <td>7</td>\n",
       "      <td>2016</td>\n",
       "      <td>7</td>\n",
       "      <td>13</td>\n",
       "    </tr>\n",
       "    <tr>\n",
       "      <th>5</th>\n",
       "      <td>DEBIT</td>\n",
       "      <td>4</td>\n",
       "      <td>2</td>\n",
       "      <td>82.309998</td>\n",
       "      <td>293.970001</td>\n",
       "      <td>Late delivery</td>\n",
       "      <td>1</td>\n",
       "      <td>9</td>\n",
       "      <td>Cardio Equipment</td>\n",
       "      <td>Endicott</td>\n",
       "      <td>...</td>\n",
       "      <td>0</td>\n",
       "      <td>Second Class</td>\n",
       "      <td>2016-07-07</td>\n",
       "      <td>2016-07-11</td>\n",
       "      <td>2016</td>\n",
       "      <td>7</td>\n",
       "      <td>7</td>\n",
       "      <td>2016</td>\n",
       "      <td>7</td>\n",
       "      <td>11</td>\n",
       "    </tr>\n",
       "    <tr>\n",
       "      <th>6</th>\n",
       "      <td>DEBIT</td>\n",
       "      <td>3</td>\n",
       "      <td>4</td>\n",
       "      <td>139.190002</td>\n",
       "      <td>479.950012</td>\n",
       "      <td>Advance shipping</td>\n",
       "      <td>0</td>\n",
       "      <td>9</td>\n",
       "      <td>Cardio Equipment</td>\n",
       "      <td>Caguas</td>\n",
       "      <td>...</td>\n",
       "      <td>0</td>\n",
       "      <td>Standard Class</td>\n",
       "      <td>2016-07-07</td>\n",
       "      <td>2016-07-10</td>\n",
       "      <td>2016</td>\n",
       "      <td>7</td>\n",
       "      <td>7</td>\n",
       "      <td>2016</td>\n",
       "      <td>7</td>\n",
       "      <td>10</td>\n",
       "    </tr>\n",
       "    <tr>\n",
       "      <th>7</th>\n",
       "      <td>PAYMENT</td>\n",
       "      <td>2</td>\n",
       "      <td>4</td>\n",
       "      <td>165.360001</td>\n",
       "      <td>472.450012</td>\n",
       "      <td>Advance shipping</td>\n",
       "      <td>0</td>\n",
       "      <td>9</td>\n",
       "      <td>Cardio Equipment</td>\n",
       "      <td>Caguas</td>\n",
       "      <td>...</td>\n",
       "      <td>0</td>\n",
       "      <td>Standard Class</td>\n",
       "      <td>2016-07-07</td>\n",
       "      <td>2016-07-09</td>\n",
       "      <td>2016</td>\n",
       "      <td>7</td>\n",
       "      <td>7</td>\n",
       "      <td>2016</td>\n",
       "      <td>7</td>\n",
       "      <td>9</td>\n",
       "    </tr>\n",
       "    <tr>\n",
       "      <th>8</th>\n",
       "      <td>TRANSFER</td>\n",
       "      <td>2</td>\n",
       "      <td>1</td>\n",
       "      <td>33.759998</td>\n",
       "      <td>92.989998</td>\n",
       "      <td>Late delivery</td>\n",
       "      <td>1</td>\n",
       "      <td>9</td>\n",
       "      <td>Cardio Equipment</td>\n",
       "      <td>Findlay</td>\n",
       "      <td>...</td>\n",
       "      <td>0</td>\n",
       "      <td>First Class</td>\n",
       "      <td>2016-07-07</td>\n",
       "      <td>2016-07-09</td>\n",
       "      <td>2016</td>\n",
       "      <td>7</td>\n",
       "      <td>7</td>\n",
       "      <td>2016</td>\n",
       "      <td>7</td>\n",
       "      <td>9</td>\n",
       "    </tr>\n",
       "    <tr>\n",
       "      <th>9</th>\n",
       "      <td>DEBIT</td>\n",
       "      <td>2</td>\n",
       "      <td>4</td>\n",
       "      <td>-198.729996</td>\n",
       "      <td>149.990005</td>\n",
       "      <td>Advance shipping</td>\n",
       "      <td>0</td>\n",
       "      <td>9</td>\n",
       "      <td>Cardio Equipment</td>\n",
       "      <td>Jamaica</td>\n",
       "      <td>...</td>\n",
       "      <td>0</td>\n",
       "      <td>Standard Class</td>\n",
       "      <td>2016-07-07</td>\n",
       "      <td>2016-07-09</td>\n",
       "      <td>2016</td>\n",
       "      <td>7</td>\n",
       "      <td>7</td>\n",
       "      <td>2016</td>\n",
       "      <td>7</td>\n",
       "      <td>9</td>\n",
       "    </tr>\n",
       "    <tr>\n",
       "      <th>10</th>\n",
       "      <td>CASH</td>\n",
       "      <td>2</td>\n",
       "      <td>1</td>\n",
       "      <td>72.589996</td>\n",
       "      <td>199.979996</td>\n",
       "      <td>Late delivery</td>\n",
       "      <td>1</td>\n",
       "      <td>9</td>\n",
       "      <td>Cardio Equipment</td>\n",
       "      <td>Caguas</td>\n",
       "      <td>...</td>\n",
       "      <td>0</td>\n",
       "      <td>First Class</td>\n",
       "      <td>2016-07-07</td>\n",
       "      <td>2016-07-09</td>\n",
       "      <td>2016</td>\n",
       "      <td>7</td>\n",
       "      <td>7</td>\n",
       "      <td>2016</td>\n",
       "      <td>7</td>\n",
       "      <td>9</td>\n",
       "    </tr>\n",
       "    <tr>\n",
       "      <th>11</th>\n",
       "      <td>CASH</td>\n",
       "      <td>2</td>\n",
       "      <td>2</td>\n",
       "      <td>-2.370000</td>\n",
       "      <td>94.989998</td>\n",
       "      <td>Shipping on time</td>\n",
       "      <td>0</td>\n",
       "      <td>9</td>\n",
       "      <td>Cardio Equipment</td>\n",
       "      <td>Caguas</td>\n",
       "      <td>...</td>\n",
       "      <td>0</td>\n",
       "      <td>Second Class</td>\n",
       "      <td>2016-07-07</td>\n",
       "      <td>2016-07-09</td>\n",
       "      <td>2016</td>\n",
       "      <td>7</td>\n",
       "      <td>7</td>\n",
       "      <td>2016</td>\n",
       "      <td>7</td>\n",
       "      <td>9</td>\n",
       "    </tr>\n",
       "  </tbody>\n",
       "</table>\n",
       "<p>12 rows × 50 columns</p>\n",
       "</div>"
      ],
      "text/plain": [
       "        type  actual_time  predicted_time  benefit_per_order  \\\n",
       "0      DEBIT            6               4          45.360001   \n",
       "1      DEBIT            5               4          24.750000   \n",
       "2       CASH            4               4          62.660000   \n",
       "3      DEBIT            2               1         172.410004   \n",
       "4      DEBIT            6               4          69.739998   \n",
       "5      DEBIT            4               2          82.309998   \n",
       "6      DEBIT            3               4         139.190002   \n",
       "7    PAYMENT            2               4         165.360001   \n",
       "8   TRANSFER            2               1          33.759998   \n",
       "9      DEBIT            2               4        -198.729996   \n",
       "10      CASH            2               1          72.589996   \n",
       "11      CASH            2               2          -2.370000   \n",
       "\n",
       "    sales_per_customer   delivery_status  late_delivery_risk  category_id  \\\n",
       "0            94.489998     Late delivery                   1            9   \n",
       "1           197.979996     Late delivery                   1            9   \n",
       "2           296.970001  Shipping on time                   0            9   \n",
       "3           474.950012     Late delivery                   1            9   \n",
       "4           464.950012     Late delivery                   1            9   \n",
       "5           293.970001     Late delivery                   1            9   \n",
       "6           479.950012  Advance shipping                   0            9   \n",
       "7           472.450012  Advance shipping                   0            9   \n",
       "8            92.989998     Late delivery                   1            9   \n",
       "9           149.990005  Advance shipping                   0            9   \n",
       "10          199.979996     Late delivery                   1            9   \n",
       "11           94.989998  Shipping on time                   0            9   \n",
       "\n",
       "       category_name customer_city  ... product_status   shipping_mode  \\\n",
       "0   Cardio Equipment       Cordova  ...              0  Standard Class   \n",
       "1   Cardio Equipment        Caguas  ...              0  Standard Class   \n",
       "2   Cardio Equipment       Detroit  ...              0  Standard Class   \n",
       "3   Cardio Equipment        Caguas  ...              0     First Class   \n",
       "4   Cardio Equipment       Cordova  ...              0  Standard Class   \n",
       "5   Cardio Equipment      Endicott  ...              0    Second Class   \n",
       "6   Cardio Equipment        Caguas  ...              0  Standard Class   \n",
       "7   Cardio Equipment        Caguas  ...              0  Standard Class   \n",
       "8   Cardio Equipment       Findlay  ...              0     First Class   \n",
       "9   Cardio Equipment       Jamaica  ...              0  Standard Class   \n",
       "10  Cardio Equipment        Caguas  ...              0     First Class   \n",
       "11  Cardio Equipment        Caguas  ...              0    Second Class   \n",
       "\n",
       "    order_date shipping_date  o_year  o_month o_day s_year s_month s_day  \n",
       "0   2016-07-07    2016-07-13    2016        7     7   2016       7    13  \n",
       "1   2016-07-07    2016-07-12    2016        7     7   2016       7    12  \n",
       "2   2016-07-07    2016-07-11    2016        7     7   2016       7    11  \n",
       "3   2016-07-07    2016-07-09    2016        7     7   2016       7     9  \n",
       "4   2016-07-07    2016-07-13    2016        7     7   2016       7    13  \n",
       "5   2016-07-07    2016-07-11    2016        7     7   2016       7    11  \n",
       "6   2016-07-07    2016-07-10    2016        7     7   2016       7    10  \n",
       "7   2016-07-07    2016-07-09    2016        7     7   2016       7     9  \n",
       "8   2016-07-07    2016-07-09    2016        7     7   2016       7     9  \n",
       "9   2016-07-07    2016-07-09    2016        7     7   2016       7     9  \n",
       "10  2016-07-07    2016-07-09    2016        7     7   2016       7     9  \n",
       "11  2016-07-07    2016-07-09    2016        7     7   2016       7     9  \n",
       "\n",
       "[12 rows x 50 columns]"
      ]
     },
     "execution_count": 83,
     "metadata": {},
     "output_type": "execute_result"
    }
   ],
   "source": [
    "single_day = spark.sql(\"\"\"\n",
    "        Select \n",
    "        *\n",
    "        From my_table\n",
    "        where order_date = '2016-07-07'\n",
    "        and product_card_id = 191\n",
    "        \"\"\").toPandas()\n",
    "single_day"
   ]
  },
  {
   "cell_type": "code",
   "execution_count": 33,
   "metadata": {},
   "outputs": [
    {
     "name": "stderr",
     "output_type": "stream",
     "text": [
      "                                                                                \r"
     ]
    },
    {
     "name": "stdout",
     "output_type": "stream",
     "text": [
      "+---------------+--------------------+------+-------+--------+\n",
      "|product_card_id|        product_name|o_year|o_month|quantity|\n",
      "+---------------+--------------------+------+-------+--------+\n",
      "|             19|Nike Men's Finger...|  2017|      4|       2|\n",
      "|             19|Nike Men's Finger...|  2017|      5|      13|\n",
      "|             19|Nike Men's Finger...|  2017|      6|      13|\n",
      "|             19|Nike Men's Finger...|  2017|      7|      15|\n",
      "|             19|Nike Men's Finger...|  2017|      8|      17|\n",
      "|             19|Nike Men's Finger...|  2017|      9|       4|\n",
      "|             24|Elevation Trainin...|  2017|      4|      12|\n",
      "|             24|Elevation Trainin...|  2017|      5|      71|\n",
      "|             24|Elevation Trainin...|  2017|      6|      52|\n",
      "|             24|Elevation Trainin...|  2017|      7|      45|\n",
      "+---------------+--------------------+------+-------+--------+\n",
      "only showing top 10 rows\n",
      "\n"
     ]
    },
    {
     "name": "stderr",
     "output_type": "stream",
     "text": [
      "                                                                                \r"
     ]
    }
   ],
   "source": [
    "monthly_demand = spark.sql(\"\"\"\n",
    "          Select \n",
    "          product_card_id,\n",
    "          product_name,\n",
    "          o_year,\n",
    "          o_month,\n",
    "          sum(order_item_quantity) as quantity\n",
    "          From my_table\n",
    "          group by product_card_id,\n",
    "          product_name, o_year, o_month\n",
    "          order by product_card_id, o_year, o_month\n",
    "          \"\"\")\n",
    "monthly_demand.show(10)\n",
    "monthly_demand.toPandas().to_csv('output/monthly_demand.csv', encoding='utf-8', index=False)"
   ]
  },
  {
   "cell_type": "markdown",
   "metadata": {},
   "source": [
    "This table tells me that a lot of the products that were first sold in the year 2015 were discountinued from october 2017. And the products that were launched on december 2017 do not overlap with any of the earlier products."
   ]
  },
  {
   "cell_type": "code",
   "execution_count": 30,
   "metadata": {},
   "outputs": [
    {
     "name": "stderr",
     "output_type": "stream",
     "text": [
      "                                                                                \r"
     ]
    },
    {
     "name": "stdout",
     "output_type": "stream",
     "text": [
      "+---------------+--------------------+-----------+------------------+-----------+-----------------+----------+----------+--------+------------------+\n",
      "|product_card_id|        product_name|      price|         dept_name|category_id|         category|first_sale| last_sale|quantity|       total_sales|\n",
      "+---------------+--------------------+-----------+------------------+-----------+-----------------+----------+----------+--------+------------------+\n",
      "|           1363|      Summer dresses|215.8200073|           Apparel|         76| Women's Clothing|2017-12-11|2018-01-31|     650|140283.00474500025|\n",
      "|           1362|Fighting video games|      39.75|        Discs Shop|         75|      Video Games|2017-12-08|2018-01-31|     838|           33310.5|\n",
      "|           1361|               Toys |11.53999996|          Fan Shop|         74|             Toys|2017-12-04|2018-01-31|     529| 6104.659978840051|\n",
      "|           1360|        Smart watch |     327.75|           Fitness|         73|   Sporting Goods|2017-12-02|2018-01-31|     357|         117006.75|\n",
      "|           1359|  Adult dog supplies|84.40000153|          Pet Shop|         72|     Pet Supplies|2017-11-29|2018-01-10|     492|41524.800752759955|\n",
      "|           1358|          Rock music|260.6499939|        Discs Shop|         71|            Music|2017-11-24|2018-01-06|     434|113122.09735260009|\n",
      "|           1357|     Men's gala suit|210.8500061|           Apparel|         70|   Men's Clothing|2017-11-22|2018-01-04|     208| 43856.80126880002|\n",
      "|           1356|       First aid kit|293.0400085|Health and Beauty |         69|Health and Beauty|2017-11-18|2018-01-04|     362|106080.48307700003|\n",
      "|           1355|          Lawn mower|532.5800171|          Outdoors|         68|           Garden|2017-11-13|2018-01-02|     484| 257768.7282764002|\n",
      "|           1354|               DVDs |164.3800049|        Discs Shop|         67|             DVDs|2017-11-07|2018-01-01|     483| 79395.54236670004|\n",
      "+---------------+--------------------+-----------+------------------+-----------+-----------------+----------+----------+--------+------------------+\n",
      "only showing top 10 rows\n",
      "\n"
     ]
    },
    {
     "name": "stderr",
     "output_type": "stream",
     "text": [
      "                                                                                \r"
     ]
    }
   ],
   "source": [
    "products = spark.sql(\"\"\"\n",
    "          Select \n",
    "          product_card_id,\n",
    "          product_name,\n",
    "          Max(product_price)       AS price,\n",
    "          max(department_name) as dept_name,\n",
    "          Max(category_id) as category_id,\n",
    "          max(category_name) as category,\n",
    "          min(order_date) as first_sale,\n",
    "          max(order_date) as last_sale,\n",
    "          Sum(order_item_quantity) AS quantity,\n",
    "          Sum(sales)               AS total_sales\n",
    "          From my_table\n",
    "          GROUP  BY product_name,\n",
    "                product_card_id\n",
    "          order by product_card_id desc\n",
    "          \"\"\")\n",
    "products.show(10)\n",
    "products.toPandas().to_csv('output/product_analysis.csv', encoding='utf-8', index=False)"
   ]
  },
  {
   "cell_type": "markdown",
   "metadata": {},
   "source": [
    "Calculating Lead time demands, lead time, safety stock and reporder points for each product"
   ]
  },
  {
   "cell_type": "code",
   "execution_count": 85,
   "metadata": {},
   "outputs": [
    {
     "name": "stderr",
     "output_type": "stream",
     "text": [
      "[Stage 224:=======>                                                 (1 + 7) / 8]\r"
     ]
    },
    {
     "name": "stdout",
     "output_type": "stream",
     "text": [
      "+--------------------+---------------+----------+--------+---------------+-----------+\n",
      "|        product_name|product_card_id|order_date|quantity|lead_time_odate|    p_price|\n",
      "+--------------------+---------------+----------+--------+---------------+-----------+\n",
      "|Nike Men's Dri-FI...|            502|2015-02-28|      63|            4.0|       50.0|\n",
      "|Nike Men's Dri-FI...|            502|2016-04-20|      57|            4.0|       50.0|\n",
      "|Glove It Women's ...|            917|2016-09-07|       2|            5.0|21.98999977|\n",
      "|Nike Dri-FIT Crew...|            135|2015-07-15|       6|            2.0|       22.0|\n",
      "|Nike Men's CJ Eli...|            403|2015-11-26|      14|            4.0|129.9900055|\n",
      "|Field & Stream Sp...|           1004|2016-01-12|      23|            4.0| 399.980011|\n",
      "|Nike Men's Free 5...|            191|2015-04-28|      33|            3.0|99.98999786|\n",
      "|Glove It Imperial...|            926|2015-12-01|       3|            5.0|15.98999977|\n",
      "|Nike Men's Dri-FI...|            502|2015-02-16|      71|            4.0|       50.0|\n",
      "|Field & Stream Sp...|           1004|2015-09-24|      18|            4.0| 399.980011|\n",
      "|Field & Stream Sp...|           1004|2015-10-05|      14|            3.0| 399.980011|\n",
      "|Field & Stream Sp...|           1004|2015-09-22|      14|            3.0| 399.980011|\n",
      "|Nike Men's Free 5...|            191|2015-03-11|      44|            4.0|99.98999786|\n",
      "|Titleist Pro V1x ...|            822|2015-02-27|       5|            3.0|47.99000168|\n",
      "|Nike Men's Free 5...|            191|2016-09-10|      34|            3.0|99.98999786|\n",
      "|Team Golf Texas L...|            905|2016-05-21|       5|            2.0|24.98999977|\n",
      "|Diamondback Women...|            957|2016-02-14|      10|            4.0| 299.980011|\n",
      "|Team Golf New Eng...|            897|2016-12-21|       3|            0.0|24.98999977|\n",
      "|Under Armour Wome...|            276|2016-09-03|       4|            3.0|31.98999977|\n",
      "|Under Armour Girl...|            627|2016-05-24|      27|            3.0|39.99000168|\n",
      "+--------------------+---------------+----------+--------+---------------+-----------+\n",
      "only showing top 20 rows\n",
      "\n"
     ]
    },
    {
     "name": "stderr",
     "output_type": "stream",
     "text": [
      "                                                                                \r"
     ]
    }
   ],
   "source": [
    "spark.sql(\"\"\"\n",
    "            Select product_name, product_card_id, order_date,\n",
    "            sum(order_item_quantity) as quantity,\n",
    "            round(avg(actual_time),0) as lead_time_odate,\n",
    "            max(product_price) as p_price\n",
    "            From my_table\n",
    "            where o_year < 2017\n",
    "            group by product_name, product_card_id, order_date\n",
    "          \"\"\").show()"
   ]
  },
  {
   "cell_type": "code",
   "execution_count": 5,
   "metadata": {},
   "outputs": [
    {
     "name": "stderr",
     "output_type": "stream",
     "text": [
      "                                                                                \r"
     ]
    },
    {
     "name": "stdout",
     "output_type": "stream",
     "text": [
      "+--------------------+---------------+----------+--------------+---------+----------------+----------------+------------+-------------+-----------+------------------+------------------+-----+\n",
      "|        product_name|product_card_id|avg_demand|std_dev_demand|lead_time|stddev_lead_time|lead_time_demand|safety_stock|reorder_point|      price|           holding|          ordering|  EOQ|\n",
      "+--------------------+---------------+----------+--------------+---------+----------------+----------------+------------+-------------+-----------+------------------+------------------+-----+\n",
      "|Perfect Fitness P...|            365|    73.722|        16.769|      4.0|             1.0|         294.888|        55.0|        350.0|59.99000168|       5.999000168|      17.997000504|402.0|\n",
      "|Nike Men's Dri-FI...|            502|    62.516|        16.131|      4.0|             1.0|         250.064|        53.0|        303.0|       50.0|               5.0|              15.0|370.0|\n",
      "|O'Brien Men's Neo...|           1014|    57.829|        14.477|      3.0|             1.0|         173.487|        41.0|        214.0|49.97999954| 4.997999954000001|14.993999861999999|356.0|\n",
      "|Nike Men's Free 5...|            191|    36.331|        11.953|      4.0|             1.0|         145.324|        39.0|        184.0|99.98999786|       9.998999786|      29.996999358|282.0|\n",
      "|Under Armour Girl...|            627|    31.458|        10.491|      4.0|             1.0|         125.832|        34.0|        160.0|39.99000168|3.9990001680000002|11.997000503999999|262.0|\n",
      "+--------------------+---------------+----------+--------------+---------+----------------+----------------+------------+-------------+-----------+------------------+------------------+-----+\n",
      "only showing top 5 rows\n",
      "\n"
     ]
    },
    {
     "name": "stderr",
     "output_type": "stream",
     "text": [
      "                                                                                \r"
     ]
    }
   ],
   "source": [
    "output = spark.sql(\"\"\"\n",
    "                    With T1 AS (\n",
    "                    Select product_name, product_card_id, order_date,\n",
    "                    sum(order_item_quantity) as quantity,\n",
    "                    round(avg(actual_time),0) as lead_time_odate,\n",
    "                    max(product_price) as p_price\n",
    "                    From my_table\n",
    "                    where o_year < 2017\n",
    "                    group by product_name, product_card_id, order_date\n",
    "                    )\n",
    "\n",
    "                    Select product_name, product_card_id, \n",
    "                    round(avg(quantity),3) as avg_demand,\n",
    "                    round(STDDEV(quantity),3) as std_dev_demand,\n",
    "                    round(avg(lead_time_odate),0) as lead_time,\n",
    "                    round(STDDEV(lead_time_odate),0) as stddev_lead_time,\n",
    "                    round(lead_time * avg_demand,3) as lead_time_demand,\n",
    "                    round(1.64*std_dev_demand*sqrt(lead_time),0) as safety_stock,\n",
    "                    round(lead_time_demand+safety_stock,0) as reorder_point,\n",
    "                    max(p_price) as price,\n",
    "                    0.1*price as holding,\n",
    "                    0.3*price as ordering,\n",
    "                    Round(sqrt((2*avg_demand*365*ordering)/holding),0) as EOQ\n",
    "                    from T1\n",
    "                    group by product_name, product_card_id\n",
    "                    order by avg_demand desc\n",
    "                    \"\"\")\n",
    "output.show(5)\n",
    "output.toPandas().to_csv('product_SC_analysis.csv', index=False)"
   ]
  },
  {
   "cell_type": "markdown",
   "metadata": {},
   "source": [
    "* avg_demand = average quantity ordered per day for every product\n",
    "* std_dev_demand = std. dev. of the daily quantity demanded for each product\n",
    "* lead_time = average actual shipping time for every product\n",
    "* lead_time_demand = lead_time * avg_demand\n",
    "* safety_stock = 1.64 * std_dev_demand * sqrt(lead_time)\n",
    "* reorder_point = lead_time_demand + safety_stock\n",
    "* holding = 0.1*price\n",
    "* ordering = 0.3*price\n",
    "* EOQ = Round(sqrt((2 * (avg_demand * 365) * ordering)/holding),0)"
   ]
  },
  {
   "cell_type": "markdown",
   "metadata": {},
   "source": [
    "If we are looking at data only before 2017 then there are just 54 products being sold."
   ]
  },
  {
   "cell_type": "markdown",
   "metadata": {},
   "source": [
    "## Obtaining Forcasts"
   ]
  },
  {
   "cell_type": "code",
   "execution_count": 6,
   "metadata": {},
   "outputs": [
    {
     "name": "stderr",
     "output_type": "stream",
     "text": [
      "                                                                                \r"
     ]
    }
   ],
   "source": [
    "xx = spark.sql(\"\"\"\n",
    "            Select product_name, product_card_id,\n",
    "            sum(order_item_quantity) as quantity\n",
    "            From my_table\n",
    "            where o_year < 2017\n",
    "            group by product_name, product_card_id\n",
    "            order by quantity desc\n",
    "        \"\"\").toPandas()\n",
    "prod_list = xx['product_card_id']"
   ]
  },
  {
   "cell_type": "code",
   "execution_count": 7,
   "metadata": {},
   "outputs": [
    {
     "name": "stderr",
     "output_type": "stream",
     "text": [
      "                                                                                \r"
     ]
    },
    {
     "name": "stdout",
     "output_type": "stream",
     "text": [
      "+--------------------+---------------+---------------+\n",
      "|        product_name|product_card_id|department_name|\n",
      "+--------------------+---------------+---------------+\n",
      "|Nike Men's Finger...|             19|        Fitness|\n",
      "|Elevation Trainin...|             24|        Fitness|\n",
      "|adidas Brazuca 20...|             35|        Fitness|\n",
      "|adidas Kids' F5 M...|             37|        Fitness|\n",
      "|adidas Men's F10 ...|             44|        Fitness|\n",
      "+--------------------+---------------+---------------+\n",
      "only showing top 5 rows\n",
      "\n"
     ]
    },
    {
     "name": "stderr",
     "output_type": "stream",
     "text": [
      "                                                                                \r"
     ]
    }
   ],
   "source": [
    "products_dtl = spark.sql(\"\"\"Select product_name, product_card_id, \n",
    "                         department_name\n",
    "          from my_table\n",
    "          group by product_name, product_card_id, department_name\n",
    "          order by product_card_id\"\"\")\n",
    "products_dtl.show(5)\n",
    "products_dtl.toPandas().to_csv('product_dict.csv', index=False)"
   ]
  },
  {
   "cell_type": "code",
   "execution_count": 8,
   "metadata": {},
   "outputs": [],
   "source": [
    "def forecast(id, initial_year, final_year):\n",
    "    query1 = f\"\"\"\n",
    "            CREATE OR REPLACE TEMPORARY VIEW actual AS\n",
    "            Select order_date as ds,\n",
    "            sum(order_item_quantity) as y\n",
    "            From my_table\n",
    "            Where product_card_id = {id}\n",
    "            AND o_year Between {initial_year} and {final_year}\n",
    "            group by ds\n",
    "            order by ds\n",
    "        \"\"\"\n",
    "    \n",
    "    spark.sql(query1)\n",
    "    \n",
    "    query2 = f\"\"\"\n",
    "        SELECT order_date as ds,\n",
    "               SUM(order_item_quantity) as y\n",
    "        FROM my_table\n",
    "        WHERE product_card_id = {id}\n",
    "          AND o_year < {initial_year}\n",
    "        GROUP BY order_date\n",
    "        ORDER BY order_date\n",
    "    \"\"\"\n",
    "    prophet_df = spark.sql(query2).toPandas()\n",
    "\n",
    "    prophet = Prophet(seasonality_mode='additive', \n",
    "                        seasonality_prior_scale=1, \n",
    "                        holidays_prior_scale=5, \n",
    "                        changepoint_prior_scale=0.005)\n",
    "    prophet.fit(prophet_df)\n",
    "    # Create a DataFrame with future dates for forecasting\n",
    "    future = prophet.make_future_dataframe(periods=30, freq='D')\n",
    "    # Generate forecasts\n",
    "    forecast = prophet.predict(future) \n",
    "    \n",
    "\n",
    "    spark_df = spark.createDataFrame(forecast)\n",
    "    spark_df.createOrReplaceTempView(\"predicted\")\n",
    "    query3 = f\"\"\"\n",
    "            CREATE OR REPLACE TEMPORARY VIEW predicted_filter AS\n",
    "            Select ds, yhat\n",
    "            from predicted\n",
    "            where ds >= '{initial_year}-01-01'\n",
    "            \"\"\"\n",
    "    spark.sql(query3)\n",
    "    query4 = f\"\"\"\n",
    "            select {id} as product_card_id, p.*, a.y\n",
    "            from predicted_filter as p\n",
    "            left join actual as a on a.ds = p.ds\n",
    "            \"\"\"\n",
    "    \n",
    "    results = spark.sql(query4).toPandas()\n",
    "\n",
    "    return results\n"
   ]
  },
  {
   "cell_type": "code",
   "execution_count": 9,
   "metadata": {},
   "outputs": [
    {
     "name": "stderr",
     "output_type": "stream",
     "text": [
      "15:13:44 - cmdstanpy - INFO - Chain [1] start processing                        \n",
      "15:13:44 - cmdstanpy - INFO - Chain [1] done processing\n",
      "                                                                                \r"
     ]
    }
   ],
   "source": [
    "results = forecast(191,2017,2018)"
   ]
  },
  {
   "cell_type": "code",
   "execution_count": 102,
   "metadata": {},
   "outputs": [
    {
     "name": "stderr",
     "output_type": "stream",
     "text": [
      "00:59:08 - cmdstanpy - INFO - Chain [1] start processing                        \n",
      "00:59:09 - cmdstanpy - INFO - Chain [1] done processing\n",
      "00:59:11 - cmdstanpy - INFO - Chain [1] start processing                        \n",
      "00:59:11 - cmdstanpy - INFO - Chain [1] done processing\n",
      "00:59:13 - cmdstanpy - INFO - Chain [1] start processing\n",
      "00:59:13 - cmdstanpy - INFO - Chain [1] done processing\n",
      "00:59:15 - cmdstanpy - INFO - Chain [1] start processing                        \n",
      "00:59:15 - cmdstanpy - INFO - Chain [1] done processing\n",
      "00:59:18 - cmdstanpy - INFO - Chain [1] start processing                        \n",
      "00:59:18 - cmdstanpy - INFO - Chain [1] done processing\n",
      "00:59:21 - cmdstanpy - INFO - Chain [1] start processing                        \n",
      "00:59:21 - cmdstanpy - INFO - Chain [1] done processing\n",
      "00:59:23 - cmdstanpy - INFO - Chain [1] start processing                        \n",
      "00:59:23 - cmdstanpy - INFO - Chain [1] done processing\n",
      "00:59:25 - cmdstanpy - INFO - Chain [1] start processing\n",
      "00:59:25 - cmdstanpy - INFO - Chain [1] done processing\n",
      "00:59:28 - cmdstanpy - INFO - Chain [1] start processing\n",
      "00:59:28 - cmdstanpy - INFO - Chain [1] done processing\n",
      "00:59:29 - cmdstanpy - INFO - Chain [1] start processing\n",
      "00:59:29 - cmdstanpy - INFO - Chain [1] done processing\n",
      "00:59:31 - cmdstanpy - INFO - Chain [1] start processing\n",
      "00:59:31 - cmdstanpy - INFO - Chain [1] done processing\n",
      "00:59:33 - cmdstanpy - INFO - Chain [1] start processing\n",
      "00:59:33 - cmdstanpy - INFO - Chain [1] done processing\n",
      "00:59:34 - cmdstanpy - INFO - Chain [1] start processing\n",
      "00:59:34 - cmdstanpy - INFO - Chain [1] done processing\n",
      "00:59:36 - cmdstanpy - INFO - Chain [1] start processing\n",
      "00:59:36 - cmdstanpy - INFO - Chain [1] done processing\n",
      "00:59:38 - cmdstanpy - INFO - Chain [1] start processing\n",
      "00:59:38 - cmdstanpy - INFO - Chain [1] done processing\n",
      "00:59:39 - cmdstanpy - INFO - Chain [1] start processing\n",
      "00:59:39 - cmdstanpy - INFO - Chain [1] done processing\n",
      "00:59:41 - cmdstanpy - INFO - Chain [1] start processing\n",
      "00:59:41 - cmdstanpy - INFO - Chain [1] done processing\n",
      "00:59:43 - cmdstanpy - INFO - Chain [1] start processing\n",
      "00:59:43 - cmdstanpy - INFO - Chain [1] done processing\n",
      "00:59:44 - cmdstanpy - INFO - Chain [1] start processing\n",
      "00:59:44 - cmdstanpy - INFO - Chain [1] done processing\n",
      "00:59:47 - cmdstanpy - INFO - Chain [1] start processing                        \n",
      "00:59:47 - cmdstanpy - INFO - Chain [1] done processing\n",
      "00:59:49 - cmdstanpy - INFO - Chain [1] start processing\n",
      "00:59:49 - cmdstanpy - INFO - Chain [1] done processing\n",
      "00:59:51 - cmdstanpy - INFO - Chain [1] start processing\n",
      "00:59:51 - cmdstanpy - INFO - Chain [1] done processing\n",
      "00:59:53 - cmdstanpy - INFO - Chain [1] start processing                        \n",
      "00:59:53 - cmdstanpy - INFO - Chain [1] done processing\n",
      "00:59:55 - cmdstanpy - INFO - Chain [1] start processing\n",
      "00:59:55 - cmdstanpy - INFO - Chain [1] done processing\n",
      "00:59:57 - cmdstanpy - INFO - Chain [1] start processing\n",
      "00:59:57 - cmdstanpy - INFO - Chain [1] done processing\n",
      "00:59:58 - cmdstanpy - INFO - Chain [1] start processing\n",
      "00:59:58 - cmdstanpy - INFO - Chain [1] done processing\n",
      "01:00:00 - cmdstanpy - INFO - Chain [1] start processing                        \n",
      "01:00:01 - cmdstanpy - INFO - Chain [1] done processing\n",
      "01:00:02 - cmdstanpy - INFO - Chain [1] start processing\n",
      "01:00:02 - cmdstanpy - INFO - Chain [1] done processing\n",
      "01:00:04 - cmdstanpy - INFO - Chain [1] start processing\n",
      "01:00:04 - cmdstanpy - INFO - Chain [1] done processing\n",
      "01:00:06 - cmdstanpy - INFO - Chain [1] start processing\n",
      "01:00:06 - cmdstanpy - INFO - Chain [1] done processing\n",
      "01:00:08 - cmdstanpy - INFO - Chain [1] start processing                        \n",
      "01:00:08 - cmdstanpy - INFO - Chain [1] done processing\n",
      "01:00:10 - cmdstanpy - INFO - Chain [1] start processing                        \n",
      "01:00:10 - cmdstanpy - INFO - Chain [1] done processing\n",
      "01:00:12 - cmdstanpy - INFO - Chain [1] start processing\n",
      "01:00:12 - cmdstanpy - INFO - Chain [1] done processing\n",
      "01:00:14 - cmdstanpy - INFO - Chain [1] start processing\n",
      "01:00:14 - cmdstanpy - INFO - Chain [1] done processing\n",
      "01:00:16 - cmdstanpy - INFO - Chain [1] start processing\n",
      "01:00:16 - cmdstanpy - INFO - Chain [1] done processing\n",
      "01:00:18 - cmdstanpy - INFO - Chain [1] start processing\n",
      "01:00:18 - cmdstanpy - INFO - Chain [1] done processing\n",
      "01:00:19 - cmdstanpy - INFO - Chain [1] start processing\n",
      "01:00:19 - cmdstanpy - INFO - Chain [1] done processing\n",
      "01:00:21 - cmdstanpy - INFO - Chain [1] start processing\n",
      "01:00:21 - cmdstanpy - INFO - Chain [1] done processing\n",
      "01:00:23 - cmdstanpy - INFO - Chain [1] start processing\n",
      "01:00:23 - cmdstanpy - INFO - Chain [1] done processing\n",
      "01:00:24 - cmdstanpy - INFO - Chain [1] start processing\n",
      "01:00:24 - cmdstanpy - INFO - Chain [1] done processing\n",
      "01:00:26 - cmdstanpy - INFO - Chain [1] start processing\n",
      "01:00:26 - cmdstanpy - INFO - Chain [1] done processing\n",
      "01:00:28 - cmdstanpy - INFO - Chain [1] start processing\n",
      "01:00:28 - cmdstanpy - INFO - Chain [1] done processing\n",
      "01:00:29 - cmdstanpy - INFO - Chain [1] start processing\n",
      "01:00:29 - cmdstanpy - INFO - Chain [1] done processing\n",
      "01:00:31 - cmdstanpy - INFO - Chain [1] start processing\n",
      "01:00:31 - cmdstanpy - INFO - Chain [1] done processing\n",
      "01:00:33 - cmdstanpy - INFO - Chain [1] start processing\n",
      "01:00:33 - cmdstanpy - INFO - Chain [1] done processing\n",
      "01:00:35 - cmdstanpy - INFO - Chain [1] start processing\n",
      "01:00:35 - cmdstanpy - INFO - Chain [1] done processing\n",
      "01:00:37 - cmdstanpy - INFO - Chain [1] start processing\n",
      "01:00:37 - cmdstanpy - INFO - Chain [1] done processing\n",
      "01:00:39 - cmdstanpy - INFO - Chain [1] start processing\n",
      "01:00:39 - cmdstanpy - INFO - Chain [1] done processing\n",
      "01:00:42 - cmdstanpy - INFO - Chain [1] start processing\n",
      "01:00:42 - cmdstanpy - INFO - Chain [1] done processing\n",
      "01:00:44 - cmdstanpy - INFO - Chain [1] start processing\n",
      "01:00:44 - cmdstanpy - INFO - Chain [1] done processing\n",
      "01:00:47 - cmdstanpy - INFO - Chain [1] start processing                        \n",
      "01:00:47 - cmdstanpy - INFO - Chain [1] done processing\n",
      "01:00:50 - cmdstanpy - INFO - Chain [1] start processing                        \n",
      "01:00:50 - cmdstanpy - INFO - Chain [1] done processing\n",
      "01:00:52 - cmdstanpy - INFO - Chain [1] start processing\n",
      "01:00:52 - cmdstanpy - INFO - Chain [1] done processing\n",
      "01:00:54 - cmdstanpy - INFO - Chain [1] start processing\n",
      "01:00:54 - cmdstanpy - INFO - Chain [1] done processing\n"
     ]
    }
   ],
   "source": [
    "final_df = pd.DataFrame()\n",
    "\n",
    "for id in prod_list:\n",
    "    results = forecast(id,2017,2018)    \n",
    "    final_df = pd.concat([final_df, results], ignore_index=True)"
   ]
  },
  {
   "cell_type": "code",
   "execution_count": 97,
   "metadata": {},
   "outputs": [],
   "source": [
    "final_df.to_csv('forecasts.csv', index=False)"
   ]
  },
  {
   "cell_type": "markdown",
   "metadata": {},
   "source": [
    "Visualize for a product of your choice"
   ]
  },
  {
   "cell_type": "code",
   "execution_count": 106,
   "metadata": {},
   "outputs": [
    {
     "data": {
      "text/html": [
       "<div>\n",
       "<style scoped>\n",
       "    .dataframe tbody tr th:only-of-type {\n",
       "        vertical-align: middle;\n",
       "    }\n",
       "\n",
       "    .dataframe tbody tr th {\n",
       "        vertical-align: top;\n",
       "    }\n",
       "\n",
       "    .dataframe thead th {\n",
       "        text-align: right;\n",
       "    }\n",
       "</style>\n",
       "<table border=\"1\" class=\"dataframe\">\n",
       "  <thead>\n",
       "    <tr style=\"text-align: right;\">\n",
       "      <th></th>\n",
       "      <th>product_card_id</th>\n",
       "      <th>ds</th>\n",
       "      <th>yhat</th>\n",
       "      <th>y</th>\n",
       "    </tr>\n",
       "  </thead>\n",
       "  <tbody>\n",
       "    <tr>\n",
       "      <th>90</th>\n",
       "      <td>191</td>\n",
       "      <td>2017-01-01</td>\n",
       "      <td>34.357626</td>\n",
       "      <td>44.0</td>\n",
       "    </tr>\n",
       "    <tr>\n",
       "      <th>91</th>\n",
       "      <td>191</td>\n",
       "      <td>2017-01-02</td>\n",
       "      <td>34.154553</td>\n",
       "      <td>45.0</td>\n",
       "    </tr>\n",
       "    <tr>\n",
       "      <th>92</th>\n",
       "      <td>191</td>\n",
       "      <td>2017-01-03</td>\n",
       "      <td>33.862044</td>\n",
       "      <td>24.0</td>\n",
       "    </tr>\n",
       "    <tr>\n",
       "      <th>93</th>\n",
       "      <td>191</td>\n",
       "      <td>2017-01-04</td>\n",
       "      <td>34.341459</td>\n",
       "      <td>41.0</td>\n",
       "    </tr>\n",
       "    <tr>\n",
       "      <th>94</th>\n",
       "      <td>191</td>\n",
       "      <td>2017-01-05</td>\n",
       "      <td>33.091643</td>\n",
       "      <td>40.0</td>\n",
       "    </tr>\n",
       "  </tbody>\n",
       "</table>\n",
       "</div>"
      ],
      "text/plain": [
       "    product_card_id         ds       yhat     y\n",
       "90              191 2017-01-01  34.357626  44.0\n",
       "91              191 2017-01-02  34.154553  45.0\n",
       "92              191 2017-01-03  33.862044  24.0\n",
       "93              191 2017-01-04  34.341459  41.0\n",
       "94              191 2017-01-05  33.091643  40.0"
      ]
     },
     "execution_count": 106,
     "metadata": {},
     "output_type": "execute_result"
    }
   ],
   "source": [
    "results = final_df[final_df['product_card_id'] == 191]\n",
    "results.head(5)"
   ]
  },
  {
   "cell_type": "code",
   "execution_count": 10,
   "metadata": {},
   "outputs": [
    {
     "data": {
      "image/png": "[encoded data removed]",
      "text/plain": [
       "<Figure size 1200x600 with 1 Axes>"
      ]
     },
     "metadata": {},
     "output_type": "display_data"
    }
   ],
   "source": [
    "# Plot\n",
    "plt.figure(figsize=(12, 6))\n",
    "plt.plot(results['ds'], results['yhat'], label='Predicted Quantity (yhat)', marker='o')\n",
    "plt.plot(results['ds'], results['y'], label='Actual Quantity (y)', marker='x')\n",
    "\n",
    "# Add labels and title\n",
    "plt.xlabel('Date')\n",
    "plt.ylabel('Quantity')\n",
    "plt.title('Predicted vs Actual Quantity Over Time')\n",
    "plt.legend()\n",
    "\n",
    "# Show plot\n",
    "plt.grid(True)\n",
    "plt.show()"
   ]
  }
 ],
 "metadata": {
  "kernelspec": {
   "display_name": "dss",
   "language": "python",
   "name": "python3"
  },
  "language_info": {
   "codemirror_mode": {
    "name": "ipython",
    "version": 3
   },
   "file_extension": ".py",
   "mimetype": "text/x-python",
   "name": "python",
   "nbconvert_exporter": "python",
   "pygments_lexer": "ipython3",
   "version": "3.12.4"
  }
 },
 "nbformat": 4,
 "nbformat_minor": 2
}
